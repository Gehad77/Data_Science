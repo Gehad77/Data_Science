{
 "cells": [
  {
   "cell_type": "code",
   "execution_count": 3,
   "id": "469012fb-c8b8-4bb7-97a4-59fe46f72978",
   "metadata": {},
   "outputs": [
    {
     "name": "stdout",
     "output_type": "stream",
     "text": [
      "1st Input array : \n",
      " [1 2 3]\n",
      "2nd Input array : \n",
      " [4 5 6]\n",
      "Output horizontally stacked array:\n",
      "  [1 2 3 4 5 6]\n"
     ]
    }
   ],
   "source": [
    "# Python program explaining\n",
    "# hstack() function\n",
    "\n",
    "import numpy as np\n",
    "\n",
    "# input array\n",
    "in_arr1 = np.array([ 1, 2, 3] )\n",
    "print (\"1st Input array : \\n\", in_arr1)\n",
    "\n",
    "in_arr2 = np.array([ 4, 5, 6] )\n",
    "print (\"2nd Input array : \\n\", in_arr2)\n",
    "\n",
    "# Stacking the two arrays horizontally\n",
    "out_arr = np.hstack((in_arr1, in_arr2))\n",
    "print (\"Output horizontally stacked array:\\n \", out_arr)\n"
   ]
  },
  {
   "cell_type": "code",
   "execution_count": 2,
   "id": "ed158bba-6034-48d7-a5df-5ade5e4e0dd5",
   "metadata": {},
   "outputs": [
    {
     "name": "stdout",
     "output_type": "stream",
     "text": [
      "1st Input array : \n",
      " [1 2 3]\n",
      "2nd Input array : \n",
      " [4 5 6]\n",
      "Output horizontally stacked array:\n",
      "  [[1 2 3]\n",
      " [4 5 6]]\n"
     ]
    }
   ],
   "source": [
    "# Python program explaining\n",
    "# hstack() function\n",
    "\n",
    "import numpy as np\n",
    "\n",
    "# input array\n",
    "in_arr1 = np.array([ 1, 2, 3] )\n",
    "print (\"1st Input array : \\n\", in_arr1)\n",
    "\n",
    "in_arr2 = np.array([ 4, 5, 6] )\n",
    "print (\"2nd Input array : \\n\", in_arr2)\n",
    "\n",
    "# Stacking the two arrays horizontally\n",
    "out_arr = geek.vstack((in_arr1, in_arr2))\n",
    "print (\"Output horizontally stacked array:\\n \", out_arr)\n"
   ]
  },
  {
   "cell_type": "code",
   "execution_count": null,
   "id": "5b17b59e-ec74-469f-b3f0-b76824aebd2e",
   "metadata": {},
   "outputs": [],
   "source": []
  }
 ],
 "metadata": {
  "kernelspec": {
   "display_name": "Python 3 (ipykernel)",
   "language": "python",
   "name": "python3"
  },
  "language_info": {
   "codemirror_mode": {
    "name": "ipython",
    "version": 3
   },
   "file_extension": ".py",
   "mimetype": "text/x-python",
   "name": "python",
   "nbconvert_exporter": "python",
   "pygments_lexer": "ipython3",
   "version": "3.9.7"
  }
 },
 "nbformat": 4,
 "nbformat_minor": 5
}
