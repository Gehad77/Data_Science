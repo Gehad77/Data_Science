{
 "cells": [
  {
   "cell_type": "code",
   "execution_count": 3,
   "id": "dccae70e-dedc-4138-b60a-a800c8cde966",
   "metadata": {},
   "outputs": [],
   "source": [
    "import numpy as np"
   ]
  },
  {
   "cell_type": "code",
   "execution_count": 1,
   "id": "d8fb3277-2cf5-4276-9136-b83dfb0fea96",
   "metadata": {},
   "outputs": [
    {
     "data": {
      "text/plain": [
       "[1, 2, 3]"
      ]
     },
     "execution_count": 1,
     "metadata": {},
     "output_type": "execute_result"
    }
   ],
   "source": [
    "my_list = [1,2,3]\n",
    "my_list"
   ]
  },
  {
   "cell_type": "code",
   "execution_count": 4,
   "id": "d63bda69-eb1a-41aa-845b-e20731cd3496",
   "metadata": {},
   "outputs": [
    {
     "data": {
      "text/plain": [
       "array([1, 2, 3])"
      ]
     },
     "execution_count": 4,
     "metadata": {},
     "output_type": "execute_result"
    }
   ],
   "source": [
    "np.array(my_list)"
   ]
  },
  {
   "cell_type": "code",
   "execution_count": 28,
   "id": "0ea31c8e-6e63-4525-af9e-2c8e93f3065c",
   "metadata": {},
   "outputs": [],
   "source": [
    "my_mat = [[1,2,3],[4,5,6],[7,8,9]]"
   ]
  },
  {
   "cell_type": "code",
   "execution_count": 29,
   "id": "2d3844ec-36e5-4b7b-a6f9-1ea5fee5db07",
   "metadata": {},
   "outputs": [
    {
     "data": {
      "text/plain": [
       "array([[1, 2, 3],\n",
       "       [4, 5, 6],\n",
       "       [7, 8, 9]])"
      ]
     },
     "execution_count": 29,
     "metadata": {},
     "output_type": "execute_result"
    }
   ],
   "source": [
    "np.array(my_mat)"
   ]
  },
  {
   "cell_type": "code",
   "execution_count": 11,
   "id": "a86c759c-459b-4165-bb29-9feb50541e79",
   "metadata": {},
   "outputs": [
    {
     "data": {
      "text/plain": [
       "array([ 0,  6, 12, 18, 24, 30, 36, 42, 48, 54, 60, 66, 72, 78, 84, 90, 96])"
      ]
     },
     "execution_count": 11,
     "metadata": {},
     "output_type": "execute_result"
    }
   ],
   "source": [
    "np.arange(0,100,6)"
   ]
  },
  {
   "cell_type": "code",
   "execution_count": null,
   "id": "396439e5-627f-47b8-a0d0-95d8ad24be6e",
   "metadata": {},
   "outputs": [],
   "source": [
    "def zeros jnih\n",
    "rdytfuf\n",
    "gfxdyfyf\n",
    "gdhffh"
   ]
  },
  {
   "cell_type": "code",
   "execution_count": null,
   "id": "e53f2810-014d-472c-810a-f15cce72ec3c",
   "metadata": {},
   "outputs": [],
   "source": [
    "def ones dfuhgiuhg\n",
    "sdygfydghrbf\n",
    "dsyfgyfvy"
   ]
  },
  {
   "cell_type": "code",
   "execution_count": null,
   "id": "a55e658b-eb7d-4c9a-b9c4-23d55e9d2e9d",
   "metadata": {},
   "outputs": [],
   "source": [
    "def arange ghtydef ones dfuhgiuhg\n",
    "sdygfydghrbf\n",
    "dsyfgyfvy\n",
    "rtujy\n",
    "rtutyu"
   ]
  },
  {
   "cell_type": "code",
   "execution_count": null,
   "id": "8f5936f3-2c15-4c53-bf7c-c65239fc9a35",
   "metadata": {},
   "outputs": [],
   "source": []
  },
  {
   "cell_type": "code",
   "execution_count": null,
   "id": "fcde29c6-3089-4bc7-8c7f-4c04c8f0de6c",
   "metadata": {},
   "outputs": [],
   "source": []
  },
  {
   "cell_type": "code",
   "execution_count": 23,
   "id": "32eec9bc-95b7-4206-aa8d-73645e474ed0",
   "metadata": {},
   "outputs": [
    {
     "data": {
      "text/plain": [
       "array([0., 0., 0.])"
      ]
     },
     "execution_count": 23,
     "metadata": {},
     "output_type": "execute_result"
    }
   ],
   "source": [
    "np.zeros(3)"
   ]
  },
  {
   "cell_type": "code",
   "execution_count": 3,
   "id": "30751da5-3ecd-4c8e-b264-7f8106936784",
   "metadata": {},
   "outputs": [
    {
     "ename": "NameError",
     "evalue": "name 'fdygurehfbgurgbfu' is not defined",
     "output_type": "error",
     "traceback": [
      "\u001b[1;31m---------------------------------------------------------------------------\u001b[0m",
      "\u001b[1;31mNameError\u001b[0m                                 Traceback (most recent call last)",
      "\u001b[1;32m~\\AppData\\Local\\Temp/ipykernel_13252/2435944881.py\u001b[0m in \u001b[0;36m<module>\u001b[1;34m\u001b[0m\n\u001b[1;32m----> 1\u001b[1;33m \u001b[0mfdygurehfbgurgbfu\u001b[0m\u001b[1;33m(\u001b[0m\u001b[1;33m(\u001b[0m\u001b[1;36m3\u001b[0m\u001b[1;33m,\u001b[0m\u001b[1;36m3\u001b[0m\u001b[1;33m)\u001b[0m\u001b[1;33m)\u001b[0m\u001b[1;33m\u001b[0m\u001b[1;33m\u001b[0m\u001b[0m\n\u001b[0m",
      "\u001b[1;31mNameError\u001b[0m: name 'fdygurehfbgurgbfu' is not defined"
     ]
    }
   ],
   "source": [
    "zeros((3,3))"
   ]
  },
  {
   "cell_type": "code",
   "execution_count": 25,
   "id": "7ec1811d-7f17-4723-9fd0-1d925403d480",
   "metadata": {},
   "outputs": [
    {
     "data": {
      "text/plain": [
       "array([1., 1., 1.])"
      ]
     },
     "execution_count": 25,
     "metadata": {},
     "output_type": "execute_result"
    }
   ],
   "source": [
    "np.ones(3)"
   ]
  },
  {
   "cell_type": "code",
   "execution_count": null,
   "id": "4aea6c45-83d4-4497-b483-ce2c49913641",
   "metadata": {},
   "outputs": [],
   "source": [
    "np.ones(())"
   ]
  },
  {
   "cell_type": "code",
   "execution_count": null,
   "id": "1ab60b7b-1b9e-4d1e-9624-5fedebcd56d6",
   "metadata": {},
   "outputs": [],
   "source": [
    "import numpy as np"
   ]
  },
  {
   "cell_type": "code",
   "execution_count": 22,
   "id": "74e7e653-0c5f-4655-8c48-a6aeb5492e7d",
   "metadata": {},
   "outputs": [
    {
     "data": {
      "text/plain": [
       "array([ 0. ,  2.5,  5. ,  7.5, 10. ])"
      ]
     },
     "execution_count": 22,
     "metadata": {},
     "output_type": "execute_result"
    }
   ],
   "source": [
    "np.linspace(0,10,5)"
   ]
  },
  {
   "cell_type": "code",
   "execution_count": 18,
   "id": "a37e56fc-80e5-4417-beeb-33a1cd858bca",
   "metadata": {},
   "outputs": [
    {
     "data": {
      "text/plain": [
       "array([ 0.        ,  0.20408163,  0.40816327,  0.6122449 ,  0.81632653,\n",
       "        1.02040816,  1.2244898 ,  1.42857143,  1.63265306,  1.83673469,\n",
       "        2.04081633,  2.24489796,  2.44897959,  2.65306122,  2.85714286,\n",
       "        3.06122449,  3.26530612,  3.46938776,  3.67346939,  3.87755102,\n",
       "        4.08163265,  4.28571429,  4.48979592,  4.69387755,  4.89795918,\n",
       "        5.10204082,  5.30612245,  5.51020408,  5.71428571,  5.91836735,\n",
       "        6.12244898,  6.32653061,  6.53061224,  6.73469388,  6.93877551,\n",
       "        7.14285714,  7.34693878,  7.55102041,  7.75510204,  7.95918367,\n",
       "        8.16326531,  8.36734694,  8.57142857,  8.7755102 ,  8.97959184,\n",
       "        9.18367347,  9.3877551 ,  9.59183673,  9.79591837, 10.        ])"
      ]
     },
     "execution_count": 18,
     "metadata": {},
     "output_type": "execute_result"
    }
   ],
   "source": [
    "np.linspace(0,10)"
   ]
  },
  {
   "cell_type": "code",
   "execution_count": 6,
   "id": "831b2283-bafd-4e10-b61b-d2062385f62f",
   "metadata": {},
   "outputs": [
    {
     "data": {
      "text/plain": [
       "array([[1., 0., 0.],\n",
       "       [0., 1., 0.],\n",
       "       [0., 0., 1.]])"
      ]
     },
     "execution_count": 6,
     "metadata": {},
     "output_type": "execute_result"
    }
   ],
   "source": [
    "np.eye(3)"
   ]
  },
  {
   "cell_type": "code",
   "execution_count": 16,
   "id": "da886d88-e768-4e52-b12c-5fbc76cb5d89",
   "metadata": {},
   "outputs": [
    {
     "data": {
      "text/plain": [
       "array([], shape=(0, 1), dtype=float64)"
      ]
     },
     "execution_count": 16,
     "metadata": {},
     "output_type": "execute_result"
    }
   ],
   "source": [
    "np.random.rand(0,1)"
   ]
  },
  {
   "cell_type": "code",
   "execution_count": 18,
   "id": "7eeec4d1-90cd-4cef-945f-0313ddbbc176",
   "metadata": {},
   "outputs": [
    {
     "data": {
      "text/plain": [
       "array([[0.50244152, 0.94993415, 0.30703402, 0.6084145 ],\n",
       "       [0.44151014, 0.93343804, 0.67018452, 0.54474063],\n",
       "       [0.41590664, 0.19157386, 0.69596277, 0.51377459],\n",
       "       [0.2912195 , 0.46174095, 0.99164357, 0.73441469]])"
      ]
     },
     "execution_count": 18,
     "metadata": {},
     "output_type": "execute_result"
    }
   ],
   "source": [
    "np.random.rand(4,4)"
   ]
  },
  {
   "cell_type": "code",
   "execution_count": 20,
   "id": "2e842a97-ac4f-4c8b-ba4a-cffdb2c162d7",
   "metadata": {},
   "outputs": [
    {
     "data": {
      "text/plain": [
       "array([[0.1900755 , 0.68851409, 0.06742371, 0.73726767, 0.69449283],\n",
       "       [0.91213359, 0.87793066, 0.12733381, 0.84188124, 0.17687172],\n",
       "       [0.82891642, 0.76451447, 0.96434132, 0.87678883, 0.8086376 ],\n",
       "       [0.76142853, 0.51995702, 0.46171042, 0.56592225, 0.18379028]])"
      ]
     },
     "execution_count": 20,
     "metadata": {},
     "output_type": "execute_result"
    }
   ],
   "source": [
    "np.random.rand(4,5)# \n",
    "# [0---> 1]"
   ]
  },
  {
   "cell_type": "code",
   "execution_count": 34,
   "id": "97679197-1a84-4050-ac6b-25c43c555cfc",
   "metadata": {},
   "outputs": [
    {
     "data": {
      "text/plain": [
       "array([97, 38, 67, 74, 36, 94, 35, 24, 68, 23])"
      ]
     },
     "execution_count": 34,
     "metadata": {},
     "output_type": "execute_result"
    }
   ],
   "source": [
    "np.random.randint(0,100,10)\n",
    "\n",
    "# [n --> k] int"
   ]
  },
  {
   "cell_type": "code",
   "execution_count": 43,
   "id": "b46c5443-925f-40ad-aeac-643aa368b5a4",
   "metadata": {},
   "outputs": [],
   "source": [
    "ana_array =np.arange(25)"
   ]
  },
  {
   "cell_type": "code",
   "execution_count": 38,
   "id": "b622a6f8-829b-4461-98a4-39172e3fa618",
   "metadata": {},
   "outputs": [
    {
     "data": {
      "text/plain": [
       "array([ 0,  1,  2,  3,  4,  5,  6,  7,  8,  9, 10, 11, 12, 13, 14, 15, 16,\n",
       "       17, 18, 19, 20, 21, 22, 23, 24])"
      ]
     },
     "execution_count": 38,
     "metadata": {},
     "output_type": "execute_result"
    }
   ],
   "source": [
    "arr"
   ]
  },
  {
   "cell_type": "code",
   "execution_count": 72,
   "id": "851d2274-f02e-4778-8e8c-e6c44cec3cd4",
   "metadata": {},
   "outputs": [],
   "source": [
    "omar = np.random.randint(0,100,10)"
   ]
  },
  {
   "cell_type": "code",
   "execution_count": 73,
   "id": "82ce16c0-95a8-409f-a48d-0c4ccb790679",
   "metadata": {},
   "outputs": [
    {
     "data": {
      "text/plain": [
       "array([28, 77,  9, 23, 54, 75, 35, 30, 60, 39])"
      ]
     },
     "execution_count": 73,
     "metadata": {},
     "output_type": "execute_result"
    }
   ],
   "source": [
    "omar"
   ]
  },
  {
   "cell_type": "code",
   "execution_count": 50,
   "id": "cb0758cc-cd20-40d6-afc9-d1b74a86b33d",
   "metadata": {},
   "outputs": [
    {
     "data": {
      "text/plain": [
       "array([[ 0,  1,  2,  3,  4],\n",
       "       [ 5,  6,  7,  8,  9],\n",
       "       [10, 11, 12, 13, 14],\n",
       "       [15, 16, 17, 18, 19],\n",
       "       [20, 21, 22, 23, 24]])"
      ]
     },
     "execution_count": 50,
     "metadata": {},
     "output_type": "execute_result"
    }
   ],
   "source": [
    "ana_array.reshape(5,5)"
   ]
  },
  {
   "cell_type": "code",
   "execution_count": 63,
   "id": "b32c1558-95c6-4bc2-ae60-9d73277af8b6",
   "metadata": {},
   "outputs": [
    {
     "data": {
      "text/plain": [
       "array([26, 71, 73, 70, 93, 30, 80,  0, 99,  9])"
      ]
     },
     "execution_count": 63,
     "metadata": {},
     "output_type": "execute_result"
    }
   ],
   "source": [
    "raa"
   ]
  },
  {
   "cell_type": "code",
   "execution_count": 74,
   "id": "2688948e-74aa-4980-b569-d5943b9ae8b2",
   "metadata": {},
   "outputs": [
    {
     "data": {
      "text/plain": [
       "77"
      ]
     },
     "execution_count": 74,
     "metadata": {},
     "output_type": "execute_result"
    }
   ],
   "source": [
    "omar.max()"
   ]
  },
  {
   "cell_type": "code",
   "execution_count": 75,
   "id": "a61461de-00fb-4c54-bee3-717e8386d232",
   "metadata": {},
   "outputs": [
    {
     "data": {
      "text/plain": [
       "9"
      ]
     },
     "execution_count": 75,
     "metadata": {},
     "output_type": "execute_result"
    }
   ],
   "source": [
    "omar.min()"
   ]
  },
  {
   "cell_type": "code",
   "execution_count": 77,
   "id": "3df67f1a-8f5a-4326-b985-f4e41f8b6792",
   "metadata": {},
   "outputs": [
    {
     "data": {
      "text/plain": [
       "1"
      ]
     },
     "execution_count": 77,
     "metadata": {},
     "output_type": "execute_result"
    }
   ],
   "source": [
    "omar.argmax() # index"
   ]
  },
  {
   "cell_type": "code",
   "execution_count": 76,
   "id": "b0783a5c-8977-4e61-9ee9-bb2c9c9accc0",
   "metadata": {},
   "outputs": [
    {
     "data": {
      "text/plain": [
       "2"
      ]
     },
     "execution_count": 76,
     "metadata": {},
     "output_type": "execute_result"
    }
   ],
   "source": [
    "omar.argmin()"
   ]
  },
  {
   "cell_type": "code",
   "execution_count": 96,
   "id": "5a83969e-d9df-4d10-a4b7-687e78709285",
   "metadata": {},
   "outputs": [],
   "source": [
    "ana_array =np.arange(16)"
   ]
  },
  {
   "cell_type": "code",
   "execution_count": 99,
   "id": "1148c69b-050e-4c8b-b491-4ff1857c47ba",
   "metadata": {},
   "outputs": [
    {
     "data": {
      "text/plain": [
       "array([ 0,  1,  2,  3,  4,  5,  6,  7,  8,  9, 10, 11, 12, 13, 14, 15])"
      ]
     },
     "execution_count": 99,
     "metadata": {},
     "output_type": "execute_result"
    }
   ],
   "source": [
    "ana_array"
   ]
  },
  {
   "cell_type": "code",
   "execution_count": 108,
   "id": "ea4478b1-5867-4545-849f-e746bdae0c23",
   "metadata": {},
   "outputs": [
    {
     "data": {
      "text/plain": [
       "(16,)"
      ]
     },
     "execution_count": 108,
     "metadata": {},
     "output_type": "execute_result"
    }
   ],
   "source": [
    "ana_array.shape"
   ]
  },
  {
   "cell_type": "code",
   "execution_count": 110,
   "id": "a28111f0-6b6f-4e85-b772-5c07479611b1",
   "metadata": {},
   "outputs": [],
   "source": [
    "c= ana_array.reshape(16,1)"
   ]
  },
  {
   "cell_type": "code",
   "execution_count": 111,
   "id": "34ed4dde-1fd6-4b13-8d99-8beb32d4aa28",
   "metadata": {},
   "outputs": [
    {
     "data": {
      "text/plain": [
       "(16, 1)"
      ]
     },
     "execution_count": 111,
     "metadata": {},
     "output_type": "execute_result"
    }
   ],
   "source": [
    "c.shape"
   ]
  },
  {
   "cell_type": "code",
   "execution_count": 145,
   "id": "68708cc5-3154-4ea4-be4a-a4d55e6f3993",
   "metadata": {},
   "outputs": [],
   "source": [
    "att = np.arange(0,20)"
   ]
  },
  {
   "cell_type": "code",
   "execution_count": 141,
   "id": "1ae98c90-015b-4142-b551-ec8463544f56",
   "metadata": {},
   "outputs": [
    {
     "data": {
      "text/plain": [
       "2"
      ]
     },
     "execution_count": 141,
     "metadata": {},
     "output_type": "execute_result"
    }
   ],
   "source": [
    "att"
   ]
  },
  {
   "cell_type": "code",
   "execution_count": 139,
   "id": "f6c47c2b-908b-4e76-a913-fb516e8cf973",
   "metadata": {},
   "outputs": [],
   "source": [
    "lf = np.random.randint(0,20)"
   ]
  },
  {
   "cell_type": "code",
   "execution_count": 146,
   "id": "618c73b9-f8fe-4fbd-ba3e-4cd970b22abb",
   "metadata": {},
   "outputs": [
    {
     "data": {
      "text/plain": [
       "array([ 0,  1,  2,  3,  4,  5,  6,  7,  8,  9, 10, 11, 12, 13, 14, 15, 16,\n",
       "       17, 18, 19])"
      ]
     },
     "execution_count": 146,
     "metadata": {},
     "output_type": "execute_result"
    }
   ],
   "source": [
    "atrr = np.arange(0,20)\n",
    "atrr"
   ]
  },
  {
   "cell_type": "code",
   "execution_count": 140,
   "id": "2b1aa4e1-4825-4076-ab73-00f9fe5658f7",
   "metadata": {},
   "outputs": [
    {
     "data": {
      "text/plain": [
       "7"
      ]
     },
     "execution_count": 140,
     "metadata": {},
     "output_type": "execute_result"
    }
   ],
   "source": [
    "att+ lf"
   ]
  },
  {
   "cell_type": "code",
   "execution_count": null,
   "id": "c3d97fe3-0fd5-448d-93e0-dbea261c05d8",
   "metadata": {},
   "outputs": [],
   "source": []
  },
  {
   "cell_type": "code",
   "execution_count": 148,
   "id": "6c6e8d86-8a87-4851-b564-80036848ac43",
   "metadata": {},
   "outputs": [
    {
     "data": {
      "text/plain": [
       "array([  0,   1,   4,   9,  16,  25,  36,  49,  64,  81, 100, 121, 144,\n",
       "       169, 196, 225, 256, 289, 324, 361])"
      ]
     },
     "execution_count": 148,
     "metadata": {},
     "output_type": "execute_result"
    }
   ],
   "source": [
    "att*atrr"
   ]
  },
  {
   "cell_type": "code",
   "execution_count": 113,
   "id": "9425c880-f41f-4a5a-ba21-8a3dda0ed488",
   "metadata": {},
   "outputs": [
    {
     "data": {
      "text/plain": [
       "array([ 0,  1,  2,  3,  4,  5,  6,  7,  8,  9, 10, 11, 12, 13, 14, 15, 16,\n",
       "       17, 18, 19])"
      ]
     },
     "execution_count": 113,
     "metadata": {},
     "output_type": "execute_result"
    }
   ],
   "source": [
    "att"
   ]
  },
  {
   "cell_type": "code",
   "execution_count": 115,
   "id": "a4a073d5-e7a3-498c-a604-000f9e7cd087",
   "metadata": {},
   "outputs": [
    {
     "data": {
      "text/plain": [
       "array([ 0,  1,  2,  3,  4,  5,  6,  7,  8,  9, 10, 11, 12, 13, 14, 15, 16,\n",
       "       17, 18, 19])"
      ]
     },
     "execution_count": 115,
     "metadata": {},
     "output_type": "execute_result"
    }
   ],
   "source": [
    "att"
   ]
  },
  {
   "cell_type": "code",
   "execution_count": 130,
   "id": "fcce8a86-2488-4f42-99b6-45873e210106",
   "metadata": {},
   "outputs": [
    {
     "name": "stderr",
     "output_type": "stream",
     "text": [
      "C:\\Users\\AMIT\\AppData\\Local\\Temp/ipykernel_6616/1100563834.py:1: RuntimeWarning: divide by zero encountered in true_divide\n",
      "  1 / att\n"
     ]
    },
    {
     "data": {
      "text/plain": [
       "array([       inf, 1.        , 0.5       , 0.33333333, 0.25      ,\n",
       "       0.2       , 0.16666667, 0.14285714, 0.125     , 0.11111111,\n",
       "       0.1       , 0.09090909, 0.08333333, 0.07692308, 0.07142857,\n",
       "       0.06666667, 0.0625    , 0.05882353, 0.05555556, 0.05263158])"
      ]
     },
     "execution_count": 130,
     "metadata": {},
     "output_type": "execute_result"
    }
   ],
   "source": [
    "att / att"
   ]
  },
  {
   "cell_type": "code",
   "execution_count": 134,
   "id": "9c6f3d72-e6a5-43c0-9cd3-24af30ec5444",
   "metadata": {},
   "outputs": [],
   "source": [
    "liu = [1,2,3,4,5,5,8,9,6,5]"
   ]
  },
  {
   "cell_type": "code",
   "execution_count": 135,
   "id": "b712b333-af54-4fde-8763-42ab0fdd5eac",
   "metadata": {},
   "outputs": [],
   "source": [
    "ff = [2,6,89,0]"
   ]
  },
  {
   "cell_type": "code",
   "execution_count": 136,
   "id": "ddfdf661-1517-4ef7-9459-b32710649730",
   "metadata": {},
   "outputs": [
    {
     "data": {
      "text/plain": [
       "[1, 2, 3, 4, 5, 5, 8, 9, 6, 5, 2, 6, 89, 0]"
      ]
     },
     "execution_count": 136,
     "metadata": {},
     "output_type": "execute_result"
    }
   ],
   "source": [
    "liu + ff"
   ]
  },
  {
   "cell_type": "code",
   "execution_count": null,
   "id": "2c0acf30-2726-4f26-bad2-8be036287d17",
   "metadata": {},
   "outputs": [],
   "source": []
  },
  {
   "cell_type": "code",
   "execution_count": null,
   "id": "438072de-b5d6-47a0-ba33-e388c57bfbdc",
   "metadata": {},
   "outputs": [],
   "source": []
  },
  {
   "cell_type": "code",
   "execution_count": 124,
   "id": "11981d41-227e-448e-927c-4ffdb755c6af",
   "metadata": {},
   "outputs": [
    {
     "data": {
      "text/plain": [
       "[1, 2, 3, 4, 5, 5, 8, 9, 6, 5]"
      ]
     },
     "execution_count": 124,
     "metadata": {},
     "output_type": "execute_result"
    }
   ],
   "source": [
    "liu"
   ]
  },
  {
   "cell_type": "code",
   "execution_count": null,
   "id": "b48d3c27-70f5-4d1d-ab17-0ae74aef4452",
   "metadata": {},
   "outputs": [],
   "source": [
    "e^0\n",
    "e^1\n",
    "e^2\n",
    "\n"
   ]
  },
  {
   "cell_type": "code",
   "execution_count": 149,
   "id": "eb4d3bf2-865a-4d25-8f9f-b3c3270e6aa6",
   "metadata": {},
   "outputs": [
    {
     "data": {
      "text/plain": [
       "array([1.00000000e+00, 2.71828183e+00, 7.38905610e+00, 2.00855369e+01,\n",
       "       5.45981500e+01, 1.48413159e+02, 4.03428793e+02, 1.09663316e+03,\n",
       "       2.98095799e+03, 8.10308393e+03, 2.20264658e+04, 5.98741417e+04,\n",
       "       1.62754791e+05, 4.42413392e+05, 1.20260428e+06, 3.26901737e+06,\n",
       "       8.88611052e+06, 2.41549528e+07, 6.56599691e+07, 1.78482301e+08])"
      ]
     },
     "execution_count": 149,
     "metadata": {},
     "output_type": "execute_result"
    }
   ],
   "source": [
    "np.exp(att)"
   ]
  },
  {
   "cell_type": "code",
   "execution_count": 154,
   "id": "87d15dff-a649-445a-87d2-4383252968bf",
   "metadata": {},
   "outputs": [
    {
     "data": {
      "text/plain": [
       "19"
      ]
     },
     "execution_count": 154,
     "metadata": {},
     "output_type": "execute_result"
    }
   ],
   "source": [
    "np.max(att)"
   ]
  },
  {
   "cell_type": "code",
   "execution_count": 157,
   "id": "241aa948-cc0c-49b7-9350-365cc30cc710",
   "metadata": {},
   "outputs": [],
   "source": [
    "att = np.arange(0,20)"
   ]
  },
  {
   "cell_type": "code",
   "execution_count": 160,
   "id": "779558c8-57e0-4341-bd56-a0d4badae618",
   "metadata": {},
   "outputs": [
    {
     "data": {
      "text/plain": [
       "array([ 0,  1,  2,  3,  4,  5,  6,  7,  8,  9, 10, 11, 12, 13, 14, 15, 16,\n",
       "       17, 18, 19])"
      ]
     },
     "execution_count": 160,
     "metadata": {},
     "output_type": "execute_result"
    }
   ],
   "source": [
    "att"
   ]
  },
  {
   "cell_type": "code",
   "execution_count": 158,
   "id": "f10fbdaa-d774-4435-9b33-28bbcb6f594a",
   "metadata": {},
   "outputs": [
    {
     "data": {
      "text/plain": [
       "19"
      ]
     },
     "execution_count": 158,
     "metadata": {},
     "output_type": "execute_result"
    }
   ],
   "source": [
    "att.max()"
   ]
  },
  {
   "cell_type": "code",
   "execution_count": 161,
   "id": "bf19a7d4-facc-4778-900e-ca6af606c268",
   "metadata": {},
   "outputs": [
    {
     "data": {
      "text/plain": [
       "array([1.00000000e+00, 2.71828183e+00, 7.38905610e+00, 2.00855369e+01,\n",
       "       5.45981500e+01, 1.48413159e+02, 4.03428793e+02, 1.09663316e+03,\n",
       "       2.98095799e+03, 8.10308393e+03, 2.20264658e+04, 5.98741417e+04,\n",
       "       1.62754791e+05, 4.42413392e+05, 1.20260428e+06, 3.26901737e+06,\n",
       "       8.88611052e+06, 2.41549528e+07, 6.56599691e+07, 1.78482301e+08])"
      ]
     },
     "execution_count": 161,
     "metadata": {},
     "output_type": "execute_result"
    }
   ],
   "source": [
    "np.exp(att)"
   ]
  },
  {
   "cell_type": "code",
   "execution_count": 150,
   "id": "d12f59c5-5e53-400f-a61f-aee9d4409f60",
   "metadata": {},
   "outputs": [
    {
     "data": {
      "text/plain": [
       "4"
      ]
     },
     "execution_count": 150,
     "metadata": {},
     "output_type": "execute_result"
    }
   ],
   "source": [
    "2*2"
   ]
  },
  {
   "cell_type": "code",
   "execution_count": 151,
   "id": "58739f66-f1ea-4f1e-bfce-7b5c7dc5f6cb",
   "metadata": {},
   "outputs": [
    {
     "data": {
      "text/plain": [
       "4"
      ]
     },
     "execution_count": 151,
     "metadata": {},
     "output_type": "execute_result"
    }
   ],
   "source": [
    "2**2"
   ]
  },
  {
   "cell_type": "code",
   "execution_count": 152,
   "id": "2294cbb2-3fb1-48a3-98fb-e5d0a0723afe",
   "metadata": {},
   "outputs": [
    {
     "data": {
      "text/plain": [
       "6"
      ]
     },
     "execution_count": 152,
     "metadata": {},
     "output_type": "execute_result"
    }
   ],
   "source": [
    "2*3"
   ]
  },
  {
   "cell_type": "code",
   "execution_count": 153,
   "id": "7f546372-8ba5-4929-a39c-2d951023736a",
   "metadata": {},
   "outputs": [
    {
     "data": {
      "text/plain": [
       "8"
      ]
     },
     "execution_count": 153,
     "metadata": {},
     "output_type": "execute_result"
    }
   ],
   "source": [
    "2**3"
   ]
  },
  {
   "cell_type": "code",
   "execution_count": 162,
   "id": "54ffe5d6-2e9a-4563-9f9b-9c3e767d70b0",
   "metadata": {},
   "outputs": [
    {
     "data": {
      "text/plain": [
       "array([ 0.        ,  0.84147098,  0.90929743,  0.14112001, -0.7568025 ,\n",
       "       -0.95892427, -0.2794155 ,  0.6569866 ,  0.98935825,  0.41211849,\n",
       "       -0.54402111, -0.99999021, -0.53657292,  0.42016704,  0.99060736,\n",
       "        0.65028784, -0.28790332, -0.96139749, -0.75098725,  0.14987721])"
      ]
     },
     "execution_count": 162,
     "metadata": {},
     "output_type": "execute_result"
    }
   ],
   "source": [
    "np.sin(att)"
   ]
  },
  {
   "cell_type": "code",
   "execution_count": 163,
   "id": "c63b64ec-fbe8-4461-b66f-f47f9bbe15da",
   "metadata": {},
   "outputs": [
    {
     "name": "stderr",
     "output_type": "stream",
     "text": [
      "C:\\Users\\AMIT\\AppData\\Local\\Temp/ipykernel_6616/784945421.py:1: RuntimeWarning: divide by zero encountered in log\n",
      "  np.log(att)\n"
     ]
    },
    {
     "data": {
      "text/plain": [
       "array([      -inf, 0.        , 0.69314718, 1.09861229, 1.38629436,\n",
       "       1.60943791, 1.79175947, 1.94591015, 2.07944154, 2.19722458,\n",
       "       2.30258509, 2.39789527, 2.48490665, 2.56494936, 2.63905733,\n",
       "       2.7080502 , 2.77258872, 2.83321334, 2.89037176, 2.94443898])"
      ]
     },
     "execution_count": 163,
     "metadata": {},
     "output_type": "execute_result"
    }
   ],
   "source": [
    "np.log(att)"
   ]
  },
  {
   "cell_type": "code",
   "execution_count": 164,
   "id": "71a9baad-6c49-47c1-9fce-71d6b9767f2c",
   "metadata": {},
   "outputs": [],
   "source": [
    "import pandas as pd"
   ]
  },
  {
   "cell_type": "code",
   "execution_count": null,
   "id": "bb562773-f39b-4a1f-a6d9-d3bdc9a84138",
   "metadata": {},
   "outputs": [],
   "source": []
  },
  {
   "cell_type": "code",
   "execution_count": null,
   "id": "302a8677-3c06-4ecb-895e-12d7b92d84fc",
   "metadata": {},
   "outputs": [],
   "source": []
  }
 ],
 "metadata": {
  "kernelspec": {
   "display_name": "Python 3 (ipykernel)",
   "language": "python",
   "name": "python3"
  },
  "language_info": {
   "codemirror_mode": {
    "name": "ipython",
    "version": 3
   },
   "file_extension": ".py",
   "mimetype": "text/x-python",
   "name": "python",
   "nbconvert_exporter": "python",
   "pygments_lexer": "ipython3",
   "version": "3.9.7"
  }
 },
 "nbformat": 4,
 "nbformat_minor": 5
}
