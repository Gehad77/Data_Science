{
 "cells": [
  {
   "cell_type": "markdown",
   "id": "19d039c6-3865-42ef-82a2-d84b7896eb11",
   "metadata": {},
   "source": [
    "## OOP"
   ]
  },
  {
   "cell_type": "markdown",
   "id": "bdb22f67-5ae8-4e25-bfce-df35ec83f319",
   "metadata": {},
   "source": [
    "- Create a class called Person with a name attribute and a greet method that prints a greeting message."
   ]
  },
  {
   "cell_type": "code",
   "execution_count": 1,
   "id": "543f93d4-7491-4d21-8ed2-3ad084788ef1",
   "metadata": {},
   "outputs": [],
   "source": [
    "class Person:\n",
    "    def __init__(self, name):\n",
    "        self.name = name\n",
    "\n",
    "    def greet(self):\n",
    "        print(f\"Hello, my name is {self.name}\")\n"
   ]
  },
  {
   "cell_type": "markdown",
   "id": "ad6d7b1f-0942-49ad-b457-ba72979228b2",
   "metadata": {},
   "source": [
    "- Create a class called Animal with a name and species attribute and a make_sound method that prints a sound that the animal makes."
   ]
  },
  {
   "cell_type": "code",
   "execution_count": 2,
   "id": "f4f01534-8cc2-4b92-b045-a601e6cf1061",
   "metadata": {},
   "outputs": [],
   "source": [
    "class Animal:\n",
    "    def __init__(self, name, species):\n",
    "        self.name = name\n",
    "        self.species = species\n",
    "\n",
    "    def make_sound(self):\n",
    "        print(f\"The {self.species} {self.name} makes a sound.\")\n"
   ]
  },
  {
   "cell_type": "markdown",
   "id": "ac987fec-c7f9-4491-a07e-29032dabdffd",
   "metadata": {},
   "source": [
    "- Create a class called Rectangle with width and height attributes and a method called area that calculates the area of the rectangle."
   ]
  },
  {
   "cell_type": "code",
   "execution_count": 3,
   "id": "b11e7bbf-4409-4530-8291-25f0d147b71e",
   "metadata": {},
   "outputs": [],
   "source": [
    "class Rectangle:\n",
    "    def __init__(self, width, height):\n",
    "        self.width = width\n",
    "        self.height = height\n",
    "\n",
    "    def area(self):\n",
    "        return self.width * self.height\n"
   ]
  },
  {
   "cell_type": "markdown",
   "id": "da31b524-7ac2-4f5e-8444-6ef928f6917e",
   "metadata": {},
   "source": [
    "- Create a class called BankAccount with balance attribute and deposit and withdraw methods."
   ]
  },
  {
   "cell_type": "code",
   "execution_count": 4,
   "id": "e2304d87-a4ef-409d-9f1d-56b293f559df",
   "metadata": {},
   "outputs": [],
   "source": [
    "class BankAccount:\n",
    "    def __init__(self, balance=0):\n",
    "        self.balance = balance\n",
    "\n",
    "    def deposit(self, amount):\n",
    "        self.balance += amount\n",
    "\n",
    "    def withdraw(self, amount):\n",
    "        if amount > self.balance:\n",
    "            print(\"Insufficient funds\")\n",
    "        else:\n",
    "            self.balance -= amount\n"
   ]
  },
  {
   "cell_type": "markdown",
   "id": "138c4150-e5da-450b-a686-a29bd716e367",
   "metadata": {},
   "source": [
    "- Create a class called Car with make, model, and year attributes and a description method that prints a description of the car."
   ]
  },
  {
   "cell_type": "code",
   "execution_count": 5,
   "id": "92b06c32-fc6e-4b1f-b995-12e5ce224851",
   "metadata": {},
   "outputs": [],
   "source": [
    "class Car:\n",
    "    def __init__(self, make, model, year):\n",
    "        self.make = make\n",
    "        self.model = model\n",
    "        self.year = year\n",
    "\n",
    "    def description(self):\n",
    "        print(f\"{self.year} {self.make} {self.model}\")\n"
   ]
  },
  {
   "cell_type": "markdown",
   "id": "2332f86f-b371-4846-9492-9f2d5fa156d6",
   "metadata": {},
   "source": [
    "- Create a class called Employee with name, title, and salary attributes and a raise_salary method that increases the salary by a certain percentage."
   ]
  },
  {
   "cell_type": "code",
   "execution_count": 6,
   "id": "0e4080c1-0cf0-46fc-bf41-ba689a8bd3a2",
   "metadata": {},
   "outputs": [],
   "source": [
    "class Employee:\n",
    "    def __init__(self, name, title, salary):\n",
    "        self.name = name\n",
    "        self.title = title\n",
    "        self.salary = salary\n",
    "\n",
    "    def raise_salary(self, percentage):\n",
    "        self.salary *= (1 + percentage / 100)\n"
   ]
  },
  {
   "cell_type": "markdown",
   "id": "15a01b86-c82a-431e-a22c-01d8aaea01cf",
   "metadata": {},
   "source": [
    "- Create a class called Circle with radius attribute and area and circumference methods that calculate the area and circumference of the circle."
   ]
  },
  {
   "cell_type": "code",
   "execution_count": 7,
   "id": "e40149cc-c30c-4d0c-9b18-2d0e7719c3c1",
   "metadata": {},
   "outputs": [],
   "source": [
    "import math\n",
    "\n",
    "class Circle:\n",
    "    def __init__(self, radius):\n",
    "        self.radius = radius\n",
    "\n",
    "    def area(self):\n",
    "        return math.pi * self.radius ** 2\n",
    "\n",
    "    def circumference(self):\n",
    "        return 2 * math.pi * self.radius\n"
   ]
  },
  {
   "cell_type": "markdown",
   "id": "12164fb0-33d0-4ad2-9658-eb1c104b9b50",
   "metadata": {},
   "source": [
    "- Create a class called Student with name and grades attributes and a average_grade method that calculates the average of the grades."
   ]
  },
  {
   "cell_type": "code",
   "execution_count": 8,
   "id": "fb42a0ca-5e22-423f-b15d-70217f938afd",
   "metadata": {},
   "outputs": [],
   "source": [
    "class Student:\n",
    "    def __init__(self, name, grades):\n",
    "        self.name = name\n",
    "        self.grades = grades\n",
    "\n",
    "    def average_grade(self):\n",
    "        return sum(self.grades) / len(self.grades)\n"
   ]
  },
  {
   "cell_type": "markdown",
   "id": "5e6b92e9-fba0-4ce4-aa71-b65f55362615",
   "metadata": {},
   "source": [
    "- Create a class called Book with title, author, and pages attributes and a description method that prints a description of the book."
   ]
  },
  {
   "cell_type": "code",
   "execution_count": 9,
   "id": "dc5af9bd-b05e-4d0b-931b-f515fb000ec0",
   "metadata": {},
   "outputs": [],
   "source": [
    "class Book:\n",
    "    def __init__(self, title, author, pages):\n",
    "        self.title = title\n",
    "        self.author = author\n",
    "        self.pages = pages\n",
    "    \n",
    "    def description(self):\n",
    "        print(f\"{self.title} by {self.author} is a {self.pages}-page book.\")\n"
   ]
  },
  {
   "cell_type": "markdown",
   "id": "9ef6b945-adeb-46cb-90f1-fc1a0987eb63",
   "metadata": {},
   "source": [
    "- Create a class called Triangle with base and height attributes and a area method that calculates the area of the triangle."
   ]
  },
  {
   "cell_type": "code",
   "execution_count": 10,
   "id": "6190cae2-d7c1-4843-a199-f2479c0f3b89",
   "metadata": {},
   "outputs": [],
   "source": [
    "class Triangle:\n",
    "    def __init__(self, base, height):\n",
    "        self.base = base\n",
    "        self.height = height\n",
    "\n",
    "    def area(self):\n",
    "        return 0.5 * self.base * self.height\n"
   ]
  },
  {
   "cell_type": "markdown",
   "id": "786bd805-ed88-44d3-82a9-c36ce85d5f73",
   "metadata": {},
   "source": [
    "- Create a class called Bank with accounts attribute that is a list of BankAccount objects and a total_balance method that calculates the total balance of all the accounts."
   ]
  },
  {
   "cell_type": "code",
   "execution_count": 11,
   "id": "60371084-bce6-448b-9329-23389fc8dc02",
   "metadata": {},
   "outputs": [],
   "source": [
    "class Bank:\n",
    "    def __init__(self):\n",
    "        self.accounts = []\n",
    "\n",
    "    def add_account(self, account):\n",
    "        self.accounts.append(account)\n",
    "\n",
    "    def total_balance(self):\n",
    "        return sum(account.balance for account in self.accounts)\n"
   ]
  },
  {
   "cell_type": "markdown",
   "id": "f8940afe-d017-452d-8f44-d0bc87d1629d",
   "metadata": {},
   "source": [
    "- Create a class called Library with books attribute that is a list of Book objects and a find_book method that searches for a book by title."
   ]
  },
  {
   "cell_type": "code",
   "execution_count": 12,
   "id": "26205b3a-6324-455d-975f-ad7dcc741245",
   "metadata": {},
   "outputs": [],
   "source": [
    "class Library:\n",
    "    def __init__(self):\n",
    "        self.books = []\n",
    "\n",
    "    def add_book(self, book):\n",
    "        self.books.append(book)\n",
    "\n",
    "    def find_book(self, title):\n",
    "        for book in self.books:\n",
    "            if book.title == title:\n",
    "                return book\n",
    "        return None\n"
   ]
  },
  {
   "cell_type": "markdown",
   "id": "c1fdca47-aa5b-4a81-881f-52d6edc082ed",
   "metadata": {},
   "source": [
    "- Create a class called BankAccount with balance attribute and methods deposit, withdraw, and get_balance."
   ]
  },
  {
   "cell_type": "code",
   "execution_count": 14,
   "id": "f05da57b-9836-43bf-a3c7-1c9f8330da6a",
   "metadata": {},
   "outputs": [],
   "source": [
    "class BankAccount:\n",
    "    def __init__(self):\n",
    "        self.balance = 0\n",
    "\n",
    "    def deposit(self, amount):\n",
    "        self.balance += amount\n",
    "\n",
    "    def withdraw(self, amount):\n",
    "        if amount > self.balance:\n",
    "            print(\"Insufficient balance.\")\n",
    "        else:\n",
    "            self.balance -= amount\n",
    "\n",
    "    def get_balance(self):\n",
    "        return self.balance\n"
   ]
  },
  {
   "cell_type": "markdown",
   "id": "4fc5c33a-9bc9-49f6-b899-936a80ce8589",
   "metadata": {},
   "source": [
    "- Create a class called Database that can connect to a database, execute SQL queries, and return the results. Use the sqlite3 module to implement the database functionality."
   ]
  },
  {
   "cell_type": "code",
   "execution_count": 15,
   "id": "417f5fa6-dd95-49cf-9ddf-6956f363c0c0",
   "metadata": {},
   "outputs": [],
   "source": [
    "import sqlite3\n",
    "\n",
    "class Database:\n",
    "    def __init__(self, database_file):\n",
    "        self.conn = sqlite3.connect(database_file)\n",
    "        self.cursor = self.conn.cursor()\n",
    "\n",
    "    def execute_query(self, query, params=None):\n",
    "        if params:\n",
    "            self.cursor.execute(query, params)\n",
    "        else:\n",
    "            self.cursor.execute(query)\n",
    "        return self.cursor.fetchall()\n",
    "\n",
    "    def close(self):\n",
    "        self.conn.close()\n"
   ]
  },
  {
   "cell_type": "markdown",
   "id": "c0bab2ab-09b8-42e0-a39b-d0316c64a183",
   "metadata": {},
   "source": [
    "- Create a class called ThreadPool that implements a thread pool for executing tasks in parallel. The class should take a list of tasks and the number of threads to use, and should execute the tasks using a thread pool."
   ]
  },
  {
   "cell_type": "code",
   "execution_count": 16,
   "id": "46fc67a7-84f5-414a-87c8-de2b8d130b1f",
   "metadata": {},
   "outputs": [],
   "source": [
    "import threading\n",
    "import queue\n",
    "\n",
    "class ThreadPool:\n",
    "    def __init__(self, tasks, num_threads):\n",
    "        self.tasks = queue.Queue()\n",
    "        for task in tasks:\n",
    "            self.tasks.put(task)\n",
    "        self.threads = [threading.Thread(target=self.worker) for i in range(num_threads)]\n",
    "\n",
    "    def start(self):\n",
    "        for thread in self.threads:\n",
    "            thread.start()\n",
    "\n",
    "    def join(self):\n",
    "        for thread in self.threads:\n",
    "            thread.join()\n",
    "\n",
    "    def worker(self):\n",
    "        while True:\n",
    "            try:\n",
    "                task = self.tasks.get_nowait()\n",
    "            except queue.Empty:\n",
    "                break\n",
    "            else:\n",
    "                task()\n",
    "\n"
   ]
  },
  {
   "cell_type": "markdown",
   "id": "a04406ec-6888-4741-845c-7b28d72e1a83",
   "metadata": {},
   "source": [
    "- Create a class called NeuralNetwork that implements a feedforward neural network with one hidden layer. The class should take the number of input, hidden, and output neurons, and should implement methods for training and prediction."
   ]
  },
  {
   "cell_type": "code",
   "execution_count": 18,
   "id": "9f867df5-2225-4182-80d6-da03a0ecb0ce",
   "metadata": {},
   "outputs": [],
   "source": [
    "import numpy as np\n",
    "\n",
    "class NeuralNetwork:\n",
    "    def __init__(self, input_size, hidden_size, output_size):\n",
    "        self.input_size = input_size\n",
    "        self.hidden_size = hidden_size\n",
    "        self.output_size = output_size\n",
    "        self.weights1 = np.random.rand(input_size, hidden_size)\n",
    "        self.weights2 = np.random.rand(hidden_size, output_size)\n",
    "\n",
    "    def sigmoid(self, x):\n",
    "        return 1 / (1 + np.exp(-x))\n",
    "\n",
    "    def sigmoid_derivative(self, x):\n",
    "        return x * (1 - x)\n",
    "\n",
    "    def forward(self, input):\n",
    "        self.hidden = self.sigmoid(np.dot(input, self.weights1))\n",
    "        self.output = self.sigmoid(np.dot(self.hidden, self.weights2))\n",
    "\n",
    "    def backward(self, input, target, learning_rate):\n",
    "        output_error = target - self.output\n",
    "        output_delta = output_error * self.sigmoid_derivative(self.output)\n",
    "        hidden_error = np.dot(output_delta, self.weights2.T)\n",
    "        hidden_delta = hidden_error * self.sigmoid_derivative(self.hidden)\n",
    "        self.weights2 += learning_rate * np.dot(self.hidden.T, output_delta)\n",
    "        self.weights1 += learning_rate * np.dot(input.T, hidden_delta)\n",
    "\n",
    "    def train(self, input, target, learning_rate, num_epochs):\n",
    "        for epoch in range(num_epochs):\n",
    "            self.forward(input)\n",
    "            self.backward(input, target, learning_rate)\n",
    "\n",
    "    def predict(self, input):\n",
    "        self.forward(input)\n",
    "        return self.output\n"
   ]
  },
  {
   "cell_type": "code",
   "execution_count": null,
   "id": "c4eb0eba-fd01-4087-abf6-0a09019e835c",
   "metadata": {},
   "outputs": [],
   "source": []
  },
  {
   "cell_type": "code",
   "execution_count": null,
   "id": "f1dca07a-1cbe-40b1-b35e-c44c0e612b9b",
   "metadata": {},
   "outputs": [],
   "source": []
  },
  {
   "cell_type": "code",
   "execution_count": null,
   "id": "ab79f684-6634-473a-bd8c-302029714725",
   "metadata": {},
   "outputs": [],
   "source": []
  }
 ],
 "metadata": {
  "kernelspec": {
   "display_name": "Python 3 (ipykernel)",
   "language": "python",
   "name": "python3"
  },
  "language_info": {
   "codemirror_mode": {
    "name": "ipython",
    "version": 3
   },
   "file_extension": ".py",
   "mimetype": "text/x-python",
   "name": "python",
   "nbconvert_exporter": "python",
   "pygments_lexer": "ipython3",
   "version": "3.9.7"
  }
 },
 "nbformat": 4,
 "nbformat_minor": 5
}
