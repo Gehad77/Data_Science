{
 "cells": [
  {
   "cell_type": "code",
   "execution_count": null,
   "id": "8224a493-c735-4c3b-bbe2-2d5a9696d4d1",
   "metadata": {},
   "outputs": [],
   "source": [
    "import numpy as np\n",
    "import pandas as pd\n",
    "from sklearn.preprocessing import LabelEncoder\n",
    "from sklearn.model_selection import train_test_split\n",
    "from sklearn.ensemble import RandomForestRegressor\n",
    "from sklearn.metrics import mean_absolute_error, mean_squared_error, r2_score\n",
    "import matplotlib.pyplot as plt\n",
    "import seaborn as sns"
   ]
  },
  {
   "cell_type": "code",
   "execution_count": null,
   "id": "d6a1de89-eaf6-4b79-9054-59a003263a8f",
   "metadata": {},
   "outputs": [],
   "source": [
    "df = pd.read_csv(\"US_Regional_Sales_Data.csv\")"
   ]
  },
  {
   "cell_type": "code",
   "execution_count": null,
   "id": "387504ef-5a4a-4af4-b601-5de70bcd083b",
   "metadata": {},
   "outputs": [],
   "source": [
    "df.head()"
   ]
  },
  {
   "cell_type": "code",
   "execution_count": null,
   "id": "24b87c37-098a-4e24-8b82-59bd3574f6b0",
   "metadata": {},
   "outputs": [],
   "source": [
    "df[\"ProcuredDate\"] = pd.to_datetime(df['ProcuredDate'])\n",
    "df[\"OrderDate\"] = pd.to_datetime(df['OrderDate'])\n",
    "df[\"ShipDate\"] = pd.to_datetime(df['ShipDate'])\n",
    "df[\"DeliveryDate\"] = pd.to_datetime(df['DeliveryDate'])"
   ]
  },
  {
   "cell_type": "code",
   "execution_count": null,
   "id": "744c0dbc-e014-49ff-9bc5-7a7505388504",
   "metadata": {},
   "outputs": [],
   "source": [
    "df.info()"
   ]
  },
  {
   "cell_type": "code",
   "execution_count": null,
   "id": "a4ef9214-0b87-42fa-8199-6c86551f270c",
   "metadata": {},
   "outputs": [],
   "source": [
    "df['day_of_week_ProcuredDate'] = df['ProcuredDate'].dt.day_name()\n",
    "df['day_of_week_OrderDate'] = df['OrderDate'].dt.day_name()\n",
    "df['day_of_week_ShipDate'] = df['ShipDate'].dt.day_name()\n",
    "df['day_of_week_DeliveryDate'] = df['DeliveryDate'].dt.day_name()\n"
   ]
  },
  {
   "cell_type": "code",
   "execution_count": null,
   "id": "e0929ed8-ad7c-400c-9bfa-5a59b6ec8993",
   "metadata": {},
   "outputs": [],
   "source": [
    "df.head()"
   ]
  },
  {
   "cell_type": "code",
   "execution_count": null,
   "id": "7832c882-352a-40eb-9d62-acdee35a237b",
   "metadata": {},
   "outputs": [],
   "source": [
    "df.info()"
   ]
  },
  {
   "cell_type": "code",
   "execution_count": null,
   "id": "7036e01c-a01f-4599-9bd6-c05fd25d602b",
   "metadata": {},
   "outputs": [],
   "source": [
    "df['Unit Cost'] = df['Unit Cost'].str.replace(',', '')\n",
    "\n",
    "df['Unit Cost'] = pd.to_numeric(df['Unit Cost'])\n",
    "\n",
    "\n",
    "df['Unit Price'] = df['Unit Price'].str.replace(',', '')\n",
    "\n",
    "df['Unit Price'] = pd.to_numeric(df['Unit Price'])"
   ]
  },
  {
   "cell_type": "code",
   "execution_count": null,
   "id": "603d5fb1-9c09-4580-b9c0-bb9e9e7ff155",
   "metadata": {},
   "outputs": [],
   "source": [
    "df.info()"
   ]
  },
  {
   "cell_type": "code",
   "execution_count": null,
   "id": "424b1f96-11c4-43ae-94c6-eb303722c0ac",
   "metadata": {},
   "outputs": [],
   "source": [
    "drop_columns = ['OrderNumber', 'ProcuredDate', 'OrderDate', 'ShipDate', 'DeliveryDate']\n",
    "\n",
    "df.drop(drop_columns, axis=1, inplace=True)\n"
   ]
  },
  {
   "cell_type": "code",
   "execution_count": null,
   "id": "165ce61b-2aa6-4159-a763-5fbe839a8ba1",
   "metadata": {},
   "outputs": [],
   "source": [
    "df.columns"
   ]
  },
  {
   "cell_type": "code",
   "execution_count": null,
   "id": "35f1897d-dcdf-4a78-8ed8-7fcdccf67474",
   "metadata": {},
   "outputs": [],
   "source": [
    "columns_to_encode = ['Sales Channel', 'WarehouseCode','CurrencyCode','day_of_week_ProcuredDate', 'day_of_week_OrderDate',\n",
    "       'day_of_week_ShipDate', 'day_of_week_DeliveryDate']\n",
    "\n",
    "# Loop through columns and apply label encoding\n",
    "label_encoder = LabelEncoder()\n",
    "for column in columns_to_encode:\n",
    "    df[column] = label_encoder.fit_transform(df[column])"
   ]
  },
  {
   "cell_type": "code",
   "execution_count": null,
   "id": "79c6082f-1f54-492a-bb48-974671c08148",
   "metadata": {},
   "outputs": [],
   "source": [
    "df.head()"
   ]
  },
  {
   "cell_type": "code",
   "execution_count": null,
   "id": "e121e70c-c694-47ef-b331-c55c341b6834",
   "metadata": {},
   "outputs": [],
   "source": [
    "df.info()"
   ]
  },
  {
   "cell_type": "code",
   "execution_count": null,
   "id": "c6f3b7ed-431d-4604-a4b0-26a7758669fd",
   "metadata": {},
   "outputs": [],
   "source": [
    "sns.distplot(df['Unit Price'],kde=False,bins=30)"
   ]
  },
  {
   "cell_type": "code",
   "execution_count": null,
   "id": "46c9079f-c192-4272-ab8f-6a9380a90f5a",
   "metadata": {},
   "outputs": [],
   "source": [
    "plt.figure(figsize=(30, 10))  # Set the figure size\n",
    "\n",
    "sns.heatmap(df.corr(),cmap='coolwarm',annot=True)\n"
   ]
  },
  {
   "cell_type": "code",
   "execution_count": null,
   "id": "09837aac-cb24-48eb-b19d-42a8faccf395",
   "metadata": {},
   "outputs": [],
   "source": [
    "sns.barplot(x='Sales Channel',y='Unit Price',data=df,estimator=np.std)\n"
   ]
  },
  {
   "cell_type": "code",
   "execution_count": null,
   "id": "2499a764-3178-40f6-9e54-f3c52270902b",
   "metadata": {},
   "outputs": [],
   "source": []
  },
  {
   "cell_type": "code",
   "execution_count": null,
   "id": "de596273-4839-4f70-b37b-65596937f42d",
   "metadata": {},
   "outputs": [],
   "source": []
  },
  {
   "cell_type": "code",
   "execution_count": null,
   "id": "c26e85fb-c34b-4b19-ad36-16a0d869211e",
   "metadata": {},
   "outputs": [],
   "source": []
  },
  {
   "cell_type": "markdown",
   "id": "3ec0b2d8-d4a7-47db-b08c-b40f8d3a9c42",
   "metadata": {},
   "source": [
    "## Model"
   ]
  },
  {
   "cell_type": "code",
   "execution_count": null,
   "id": "e43aec60-27f6-4f19-838a-7b57b9a3bf0d",
   "metadata": {},
   "outputs": [],
   "source": [
    "X = df.drop(['Unit Price'], axis=1)  # Features\n",
    "y = df['Unit Price']  # Target variable"
   ]
  },
  {
   "cell_type": "code",
   "execution_count": null,
   "id": "5d7b491e-d4ec-4a9c-86b1-742c6ed7abc3",
   "metadata": {},
   "outputs": [],
   "source": [
    "X_train, X_test, y_train, y_test = train_test_split(X, y, test_size=0.2, random_state=42)"
   ]
  },
  {
   "cell_type": "code",
   "execution_count": null,
   "id": "6339e34d-79ef-4826-bdbb-4fd743d8e655",
   "metadata": {},
   "outputs": [],
   "source": [
    "rf_model = RandomForestRegressor(n_estimators=100 , max_depth=10, random_state=42)\n",
    "rf_model.fit(X_train, y_train)\n",
    "y_pred = rf_model.predict(X_test)"
   ]
  },
  {
   "cell_type": "code",
   "execution_count": null,
   "id": "cda22fdb-f00a-4e02-9918-63408eb1da60",
   "metadata": {},
   "outputs": [],
   "source": [
    "# Evaluate the model\n",
    "mae = mean_absolute_error(y_test, y_pred)\n",
    "mse = mean_squared_error(y_test, y_pred)\n",
    "rmse = np.sqrt(mse)\n",
    "r2 = r2_score(y_test, y_pred) \n",
    "\n",
    "print(f'Mean Absolute Error: {mae}')\n",
    "print(f'Mean Squared Error: {mse}')\n",
    "print(f'Root Mean Squared Error: {rmse}')\n",
    "print(f'R-squared: {r2}')"
   ]
  },
  {
   "cell_type": "code",
   "execution_count": null,
   "id": "fc55d33f-66f5-4de6-a8c4-884c15ae8080",
   "metadata": {},
   "outputs": [],
   "source": [
    "from sklearn.metrics import accuracy_score\n",
    "\n",
    "y_pred = rf_model.predict(X_test)\n",
    "accuracy = accuracy_score(y_test, y_pred)\n",
    "\n",
    "print(f\"Accuracy: {accuracy}\")\n"
   ]
  },
  {
   "cell_type": "markdown",
   "id": "955e3d62-57f6-4e1a-bd4d-72e704cb05f8",
   "metadata": {},
   "source": [
    "### To calculate the Bias and variance "
   ]
  },
  {
   "cell_type": "code",
   "execution_count": null,
   "id": "d161580e-52d4-41a0-9924-1427599d0dcf",
   "metadata": {},
   "outputs": [],
   "source": [
    "y_train_pred = rf_model.predict(X_train)\n",
    "y_test_pred = rf_model.predict(X_test)"
   ]
  },
  {
   "cell_type": "code",
   "execution_count": null,
   "id": "298abcba-862f-4246-927c-174b33262fb5",
   "metadata": {},
   "outputs": [],
   "source": [
    "bias = mean_squared_error(y_train, y_train_pred)\n",
    "variance = mean_squared_error(y_test, y_test_pred)\n",
    "\n",
    "print(f'bias: {bias}')\n",
    "print(f'variance: {variance}')\n"
   ]
  },
  {
   "cell_type": "markdown",
   "id": "899672f4-d043-4201-9a48-e433fb5ff216",
   "metadata": {},
   "source": [
    "### To calculate the accuracy for training and test to know the overfitting and underfitting"
   ]
  },
  {
   "cell_type": "code",
   "execution_count": null,
   "id": "0251a8b8-4c4d-41d8-9472-4f69f273c187",
   "metadata": {},
   "outputs": [],
   "source": [
    "# Plotting actual vs. predicted values\n",
    "plt.scatter(y_test, y_pred)\n",
    "plt.xlabel('Actual Values')\n",
    "plt.ylabel('Predicted Values')\n",
    "plt.title('Actual vs Predicted Values')\n",
    "plt.show()"
   ]
  },
  {
   "cell_type": "markdown",
   "id": "8f537759-4137-4965-b3d6-6f71f14bdf07",
   "metadata": {},
   "source": [
    "### If i have a validation how to train the data"
   ]
  },
  {
   "cell_type": "code",
   "execution_count": null,
   "id": "ad0cb470-db0f-4138-baa0-eccfc160eed8",
   "metadata": {},
   "outputs": [],
   "source": [
    "x_train , x_fold , y_train , y_fold = train_test_split(X,y , test_size= 0.2 , random_state= 40)\n",
    "x_val , x_test , y_val , y_test = train_test_split(x_fold , y_fold ,test_size= 0.5 , random_state= 40 )\n",
    "\n",
    "rf_model = RandomForestRegressor(n_estimators=100, random_state=42)\n",
    "rf_model.fit(x_train, y_train)\n",
    "\n",
    "# Predict on the validation set\n",
    "y_val_pred = rf_model.predict(x_val)\n",
    "\n",
    "# Evaluate the model\n",
    "mae = mean_absolute_error(y_val, y_val_pred)\n",
    "mse = mean_squared_error(y_val, y_val_pred)\n",
    "rmse = np.sqrt(mse)\n",
    "r2 = r2_score(y_val, y_val_pred)\n",
    "\n",
    "# Print the evaluation metrics\n",
    "print(f'Mean Absolute Error (MAE): {mae}')\n",
    "print(f'Mean Squared Error (MSE): {mse}')\n",
    "print(f'Root Mean Squared Error (RMSE): {rmse}')\n",
    "print(f'R-squared (R²): {r2}')"
   ]
  },
  {
   "cell_type": "code",
   "execution_count": null,
   "id": "f072d9bf-ecaa-48c6-9dce-51ca7a14efc6",
   "metadata": {},
   "outputs": [],
   "source": [
    "train_accuracy = r2_score(y_train, y_train_pred)\n",
    "val_accuracy = r2_score(y_val, y_val_pred)\n",
    "\n",
    "print(f\"Training Accuracy: {train_accuracy}\")\n",
    "print(f\"Validation Accuracy: {val_accuracy}\")"
   ]
  },
  {
   "cell_type": "code",
   "execution_count": null,
   "id": "849658a6-90f2-4edf-94e8-52b16c613e8c",
   "metadata": {},
   "outputs": [],
   "source": [
    "df_train = pd.read_csv(\"train.csv\")\n",
    "df_test = pd.read_csv(\"test.csv\")\n",
    "\n",
    "\n",
    "df_train --> X_train , y_train\n",
    "df_test --> X_test , y_test\n"
   ]
  }
 ],
 "metadata": {
  "kernelspec": {
   "display_name": "Python 3 (ipykernel)",
   "language": "python",
   "name": "python3"
  },
  "language_info": {
   "codemirror_mode": {
    "name": "ipython",
    "version": 3
   },
   "file_extension": ".py",
   "mimetype": "text/x-python",
   "name": "python",
   "nbconvert_exporter": "python",
   "pygments_lexer": "ipython3",
   "version": "3.10.9"
  }
 },
 "nbformat": 4,
 "nbformat_minor": 5
}
