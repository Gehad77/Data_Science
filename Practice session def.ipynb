{
 "cells": [
  {
   "cell_type": "markdown",
   "id": "037c73ac-0d86-4d5a-ac97-b8163844f2c7",
   "metadata": {},
   "source": [
    "## Fanction "
   ]
  },
  {
   "cell_type": "markdown",
   "id": "9ddbbe12-2784-4faa-9799-8ba9e7fb71e4",
   "metadata": {},
   "source": [
    "- Write a function that takes two numbers as arguments and returns their sum."
   ]
  },
  {
   "cell_type": "code",
   "execution_count": 1,
   "id": "b5f02f35-d93d-486a-bb63-6665f9e24610",
   "metadata": {},
   "outputs": [],
   "source": [
    "def add_numbers(a, b):\n",
    "    return a + b\n"
   ]
  },
  {
   "cell_type": "code",
   "execution_count": 2,
   "id": "ad4df745-b2d7-455b-b065-5d9f0593a327",
   "metadata": {},
   "outputs": [
    {
     "data": {
      "text/plain": [
       "7"
      ]
     },
     "execution_count": 2,
     "metadata": {},
     "output_type": "execute_result"
    }
   ],
   "source": [
    "add_numbers(3,4)"
   ]
  },
  {
   "cell_type": "markdown",
   "id": "c6c90bb5-b251-407e-b13a-4c3a320f20ac",
   "metadata": {},
   "source": [
    "- Write a function that takes a list of numbers as an argument and returns the sum of those numbers."
   ]
  },
  {
   "cell_type": "code",
   "execution_count": 3,
   "id": "488c0bdd-48fe-4529-a4b1-b9a9e700f8ef",
   "metadata": {},
   "outputs": [],
   "source": [
    "def sum_numbers(numbers):\n",
    "    total = 0\n",
    "    for num in numbers:\n",
    "        total += num\n",
    "    return total\n"
   ]
  },
  {
   "cell_type": "code",
   "execution_count": 5,
   "id": "ee033f34-aa73-4fdd-a415-bdf5e527e797",
   "metadata": {},
   "outputs": [
    {
     "data": {
      "text/plain": [
       "10"
      ]
     },
     "execution_count": 5,
     "metadata": {},
     "output_type": "execute_result"
    }
   ],
   "source": [
    "lis = [1,2,3,4]\n",
    "sum_numbers(lis)"
   ]
  },
  {
   "cell_type": "markdown",
   "id": "5b13316d-6e99-40cc-8e20-c1cef178b500",
   "metadata": {},
   "source": [
    "- Write a function that takes a string as an argument and returns the length of that string."
   ]
  },
  {
   "cell_type": "code",
   "execution_count": 6,
   "id": "58f3a642-1052-47fb-9264-72437ffd6ccd",
   "metadata": {},
   "outputs": [],
   "source": [
    "def string_length(string):\n",
    "    return len(string)\n"
   ]
  },
  {
   "cell_type": "code",
   "execution_count": 7,
   "id": "ea90728f-3e2e-4548-b83e-e78e28ae2926",
   "metadata": {},
   "outputs": [
    {
     "data": {
      "text/plain": [
       "2"
      ]
     },
     "execution_count": 7,
     "metadata": {},
     "output_type": "execute_result"
    }
   ],
   "source": [
    "string_length(\"hi\")"
   ]
  },
  {
   "cell_type": "markdown",
   "id": "4f940a21-5052-4cf3-85ed-ec3f0b757f55",
   "metadata": {},
   "source": [
    "- Write a function that takes a list of strings as an argument and returns the length of the longest string in the list."
   ]
  },
  {
   "cell_type": "code",
   "execution_count": 8,
   "id": "220103e4-1d86-433f-b203-dc39dbc7bc83",
   "metadata": {},
   "outputs": [],
   "source": [
    "def longest_string_length(strings):\n",
    "    max_length = 0\n",
    "    for string in strings:\n",
    "        length = len(string)\n",
    "        if length > max_length:\n",
    "            max_length = length\n",
    "    return max_length\n"
   ]
  },
  {
   "cell_type": "code",
   "execution_count": 9,
   "id": "c976491a-04cc-45f2-ab97-1a58d1ea65d6",
   "metadata": {},
   "outputs": [
    {
     "data": {
      "text/plain": [
       "4"
      ]
     },
     "execution_count": 9,
     "metadata": {},
     "output_type": "execute_result"
    }
   ],
   "source": [
    "lis_str = [\"hi\",\"mi\",\"lolo\"]\n",
    "longest_string_length(lis_str)"
   ]
  },
  {
   "cell_type": "markdown",
   "id": "c32bc5e5-da6a-4fc1-b634-84f58974b6a8",
   "metadata": {},
   "source": [
    "- Write a function that takes a list of numbers as an argument and returns the average of those numbers."
   ]
  },
  {
   "cell_type": "code",
   "execution_count": 10,
   "id": "cbaaf938-f953-42a9-a3f1-7c8f35f2306b",
   "metadata": {},
   "outputs": [],
   "source": [
    "def average(numbers):\n",
    "    total = sum(numbers)\n",
    "    return total / len(numbers)\n"
   ]
  },
  {
   "cell_type": "code",
   "execution_count": 11,
   "id": "611d772f-bc52-45b9-8da8-24d35ebc7656",
   "metadata": {},
   "outputs": [
    {
     "data": {
      "text/plain": [
       "3.0"
      ]
     },
     "execution_count": 11,
     "metadata": {},
     "output_type": "execute_result"
    }
   ],
   "source": [
    "lis_ave = [1,2,3,4,5]\n",
    "average(lis_ave)"
   ]
  },
  {
   "cell_type": "markdown",
   "id": "c389e500-46ee-40f6-9c57-17a0649edc63",
   "metadata": {},
   "source": [
    "- Write a function that takes a string as an argument and returns True if the string is a palindrome (reads the same forwards and backwards) and False otherwise."
   ]
  },
  {
   "cell_type": "code",
   "execution_count": 12,
   "id": "05b796d6-070f-4d22-86a1-ec42d8f218c3",
   "metadata": {},
   "outputs": [],
   "source": [
    "def is_palindrome(string):\n",
    "    return string == string[::-1]\n"
   ]
  },
  {
   "cell_type": "code",
   "execution_count": 13,
   "id": "deaf243e-02d2-4e68-8ee9-a941a73d455a",
   "metadata": {},
   "outputs": [
    {
     "data": {
      "text/plain": [
       "False"
      ]
     },
     "execution_count": 13,
     "metadata": {},
     "output_type": "execute_result"
    }
   ],
   "source": [
    "is_palindrome(\"koko\")"
   ]
  },
  {
   "cell_type": "markdown",
   "id": "6572eb4a-7322-4def-b606-896135c22124",
   "metadata": {},
   "source": [
    "- Write a function that takes a list of numbers as an argument and returns a new list containing only the even numbers from the original list."
   ]
  },
  {
   "cell_type": "code",
   "execution_count": 14,
   "id": "7c094d8b-08bc-4be2-8ae9-f3fabe7b5d46",
   "metadata": {},
   "outputs": [],
   "source": [
    "def even_numbers(numbers):\n",
    "    return [num for num in numbers if num % 2 == 0]\n"
   ]
  },
  {
   "cell_type": "code",
   "execution_count": 15,
   "id": "14038ca3-d3a7-46c9-830e-edb9eefea68a",
   "metadata": {},
   "outputs": [
    {
     "data": {
      "text/plain": [
       "[2, 4]"
      ]
     },
     "execution_count": 15,
     "metadata": {},
     "output_type": "execute_result"
    }
   ],
   "source": [
    "lis_even = [1,2,3,4]\n",
    "even_numbers(lis_even)"
   ]
  },
  {
   "cell_type": "markdown",
   "id": "2b695b53-fd18-4875-b649-4382c0a43d4e",
   "metadata": {},
   "source": [
    "- Write a function that takes a list of strings as an argument and returns a new list containing only the strings that start with a capital letter."
   ]
  },
  {
   "cell_type": "code",
   "execution_count": null,
   "id": "bbfa14cd-61ba-4b6c-b8b4-3f3b968cebd6",
   "metadata": {},
   "outputs": [],
   "source": [
    "def capitalized_strings(strings):\n",
    "    return [string for string in strings if string[0].isupper()]\n"
   ]
  },
  {
   "cell_type": "markdown",
   "id": "dd9258f2-ef1d-41b6-95b8-033d37a4df81",
   "metadata": {},
   "source": [
    "- Write a function that takes a string as an argument and returns a new string with all the vowels removed."
   ]
  },
  {
   "cell_type": "code",
   "execution_count": null,
   "id": "864d4e52-df0d-4579-9074-01bc4d0a2177",
   "metadata": {},
   "outputs": [],
   "source": [
    "def remove_vowels(string):\n",
    "    vowels = 'aeiouAEIOU'\n",
    "    return ''.join([char for char in string if char not in vowels])\n"
   ]
  },
  {
   "cell_type": "markdown",
   "id": "1ba77608-13ac-4dd4-9aa3-322cc099e485",
   "metadata": {},
   "source": [
    "- Write a function that takes a list of numbers as an argument and returns a new list containing the squares of those numbers."
   ]
  },
  {
   "cell_type": "code",
   "execution_count": null,
   "id": "887aae36-fe4a-4e46-9b84-1b4cc48641f8",
   "metadata": {},
   "outputs": [],
   "source": [
    "def squares(numbers):\n",
    "    return [num ** 2 for num in numbers]\n"
   ]
  }
 ],
 "metadata": {
  "kernelspec": {
   "display_name": "Python 3 (ipykernel)",
   "language": "python",
   "name": "python3"
  },
  "language_info": {
   "codemirror_mode": {
    "name": "ipython",
    "version": 3
   },
   "file_extension": ".py",
   "mimetype": "text/x-python",
   "name": "python",
   "nbconvert_exporter": "python",
   "pygments_lexer": "ipython3",
   "version": "3.9.7"
  }
 },
 "nbformat": 4,
 "nbformat_minor": 5
}
