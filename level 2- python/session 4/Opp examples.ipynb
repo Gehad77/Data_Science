{
 "cells": [
  {
   "cell_type": "markdown",
   "id": "4da9d438-d732-4037-b46e-58a566863893",
   "metadata": {},
   "source": [
    "### object-oriented programming (OOP)"
   ]
  },
  {
   "cell_type": "code",
   "execution_count": 1,
   "id": "571fc289-f23a-45ce-8728-1aa39c6ae434",
   "metadata": {},
   "outputs": [
    {
     "name": "stdout",
     "output_type": "stream",
     "text": [
      "I am Buddy, the Golden Retriever.\n",
      "I am Max, the Labrador.\n",
      "Woof!\n",
      "Woof!\n"
     ]
    }
   ],
   "source": [
    "class Dog:\n",
    "    def __init__(self, name, breed):\n",
    "        self.name = name\n",
    "        self.breed = breed\n",
    "\n",
    "    def bark(self):\n",
    "        return \"Woof!\"\n",
    "\n",
    "    def describe(self):\n",
    "        return f\"I am {self.name}, the {self.breed}.\"\n",
    "\n",
    "# Creating instances of the Dog class\n",
    "dog1 = Dog(\"Buddy\", \"Golden Retriever\")\n",
    "dog2 = Dog(\"Max\", \"Labrador\")\n",
    "\n",
    "# Accessing attributes and methods of the instances\n",
    "print(dog1.describe())  # Output: I am Buddy, the Golden Retriever.\n",
    "print(dog2.describe())  # Output: I am Max, the Labrador.\n",
    "print(dog1.bark())      # Output: Woof!\n",
    "print(dog2.bark())      # Output: Woof!\n"
   ]
  },
  {
   "cell_type": "markdown",
   "id": "88e2a921-8347-4ea7-9934-27b5e3c2c77b",
   "metadata": {},
   "source": [
    "### Instance Methods vs Class Methods vs Static Methods examples "
   ]
  },
  {
   "cell_type": "code",
   "execution_count": 2,
   "id": "424a4b1f-9728-4a05-96cc-bebc98036b1b",
   "metadata": {},
   "outputs": [
    {
     "name": "stdout",
     "output_type": "stream",
     "text": [
      "I am an instance method. My instance variable is 10\n",
      "I am a class method. I can access class variable: I am a class variable.\n",
      "I am a static method. I don't have access to instance or class variables.\n"
     ]
    }
   ],
   "source": [
    "class MyClass:\n",
    "    class_variable = \"I am a class variable.\"\n",
    "\n",
    "    def __init__(self, value):\n",
    "        self.instance_variable = value\n",
    "\n",
    "    # Instance Method\n",
    "    def instance_method(self):\n",
    "        return f\"I am an instance method. My instance variable is {self.instance_variable}\"\n",
    "\n",
    "    # Class Method\n",
    "    @classmethod\n",
    "    def class_method(cls):\n",
    "        return f\"I am a class method. I can access class variable: {cls.class_variable}\"\n",
    "\n",
    "    # Static Method\n",
    "    @staticmethod\n",
    "    def static_method():\n",
    "        return \"I am a static method. I don't have access to instance or class variables.\"\n",
    "\n",
    "# Creating an instance of MyClass\n",
    "obj = MyClass(10)\n",
    "\n",
    "# Calling instance method\n",
    "print(obj.instance_method())  # Output: I am an instance method. My instance variable is 10\n",
    "\n",
    "# Calling class method\n",
    "print(MyClass.class_method())  # Output: I am a class method. I can access class variable: I am a class variable.\n",
    "\n",
    "# Calling static method\n",
    "print(MyClass.static_method())  # Output: I am a static method. I don't have access to instance or class variables.\n"
   ]
  },
  {
   "cell_type": "markdown",
   "id": "0866a969-46aa-4910-b6ef-65e0063b12ab",
   "metadata": {},
   "source": [
    "Types Of Inheritance :\n",
    "\n",
    "* Single Inheritance\n",
    "* Multiple Inheritance\n",
    "* Multilevel Inheritance\n",
    "* Hierarchical Inheritance"
   ]
  },
  {
   "cell_type": "markdown",
   "id": "eb2ee4c3-1ba7-4d92-aee3-8100adad2398",
   "metadata": {},
   "source": [
    "* Single Inheritance"
   ]
  },
  {
   "cell_type": "code",
   "execution_count": 5,
   "id": "5690b546-7c2b-4291-aa81-6f7d4141b712",
   "metadata": {
    "jp-MarkdownHeadingCollapsed": true,
    "tags": []
   },
   "outputs": [
    {
     "name": "stdout",
     "output_type": "stream",
     "text": [
      "Woof!\n"
     ]
    }
   ],
   "source": [
    "class Animal:\n",
    "    def speak(self):\n",
    "        return \"I am an animal.\"\n",
    "\n",
    "class Dog(Animal):\n",
    "    def speak(self):\n",
    "        return \"Woof!\"\n",
    "\n",
    "# Creating an instance of Dog\n",
    "dog = Dog()\n",
    "\n",
    "# Calling the speak method on the Dog instance\n",
    "print(dog.speak())  # Output: Woof!\n"
   ]
  },
  {
   "cell_type": "markdown",
   "id": "f1c6b50d-ed79-42b7-8081-6b950e018dff",
   "metadata": {},
   "source": [
    "* Multiple Inheritance"
   ]
  },
  {
   "cell_type": "code",
   "execution_count": 6,
   "id": "1102c201-09d8-4e7c-a5f1-278cf2d57f5a",
   "metadata": {},
   "outputs": [
    {
     "name": "stdout",
     "output_type": "stream",
     "text": [
      "I am an animal.\n",
      "Woof!\n"
     ]
    }
   ],
   "source": [
    "class Animal:\n",
    "    def speak(self):\n",
    "        return \"I am an animal.\"\n",
    "\n",
    "class Canine:\n",
    "    def bark(self):\n",
    "        return \"Woof!\"\n",
    "\n",
    "class Dog(Animal, Canine):\n",
    "    pass\n",
    "\n",
    "# Creating an instance of Dog\n",
    "dog = Dog()\n",
    "print(dog.speak())  # Output: I am an animal.\n",
    "print(dog.bark())   # Output: Woof!\n"
   ]
  },
  {
   "cell_type": "markdown",
   "id": "0c5ec3f6-f619-46c1-b42a-b0a9bba558de",
   "metadata": {},
   "source": [
    "* Multilevel Inheritance"
   ]
  },
  {
   "cell_type": "code",
   "execution_count": 7,
   "id": "0643f267-c27e-4add-abd5-38abe1436b3d",
   "metadata": {},
   "outputs": [
    {
     "name": "stdout",
     "output_type": "stream",
     "text": [
      "I am an animal.\n",
      "Woof!\n"
     ]
    }
   ],
   "source": [
    "class Animal:\n",
    "    def speak(self):\n",
    "        return \"I am an animal.\"\n",
    "\n",
    "class Dog(Animal):\n",
    "    def bark(self):\n",
    "        return \"Woof!\"\n",
    "\n",
    "class Puppy(Dog):\n",
    "    pass\n",
    "\n",
    "# Creating an instance of Puppy\n",
    "puppy = Puppy()\n",
    "print(puppy.speak())  # Output: I am an animal.\n",
    "print(puppy.bark())   # Output: Woof!\n"
   ]
  },
  {
   "cell_type": "markdown",
   "id": "7a54c910-d218-43b7-a618-c2c875333edc",
   "metadata": {},
   "source": [
    "* Hierarchical Inheritance"
   ]
  },
  {
   "cell_type": "code",
   "execution_count": 8,
   "id": "cac08dd8-6148-41e2-aec2-7e5c642749d5",
   "metadata": {},
   "outputs": [
    {
     "name": "stdout",
     "output_type": "stream",
     "text": [
      "I am an animal.\n",
      "I am an animal.\n",
      "Woof!\n",
      "Meow!\n"
     ]
    }
   ],
   "source": [
    "class Animal:\n",
    "    def speak(self):\n",
    "        return \"I am an animal.\"\n",
    "\n",
    "class Dog(Animal):\n",
    "    def bark(self):\n",
    "        return \"Woof!\"\n",
    "\n",
    "class Cat(Animal):\n",
    "    def meow(self):\n",
    "        return \"Meow!\"\n",
    "\n",
    "# Creating instances of Dog and Cat\n",
    "dog = Dog()\n",
    "cat = Cat()\n",
    "\n",
    "print(dog.speak())  # Output: I am an animal.\n",
    "print(cat.speak())  # Output: I am an animal.\n",
    "print(dog.bark())   # Output: Woof!\n",
    "print(cat.meow())   # Output: Meow!\n"
   ]
  },
  {
   "cell_type": "markdown",
   "id": "d24c03da-25dd-48a9-ac6b-232fbe1d4090",
   "metadata": {},
   "source": [
    "### Encapsulation"
   ]
  },
  {
   "cell_type": "markdown",
   "id": "4188e40d-6f42-42f2-83af-2da18f50521e",
   "metadata": {},
   "source": [
    "* Encapsulation is the concept of bundling the data (attributes) and methods (functions) that operate on the data into a single unit or class. This helps in controlling access to the data, preventing accidental modification, and enforcing data integrity. In Python, encapsulation is achieved through access modifiers like public, private, and protected. Here's an example demonstrating encapsulation:"
   ]
  },
  {
   "cell_type": "code",
   "execution_count": 9,
   "id": "897f066a-cc1d-4ead-8de5-17050d77ce43",
   "metadata": {},
   "outputs": [
    {
     "name": "stdout",
     "output_type": "stream",
     "text": [
      "1000\n",
      "500\n",
      "Deposit of 2000 successful. New balance: 2500\n",
      "Withdrawal of 1000 successful. New balance: 1500\n",
      "1500\n"
     ]
    }
   ],
   "source": [
    "class BankAccount:\n",
    "    def __init__(self, account_number, balance):\n",
    "        self._account_number = account_number  # Protected attribute\n",
    "        self._balance = balance                # Protected attribute\n",
    "\n",
    "    def deposit(self, amount):\n",
    "        if amount > 0:\n",
    "            self._balance += amount\n",
    "            print(f\"Deposit of {amount} successful. New balance: {self._balance}\")\n",
    "        else:\n",
    "            print(\"Invalid deposit amount.\")\n",
    "\n",
    "    def withdraw(self, amount):\n",
    "        if amount > 0 and amount <= self._balance:\n",
    "            self._balance -= amount\n",
    "            print(f\"Withdrawal of {amount} successful. New balance: {self._balance}\")\n",
    "        else:\n",
    "            print(\"Invalid withdrawal amount or insufficient balance.\")\n",
    "\n",
    "    def get_balance(self):\n",
    "        return self._balance\n",
    "\n",
    "# Creating an instance of BankAccount\n",
    "account = BankAccount(\"123456789\", 1000)\n",
    "\n",
    "# Accessing and modifying balance directly (not recommended)\n",
    "print(account.get_balance())  # Output: 1000\n",
    "account._balance -= 500\n",
    "print(account.get_balance())  # Output: 500\n",
    "\n",
    "# Accessing and modifying balance through methods (encapsulation)\n",
    "account.deposit(2000)  # Output: Deposit of 2000 successful. New balance: 2500\n",
    "account.withdraw(1000) # Output: Withdrawal of 1000 successful. New balance: 1500\n",
    "print(account.get_balance())  # Output: 1500\n"
   ]
  },
  {
   "cell_type": "markdown",
   "id": "817082ad-cb8e-403a-b1e8-abaf829299c5",
   "metadata": {},
   "source": [
    "### Getter and Setter Method"
   ]
  },
  {
   "cell_type": "code",
   "execution_count": 10,
   "id": "2c94dc14-434d-4f01-bca7-878f178caa79",
   "metadata": {},
   "outputs": [
    {
     "name": "stdout",
     "output_type": "stream",
     "text": [
      "John\n",
      "30\n",
      "Alice\n",
      "25\n",
      "Invalid age. Age must be a non-negative number.\n",
      "25\n"
     ]
    }
   ],
   "source": [
    "class Person:\n",
    "    def __init__(self, name, age):\n",
    "        self._name = name\n",
    "        self._age = age\n",
    "\n",
    "    # Getter method for name\n",
    "    def get_name(self):\n",
    "        return self._name\n",
    "\n",
    "    # Setter method for name\n",
    "    def set_name(self, name):\n",
    "        self._name = name\n",
    "\n",
    "    # Getter method for age\n",
    "    def get_age(self):\n",
    "        return self._age\n",
    "\n",
    "    # Setter method for age\n",
    "    def set_age(self, age):\n",
    "        if age >= 0:  # Adding a simple validation\n",
    "            self._age = age\n",
    "        else:\n",
    "            print(\"Invalid age. Age must be a non-negative number.\")\n",
    "\n",
    "# Creating an instance of Person\n",
    "person = Person(\"John\", 30)\n",
    "\n",
    "# Accessing attributes using getter methods\n",
    "print(person.get_name())  # Output: John\n",
    "print(person.get_age())   # Output: 30\n",
    "\n",
    "# Modifying attributes using setter methods\n",
    "person.set_name(\"Alice\")\n",
    "person.set_age(25)\n",
    "\n",
    "print(person.get_name())  # Output: Alice\n",
    "print(person.get_age())   # Output: 25\n",
    "\n",
    "# Trying to set an invalid age\n",
    "person.set_age(-5)        # Output: Invalid age. Age must be a non-negative number.\n",
    "print(person.get_age())   # Output: 25 (Age remains unchanged)\n"
   ]
  },
  {
   "cell_type": "markdown",
   "id": "4407da46-1203-4854-b2b9-bd18bc46692e",
   "metadata": {},
   "source": [
    "### Abstraction"
   ]
  },
  {
   "cell_type": "code",
   "execution_count": 11,
   "id": "68caa520-cf30-41f0-a9c2-4e425954614a",
   "metadata": {},
   "outputs": [
    {
     "name": "stdout",
     "output_type": "stream",
     "text": [
      "Circle Area: 78.5\n",
      "Circle Perimeter: 31.400000000000002\n",
      "Square Area: 16\n",
      "Square Perimeter: 16\n"
     ]
    }
   ],
   "source": [
    "from abc import ABC, abstractmethod\n",
    "\n",
    "# Abstract class representing a Shape\n",
    "class Shape(ABC):\n",
    "    @abstractmethod\n",
    "    def area(self):\n",
    "        pass\n",
    "\n",
    "    @abstractmethod\n",
    "    def perimeter(self):\n",
    "        pass\n",
    "\n",
    "# Concrete subclass representing a Circle\n",
    "class Circle(Shape):\n",
    "    def __init__(self, radius):\n",
    "        self.radius = radius\n",
    "\n",
    "    def area(self):\n",
    "        return 3.14 * self.radius**2\n",
    "\n",
    "    def perimeter(self):\n",
    "        return 2 * 3.14 * self.radius\n",
    "\n",
    "# Concrete subclass representing a Square\n",
    "class Square(Shape):\n",
    "    def __init__(self, side):\n",
    "        self.side = side\n",
    "\n",
    "    def area(self):\n",
    "        return self.side**2\n",
    "\n",
    "    def perimeter(self):\n",
    "        return 4 * self.side\n",
    "\n",
    "# Creating instances of Circle and Square\n",
    "circle = Circle(5)\n",
    "square = Square(4)\n",
    "\n",
    "# Accessing area and perimeter without worrying about implementation details\n",
    "print(\"Circle Area:\", circle.area())       # Output: Circle Area: 78.5\n",
    "print(\"Circle Perimeter:\", circle.perimeter()) # Output: Circle Perimeter: 31.400000000000002\n",
    "print(\"Square Area:\", square.area())       # Output: Square Area: 16\n",
    "print(\"Square Perimeter:\", square.perimeter()) # Output: Square Perimeter: 16\n"
   ]
  },
  {
   "cell_type": "markdown",
   "id": "90c60119-7c27-412e-ba07-41401ea22e6e",
   "metadata": {},
   "source": [
    "### Polymorphism"
   ]
  },
  {
   "cell_type": "markdown",
   "id": "0a078cab-ce7b-41bd-9ec2-511289a7495f",
   "metadata": {},
   "source": [
    "* Polymorphism is the ability of different objects to respond to the same message or method in different ways. It allows objects of different classes to be treated as objects of a common superclass. Polymorphism is typically achieved through method overriding or method overloading. Here's an example demonstrating polymorphism using method overriding:"
   ]
  },
  {
   "cell_type": "code",
   "execution_count": 12,
   "id": "a8119932-b173-4676-8a46-77517a009323",
   "metadata": {},
   "outputs": [
    {
     "name": "stdout",
     "output_type": "stream",
     "text": [
      "Woof!\n",
      "Meow!\n"
     ]
    }
   ],
   "source": [
    "class Animal:\n",
    "    def speak(self):\n",
    "        pass\n",
    "\n",
    "class Dog(Animal):\n",
    "    def speak(self):\n",
    "        return \"Woof!\"\n",
    "\n",
    "class Cat(Animal):\n",
    "    def speak(self):\n",
    "        return \"Meow!\"\n",
    "\n",
    "# Function that interacts with Animal objects\n",
    "def make_sound(animal):\n",
    "    return animal.speak()\n",
    "\n",
    "# Creating instances of Dog and Cat\n",
    "dog = Dog()\n",
    "cat = Cat()\n",
    "\n",
    "# Calling make_sound function with Dog and Cat objects\n",
    "print(make_sound(dog))  # Output: Woof!\n",
    "print(make_sound(cat))  # Output: Meow!\n"
   ]
  },
  {
   "cell_type": "markdown",
   "id": "573f14bb-2746-4af0-8b9c-b2e266d48a41",
   "metadata": {},
   "source": [
    "### Overloading and Overriding"
   ]
  },
  {
   "cell_type": "markdown",
   "id": "d09c3a42-535a-4a3b-b2ac-92895b6c4827",
   "metadata": {},
   "source": [
    "* Method Overloading Example:"
   ]
  },
  {
   "cell_type": "code",
   "execution_count": 13,
   "id": "5d5d1399-d51f-43c1-b130-6a4f3cae8710",
   "metadata": {},
   "outputs": [
    {
     "name": "stdout",
     "output_type": "stream",
     "text": [
      "3\n",
      "6\n",
      "15\n"
     ]
    }
   ],
   "source": [
    "class Calculator:\n",
    "    def add(self, *args):\n",
    "        result = 0\n",
    "        for num in args:\n",
    "            result += num\n",
    "        return result\n",
    "\n",
    "# Creating an instance of Calculator\n",
    "calc = Calculator()\n",
    "\n",
    "# Calling the add method with different numbers of arguments\n",
    "print(calc.add(1, 2))          # Output: 3\n",
    "print(calc.add(1, 2, 3))       # Output: 6\n",
    "print(calc.add(1, 2, 3, 4, 5)) # Output: 15\n"
   ]
  },
  {
   "cell_type": "markdown",
   "id": "73731f76-2e77-46fb-874d-0f15bdc7dc90",
   "metadata": {},
   "source": [
    "* Method Overriding Example:"
   ]
  },
  {
   "cell_type": "code",
   "execution_count": 14,
   "id": "ab1fee38-303c-47f8-9ec9-f023b0b5cd11",
   "metadata": {},
   "outputs": [
    {
     "name": "stdout",
     "output_type": "stream",
     "text": [
      "I am an animal.\n",
      "Woof!\n"
     ]
    }
   ],
   "source": [
    "class Animal:\n",
    "    def speak(self):\n",
    "        return \"I am an animal.\"\n",
    "\n",
    "class Dog(Animal):\n",
    "    def speak(self):\n",
    "        return \"Woof!\"\n",
    "\n",
    "# Creating instances of Animal and Dog\n",
    "animal = Animal()\n",
    "dog = Dog()\n",
    "\n",
    "# Calling the speak method on both instances\n",
    "print(animal.speak()) # Output: I am an animal.\n",
    "print(dog.speak())    # Output: Woof!\n"
   ]
  },
  {
   "cell_type": "code",
   "execution_count": null,
   "id": "f174baea-48c4-403a-b18e-29f9c7811df0",
   "metadata": {},
   "outputs": [],
   "source": []
  },
  {
   "cell_type": "code",
   "execution_count": null,
   "id": "777aec7f-ce73-477a-b143-bed332faefd7",
   "metadata": {},
   "outputs": [],
   "source": []
  }
 ],
 "metadata": {
  "kernelspec": {
   "display_name": "Python 3 (ipykernel)",
   "language": "python",
   "name": "python3"
  },
  "language_info": {
   "codemirror_mode": {
    "name": "ipython",
    "version": 3
   },
   "file_extension": ".py",
   "mimetype": "text/x-python",
   "name": "python",
   "nbconvert_exporter": "python",
   "pygments_lexer": "ipython3",
   "version": "3.10.9"
  }
 },
 "nbformat": 4,
 "nbformat_minor": 5
}
