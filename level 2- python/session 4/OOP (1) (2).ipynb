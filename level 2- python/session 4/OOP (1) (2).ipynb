{
 "cells": [
  {
   "cell_type": "code",
   "execution_count": 21,
   "id": "44ad4c1f-462b-4223-bed3-5ab2014651e1",
   "metadata": {},
   "outputs": [],
   "source": [
    "class person:\n",
    "    def __init__(self):\n",
    "        pass"
   ]
  },
  {
   "cell_type": "code",
   "execution_count": 22,
   "id": "3cce6e9c-c1fd-4704-81d0-d2c91de41be8",
   "metadata": {},
   "outputs": [],
   "source": [
    "c=person()"
   ]
  },
  {
   "cell_type": "code",
   "execution_count": 23,
   "id": "1dd7e3fa-4927-49b3-9c06-0e06263e68c3",
   "metadata": {},
   "outputs": [
    {
     "name": "stdout",
     "output_type": "stream",
     "text": [
      "<__main__.person object at 0x0000016843C20160>\n"
     ]
    }
   ],
   "source": [
    "print(c)"
   ]
  },
  {
   "cell_type": "code",
   "execution_count": 51,
   "id": "414d0898-3ee7-4067-a33c-ce046bcc1021",
   "metadata": {},
   "outputs": [],
   "source": [
    "class person:\n",
    "    def __init__(self,name,age):\n",
    "        self.name=name\n",
    "        self.age=age"
   ]
  },
  {
   "cell_type": "code",
   "execution_count": 47,
   "id": "f1ab701b-8151-49cc-b4a6-3d12e10c8a5b",
   "metadata": {},
   "outputs": [],
   "source": [
    "x = person(\"loly\",9)"
   ]
  },
  {
   "cell_type": "code",
   "execution_count": 48,
   "id": "5f2108b5-64ac-4a23-84ca-5d181ccad5df",
   "metadata": {},
   "outputs": [
    {
     "name": "stdout",
     "output_type": "stream",
     "text": [
      "<__main__.person object at 0x0000016843D02730>\n"
     ]
    }
   ],
   "source": [
    "print(x)"
   ]
  },
  {
   "cell_type": "code",
   "execution_count": 50,
   "id": "5d8d5b2b-5bae-4d2f-b831-d6795bf0f5fc",
   "metadata": {},
   "outputs": [
    {
     "name": "stdout",
     "output_type": "stream",
     "text": [
      "loly\n",
      "9\n"
     ]
    }
   ],
   "source": [
    "print(x.name)\n",
    "print(x.age)"
   ]
  },
  {
   "cell_type": "code",
   "execution_count": 33,
   "id": "4c7ad101-43da-494e-98a9-2e80920e7256",
   "metadata": {},
   "outputs": [],
   "source": [
    "class person:\n",
    "    num_per=0\n",
    "    def __init__(self,name,age):\n",
    "        person.num_per+=1 \n",
    "        self.name=name\n",
    "        self.age=age"
   ]
  },
  {
   "cell_type": "code",
   "execution_count": 34,
   "id": "34417d1c-d065-4b5c-bf1d-0b115bb29c00",
   "metadata": {},
   "outputs": [],
   "source": [
    "person_1 = person(\"hassan\",10)"
   ]
  },
  {
   "cell_type": "code",
   "execution_count": 35,
   "id": "29c746a6-0234-47e8-abbb-a766057960f5",
   "metadata": {},
   "outputs": [
    {
     "name": "stdout",
     "output_type": "stream",
     "text": [
      "1\n"
     ]
    }
   ],
   "source": [
    "print(person.num_per)"
   ]
  },
  {
   "cell_type": "code",
   "execution_count": 36,
   "id": "8b876c01-da39-42a0-8a97-f148f27f92b0",
   "metadata": {},
   "outputs": [],
   "source": [
    "person_2 = person(\"mohame\",10)"
   ]
  },
  {
   "cell_type": "code",
   "execution_count": 37,
   "id": "a63c7936-7dc1-4fab-bdb8-237b0d5f7a03",
   "metadata": {},
   "outputs": [
    {
     "name": "stdout",
     "output_type": "stream",
     "text": [
      "2\n"
     ]
    }
   ],
   "source": [
    "print(person.num_per)"
   ]
  },
  {
   "cell_type": "code",
   "execution_count": 38,
   "id": "d31b5244-a0db-40bc-85c0-054adfb5e6ff",
   "metadata": {},
   "outputs": [],
   "source": [
    "person_3 = person(\"hhhh\",10)"
   ]
  },
  {
   "cell_type": "code",
   "execution_count": 39,
   "id": "1ab7b5d7-4891-45dc-b8f0-f21ffaf69656",
   "metadata": {},
   "outputs": [
    {
     "name": "stdout",
     "output_type": "stream",
     "text": [
      "3\n"
     ]
    }
   ],
   "source": [
    "print(person.num_per)"
   ]
  },
  {
   "cell_type": "code",
   "execution_count": null,
   "id": "305ef2ce-2147-41e4-848d-7e80f2abba43",
   "metadata": {},
   "outputs": [],
   "source": []
  },
  {
   "cell_type": "code",
   "execution_count": 43,
   "id": "96e657b7-dbd3-43f2-83d5-b2831678b026",
   "metadata": {},
   "outputs": [],
   "source": [
    "class person:\n",
    "    num_per=0\n",
    "    def __init__(self,name,age):\n",
    "        person.num_per+=1 \n",
    "        self.name=name\n",
    "        self.age=age\n",
    "    \n",
    "    def brak (self):\n",
    "        print(\"brak loly --> you\")\n",
    "        \n",
    "    def info (self):\n",
    "        print(\"this name is \",self.name,\"and age is\",self.age)"
   ]
  },
  {
   "cell_type": "code",
   "execution_count": 41,
   "id": "1df1f921-56b0-4be0-a13e-f47d9bc6eeba",
   "metadata": {},
   "outputs": [],
   "source": [
    "person_1=person(\"lyly\",67)"
   ]
  },
  {
   "cell_type": "code",
   "execution_count": 42,
   "id": "1e384a2b-bf77-403e-96c3-d1e34de47234",
   "metadata": {},
   "outputs": [
    {
     "name": "stdout",
     "output_type": "stream",
     "text": [
      "brak loly --> you\n"
     ]
    }
   ],
   "source": [
    "person_1.brak()"
   ]
  },
  {
   "cell_type": "code",
   "execution_count": 44,
   "id": "0a9d670b-1a72-4769-a1a7-dd90f3477fda",
   "metadata": {},
   "outputs": [],
   "source": [
    "per_2 =person(\"go\" , 90)"
   ]
  },
  {
   "cell_type": "code",
   "execution_count": 45,
   "id": "9ea01b8a-c778-4f18-a2c4-2eec4e61710f",
   "metadata": {},
   "outputs": [
    {
     "name": "stdout",
     "output_type": "stream",
     "text": [
      "this name is  go and age is 90\n"
     ]
    }
   ],
   "source": [
    "per_2.info()"
   ]
  },
  {
   "cell_type": "code",
   "execution_count": null,
   "id": "a48fd973-7c3b-433f-919d-e55a3854e4d8",
   "metadata": {},
   "outputs": [],
   "source": []
  },
  {
   "cell_type": "code",
   "execution_count": 13,
   "id": "5aef3567-ed4e-4cac-a9a6-9b15b8255cdb",
   "metadata": {},
   "outputs": [],
   "source": [
    "class student:\n",
    "    # global value \n",
    "    count_std = 0\n",
    "    \n",
    "    def __init__ (self,name,age,cla):\n",
    "        self.name =name\n",
    "        self.age =age\n",
    "        self.cla=cla\n",
    "        \n",
    "        student.count_std +=1\n",
    "        \n",
    "        \n",
    "        # instance method\n",
    "    def info(self):\n",
    "        print(\"std name\",self.name,\"age \",self.age,\"class\",self.cla)\n",
    "        \n",
    "\n",
    "       # Class method \n",
    "    \n",
    "    @classmethod\n",
    "    def no_of_std(cls):\n",
    "        print(cls.count_std)\n",
    "        \n",
    "    # Static method  \n",
    "    \n",
    "    @staticmethod\n",
    "    def count_no (list1):\n",
    "        for i in list1:\n",
    "            print(i)\n",
    "        \n"
   ]
  },
  {
   "cell_type": "code",
   "execution_count": 14,
   "id": "b1122fa5-2aeb-46d8-b300-135765f0d557",
   "metadata": {},
   "outputs": [],
   "source": [
    "st1 = student(\"loly\",7,9)\n",
    "st2 = student(\"mo\",8,1)\n",
    "st3 = student(\"no\",33,8)"
   ]
  },
  {
   "cell_type": "code",
   "execution_count": 15,
   "id": "f92faeb6-23c1-4d8b-b7ec-bea272314326",
   "metadata": {},
   "outputs": [
    {
     "name": "stdout",
     "output_type": "stream",
     "text": [
      "std name no age  33 class 8\n"
     ]
    }
   ],
   "source": [
    "st3.info()"
   ]
  },
  {
   "cell_type": "code",
   "execution_count": 16,
   "id": "7c6334bd-c453-4893-9247-d873d3ab11db",
   "metadata": {},
   "outputs": [
    {
     "name": "stdout",
     "output_type": "stream",
     "text": [
      "3\n"
     ]
    }
   ],
   "source": [
    "student.no_of_std()"
   ]
  },
  {
   "cell_type": "code",
   "execution_count": 6,
   "id": "4b07ba2f-4637-4e93-960c-365cb0f1116c",
   "metadata": {},
   "outputs": [
    {
     "name": "stdout",
     "output_type": "stream",
     "text": [
      "0\n",
      "1\n",
      "2\n",
      "3\n",
      "4\n",
      "5\n",
      "6\n",
      "7\n",
      "8\n",
      "9\n",
      "10\n",
      "11\n",
      "12\n",
      "13\n",
      "14\n",
      "15\n",
      "16\n",
      "17\n",
      "18\n",
      "19\n"
     ]
    }
   ],
   "source": [
    "student.count_no(range(0,20))"
   ]
  },
  {
   "cell_type": "code",
   "execution_count": null,
   "id": "93710981-0f05-4dda-839e-7aac34473268",
   "metadata": {},
   "outputs": [],
   "source": []
  },
  {
   "cell_type": "code",
   "execution_count": 20,
   "id": "6ed53976-3c1b-42bd-8028-4e8b77ea79b6",
   "metadata": {},
   "outputs": [],
   "source": [
    "class vehicle():\n",
    "    def __init__(self,color,speed):\n",
    "        self.color=color\n",
    "        self.speed = speed\n",
    "        \n",
    "        \n",
    "    def what_is_color(self):\n",
    "        print(\"Your color is \",self.color)\n",
    "        \n",
    "    def drive(self):\n",
    "        print(\"Your color is \"+ str (self.speed))"
   ]
  },
  {
   "cell_type": "code",
   "execution_count": 21,
   "id": "59ccfb75-4f5e-40dd-8410-e9bbb9e464a2",
   "metadata": {},
   "outputs": [],
   "source": [
    "hundai = vehicle(\"black\",150)"
   ]
  },
  {
   "cell_type": "code",
   "execution_count": 22,
   "id": "e2244581-2799-4217-a778-69fde08ff1d2",
   "metadata": {},
   "outputs": [
    {
     "name": "stdout",
     "output_type": "stream",
     "text": [
      "Your color is 150\n"
     ]
    }
   ],
   "source": [
    "hundai.drive()"
   ]
  },
  {
   "cell_type": "code",
   "execution_count": 23,
   "id": "497a5d3a-a712-473d-89f6-3c94a0a384b1",
   "metadata": {},
   "outputs": [
    {
     "name": "stdout",
     "output_type": "stream",
     "text": [
      "Your color is  black\n"
     ]
    }
   ],
   "source": [
    "hundai.what_is_color()"
   ]
  },
  {
   "cell_type": "code",
   "execution_count": 24,
   "id": "695e58be-389d-44ef-8505-741f00500c09",
   "metadata": {},
   "outputs": [
    {
     "data": {
      "text/plain": [
       "'black'"
      ]
     },
     "execution_count": 24,
     "metadata": {},
     "output_type": "execute_result"
    }
   ],
   "source": [
    "hundai.color"
   ]
  },
  {
   "cell_type": "code",
   "execution_count": 27,
   "id": "e73b6c6d-6355-431d-bf08-45bffabca55e",
   "metadata": {},
   "outputs": [],
   "source": [
    "class car(vehicle):\n",
    "    \n",
    "    def drive(self):\n",
    "        print(\"strat\",self.color)\n",
    "        \n",
    "class plane(vehicle):\n",
    "    \n",
    "    def drive(self):\n",
    "        print(\"i can fly\")\n",
    "    "
   ]
  },
  {
   "cell_type": "code",
   "execution_count": 28,
   "id": "050e1930-fc09-4431-96f2-1cd93d12f064",
   "metadata": {},
   "outputs": [],
   "source": [
    "mio = car(\"red\",90)"
   ]
  },
  {
   "cell_type": "code",
   "execution_count": 29,
   "id": "ee277c58-1454-4396-b4b6-0cb5999059be",
   "metadata": {},
   "outputs": [
    {
     "name": "stdout",
     "output_type": "stream",
     "text": [
      "strat red\n"
     ]
    }
   ],
   "source": [
    "mio.drive()"
   ]
  },
  {
   "cell_type": "code",
   "execution_count": 30,
   "id": "c15cb936-a5f3-4d3b-8964-0e301b9d2039",
   "metadata": {},
   "outputs": [],
   "source": [
    "pla = plane(\"yy \",70)"
   ]
  },
  {
   "cell_type": "code",
   "execution_count": 31,
   "id": "a3a80d60-c899-4f3e-8b1a-e90c98aa236c",
   "metadata": {},
   "outputs": [
    {
     "name": "stdout",
     "output_type": "stream",
     "text": [
      "i can fly\n"
     ]
    }
   ],
   "source": [
    "pla.drive()"
   ]
  },
  {
   "cell_type": "code",
   "execution_count": null,
   "id": "ebc5491a-8e6c-4684-be02-73614429cd7c",
   "metadata": {},
   "outputs": [],
   "source": []
  },
  {
   "cell_type": "markdown",
   "id": "bd468f99-5d7d-4114-97cc-f24d6dfcfd6f",
   "metadata": {},
   "source": [
    "# Encapsulation"
   ]
  },
  {
   "cell_type": "code",
   "execution_count": 1,
   "id": "1cb1dd7a-e138-46fc-b613-a4a1497ac2b0",
   "metadata": {},
   "outputs": [
    {
     "name": "stdout",
     "output_type": "stream",
     "text": [
      "5\n",
      "3\n"
     ]
    },
    {
     "ename": "AttributeError",
     "evalue": "'rectangle' object has no attribute '__length'",
     "output_type": "error",
     "traceback": [
      "\u001b[1;31m---------------------------------------------------------------------------\u001b[0m",
      "\u001b[1;31mAttributeError\u001b[0m                            Traceback (most recent call last)",
      "\u001b[1;32m~\\AppData\\Local\\Temp/ipykernel_21756/1789812763.py\u001b[0m in \u001b[0;36m<module>\u001b[1;34m\u001b[0m\n\u001b[0;32m     13\u001b[0m \u001b[0mrec\u001b[0m \u001b[1;33m=\u001b[0m \u001b[0mrectangle\u001b[0m\u001b[1;33m(\u001b[0m\u001b[1;33m)\u001b[0m\u001b[1;33m\u001b[0m\u001b[1;33m\u001b[0m\u001b[0m\n\u001b[0;32m     14\u001b[0m \u001b[1;33m\u001b[0m\u001b[0m\n\u001b[1;32m---> 15\u001b[1;33m \u001b[0mprint\u001b[0m\u001b[1;33m(\u001b[0m\u001b[0mrec\u001b[0m\u001b[1;33m.\u001b[0m\u001b[0m__length\u001b[0m\u001b[1;33m)\u001b[0m\u001b[1;33m\u001b[0m\u001b[1;33m\u001b[0m\u001b[0m\n\u001b[0m\u001b[0;32m     16\u001b[0m \u001b[0mprint\u001b[0m\u001b[1;33m(\u001b[0m\u001b[0mrec\u001b[0m\u001b[1;33m.\u001b[0m\u001b[0m__breadth\u001b[0m\u001b[1;33m)\u001b[0m\u001b[1;33m\u001b[0m\u001b[1;33m\u001b[0m\u001b[0m\n\u001b[0;32m     17\u001b[0m \u001b[1;33m\u001b[0m\u001b[0m\n",
      "\u001b[1;31mAttributeError\u001b[0m: 'rectangle' object has no attribute '__length'"
     ]
    }
   ],
   "source": [
    "class rectangle:\n",
    "    __length = 0\n",
    "    __breadth = 0\n",
    "    \n",
    "    def __init__(self):\n",
    "        \n",
    "        self.__length = 5\n",
    "        self.__breadth = 3\n",
    "        \n",
    "        print(self.__length)\n",
    "        print(self.__breadth)\n",
    "        \n",
    "rec = rectangle()\n",
    "\n",
    "print(rec.__length)\n",
    "print(rec.__breadth)\n",
    "    "
   ]
  },
  {
   "cell_type": "code",
   "execution_count": null,
   "id": "90430bc9-1c08-4f76-b965-c9c49641028b",
   "metadata": {},
   "outputs": [],
   "source": []
  },
  {
   "cell_type": "markdown",
   "id": "eb91e6d2-e2ae-4ed6-b4fc-d9154d9de43b",
   "metadata": {},
   "source": [
    "# Encapsulation (protected)"
   ]
  },
  {
   "cell_type": "code",
   "execution_count": 23,
   "id": "05f133e9-4a65-4366-8916-78f0f82b1c05",
   "metadata": {},
   "outputs": [
    {
     "name": "stdout",
     "output_type": "stream",
     "text": [
      "Calling protected member of base class:  2\n",
      "Calling modified protected member outside class:  3\n",
      "Accessing protected member of obj1:  3\n",
      "Accessing protected member of obj2:  2\n"
     ]
    }
   ],
   "source": [
    "# Python program to\n",
    "# demonstrate protected members\n",
    "\n",
    "# Creating a base class\n",
    "class Base:\n",
    "    def __init__(self):\n",
    "\n",
    "        # Protected member\n",
    "        self._a = 2\n",
    "\n",
    "# Creating a derived class\n",
    "class Derived(Base):\n",
    "    def __init__(self):\n",
    "\n",
    "        # Calling constructor of\n",
    "        # Base class\n",
    "        Base.__init__(self)\n",
    "        print(\"Calling protected member of base class: \",self._a)\n",
    "\n",
    "        # Modify the protected variable:\n",
    "        self._a = 3\n",
    "        print(\"Calling modified protected member outside class: \",self._a)\n",
    "\n",
    "\n",
    "obj1 = Derived()\n",
    "\n",
    "obj2 = Base()\n",
    "\n",
    "# Calling protected member\n",
    "# Can be accessed but should not be done due to convention\n",
    "print(\"Accessing protected member of obj1: \", obj1._a)\n",
    "\n",
    "# Accessing the protected variable outside\n",
    "print(\"Accessing protected member of obj2: \", obj2._a)\n"
   ]
  },
  {
   "cell_type": "code",
   "execution_count": null,
   "id": "fbcd0a79-6f60-4f58-bb47-47b853513b28",
   "metadata": {},
   "outputs": [],
   "source": []
  },
  {
   "cell_type": "code",
   "execution_count": 28,
   "id": "3edffed7-f4ad-4369-b4fb-ccf60f9e08d3",
   "metadata": {},
   "outputs": [
    {
     "ename": "AttributeError",
     "evalue": "'Base' object has no attribute 'c'",
     "output_type": "error",
     "traceback": [
      "\u001b[1;31m---------------------------------------------------------------------------\u001b[0m",
      "\u001b[1;31mAttributeError\u001b[0m                            Traceback (most recent call last)",
      "\u001b[1;32m~\\AppData\\Local\\Temp/ipykernel_21756/2536623126.py\u001b[0m in \u001b[0;36m<module>\u001b[1;34m\u001b[0m\n\u001b[0;32m     23\u001b[0m \u001b[1;31m# Driver code\u001b[0m\u001b[1;33m\u001b[0m\u001b[1;33m\u001b[0m\u001b[0m\n\u001b[0;32m     24\u001b[0m \u001b[0mobj1\u001b[0m \u001b[1;33m=\u001b[0m \u001b[0mBase\u001b[0m\u001b[1;33m(\u001b[0m\u001b[1;33m)\u001b[0m\u001b[1;33m\u001b[0m\u001b[1;33m\u001b[0m\u001b[0m\n\u001b[1;32m---> 25\u001b[1;33m \u001b[0mprint\u001b[0m\u001b[1;33m(\u001b[0m\u001b[0mobj1\u001b[0m\u001b[1;33m.\u001b[0m\u001b[0mc\u001b[0m\u001b[1;33m)\u001b[0m\u001b[1;33m\u001b[0m\u001b[1;33m\u001b[0m\u001b[0m\n\u001b[0m\u001b[0;32m     26\u001b[0m \u001b[1;33m\u001b[0m\u001b[0m\n\u001b[0;32m     27\u001b[0m \u001b[1;31m# Uncommenting print(obj1.c) will\u001b[0m\u001b[1;33m\u001b[0m\u001b[1;33m\u001b[0m\u001b[0m\n",
      "\u001b[1;31mAttributeError\u001b[0m: 'Base' object has no attribute 'c'"
     ]
    }
   ],
   "source": [
    "# Python program to\n",
    "# demonstrate private members\n",
    "\n",
    "# Creating a Base class\n",
    "\n",
    "\n",
    "class Base:\n",
    "    def __init__(self):\n",
    "        self.a = \"GeeksforGeeks\"\n",
    "        self.__c = \"GeeksforGeeksjjjj\"\n",
    "\n",
    "# Creating a derived class\n",
    "class Derived(Base):\n",
    "    def __init__(self):\n",
    "\n",
    "        # Calling constructor of\n",
    "        # Base class\n",
    "        Base.__init__(self)\n",
    "        print(\"Calling private member of base class: \")\n",
    "        print(self.__c)\n",
    "\n",
    "\n",
    "# Driver code\n",
    "obj1 = Base()\n",
    "print(obj1.a)\n",
    "\n",
    "# Uncommenting print(obj1.c) will\n",
    "# raise an AttributeError\n",
    "\n",
    "# Uncommenting obj2 = Derived() will\n",
    "# also raise an AtrributeError as\n",
    "# private member of base class\n",
    "# is called inside derived class\n"
   ]
  },
  {
   "cell_type": "code",
   "execution_count": 31,
   "id": "511be935-1ff4-45ed-8de6-d4502bb4bc34",
   "metadata": {},
   "outputs": [
    {
     "name": "stdout",
     "output_type": "stream",
     "text": [
      "python \n",
      "programming\n",
      "python programming\n"
     ]
    }
   ],
   "source": [
    "class encabsulation ():\n",
    "    def __init__(self):\n",
    "        self.course = \"python \"\n",
    "        self.tech = \"programming\"\n",
    "        \n",
    "    def courseName(self):\n",
    "        return self.course + self.tech\n",
    "        \n",
    "co = encabsulation()\n",
    "\n",
    "print(co.course)\n",
    "print(co.tech)\n",
    "print(co.courseName())"
   ]
  },
  {
   "cell_type": "code",
   "execution_count": 35,
   "id": "7bd70ac9-dca1-480c-94d5-0c0a3dd0d07b",
   "metadata": {},
   "outputs": [
    {
     "name": "stdout",
     "output_type": "stream",
     "text": [
      "python \n"
     ]
    },
    {
     "ename": "AttributeError",
     "evalue": "'encabsulation' object has no attribute '__tech'",
     "output_type": "error",
     "traceback": [
      "\u001b[1;31m---------------------------------------------------------------------------\u001b[0m",
      "\u001b[1;31mAttributeError\u001b[0m                            Traceback (most recent call last)",
      "\u001b[1;32m~\\AppData\\Local\\Temp/ipykernel_21756/2430420016.py\u001b[0m in \u001b[0;36m<module>\u001b[1;34m\u001b[0m\n\u001b[0;32m     10\u001b[0m \u001b[1;33m\u001b[0m\u001b[0m\n\u001b[0;32m     11\u001b[0m \u001b[0mprint\u001b[0m\u001b[1;33m(\u001b[0m\u001b[0mco\u001b[0m\u001b[1;33m.\u001b[0m\u001b[0mcourse\u001b[0m\u001b[1;33m)\u001b[0m\u001b[1;33m\u001b[0m\u001b[1;33m\u001b[0m\u001b[0m\n\u001b[1;32m---> 12\u001b[1;33m \u001b[0mprint\u001b[0m\u001b[1;33m(\u001b[0m\u001b[0mco\u001b[0m\u001b[1;33m.\u001b[0m\u001b[0m__tech\u001b[0m\u001b[1;33m)\u001b[0m\u001b[1;33m\u001b[0m\u001b[1;33m\u001b[0m\u001b[0m\n\u001b[0m\u001b[0;32m     13\u001b[0m \u001b[0mprint\u001b[0m\u001b[1;33m(\u001b[0m\u001b[0mco\u001b[0m\u001b[1;33m.\u001b[0m\u001b[0mcourseName\u001b[0m\u001b[1;33m(\u001b[0m\u001b[1;33m)\u001b[0m\u001b[1;33m)\u001b[0m\u001b[1;33m\u001b[0m\u001b[1;33m\u001b[0m\u001b[0m\n",
      "\u001b[1;31mAttributeError\u001b[0m: 'encabsulation' object has no attribute '__tech'"
     ]
    }
   ],
   "source": [
    "class encabsulation ():\n",
    "    def __init__(self):\n",
    "        self.course = \"python \"\n",
    "        self.__tech = \"programming\"\n",
    "        \n",
    "    def courseName(self):\n",
    "        return self.course + self.__tech\n",
    "        \n",
    "co = encabsulation()\n",
    "\n",
    "print(co.course)\n",
    "print(co.__tech)\n",
    "print(co.courseName())"
   ]
  },
  {
   "cell_type": "code",
   "execution_count": 38,
   "id": "4daf5591-99c1-4376-b9c3-739934914af8",
   "metadata": {},
   "outputs": [
    {
     "name": "stdout",
     "output_type": "stream",
     "text": [
      "python \n",
      "programming\n",
      "python programming\n"
     ]
    }
   ],
   "source": [
    "class encabsulation ():\n",
    "    def __init__(self):\n",
    "        self.course = \"python \"\n",
    "        self.__tech = \"programming\"\n",
    "        \n",
    "    def courseName(self):\n",
    "        return self.course + self.__tech\n",
    "        \n",
    "co = encabsulation()\n",
    "\n",
    "print(co.course)\n",
    "print(co._encabsulation__tech)\n",
    "print(co.courseName())"
   ]
  },
  {
   "cell_type": "code",
   "execution_count": 44,
   "id": "f2137e79-bf07-4e31-980d-ae2a851c3e75",
   "metadata": {},
   "outputs": [
    {
     "data": {
      "text/plain": [
       "'python scikit'"
      ]
     },
     "execution_count": 44,
     "metadata": {},
     "output_type": "execute_result"
    }
   ],
   "source": [
    "class encabsulation ():\n",
    "    def __init__(self):\n",
    "        self.course = \"python \"\n",
    "        self.__tech = \"programming\"\n",
    "        \n",
    "    def courseName(self):\n",
    "        return self.course + self.__tech\n",
    "    \n",
    "    \n",
    "    def set__tech(self,x):\n",
    "        self.__tech = x\n",
    "        \n",
    "    def get__tech(self):\n",
    "        return self.__tech\n",
    "    \n",
    "co = encabsulation()\n",
    "\n",
    "co.set__tech(\"scikit\")\n",
    "\n",
    "co.courseName()\n"
   ]
  },
  {
   "cell_type": "code",
   "execution_count": 45,
   "id": "c64487d0-8fd8-4d14-9478-4dd0dd0569b8",
   "metadata": {},
   "outputs": [
    {
     "data": {
      "text/plain": [
       "'scikit'"
      ]
     },
     "execution_count": 45,
     "metadata": {},
     "output_type": "execute_result"
    }
   ],
   "source": [
    "co.get__tech()"
   ]
  },
  {
   "cell_type": "code",
   "execution_count": null,
   "id": "8824e7f3-94ea-435a-a2d6-4f9cffe28aeb",
   "metadata": {},
   "outputs": [],
   "source": []
  }
 ],
 "metadata": {
  "kernelspec": {
   "display_name": "Python 3 (ipykernel)",
   "language": "python",
   "name": "python3"
  },
  "language_info": {
   "codemirror_mode": {
    "name": "ipython",
    "version": 3
   },
   "file_extension": ".py",
   "mimetype": "text/x-python",
   "name": "python",
   "nbconvert_exporter": "python",
   "pygments_lexer": "ipython3",
   "version": "3.9.7"
  }
 },
 "nbformat": 4,
 "nbformat_minor": 5
}
