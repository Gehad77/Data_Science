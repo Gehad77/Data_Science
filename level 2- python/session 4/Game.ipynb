{
 "cells": [
  {
   "cell_type": "code",
   "execution_count": 1,
   "id": "57cd3aa3-4da5-4a6d-983a-2f42142d8478",
   "metadata": {},
   "outputs": [
    {
     "name": "stdout",
     "output_type": "stream",
     "text": [
      "Welcome In Full Game ...... ^_^\n",
      "            \n",
      "                Choose Your Game From Our Collection\n",
      "                Press[1]: Play Car Game\n",
      "                Press[2]: Play ROCK PAPER SCISSORS\n",
      "                Press[3]: Play Math Games\n",
      "                \n",
      "                \n"
     ]
    },
    {
     "name": "stdin",
     "output_type": "stream",
     "text": [
      "Enter Your Choice ===> :  1\n"
     ]
    },
    {
     "name": "stdout",
     "output_type": "stream",
     "text": [
      "Welcome Car Game ^_^\n",
      "Type Help To Know How To Start\n"
     ]
    },
    {
     "name": "stdin",
     "output_type": "stream",
     "text": [
      "> Please Type The Order So I Can Go ===>   start\n"
     ]
    },
    {
     "name": "stdout",
     "output_type": "stream",
     "text": [
      "i`m ready to go\n"
     ]
    },
    {
     "name": "stdin",
     "output_type": "stream",
     "text": [
      "> Please Type The Order So I Can Go ===>   go\n"
     ]
    },
    {
     "name": "stdout",
     "output_type": "stream",
     "text": [
      "\n",
      "                       \n",
      "                    I Don`t Understand the Orders Are :\n",
      "                    \n",
      "                    start => to start the car \n",
      "                    stop => to stop the car \n",
      "                    quit => to close the program and stop the car\n",
      "                    \n",
      "                    \n"
     ]
    },
    {
     "name": "stdin",
     "output_type": "stream",
     "text": [
      "> Please Type The Order So I Can Go ===>   quit\n"
     ]
    },
    {
     "name": "stdout",
     "output_type": "stream",
     "text": [
      "car stopped\n"
     ]
    },
    {
     "name": "stdin",
     "output_type": "stream",
     "text": [
      "Enter Your Choice ===> :  end\n"
     ]
    },
    {
     "name": "stdout",
     "output_type": "stream",
     "text": [
      "Please Choose Between 1,2 or 3 Or Quit\n"
     ]
    },
    {
     "name": "stdin",
     "output_type": "stream",
     "text": [
      "Enter Your Choice ===> :  Quit\n"
     ]
    },
    {
     "name": "stdout",
     "output_type": "stream",
     "text": [
      "Please Choose Between 1,2 or 3 Or Quit\n"
     ]
    },
    {
     "name": "stdin",
     "output_type": "stream",
     "text": [
      "Enter Your Choice ===> :  Quit\n"
     ]
    },
    {
     "name": "stdout",
     "output_type": "stream",
     "text": [
      "Please Choose Between 1,2 or 3 Or Quit\n"
     ]
    },
    {
     "name": "stdin",
     "output_type": "stream",
     "text": [
      "Enter Your Choice ===> :  quit\n"
     ]
    }
   ],
   "source": [
    "from random import randint\n",
    "\n",
    "class Game:\n",
    "    def __init__(self):\n",
    "        print('''Welcome In Full Game ...... ^_^\n",
    "            \n",
    "                Choose Your Game From Our Collection\n",
    "                Press[1]: Play Car Game\n",
    "                Press[2]: Play ROCK PAPER SCISSORS\n",
    "                Press[3]: Play Math Games\n",
    "                \n",
    "                ''')\n",
    "   \n",
    "        \n",
    "        self.Choices()\n",
    "\n",
    "    def Choices(self):\n",
    "        while True:\n",
    "            user_choice = input('Enter Your Choice ===> : ')\n",
    "            try:    \n",
    "                if user_choice == '1':\n",
    "                    self.Car()\n",
    "                elif user_choice == '2':\n",
    "                    self.Rock_Paper_Scissors()\n",
    "                elif user_choice == '3':\n",
    "                    Math()\n",
    "                elif user_choice == 'quit':\n",
    "                    break\n",
    "                    \n",
    "                else:\n",
    "                    print('Please Choose Between 1,2 or 3 Or Quit')\n",
    "                    \n",
    "            except ValueError:\n",
    "                print('Please Enter A Valid Choice')\n",
    "                \n",
    "    def Car(self):\n",
    "        print('Welcome Car Game ^_^')\n",
    "        print('Type Help To Know How To Start')\n",
    "        command=\"\"\n",
    "        started = False\n",
    "        while command != \"quit\":\n",
    "            command = input(\"> Please Type The Order So I Can Go ===>  \").lower()\n",
    "            if command==\"start\":\n",
    "                if started:\n",
    "                    print(\"Car already started\")\n",
    "                else:\n",
    "                    started=True\n",
    "                    print('i`m ready to go')\n",
    "            elif command==\"stop\":\n",
    "                if not started:\n",
    "                    print(\"Car is already stopped\")\n",
    "                else:\n",
    "                    started = False\n",
    "                    print('car stopped')\n",
    "            elif command==\"help\":\n",
    "                print (\"\"\"\n",
    "                       \n",
    "                    start => to start the car \n",
    "                    stop => to stop the car \n",
    "                    quit => to close the program and stop the car\n",
    "                    \n",
    "                    \"\"\")\n",
    "            elif command ==\"quit\":\n",
    "                print('car stopped')\n",
    "                break\n",
    "            else:\n",
    "                print (\"\"\"\n",
    "                       \n",
    "                    I Don`t Understand the Orders Are :\n",
    "                    \n",
    "                    start => to start the car \n",
    "                    stop => to stop the car \n",
    "                    quit => to close the program and stop the car\n",
    "                    \n",
    "                    \"\"\")   \n",
    "        \n",
    "        \n",
    "    \n",
    "    def Rock_Paper_Scissors(self):\n",
    "        print('Welcome To Rock Paper Scissors Game')\n",
    "        t = [\"Rock\", \"Paper\", \"Scissors\"]\n",
    "        computer = t[randint(0,2)]\n",
    "        player = False\n",
    "        while player == False:\n",
    "       \n",
    "            player = input(\"Rock, Paper, Scissors? ==> \")\n",
    "            if player == computer:\n",
    "                print(\"Tie!\")\n",
    "            elif player == \"Rock\":\n",
    "                if computer == \"Paper\":\n",
    "                    print(\"You lose!\", computer, \"covers\", player)\n",
    "                else:\n",
    "                    print(\"You win!\", player, \"smashes\", computer)\n",
    "            elif player == \"Paper\":\n",
    "                if computer == \"Scissors\":\n",
    "                    print(\"You lose!\", computer, \"cut\", player)\n",
    "                else:\n",
    "                    print(\"You win!\", player, \"covers\", computer)\n",
    "            elif player == \"Scissors\":\n",
    "                if computer == \"Rock\":\n",
    "                    print(\"You lose...\", computer, \"smashes\", player)\n",
    "                else:\n",
    "                    print(\"You win!\", player, \"cut\", computer)\n",
    "            elif player==\"quit\":\n",
    "                break\n",
    "            else:\n",
    "                print(\"That's not a valid play. Check your spelling!\")\n",
    "          \n",
    "            player = False\n",
    "            computer = t[randint(0,2)]\n",
    "            \n",
    "class Math:\n",
    "    def __init__(self):\n",
    "        print('''\n",
    "                 Welcome In Math Game ...... ^_^\n",
    "                  Choose Your Game From Our Collection\n",
    "                  Press[1]: Play Even-Odd Game\n",
    "                  Press[2]: Play Sum Average Game\n",
    "                  Press[3]: Play Multiplication Table Game\n",
    "                  \n",
    "              ''')\n",
    "        \n",
    "        \n",
    "        self.Choices()\n",
    "\n",
    "    def Choices(self):\n",
    "        while True:\n",
    "            user_choice = input('Enter Your Choice : ')\n",
    "            try:\n",
    "                if user_choice == '1':\n",
    "                    self.Even_Odd_Game()\n",
    "                elif user_choice == '2':\n",
    "                    self.Sum_Average_Game()\n",
    "                elif user_choice == '3':\n",
    "                    self.Multiplication_Game()\n",
    "                elif user_choice == 'quit':\n",
    "                    Game()\n",
    "                else:\n",
    "                    print('Please Choose Between 1,2 or 3')\n",
    "                    \n",
    "            except :\n",
    "                print('Please Enter A Valid Number')\n",
    "                \n",
    "    def Even_Odd_Game(self):        \n",
    "        print('Welcome In The Even-Odd Game')\n",
    "        print('Please Enter A Number ... And I Will Tell You It`s Even Or Odd')\n",
    "        print('If You Want To Close The Game Enter X')\n",
    "        while True:\n",
    "            number=input('Enter A Number : ')\n",
    "            if number == 'quit':   \n",
    "                print('closing the program')\n",
    "                print('Thanks ...')\n",
    "                break\n",
    "        \n",
    "            try:   \n",
    "                number =int(number)\n",
    "                if number % 2 == 0:\n",
    "                    print('it`s a even number')\n",
    "                else:\n",
    "                    print('it`s a odd number')\n",
    "            except:\n",
    "                print('please Enter A Valid Number')\n",
    "            \n",
    "            print('-----------------------')\n",
    "    \n",
    "    \n",
    "    def Sum_Average_Game(self):\n",
    "        print('Tis Game Will Take Several Numbers And Print The Average of Them')\n",
    "        try:\n",
    "            count=int(input('How Maby Numbers Would you Like To Sum : '))\n",
    "            current_count=0\n",
    "            sum=0\n",
    "            while current_count <count:\n",
    "                number=float(input('Enter The Number : '))\n",
    "                sum += number\n",
    "                current_count +=1\n",
    "            \n",
    "            print('Sum Of All Numbers = ', sum)\n",
    "            print('Average Of All Numbers ' , sum/count)\n",
    "        except :\n",
    "            print('please Enter A Number')\n",
    "    \n",
    "    def Multiplication_Game(self):\n",
    "        try:\n",
    "            print('Welcome In Multiplication App ')\n",
    "            print('Please Enter The Frist Number And Last Number of Multiplication Table : ')\n",
    "            \n",
    "            start=int(input('Enter the Frist Number Of The Table : '))\n",
    "            end=int(input('Enter the Last Number Of The Table : '))\n",
    "            for x in range(start,end+1):\n",
    "                for y in range(1,13):\n",
    "                    print (x,'X' , y , '=' , x*y)\n",
    "                print('--------------------------------------')\n",
    "        except :\n",
    "            print('Please Try Again With A valid INT')\n",
    "            print('---------------------------------')\n",
    "            self.Multiplication_Game()\n",
    "            \n",
    "            \n",
    "            \n",
    "            \n",
    "            \n",
    "            \n",
    "            \n",
    "            \n",
    "            \n",
    "            \n",
    "            \n",
    "s1=Game()\n",
    "\n",
    "\n",
    "\n"
   ]
  },
  {
   "cell_type": "code",
   "execution_count": 2,
   "id": "9b959d64-ba5b-4112-8dba-7757b2f8d140",
   "metadata": {},
   "outputs": [
    {
     "name": "stdin",
     "output_type": "stream",
     "text": [
      ">  start\n"
     ]
    },
    {
     "name": "stdout",
     "output_type": "stream",
     "text": [
      "i`m ready to go\n"
     ]
    },
    {
     "name": "stdin",
     "output_type": "stream",
     "text": [
      ">  help\n"
     ]
    },
    {
     "name": "stdout",
     "output_type": "stream",
     "text": [
      "\n",
      "               start => to start the car \n",
      "               stop => to stop the car \n",
      "               quit => to close the program and stop the car\n",
      "               \n"
     ]
    },
    {
     "name": "stdin",
     "output_type": "stream",
     "text": [
      ">  stop\n"
     ]
    },
    {
     "name": "stdout",
     "output_type": "stream",
     "text": [
      "car stopped\n"
     ]
    },
    {
     "name": "stdin",
     "output_type": "stream",
     "text": [
      ">  quit\n"
     ]
    },
    {
     "name": "stdout",
     "output_type": "stream",
     "text": [
      "car stopped\n"
     ]
    }
   ],
   "source": [
    "# a car game\n",
    "command=\"\"\n",
    "started = False\n",
    "while command != \"quit\":\n",
    "    command = input(\"> \").lower()\n",
    "    if command==\"start\":\n",
    "        if started:\n",
    "            print(\"Car already started\")\n",
    "        else:\n",
    "            started=True\n",
    "            print('i`m ready to go')\n",
    "    elif command==\"stop\":\n",
    "        if not started:\n",
    "            print(\"Car is already stopped\")\n",
    "        else:\n",
    "            started = False\n",
    "            print('car stopped')\n",
    "    elif command==\"help\":\n",
    "        print (\"\"\"\n",
    "               start => to start the car \n",
    "               stop => to stop the car \n",
    "               quit => to close the program and stop the car\n",
    "               \"\"\")\n",
    "    elif command ==\"quit\":\n",
    "        print('car stopped')\n",
    "        break\n",
    "    else:\n",
    "        print (\"i don`t understand that\")    "
   ]
  },
  {
   "cell_type": "code",
   "execution_count": null,
   "id": "b7c055da-4807-4df8-afdd-e8ae2f9efeac",
   "metadata": {},
   "outputs": [],
   "source": []
  }
 ],
 "metadata": {
  "kernelspec": {
   "display_name": "Python 3 (ipykernel)",
   "language": "python",
   "name": "python3"
  },
  "language_info": {
   "codemirror_mode": {
    "name": "ipython",
    "version": 3
   },
   "file_extension": ".py",
   "mimetype": "text/x-python",
   "name": "python",
   "nbconvert_exporter": "python",
   "pygments_lexer": "ipython3",
   "version": "3.9.7"
  }
 },
 "nbformat": 4,
 "nbformat_minor": 5
}
