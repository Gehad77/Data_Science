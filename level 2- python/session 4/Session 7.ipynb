{
 "cells": [
  {
   "cell_type": "markdown",
   "id": "intelligent-andorra",
   "metadata": {},
   "source": [
    "## Object Oriented Programming\n",
    "\n",
    "Object-oriented programming is a programming paradigm based on the concept of \"objects\", which\n",
    "can contain data (variables) and methods (functions).\n",
    "\n",
    "Advantages of Object-oriented programming:\n",
    " * Code reusability\n",
    " * Easier to maintain\n",
    " * Better productivity\n",
    " * Easier to extend"
   ]
  },
  {
   "cell_type": "markdown",
   "id": "adapted-paradise",
   "metadata": {},
   "source": [
    "### 5.1 class\n",
    "\n",
    "Python classes provide all the standard features of Object Oriented Programming:\n",
    " \n",
    " * Inheritance\n",
    " "
   ]
  },
  {
   "cell_type": "code",
   "execution_count": 1,
   "id": "sophisticated-probe",
   "metadata": {},
   "outputs": [],
   "source": [
    "# create a class that simulates a dog\n",
    "class Dog():\n",
    "    def __init__ (self, name, age):\n",
    "        self.name = name\n",
    "        self.age = age\n",
    "    def sit(self):\n",
    "        print(self.name+\" is now sitting\")\n",
    "    def run(self):\n",
    "        print(self.name.title()+\" is now running\")"
   ]
  },
  {
   "cell_type": "code",
   "execution_count": 2,
   "id": "forbidden-sixth",
   "metadata": {},
   "outputs": [
    {
     "name": "stdout",
     "output_type": "stream",
     "text": [
      "Husky is now sitting\n",
      "Husky is now running\n"
     ]
    }
   ],
   "source": [
    "# instantiation\n",
    "my_dog = Dog(\"Husky\", 3)\n",
    "my_dog.sit()\n",
    "my_dog.run()"
   ]
  },
  {
   "cell_type": "markdown",
   "id": "southern-greene",
   "metadata": {},
   "source": [
    "We can also add new data to an object"
   ]
  },
  {
   "cell_type": "code",
   "execution_count": 166,
   "id": "intended-prison",
   "metadata": {},
   "outputs": [
    {
     "name": "stdout",
     "output_type": "stream",
     "text": [
      "dog food\n"
     ]
    }
   ],
   "source": [
    "my_dog.food = 'dog food'\n",
    "print(my_dog.food)"
   ]
  },
  {
   "cell_type": "markdown",
   "id": "acting-employer",
   "metadata": {},
   "source": [
    "we can also re-define a class"
   ]
  },
  {
   "cell_type": "code",
   "execution_count": 169,
   "id": "center-quarterly",
   "metadata": {},
   "outputs": [
    {
     "name": "stdout",
     "output_type": "stream",
     "text": [
      "Goodog has been created\n"
     ]
    }
   ],
   "source": [
    "class Dog(object):\n",
    "    def __init__(self, name):\n",
    "        self.name = name\n",
    "        print(\"%s has been created\"%(self.name))\n",
    "my_dog = Dog(\"Goodog\")"
   ]
  },
  {
   "cell_type": "markdown",
   "id": "focused-weapon",
   "metadata": {},
   "source": [
    "implement the str method"
   ]
  },
  {
   "cell_type": "code",
   "execution_count": 170,
   "id": "novel-effect",
   "metadata": {},
   "outputs": [
    {
     "name": "stdout",
     "output_type": "stream",
     "text": [
      "dog name: Goodog\n"
     ]
    }
   ],
   "source": [
    "class Dog(object):\n",
    "    def __init__(self, name):\n",
    "        self.name = name\n",
    "    def __str__(self):\n",
    "        return \"dog name: \"+self.name\n",
    "my_dog = Dog(\"Goodog\")\n",
    "print(my_dog)"
   ]
  },
  {
   "cell_type": "markdown",
   "id": "systematic-contrary",
   "metadata": {},
   "source": [
    "###  Inheritance\n",
    "\n",
    "Inheritance allows us to define a class that inherits all the methods and data from another class."
   ]
  },
  {
   "cell_type": "code",
   "execution_count": 173,
   "id": "exclusive-syracuse",
   "metadata": {},
   "outputs": [
    {
     "name": "stdout",
     "output_type": "stream",
     "text": [
      "instantiating child\n",
      "child method\n",
      "parent method\n",
      "parent attribute:  200\n",
      "child says hello!\n"
     ]
    }
   ],
   "source": [
    "class Parent: # parent class\n",
    "    parentAttr = 100\n",
    "    def __init__(self):\n",
    "        print(\"instantiating parent\")\n",
    "    def parentMethod(self):\n",
    "        print('parent method')\n",
    "    def setAttr(self, attr):\n",
    "        Parent.parentAttr = attr\n",
    "    def getAttr(self):\n",
    "        print(\"parent attribute: \", Parent.parentAttr)\n",
    "    \n",
    "class Child(Parent): # child class\n",
    "    def __init__(self):\n",
    "        print(\"instantiating child\")\n",
    "    def childMethod(self):\n",
    "        print('child method')\n",
    "    def getAttr(self):\n",
    "        super().getAttr()\n",
    "        print(\"child says hello!\")\n",
    "        \n",
    "        \n",
    "c = Child() #instantiate child\n",
    "c.childMethod() #call child method\n",
    "c.parentMethod() #call parent method\n",
    "c.setAttr(200)# set attribute (parent method)\n",
    "c.getAttr() #call attribute (parent method)\n"
   ]
  },
  {
   "cell_type": "markdown",
   "id": "cognitive-scope",
   "metadata": {},
   "source": [
    "### Types Of Inheritance : \n",
    " * Single Inheritance\n",
    " * Multiple Inheritance\n",
    " * Multilevel Inheritance \n",
    " * Hierarchical Inheritance\n",
    " \n"
   ]
  },
  {
   "cell_type": "markdown",
   "id": "circular-watson",
   "metadata": {},
   "source": [
    "Single Inheritance: Single inheritance enables a derived class to inherit properties from a single parent class"
   ]
  },
  {
   "cell_type": "code",
   "execution_count": 181,
   "id": "friendly-timber",
   "metadata": {},
   "outputs": [
    {
     "name": "stdout",
     "output_type": "stream",
     "text": [
      "This function is in parent class.\n",
      "This function is in child class.\n"
     ]
    }
   ],
   "source": [
    "# single inheritance\n",
    "\n",
    "# parent class\n",
    "class Parent:\n",
    "    def func1(self):\n",
    "        print(\"This function is in parent class.\")\n",
    "\n",
    "# child class\n",
    "class Child(Parent):\n",
    "    def func2(self):\n",
    "        print(\"This function is in child class.\")\n",
    "\n",
    "child = Child()\n",
    "child.func1()\n",
    "child.func2()\n",
    "\n"
   ]
  },
  {
   "cell_type": "markdown",
   "id": "thermal-parking",
   "metadata": {},
   "source": [
    "Multiple Inheritance: When a class can be derived from more than one base class this type of inheritance is called multiple inheritance. In multiple inheritance, all the features of the base classes are inherited into the derived class. "
   ]
  },
  {
   "cell_type": "code",
   "execution_count": 180,
   "id": "unique-setup",
   "metadata": {},
   "outputs": [
    {
     "name": "stdout",
     "output_type": "stream",
     "text": [
      "Father : Ahmed\n",
      "Mother : Sara\n"
     ]
    }
   ],
   "source": [
    "# multiple inheritance\n",
    "\n",
    "\n",
    "# Base class1\n",
    "class Mother:\n",
    "    mothername = \"\"\n",
    "    def mother(self):\n",
    "        print(self.mothername)\n",
    "\n",
    "# Base class2\n",
    "class Father:\n",
    "    fathername = \"\"\n",
    "    def father(self):\n",
    "        print(self.fathername)\n",
    "\n",
    "# Derived class\n",
    "class Son(Mother, Father):\n",
    "    def parents(self):\n",
    "        print(\"Father :\", self.fathername)\n",
    "        print(\"Mother :\", self.mothername)\n",
    "\n",
    "s1 = Son()\n",
    "s1.fathername = \"Ahmed\"\n",
    "s1.mothername = \"Sara\"\n",
    "s1.parents()\n"
   ]
  },
  {
   "cell_type": "markdown",
   "id": "fossil-ukraine",
   "metadata": {},
   "source": [
    "multilevel inheritance: features of the base class and the derived class are further inherited into the new derived class. This is similar to a relationship representing a child and grandfather"
   ]
  },
  {
   "cell_type": "code",
   "execution_count": 179,
   "id": "golden-contribution",
   "metadata": {},
   "outputs": [
    {
     "name": "stdout",
     "output_type": "stream",
     "text": [
      "Mustafa\n",
      "Grandfather name : Mustafa\n",
      "Father name : Mohamed\n",
      "Son name : Ahmed\n"
     ]
    }
   ],
   "source": [
    "# multilevel inheritance\n",
    "\n",
    "# Base class\n",
    "class Grandfather:\n",
    "\n",
    "    def __init__(self, grandfathername):\n",
    "        self.grandfathername = grandfathername\n",
    "\n",
    "# Intermediate class\n",
    "class Father(Grandfather):\n",
    "    def __init__(self, fathername, grandfathername):\n",
    "        self.fathername = fathername\n",
    "\n",
    "       # invoking constructor of Grandfather class\n",
    "        Grandfather.__init__(self, grandfathername)\n",
    "\n",
    "# Derived class\n",
    "class Son(Father):\n",
    "    def __init__(self,sonname, fathername, grandfathername):\n",
    "        self.sonname = sonname\n",
    "\n",
    "        # invoking constructor of Father class\n",
    "        Father.__init__(self, fathername, grandfathername)\n",
    "\n",
    "    def print_name(self):\n",
    "        print('Grandfather name :', self.grandfathername)\n",
    "        print(\"Father name :\", self.fathername)\n",
    "        print(\"Son name :\", self.sonname)\n",
    "\n",
    "# Driver code\n",
    "s1 = Son('Ahmed', 'Mohamed', 'Mustafa')\n",
    "print(s1.grandfathername)\n",
    "s1.print_name()\n"
   ]
  },
  {
   "cell_type": "markdown",
   "id": "operating-concrete",
   "metadata": {},
   "source": [
    "Hierarchical Inheritance: When more than one derived classes are created from a single base this type of inheritance is called hierarchical inheritance. In this program, we have a parent (base) class and two child (derived) classes."
   ]
  },
  {
   "cell_type": "code",
   "execution_count": 178,
   "id": "parental-causing",
   "metadata": {},
   "outputs": [
    {
     "name": "stdout",
     "output_type": "stream",
     "text": [
      "This function is in parent class.\n",
      "This function is in child 1.\n",
      "This function is in parent class.\n",
      "This function is in child 2.\n"
     ]
    }
   ],
   "source": [
    "# Hierarchical inheritance\n",
    "\n",
    "\n",
    "# Base class\n",
    "class Parent:\n",
    "    def func1(self):\n",
    "        print(\"This function is in parent class.\")\n",
    "\n",
    "# Derived class1\n",
    "class Child1(Parent):\n",
    "    def func2(self):\n",
    "        print(\"This function is in child 1.\")\n",
    "\n",
    "# Derivied class2\n",
    "class Child2(Parent):\n",
    "    def func3(self):\n",
    "        print(\"This function is in child 2.\")\n",
    "\n",
    "object1 = Child1()\n",
    "object2 = Child2()\n",
    "object1.func1()\n",
    "object1.func2()\n",
    "object2.func1()\n",
    "object2.func3()\n"
   ]
  },
  {
   "cell_type": "code",
   "execution_count": null,
   "id": "equal-divorce",
   "metadata": {},
   "outputs": [],
   "source": []
  }
 ],
 "metadata": {
  "kernelspec": {
   "display_name": "Python 3 (ipykernel)",
   "language": "python",
   "name": "python3"
  },
  "language_info": {
   "codemirror_mode": {
    "name": "ipython",
    "version": 3
   },
   "file_extension": ".py",
   "mimetype": "text/x-python",
   "name": "python",
   "nbconvert_exporter": "python",
   "pygments_lexer": "ipython3",
   "version": "3.9.12"
  }
 },
 "nbformat": 4,
 "nbformat_minor": 5
}
