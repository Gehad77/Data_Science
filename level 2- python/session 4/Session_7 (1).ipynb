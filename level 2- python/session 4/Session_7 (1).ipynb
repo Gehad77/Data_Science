{
 "cells": [
  {
   "cell_type": "markdown",
   "id": "intelligent-andorra",
   "metadata": {
    "tags": []
   },
   "source": [
    "## Instanace attribute vs class attribute"
   ]
  },
  {
   "cell_type": "code",
   "execution_count": 1,
   "id": "7df39ba3-fc35-4209-b6ba-8780755ec8bf",
   "metadata": {},
   "outputs": [
    {
     "name": "stdout",
     "output_type": "stream",
     "text": [
      "Alice\n",
      "25\n"
     ]
    }
   ],
   "source": [
    "#instance attribute\n",
    "class Person:\n",
    "    def __init__(self, name, age):\n",
    "        self.name = name      # Instance attribute\n",
    "        self.age = age        # Instance attribute\n",
    "\n",
    "person1 = Person(\"Alice\", 30)\n",
    "person2 = Person(\"Bob\", 25)\n",
    "\n",
    "print(person1.name)  # Output: Alice\n",
    "print(person2.age)   # Output: 25\n"
   ]
  },
  {
   "cell_type": "code",
   "execution_count": 2,
   "id": "014bdd04-63aa-40e9-8625-be8f068708dd",
   "metadata": {},
   "outputs": [
    {
     "name": "stdout",
     "output_type": "stream",
     "text": [
      "3.14159\n",
      "7\n"
     ]
    }
   ],
   "source": [
    "#Class Attributes:\n",
    "class Circle:\n",
    "    pi = 3.14159  # Class attribute\n",
    "\n",
    "    def __init__(self, radius):\n",
    "        self.radius = radius  # Instance attribute\n",
    "\n",
    "circle1 = Circle(5)\n",
    "circle2 = Circle(7)\n",
    "\n",
    "print(circle1.pi)     # Output: 3.14159\n",
    "print(circle2.radius) # Output: 7\n"
   ]
  },
  {
   "cell_type": "markdown",
   "id": "3b3aba5b-d538-4318-9f92-d435febac363",
   "metadata": {},
   "source": [
    "### Instance Methods vs Class Methods vs Static Methods\n",
    "\n"
   ]
  },
  {
   "cell_type": "code",
   "execution_count": 3,
   "id": "9fb02956-5c60-44e3-b3f1-ccd8a0041d0b",
   "metadata": {},
   "outputs": [
    {
     "name": "stdout",
     "output_type": "stream",
     "text": [
      "Instance method called with value: 42\n"
     ]
    }
   ],
   "source": [
    "#Instance Methods\n",
    "class MyClass:\n",
    "    def __init__(self, value):\n",
    "        self.value = value\n",
    "\n",
    "    def instance_method(self):\n",
    "        return f\"Instance method called with value: {self.value}\"\n",
    "\n",
    "obj = MyClass(42)\n",
    "print(obj.instance_method())  # Output: Instance method called with value: 42\n"
   ]
  },
  {
   "cell_type": "code",
   "execution_count": 4,
   "id": "d55545fe-9c1f-4515-8bba-7c7be13262e2",
   "metadata": {},
   "outputs": [
    {
     "name": "stdout",
     "output_type": "stream",
     "text": [
      "Class method called with class variable: 10\n"
     ]
    }
   ],
   "source": [
    "#Class Methods\n",
    "class MyClass:\n",
    "    class_variable = 10\n",
    "\n",
    "    @classmethod\n",
    "    def class_method(cls):\n",
    "        return f\"Class method called with class variable: {cls.class_variable}\"\n",
    "\n",
    "print(MyClass.class_method())  # Output: Class method called with class variable: 10\n"
   ]
  },
  {
   "cell_type": "code",
   "execution_count": 5,
   "id": "27744bfc-ae87-4bf1-8f67-ae4047c5209e",
   "metadata": {},
   "outputs": [
    {
     "name": "stdout",
     "output_type": "stream",
     "text": [
      "Static method called\n"
     ]
    }
   ],
   "source": [
    "#Static Methods\n",
    "class MyClass:\n",
    "    @staticmethod\n",
    "    def static_method():\n",
    "        return \"Static method called\"\n",
    "\n",
    "print(MyClass.static_method())  # Output: Static method called\n"
   ]
  },
  {
   "cell_type": "code",
   "execution_count": null,
   "id": "15446dba-77eb-4095-a4ca-28cbda319413",
   "metadata": {},
   "outputs": [],
   "source": []
  },
  {
   "cell_type": "markdown",
   "id": "10b0b760-55a9-4120-ac34-9b6aac88ecd8",
   "metadata": {},
   "source": [
    "## Object Oriented Programming\n",
    "\n",
    "Object-oriented programming is a programming paradigm based on the concept of \"objects\", which\n",
    "can contain data (variables) and methods (functions).\n",
    "\n",
    "Advantages of Object-oriented programming:\n",
    " * Code reusability\n",
    " * Easier to maintain\n",
    " * Better productivity\n",
    " * Easier to extend"
   ]
  },
  {
   "cell_type": "markdown",
   "id": "adapted-paradise",
   "metadata": {},
   "source": [
    "### 5.1 class\n",
    "\n",
    "Python classes provide all the standard features of Object Oriented Programming:\n",
    " \n",
    " * Inheritance\n",
    " "
   ]
  },
  {
   "cell_type": "code",
   "execution_count": 1,
   "id": "sophisticated-probe",
   "metadata": {},
   "outputs": [],
   "source": [
    "# create a class that simulates a dog\n",
    "class Dog():\n",
    "    def __init__ (self, name, age):\n",
    "        self.name = name\n",
    "        self.age = age\n",
    "    def sit(self):\n",
    "        print(self.name+\" is now sitting\")\n",
    "    def run(self):\n",
    "        print(self.name.title()+\" is now running\")"
   ]
  },
  {
   "cell_type": "code",
   "execution_count": 2,
   "id": "forbidden-sixth",
   "metadata": {},
   "outputs": [
    {
     "name": "stdout",
     "output_type": "stream",
     "text": [
      "Husky is now sitting\n",
      "Husky is now running\n"
     ]
    }
   ],
   "source": [
    "# instantiation\n",
    "my_dog = Dog(\"Husky\", 3)\n",
    "my_dog.sit()\n",
    "my_dog.run()"
   ]
  },
  {
   "cell_type": "markdown",
   "id": "southern-greene",
   "metadata": {},
   "source": [
    "We can also add new data to an object"
   ]
  },
  {
   "cell_type": "code",
   "execution_count": 166,
   "id": "intended-prison",
   "metadata": {},
   "outputs": [
    {
     "name": "stdout",
     "output_type": "stream",
     "text": [
      "dog food\n"
     ]
    }
   ],
   "source": [
    "my_dog.food = 'dog food'\n",
    "print(my_dog.food)"
   ]
  },
  {
   "cell_type": "markdown",
   "id": "acting-employer",
   "metadata": {},
   "source": [
    "we can also re-define a class"
   ]
  },
  {
   "cell_type": "code",
   "execution_count": 169,
   "id": "center-quarterly",
   "metadata": {},
   "outputs": [
    {
     "name": "stdout",
     "output_type": "stream",
     "text": [
      "Goodog has been created\n"
     ]
    }
   ],
   "source": [
    "class Dog(object):\n",
    "    def __init__(self, name):\n",
    "        self.name = name\n",
    "        print(\"%s has been created\"%(self.name))\n",
    "my_dog = Dog(\"Goodog\")"
   ]
  },
  {
   "cell_type": "markdown",
   "id": "focused-weapon",
   "metadata": {},
   "source": [
    "implement the str method"
   ]
  },
  {
   "cell_type": "code",
   "execution_count": 170,
   "id": "novel-effect",
   "metadata": {},
   "outputs": [
    {
     "name": "stdout",
     "output_type": "stream",
     "text": [
      "dog name: Goodog\n"
     ]
    }
   ],
   "source": [
    "class Dog(object):\n",
    "    def __init__(self, name):\n",
    "        self.name = name\n",
    "    def __str__(self):\n",
    "        return \"dog name: \"+self.name\n",
    "my_dog = Dog(\"Goodog\")\n",
    "print(my_dog)"
   ]
  },
  {
   "cell_type": "markdown",
   "id": "systematic-contrary",
   "metadata": {},
   "source": [
    "###  Inheritance\n",
    "\n",
    "Inheritance allows us to define a class that inherits all the methods and data from another class."
   ]
  },
  {
   "cell_type": "code",
   "execution_count": 173,
   "id": "exclusive-syracuse",
   "metadata": {},
   "outputs": [
    {
     "name": "stdout",
     "output_type": "stream",
     "text": [
      "instantiating child\n",
      "child method\n",
      "parent method\n",
      "parent attribute:  200\n",
      "child says hello!\n"
     ]
    }
   ],
   "source": [
    "class Parent: # parent class\n",
    "    parentAttr = 100\n",
    "    def __init__(self):\n",
    "        print(\"instantiating parent\")\n",
    "    def parentMethod(self):\n",
    "        print('parent method')\n",
    "    def setAttr(self, attr):\n",
    "        Parent.parentAttr = attr\n",
    "    def getAttr(self):\n",
    "        print(\"parent attribute: \", Parent.parentAttr)\n",
    "    \n",
    "class Child(Parent): # child class\n",
    "    def __init__(self):\n",
    "        print(\"instantiating child\")\n",
    "    def childMethod(self):\n",
    "        print('child method')\n",
    "    def getAttr(self):\n",
    "        super().getAttr()\n",
    "        print(\"child says hello!\")\n",
    "        \n",
    "        \n",
    "c = Child() #instantiate child\n",
    "c.childMethod() #call child method\n",
    "c.parentMethod() #call parent method\n",
    "c.setAttr(200)# set attribute (parent method)\n",
    "c.getAttr() #call attribute (parent method)\n"
   ]
  },
  {
   "cell_type": "markdown",
   "id": "cognitive-scope",
   "metadata": {},
   "source": [
    "### Types Of Inheritance : \n",
    " * Single Inheritance\n",
    " * Multiple Inheritance\n",
    " * Multilevel Inheritance \n",
    " * Hierarchical Inheritance\n",
    " \n"
   ]
  },
  {
   "cell_type": "markdown",
   "id": "circular-watson",
   "metadata": {},
   "source": [
    "Single Inheritance: Single inheritance enables a derived class to inherit properties from a single parent class"
   ]
  },
  {
   "cell_type": "code",
   "execution_count": 181,
   "id": "friendly-timber",
   "metadata": {},
   "outputs": [
    {
     "name": "stdout",
     "output_type": "stream",
     "text": [
      "This function is in parent class.\n",
      "This function is in child class.\n"
     ]
    }
   ],
   "source": [
    "# single inheritance\n",
    "\n",
    "# parent class\n",
    "class Parent:\n",
    "    def func1(self):\n",
    "        print(\"This function is in parent class.\")\n",
    "\n",
    "# child class\n",
    "class Child(Parent):\n",
    "    def func2(self):\n",
    "        print(\"This function is in child class.\")\n",
    "\n",
    "child = Child()\n",
    "child.func1()\n",
    "child.func2()\n",
    "\n"
   ]
  },
  {
   "cell_type": "markdown",
   "id": "thermal-parking",
   "metadata": {},
   "source": [
    "Multiple Inheritance: When a class can be derived from more than one base class this type of inheritance is called multiple inheritance. In multiple inheritance, all the features of the base classes are inherited into the derived class. "
   ]
  },
  {
   "cell_type": "code",
   "execution_count": 180,
   "id": "unique-setup",
   "metadata": {},
   "outputs": [
    {
     "name": "stdout",
     "output_type": "stream",
     "text": [
      "Father : Ahmed\n",
      "Mother : Sara\n"
     ]
    }
   ],
   "source": [
    "# multiple inheritance\n",
    "\n",
    "\n",
    "# Base class1\n",
    "class Mother:\n",
    "    mothername = \"\"\n",
    "    def mother(self):\n",
    "        print(self.mothername)\n",
    "\n",
    "# Base class2\n",
    "class Father:\n",
    "    fathername = \"\"\n",
    "    def father(self):\n",
    "        print(self.fathername)\n",
    "\n",
    "# Derived class\n",
    "class Son(Mother, Father):\n",
    "    def parents(self):\n",
    "        print(\"Father :\", self.fathername)\n",
    "        print(\"Mother :\", self.mothername)\n",
    "\n",
    "s1 = Son()\n",
    "s1.fathername = \"Ahmed\"\n",
    "s1.mothername = \"Sara\"\n",
    "s1.parents()\n"
   ]
  },
  {
   "cell_type": "markdown",
   "id": "fossil-ukraine",
   "metadata": {},
   "source": [
    "multilevel inheritance: features of the base class and the derived class are further inherited into the new derived class. This is similar to a relationship representing a child and grandfather"
   ]
  },
  {
   "cell_type": "code",
   "execution_count": 179,
   "id": "golden-contribution",
   "metadata": {},
   "outputs": [
    {
     "name": "stdout",
     "output_type": "stream",
     "text": [
      "Mustafa\n",
      "Grandfather name : Mustafa\n",
      "Father name : Mohamed\n",
      "Son name : Ahmed\n"
     ]
    }
   ],
   "source": [
    "# multilevel inheritance\n",
    "\n",
    "# Base class\n",
    "class Grandfather:\n",
    "\n",
    "    def __init__(self, grandfathername):\n",
    "        self.grandfathername = grandfathername\n",
    "\n",
    "# Intermediate class\n",
    "class Father(Grandfather):\n",
    "    def __init__(self, fathername, grandfathername):\n",
    "        self.fathername = fathername\n",
    "\n",
    "       # invoking constructor of Grandfather class\n",
    "        Grandfather.__init__(self, grandfathername)\n",
    "\n",
    "# Derived class\n",
    "class Son(Father):\n",
    "    def __init__(self,sonname, fathername, grandfathername):\n",
    "        self.sonname = sonname\n",
    "\n",
    "        # invoking constructor of Father class\n",
    "        Father.__init__(self, fathername, grandfathername)\n",
    "\n",
    "    def print_name(self):\n",
    "        print('Grandfather name :', self.grandfathername)\n",
    "        print(\"Father name :\", self.fathername)\n",
    "        print(\"Son name :\", self.sonname)\n",
    "\n",
    "# Driver code\n",
    "s1 = Son('Ahmed', 'Mohamed', 'Mustafa')\n",
    "print(s1.grandfathername)\n",
    "s1.print_name()\n"
   ]
  },
  {
   "cell_type": "markdown",
   "id": "operating-concrete",
   "metadata": {},
   "source": [
    "Hierarchical Inheritance: When more than one derived classes are created from a single base this type of inheritance is called hierarchical inheritance. In this program, we have a parent (base) class and two child (derived) classes."
   ]
  },
  {
   "cell_type": "code",
   "execution_count": 178,
   "id": "parental-causing",
   "metadata": {},
   "outputs": [
    {
     "name": "stdout",
     "output_type": "stream",
     "text": [
      "This function is in parent class.\n",
      "This function is in child 1.\n",
      "This function is in parent class.\n",
      "This function is in child 2.\n"
     ]
    }
   ],
   "source": [
    "# Hierarchical inheritance\n",
    "\n",
    "\n",
    "# Base class\n",
    "class Parent:\n",
    "    def func1(self):\n",
    "        print(\"This function is in parent class.\")\n",
    "\n",
    "# Derived class1\n",
    "class Child1(Parent):\n",
    "    def func2(self):\n",
    "        print(\"This function is in child 1.\")\n",
    "\n",
    "# Derivied class2\n",
    "class Child2(Parent):\n",
    "    def func3(self):\n",
    "        print(\"This function is in child 2.\")\n",
    "\n",
    "object1 = Child1()\n",
    "object2 = Child2()\n",
    "object1.func1()\n",
    "object1.func2()\n",
    "object2.func1()\n",
    "object2.func3()\n"
   ]
  },
  {
   "cell_type": "markdown",
   "id": "5369c446-c68f-42bc-b307-2b96e38fd9ea",
   "metadata": {},
   "source": [
    "## Encapsulation"
   ]
  },
  {
   "cell_type": "code",
   "execution_count": 1,
   "id": "a401278d-46d3-43be-989f-66352a62fa8a",
   "metadata": {},
   "outputs": [
    {
     "name": "stdout",
     "output_type": "stream",
     "text": [
      "Alice\n",
      "20\n",
      "0\n",
      "Age: 20\n"
     ]
    }
   ],
   "source": [
    "class Student:\n",
    "    def __init__(self, name, age):\n",
    "        self.name = name          # Public attribute\n",
    "        self._age = age           # Protected attribute\n",
    "        self.__registration = 0   # Private attribute\n",
    "\n",
    "    def display_age(self):\n",
    "        print(f\"Age: {self._age}\")\n",
    "\n",
    "    def register(self, reg_number):\n",
    "        self.__registration = reg_number\n",
    "\n",
    "student = Student(\"Alice\", 20)\n",
    "\n",
    "print(student.name)  # Public attribute, Output: Alice\n",
    "print(student._age)  # Protected attribute, Output: 20\n",
    "\n",
    "# Attempting to access private attribute directly raises an AttributeError\n",
    "# print(student.__registration)  # Error\n",
    "\n",
    "# Accessing private attribute using name mangling\n",
    "print(student._Student__registration)  # Output: 0\n",
    "\n",
    "student.display_age()  # Output: Age: 20\n",
    "\n",
    "student.register(12345)\n"
   ]
  },
  {
   "cell_type": "code",
   "execution_count": null,
   "id": "af6a71e7-ec91-4d3e-a5f6-f8ae59a11530",
   "metadata": {},
   "outputs": [],
   "source": [
    "class Car:\n",
    "    def __init__(self, make, model, year):\n",
    "        self.make = make            # Public attribute\n",
    "        self._model = model          # Protected attribute\n",
    "        self.__year = year           # Private attribute\n",
    "        self.__mileage = 0           # Private attribute\n",
    "\n",
    "    def display_model(self):\n",
    "        print(f\"Model: {self._model}\")\n",
    "\n",
    "    def update_mileage(self, new_mileage):\n",
    "        if new_mileage >= 0:\n",
    "            self.__mileage = new_mileage\n",
    "        else:\n",
    "            print(\"Invalid mileage value. Mileage must be non-negative.\")\n",
    "\n",
    "    def get_mileage(self):\n",
    "        return self.__mileage\n",
    "\n",
    "# Example usage\n",
    "car1 = Car(\"Toyota\", \"Camry\", 2022)\n",
    "\n",
    "# Accessing public attribute\n",
    "print(car1.make)  # Output: Toyota\n",
    "\n",
    "# Accessing protected attribute\n",
    "print(car1._model)  # Output: Camry\n",
    "\n",
    "# Attempting to access private attribute directly raises an AttributeError\n",
    "# print(car1.__year)  # Error\n",
    "\n",
    "# Accessing private attribute using name mangling\n",
    "print(car1._Car__year)  # Output: 2022\n",
    "\n",
    "# Accessing and updating private attribute through methods\n",
    "print(car1.get_mileage())  # Output: 0\n",
    "car1.update_mileage(5000)\n",
    "print(car1.get_mileage())  # Output: 5000\n",
    "\n",
    "# Displaying protected attribute using method\n",
    "car1.display_model()  # Output: Model: Camry\n"
   ]
  },
  {
   "cell_type": "markdown",
   "id": "3f48502a-c71a-4db6-94fb-b708d26a6849",
   "metadata": {},
   "source": [
    "### Getter and Setter Method\n"
   ]
  },
  {
   "cell_type": "code",
   "execution_count": 2,
   "id": "889c9a69-6fd4-486f-a01d-88524599825b",
   "metadata": {},
   "outputs": [
    {
     "name": "stdout",
     "output_type": "stream",
     "text": [
      "John\n"
     ]
    }
   ],
   "source": [
    "class Employee:\n",
    "    def __init__(self, name, salary):\n",
    "        self._name = name\n",
    "        self._salary = salary\n",
    "\n",
    "    def get_name(self):\n",
    "        return self._name\n",
    "\n",
    "    def set_salary(self, new_salary):\n",
    "        if new_salary > 0:\n",
    "            self._salary = new_salary\n",
    "\n",
    "employee = Employee(\"John\", 50000)\n",
    "\n",
    "print(employee.get_name())  # Output: John\n",
    "\n",
    "employee.set_salary(60000)\n"
   ]
  },
  {
   "cell_type": "code",
   "execution_count": 3,
   "id": "2d18b0ad-ec09-4e0d-a065-f5871d43dca1",
   "metadata": {},
   "outputs": [
    {
     "name": "stdout",
     "output_type": "stream",
     "text": [
      "John\n"
     ]
    }
   ],
   "source": [
    "class Employee:\n",
    "    def __init__(self, name, salary):\n",
    "        self._name = name\n",
    "        self._salary = salary\n",
    "\n",
    "    def get_name(self):\n",
    "        return self._name\n",
    "\n",
    "    def set_salary(self, new_salary):\n",
    "        if new_salary > 0:\n",
    "            self._salary = new_salary\n",
    "\n",
    "employee = Employee(\"John\", 50000)\n",
    "\n",
    "print(employee.get_name())  # Output: John\n",
    "\n",
    "employee.set_salary(60000)\n"
   ]
  },
  {
   "cell_type": "code",
   "execution_count": null,
   "id": "5ed9818e-0ad9-41c7-8922-4f78a5aa5494",
   "metadata": {},
   "outputs": [],
   "source": [
    "class Employee:\n",
    "    def __init__(self, name, salary):\n",
    "        # Constructor to initialize the object with name and salary\n",
    "        self._name = name       # Protected attribute for name\n",
    "        self._salary = salary   # Protected attribute for salary\n",
    "\n",
    "    def get_name(self):\n",
    "        # Getter method for retrieving the name\n",
    "        return self._name\n",
    "\n",
    "    def set_salary(self, new_salary):\n",
    "        # Setter method for updating the salary\n",
    "        if new_salary > 0:\n",
    "            self._salary = new_salary\n",
    "\n",
    "# Creating an instance of the Employee class\n",
    "employee = Employee(\"John\", 50000)\n",
    "\n",
    "# Getting and printing the employee's name\n",
    "print(employee.get_name())  # Output: John\n",
    "\n",
    "# Updating the employee's salary using the set_salary method\n",
    "employee.set_salary(60000)\n"
   ]
  },
  {
   "cell_type": "code",
   "execution_count": null,
   "id": "431a2a0d-f951-4d36-85c2-e2261b1149e9",
   "metadata": {},
   "outputs": [],
   "source": [
    "class BankAccount:\n",
    "    def __init__(self, account_holder, balance):\n",
    "        # Constructor to initialize the object with account holder and balance\n",
    "        self._account_holder = account_holder   # Protected attribute for account holder\n",
    "        self._balance = balance                 # Protected attribute for balance\n",
    "\n",
    "    def get_account_holder(self):\n",
    "        # Getter method for retrieving the account holder's name\n",
    "        return self._account_holder\n",
    "\n",
    "    def deposit(self, amount):\n",
    "        # Method for depositing money into the account\n",
    "        if amount > 0:\n",
    "            self._balance += amount\n",
    "\n",
    "    def withdraw(self, amount):\n",
    "        # Method for withdrawing money from the account\n",
    "        if 0 < amount <= self._balance:\n",
    "            self._balance -= amount\n",
    "        else:\n",
    "            print(\"Invalid withdrawal amount. Insufficient funds.\")\n",
    "\n",
    "# Creating an instance of the BankAccount class\n",
    "account = BankAccount(\"Alice\", 1000)\n",
    "\n",
    "# Getting and printing the account holder's name\n",
    "print(account.get_account_holder())  # Output: Alice\n",
    "\n",
    "# Depositing money into the account\n",
    "account.deposit(500)\n",
    "\n",
    "# Withdrawing money from the account\n",
    "account.withdraw(200)\n",
    "\n",
    "# Trying to withdraw more than the current balance\n",
    "account.withdraw(10000)  # Output: Invalid withdrawal amount. Insufficient funds.\n"
   ]
  },
  {
   "cell_type": "code",
   "execution_count": null,
   "id": "7a617170-d87b-409b-a53b-f6c04d96821f",
   "metadata": {},
   "outputs": [],
   "source": []
  },
  {
   "cell_type": "markdown",
   "id": "7a53659e-6b61-4689-94fb-cee270e11c75",
   "metadata": {},
   "source": [
    " ### Private Methods\n",
    " "
   ]
  },
  {
   "cell_type": "code",
   "execution_count": 4,
   "id": "3d94a280-29df-48b1-9fb7-72672df70f85",
   "metadata": {},
   "outputs": [
    {
     "name": "stdout",
     "output_type": "stream",
     "text": [
      "Deposited 500 successfully.\n",
      "Withdrew 200 successfully.\n"
     ]
    }
   ],
   "source": [
    "class BankAccount:\n",
    "    def __init__(self, balance):\n",
    "        self._balance = balance\n",
    "\n",
    "    def _validate_amount(self, amount):\n",
    "        return isinstance(amount, (int, float)) and amount > 0\n",
    "\n",
    "    def deposit(self, amount):\n",
    "        if self._validate_amount(amount):\n",
    "            self._balance += amount\n",
    "            print(f\"Deposited {amount} successfully.\")\n",
    "\n",
    "    def withdraw(self, amount):\n",
    "        if self._validate_amount(amount) and amount <= self._balance:\n",
    "            self._balance -= amount\n",
    "            print(f\"Withdrew {amount} successfully.\")\n",
    "\n",
    "account = BankAccount(1000)\n",
    "account.deposit(500)   # Output: Deposited 500 successfully.\n",
    "account.withdraw(200)  # Output: Withdrew 200 successfully.\n"
   ]
  },
  {
   "cell_type": "code",
   "execution_count": null,
   "id": "be456af6-9ab5-49df-a2e2-026ab8075906",
   "metadata": {},
   "outputs": [],
   "source": [
    "class BankAccount:\n",
    "    def __init__(self, balance):\n",
    "        # Constructor to initialize the object with a specified balance\n",
    "        self._balance = balance\n",
    "\n",
    "    def _validate_amount(self, amount):\n",
    "        # Private method to validate if the amount is a positive number (int or float)\n",
    "        return isinstance(amount, (int, float)) and amount > 0\n",
    "\n",
    "    def deposit(self, amount):\n",
    "        # Method to deposit money into the account\n",
    "        if self._validate_amount(amount):\n",
    "            # If the amount is valid, add it to the balance\n",
    "            self._balance += amount\n",
    "            print(f\"Deposited {amount} successfully.\")\n",
    "\n",
    "    def withdraw(self, amount):\n",
    "        # Method to withdraw money from the account\n",
    "        if self._validate_amount(amount) and amount <= self._balance:\n",
    "            # If the amount is valid and doesn't exceed the balance, subtract it from the balance\n",
    "            self._balance -= amount\n",
    "            print(f\"Withdrew {amount} successfully.\")\n",
    "\n",
    "# Creating an instance of the BankAccount class with an initial balance of 1000\n",
    "account = BankAccount(1000)\n",
    "\n",
    "# Depositing 500 into the account\n",
    "account.deposit(500)   # Output: Deposited 500 successfully.\n",
    "\n",
    "# Withdrawing 200 from the account\n",
    "account.withdraw(200)  # Output: Withdrew 200 successfully.\n",
    "\n",
    "# Attempting to withdraw an invalid amount (negative value)\n",
    "account.withdraw(-100)  # No output, as the amount is not valid.\n",
    "\n",
    "# Attempting to withdraw more than the current balance\n",
    "account.withdraw(1500)  # No output, as the amount exceeds the balance.\n",
    "\n",
    "# Attempting to deposit an invalid amount (string)\n",
    "account.deposit(\"invalid\")  # No output, as the amount is not valid.\n",
    "\n",
    "# Checking the current balance\n",
    "print(f\"Current Balance: {account._balance}\")\n"
   ]
  },
  {
   "cell_type": "markdown",
   "id": "843a69c7-3595-49df-8810-a0b133b16488",
   "metadata": {},
   "source": [
    "## Abstraction "
   ]
  },
  {
   "cell_type": "code",
   "execution_count": 5,
   "id": "f541e93c-3d16-41d5-a4ac-794fed07a0ea",
   "metadata": {},
   "outputs": [],
   "source": [
    "from abc import ABC, abstractmethod\n",
    "\n",
    "class Shape(ABC):\n",
    "    @abstractmethod\n",
    "    def area(self):\n",
    "        pass\n",
    "\n",
    "class Circle(Shape):\n",
    "    def __init__(self, radius):\n",
    "        self.radius = radius\n",
    "\n",
    "    def area(self):\n",
    "        return 3.14 * self.radius ** 2\n",
    "\n",
    "class Rectangle(Shape):\n",
    "    def __init__(self, length, width):\n",
    "        self.length = length\n",
    "        self.width = width\n",
    "\n",
    "    def area(self):\n",
    "        return self.length * self.width\n"
   ]
  },
  {
   "cell_type": "markdown",
   "id": "159cc86a-eefb-4f9a-b2b0-98cf912cb5d2",
   "metadata": {},
   "source": [
    "#### Example 1: Abstraction with Abstract Base Class\n"
   ]
  },
  {
   "cell_type": "code",
   "execution_count": 7,
   "id": "02a8bf6f-6656-463d-9d98-68f6530a0471",
   "metadata": {},
   "outputs": [
    {
     "name": "stdout",
     "output_type": "stream",
     "text": [
      "Area: 78.5\n",
      "Area: 24\n"
     ]
    }
   ],
   "source": [
    "from abc import ABC, abstractmethod\n",
    "\n",
    "class Shape(ABC):  # Abstract base class\n",
    "    @abstractmethod\n",
    "    def area(self):\n",
    "        pass\n",
    "\n",
    "class Circle(Shape):\n",
    "    def __init__(self, radius):\n",
    "        self.radius = radius\n",
    "\n",
    "    def area(self):\n",
    "        return 3.14 * self.radius ** 2\n",
    "\n",
    "class Rectangle(Shape):\n",
    "    def __init__(self, length, width):\n",
    "        self.length = length\n",
    "        self.width = width\n",
    "\n",
    "    def area(self):\n",
    "        return self.length * self.width\n",
    "\n",
    "shapes = [Circle(5), Rectangle(4, 6)]\n",
    "\n",
    "for shape in shapes:\n",
    "    print(f\"Area: {shape.area()}\")\n"
   ]
  },
  {
   "cell_type": "code",
   "execution_count": 1,
   "id": "1b0932ff-2865-46e3-8285-23d14e03dea6",
   "metadata": {},
   "outputs": [
    {
     "name": "stdout",
     "output_type": "stream",
     "text": [
      "Area: 78.5\n",
      "Area: 24\n"
     ]
    }
   ],
   "source": [
    "from abc import ABC, abstractmethod\n",
    "\n",
    "# Define an abstract base class 'Shape'\n",
    "class Shape(ABC):  # Abstract base class\n",
    "    @abstractmethod\n",
    "    def area(self):\n",
    "        # Abstract method to calculate the area, to be implemented by concrete subclasses\n",
    "        pass\n",
    "\n",
    "# Concrete subclass 'Circle' that inherits from 'Shape'\n",
    "class Circle(Shape):\n",
    "    def __init__(self, radius):\n",
    "        # Constructor to initialize the Circle with a given radius\n",
    "        self.radius = radius\n",
    "\n",
    "    def area(self):\n",
    "        # Implementation of the abstract 'area' method for Circle\n",
    "        return 3.14 * self.radius ** 2\n",
    "\n",
    "# Concrete subclass 'Rectangle' that inherits from 'Shape'\n",
    "class Rectangle(Shape):\n",
    "    def __init__(self, length, width):\n",
    "        # Constructor to initialize the Rectangle with given length and width\n",
    "        self.length = length\n",
    "        self.width = width\n",
    "\n",
    "    def area(self):\n",
    "        # Implementation of the abstract 'area' method for Rectangle\n",
    "        return self.length * self.width\n",
    "\n",
    "# Creating instances of Circle and Rectangle\n",
    "shapes = [Circle(5), Rectangle(4, 6)]\n",
    "\n",
    "# Looping through the shapes and calculating and printing their areas\n",
    "for shape in shapes:\n",
    "    print(f\"Area: {shape.area()}\")\n"
   ]
  },
  {
   "cell_type": "code",
   "execution_count": 2,
   "id": "affa76c2-0f34-440d-85c3-24854c8e84c0",
   "metadata": {},
   "outputs": [
    {
     "data": {
      "text/plain": [
       "78.5"
      ]
     },
     "execution_count": 2,
     "metadata": {},
     "output_type": "execute_result"
    }
   ],
   "source": [
    "3.14 * 5 ** 2"
   ]
  },
  {
   "cell_type": "code",
   "execution_count": 3,
   "id": "948b3d54-69b7-4822-94f9-eccff29e7043",
   "metadata": {},
   "outputs": [
    {
     "data": {
      "text/plain": [
       "24"
      ]
     },
     "execution_count": 3,
     "metadata": {},
     "output_type": "execute_result"
    }
   ],
   "source": [
    "4*6"
   ]
  },
  {
   "cell_type": "markdown",
   "id": "6e6ad419-f40a-4038-bc9b-92446cdc0cf5",
   "metadata": {},
   "source": [
    "In this example, Shape is an abstract base class with an abstract method area(). Concrete subclasses like Circle and Rectangle inherit from Shape and provide their own implementations of the area() method.\n"
   ]
  },
  {
   "cell_type": "code",
   "execution_count": 8,
   "id": "7f7ff56d-1062-4219-86bb-a183fb629f4d",
   "metadata": {},
   "outputs": [
    {
     "name": "stdout",
     "output_type": "stream",
     "text": [
      "Woof!\n",
      "Meow!\n"
     ]
    }
   ],
   "source": [
    "from abc import ABC, abstractmethod\n",
    "\n",
    "class Animal(ABC):  # Abstract base class\n",
    "    @abstractmethod\n",
    "    def speak(self):\n",
    "        pass\n",
    "\n",
    "class Dog(Animal):\n",
    "    def speak(self):\n",
    "        return \"Woof!\"\n",
    "\n",
    "class Cat(Animal):\n",
    "    def speak(self):\n",
    "        return \"Meow!\"\n",
    "\n",
    "animals = [Dog(), Cat()]\n",
    "\n",
    "for animal in animals:\n",
    "    print(animal.speak())\n"
   ]
  },
  {
   "cell_type": "markdown",
   "id": "839de957-9ccb-493e-bdd0-d2c67c4e4860",
   "metadata": {},
   "source": [
    "Here, Animal is an abstract class with the abstract method speak(). Dog and Cat are concrete subclasses that implement their own versions of the speak() method. This example demonstrates how abstraction can be used to create an interface for different types of animals."
   ]
  },
  {
   "cell_type": "code",
   "execution_count": 9,
   "id": "f9604b54-c836-4fad-a2de-08c0b22e3076",
   "metadata": {},
   "outputs": [
    {
     "name": "stdout",
     "output_type": "stream",
     "text": [
      "Processing credit card payment of $100\n",
      "Processing PayPal payment of $100\n"
     ]
    }
   ],
   "source": [
    "class PaymentProcessor:\n",
    "    def process_payment(self, amount):\n",
    "        raise NotImplementedError(\"Subclasses must implement this method\")\n",
    "\n",
    "class CreditCardProcessor(PaymentProcessor):\n",
    "    def process_payment(self, amount):\n",
    "        print(f\"Processing credit card payment of ${amount}\")\n",
    "\n",
    "class PayPalProcessor(PaymentProcessor):\n",
    "    def process_payment(self, amount):\n",
    "        print(f\"Processing PayPal payment of ${amount}\")\n",
    "\n",
    "payment_methods = [CreditCardProcessor(), PayPalProcessor()]\n",
    "\n",
    "for method in payment_methods:\n",
    "    method.process_payment(100)\n"
   ]
  },
  {
   "cell_type": "markdown",
   "id": "1d409249-48bc-4b70-a0ac-85c3916269c4",
   "metadata": {},
   "source": [
    "In this example, PaymentProcessor is an abstract class with the abstract method process_payment(). Subclasses like CreditCardProcessor and PayPalProcessor provide specific implementations of payment processing. This demonstrates how abstraction can be used to define a common interface for different payment methods"
   ]
  },
  {
   "cell_type": "markdown",
   "id": "5b8c793f-b5a7-4d32-9406-b9729299beb2",
   "metadata": {},
   "source": [
    "## Polymorphism \n"
   ]
  },
  {
   "cell_type": "code",
   "execution_count": 10,
   "id": "7a2cec37-cf9b-415c-99a6-82fd3656a911",
   "metadata": {},
   "outputs": [
    {
     "ename": "TypeError",
     "evalue": "add() missing 1 required positional argument: 'c'",
     "output_type": "error",
     "traceback": [
      "\u001b[0;31m---------------------------------------------------------------------------\u001b[0m",
      "\u001b[0;31mTypeError\u001b[0m                                 Traceback (most recent call last)",
      "Input \u001b[0;32mIn [10]\u001b[0m, in \u001b[0;36m<cell line: 11>\u001b[0;34m()\u001b[0m\n\u001b[1;32m      8\u001b[0m         \u001b[38;5;28;01mreturn\u001b[39;00m a \u001b[38;5;241m+\u001b[39m b \u001b[38;5;241m+\u001b[39m c\n\u001b[1;32m     10\u001b[0m math_obj \u001b[38;5;241m=\u001b[39m MathOperations()\n\u001b[0;32m---> 11\u001b[0m \u001b[38;5;28mprint\u001b[39m(\u001b[43mmath_obj\u001b[49m\u001b[38;5;241;43m.\u001b[39;49m\u001b[43madd\u001b[49m\u001b[43m(\u001b[49m\u001b[38;5;241;43m2\u001b[39;49m\u001b[43m,\u001b[49m\u001b[43m \u001b[49m\u001b[38;5;241;43m3\u001b[39;49m\u001b[43m)\u001b[49m)       \u001b[38;5;66;03m# Error: Only the second add() method is accessible\u001b[39;00m\n\u001b[1;32m     12\u001b[0m \u001b[38;5;28mprint\u001b[39m(math_obj\u001b[38;5;241m.\u001b[39madd(\u001b[38;5;241m2\u001b[39m, \u001b[38;5;241m3\u001b[39m, \u001b[38;5;241m4\u001b[39m))\n",
      "\u001b[0;31mTypeError\u001b[0m: add() missing 1 required positional argument: 'c'"
     ]
    }
   ],
   "source": [
    "#Compile-Time (Static) Polymorphism Example:\n",
    "\n",
    "class MathOperations:\n",
    "    def add(self, a, b):\n",
    "        return a + b\n",
    "\n",
    "    def add(self, a, b, c):\n",
    "        return a + b + c\n",
    "\n",
    "math_obj = MathOperations()\n",
    "print(math_obj.add(2, 3))       # Error: Only the second add() method is accessible\n",
    "print(math_obj.add(2, 3, 4))    # Output: 9\n"
   ]
  },
  {
   "cell_type": "code",
   "execution_count": 4,
   "id": "031fcce5-4730-485b-91c4-e0438d851a65",
   "metadata": {},
   "outputs": [
    {
     "name": "stdout",
     "output_type": "stream",
     "text": [
      "78.5\n",
      "24\n"
     ]
    }
   ],
   "source": [
    "#Run-Time (Dynamic) Polymorphism Example:\n",
    "class Shape:\n",
    "    def area(self):\n",
    "        pass\n",
    "\n",
    "class Circle(Shape):\n",
    "    def __init__(self, radius):\n",
    "        self.radius = radius\n",
    "\n",
    "    def area(self):\n",
    "        return 3.14 * self.radius ** 2\n",
    "\n",
    "class Rectangle(Shape):\n",
    "    def __init__(self, length, width):\n",
    "        self.length = length\n",
    "        self.width = width\n",
    "\n",
    "    def area(self):\n",
    "        return self.length * self.width\n",
    "\n",
    "def calculate_area(shape):\n",
    "    return shape.area()\n",
    "\n",
    "circle = Circle(5)\n",
    "rectangle = Rectangle(4, 6)\n",
    "\n",
    "print(calculate_area(circle))      # Output: 78.5\n",
    "print(calculate_area(rectangle))   # Output: 24\n",
    "\n"
   ]
  },
  {
   "cell_type": "markdown",
   "id": "897952ed-d070-4d05-a2fc-15f1e041a62a",
   "metadata": {},
   "source": [
    "### Overloading and Overriding\n"
   ]
  },
  {
   "cell_type": "code",
   "execution_count": 5,
   "id": "064572ee-13c3-464c-bb70-d2fd36e0279e",
   "metadata": {},
   "outputs": [
    {
     "name": "stdout",
     "output_type": "stream",
     "text": [
      "5\n",
      "9\n"
     ]
    }
   ],
   "source": [
    "#overloading \n",
    "class MathOperations:\n",
    "    def add(self, a, b, c=None):\n",
    "        if c is not None:\n",
    "            return a + b + c\n",
    "        return a + b\n",
    "\n",
    "math_obj = MathOperations()\n",
    "print(math_obj.add(2, 3))       # Output: 5\n",
    "print(math_obj.add(2, 3, 4))    # Output: 9\n"
   ]
  },
  {
   "cell_type": "code",
   "execution_count": 6,
   "id": "ec1a8c3a-4fd3-4955-819b-863c51949766",
   "metadata": {},
   "outputs": [
    {
     "name": "stdout",
     "output_type": "stream",
     "text": [
      "78.5\n",
      "24\n"
     ]
    }
   ],
   "source": [
    "#over riding\n",
    "class Shape:\n",
    "    def area(self):\n",
    "        return 0\n",
    "\n",
    "class Circle(Shape):\n",
    "    def __init__(self, radius):\n",
    "        self.radius = radius\n",
    "\n",
    "    def area(self):\n",
    "        return 3.14 * self.radius ** 2\n",
    "\n",
    "class Rectangle(Shape):\n",
    "    def __init__(self, length, width):\n",
    "        self.length = length\n",
    "        self.width = width\n",
    "\n",
    "    def area(self):\n",
    "        return self.length * self.width\n",
    "\n",
    "circle = Circle(5)\n",
    "rectangle = Rectangle(4, 6)\n",
    "\n",
    "print(circle.area())      # Output: 78.5\n",
    "print(rectangle.area())   # Output: 24\n"
   ]
  },
  {
   "cell_type": "markdown",
   "id": "7c82a256-dfea-46fe-8f4c-be19ac93d3f7",
   "metadata": {},
   "source": [
    " # Practice"
   ]
  },
  {
   "cell_type": "markdown",
   "id": "09a74f98-c759-4077-919c-ad14885efd59",
   "metadata": {},
   "source": [
    "Question 1: What is inheritance in OOP?\n",
    "\n",
    "Answer:\n",
    "\n",
    "Inheritance is a fundamental OOP concept where a new class (subclass or derived class) is created from an existing class (base class or superclass). The subclass inherits attributes and behaviors (methods) from the superclass, allowing code reuse and specialization."
   ]
  },
  {
   "cell_type": "code",
   "execution_count": 14,
   "id": "2c477650-ff72-4693-bcb4-77257a065e8d",
   "metadata": {},
   "outputs": [
    {
     "name": "stdout",
     "output_type": "stream",
     "text": [
      "Toyota car is driving.\n",
      "Honda bike is riding.\n"
     ]
    }
   ],
   "source": [
    "class Vehicle:\n",
    "    def __init__(self, brand):\n",
    "        self.brand = brand\n",
    "\n",
    "class Car(Vehicle):\n",
    "    def drive(self):\n",
    "        return f\"{self.brand} car is driving.\"\n",
    "\n",
    "class Bike(Vehicle):\n",
    "    def ride(self):\n",
    "        return f\"{self.brand} bike is riding.\"\n",
    "\n",
    "car = Car(\"Toyota\")\n",
    "bike = Bike(\"Honda\")\n",
    "\n",
    "print(car.drive())  # Output: Toyota car is driving.\n",
    "print(bike.ride())  # Output: Honda bike is riding.\n"
   ]
  },
  {
   "cell_type": "markdown",
   "id": "6736fe14-4502-4a9f-85aa-208299df4415",
   "metadata": {},
   "source": [
    "Question 2: What is abstraction in OOP?\n",
    "\n",
    "Answer:\n",
    "\n",
    "Abstraction is the process of simplifying complex reality by modeling classes based on essential attributes and behaviors. It involves creating a blueprint for objects without exposing all implementation details."
   ]
  },
  {
   "cell_type": "code",
   "execution_count": 15,
   "id": "e2ebf562-b1cf-49de-8040-c5daa399d40d",
   "metadata": {},
   "outputs": [
    {
     "name": "stdout",
     "output_type": "stream",
     "text": [
      "78.5\n"
     ]
    }
   ],
   "source": [
    "from abc import ABC, abstractmethod\n",
    "\n",
    "class Shape(ABC):\n",
    "    @abstractmethod\n",
    "    def area(self):\n",
    "        pass\n",
    "\n",
    "class Circle(Shape):\n",
    "    def __init__(self, radius):\n",
    "        self.radius = radius\n",
    "\n",
    "    def area(self):\n",
    "        return 3.14 * self.radius ** 2\n",
    "\n",
    "circle = Circle(5)\n",
    "print(circle.area())  # Output: 78.5\n"
   ]
  },
  {
   "cell_type": "markdown",
   "id": "c9f9c29c-8396-4733-a89c-0a362011ad85",
   "metadata": {},
   "source": [
    "Question 3: What is polymorphism in OOP?\n",
    "\n",
    "Answer:\n",
    "\n",
    "Polymorphism allows objects of different classes to be treated as objects of a common superclass. It enables a single interface to represent a general class of actions, which can be performed in a similar way regardless of the specific implementation in subclasses."
   ]
  },
  {
   "cell_type": "code",
   "execution_count": 16,
   "id": "fce98ee8-d110-4bb7-8124-f0a27445dcdf",
   "metadata": {},
   "outputs": [
    {
     "name": "stdout",
     "output_type": "stream",
     "text": [
      "Woof!\n",
      "Meow!\n"
     ]
    }
   ],
   "source": [
    "class Animal:\n",
    "    def speak(self):\n",
    "        pass\n",
    "\n",
    "class Dog(Animal):\n",
    "    def speak(self):\n",
    "        return \"Woof!\"\n",
    "\n",
    "class Cat(Animal):\n",
    "    def speak(self):\n",
    "        return \"Meow!\"\n",
    "\n",
    "def animal_sound(animal):\n",
    "    return animal.speak()\n",
    "\n",
    "dog = Dog()\n",
    "cat = Cat()\n",
    "\n",
    "print(animal_sound(dog))  # Output: Woof!\n",
    "print(animal_sound(cat))  # Output: Meow!\n"
   ]
  },
  {
   "cell_type": "markdown",
   "id": "918757f3-9542-46f3-987b-3efd6281b52c",
   "metadata": {},
   "source": [
    "## Questions"
   ]
  },
  {
   "cell_type": "markdown",
   "id": "6f457c9d-b45e-47cd-8378-8fd1cb69e50c",
   "metadata": {},
   "source": [
    "Question 1: Create a Python class Rectangle with attributes length and width, and a method calculate_area() that calculates and returns the area of the rectangle."
   ]
  },
  {
   "cell_type": "code",
   "execution_count": 17,
   "id": "1af19921-098e-4d55-b94c-ba023889dfa9",
   "metadata": {},
   "outputs": [
    {
     "name": "stdout",
     "output_type": "stream",
     "text": [
      "The area of the rectangle is 20 square units.\n"
     ]
    }
   ],
   "source": [
    "class Rectangle:\n",
    "    def __init__(self, length, width):\n",
    "        self.length = length\n",
    "        self.width = width\n",
    "\n",
    "    def calculate_area(self):\n",
    "        return self.length * self.width\n",
    "\n",
    "# Creating an instance of the Rectangle class\n",
    "rectangle = Rectangle(4, 5)\n",
    "area = rectangle.calculate_area()\n",
    "print(f\"The area of the rectangle is {area} square units.\")  # Output: The area of the rectangle is 20 square units.\n"
   ]
  },
  {
   "cell_type": "markdown",
   "id": "023e6e21-81ad-4610-86f0-08be630934a4",
   "metadata": {},
   "source": [
    "Question 2: Create a Python class Circle with an attribute radius and methods calculate_area() and calculate_circumference() to calculate the area and circumference of the circle."
   ]
  },
  {
   "cell_type": "code",
   "execution_count": 18,
   "id": "cfad089e-40e7-48b6-a2f9-2aef5cefa02a",
   "metadata": {},
   "outputs": [
    {
     "name": "stdout",
     "output_type": "stream",
     "text": [
      "The area of the circle is 78.5 square units.\n",
      "The circumference of the circle is 31.400000000000002 units.\n"
     ]
    }
   ],
   "source": [
    "class Circle:\n",
    "    def __init__(self, radius):\n",
    "        self.radius = radius\n",
    "\n",
    "    def calculate_area(self):\n",
    "        return 3.14 * self.radius ** 2\n",
    "\n",
    "    def calculate_circumference(self):\n",
    "        return 2 * 3.14 * self.radius\n",
    "\n",
    "# Creating an instance of the Circle class\n",
    "circle = Circle(5)\n",
    "area = circle.calculate_area()\n",
    "circumference = circle.calculate_circumference()\n",
    "print(f\"The area of the circle is {area} square units.\")\n",
    "print(f\"The circumference of the circle is {circumference} units.\")\n"
   ]
  },
  {
   "cell_type": "markdown",
   "id": "3945cfce-c3da-4d8f-91f0-06c45f209929",
   "metadata": {},
   "source": [
    "question 3: Create a Python class Employee with attributes name, salary, and role. Implement a method get_details() that prints the employee's details."
   ]
  },
  {
   "cell_type": "code",
   "execution_count": 19,
   "id": "5f6f4b3c-e7dd-4013-a24e-20d01ce59371",
   "metadata": {},
   "outputs": [
    {
     "name": "stdout",
     "output_type": "stream",
     "text": [
      "Name: Alice, Salary: $50000, Role: Software Engineer\n"
     ]
    }
   ],
   "source": [
    "class Employee:\n",
    "    def __init__(self, name, salary, role):\n",
    "        self.name = name\n",
    "        self.salary = salary\n",
    "        self.role = role\n",
    "\n",
    "    def get_details(self):\n",
    "        print(f\"Name: {self.name}, Salary: ${self.salary}, Role: {self.role}\")\n",
    "\n",
    "# Creating an instance of the Employee class\n",
    "employee = Employee(\"Alice\", 50000, \"Software Engineer\")\n",
    "employee.get_details()  # Output: Name: Alice, Salary: $50000, Role: Software Engineer\n"
   ]
  },
  {
   "cell_type": "markdown",
   "id": "5a1b2710-e872-4f28-bc74-b256c0667e20",
   "metadata": {},
   "source": [
    "Question 4: Create a Python class BankAccount with attributes account_number and balance. Implement methods deposit() and withdraw() to modify the account balance."
   ]
  },
  {
   "cell_type": "code",
   "execution_count": 20,
   "id": "543df36d-c233-4134-b813-73f6adf946c5",
   "metadata": {},
   "outputs": [
    {
     "name": "stdout",
     "output_type": "stream",
     "text": [
      "Deposited $500. New balance: $1500\n",
      "Withdrew $200. New balance: $1300\n",
      "Insufficient funds.\n"
     ]
    }
   ],
   "source": [
    "class BankAccount:\n",
    "    def __init__(self, account_number, balance):\n",
    "        self.account_number = account_number\n",
    "        self.balance = balance\n",
    "\n",
    "    def deposit(self, amount):\n",
    "        if amount > 0:\n",
    "            self.balance += amount\n",
    "            print(f\"Deposited ${amount}. New balance: ${self.balance}\")\n",
    "\n",
    "    def withdraw(self, amount):\n",
    "        if 0 < amount <= self.balance:\n",
    "            self.balance -= amount\n",
    "            print(f\"Withdrew ${amount}. New balance: ${self.balance}\")\n",
    "        else:\n",
    "            print(\"Insufficient funds.\")\n",
    "\n",
    "# Creating an instance of the BankAccount class\n",
    "account = BankAccount(\"123456789\", 1000)\n",
    "account.deposit(500)  # Output: Deposited $500. New balance: $1500\n",
    "account.withdraw(200)  # Output: Withdrew $200. New balance: $1300\n",
    "account.withdraw(1500)  # Output: Insufficient funds.\n"
   ]
  },
  {
   "cell_type": "markdown",
   "id": "43c33703-7c26-4dfa-b4e0-4ace9260c6c2",
   "metadata": {},
   "source": [
    "Question 5: Create a Python class Person with attributes name and age. Implement a method is_adult() that returns True if the person's age is greater than or equal to 18, and False otherwise"
   ]
  },
  {
   "cell_type": "code",
   "execution_count": 21,
   "id": "e1485425-4c8b-4473-b163-9bc8157d2274",
   "metadata": {},
   "outputs": [
    {
     "name": "stdout",
     "output_type": "stream",
     "text": [
      "True\n",
      "False\n"
     ]
    }
   ],
   "source": [
    "class Person:\n",
    "    def __init__(self, name, age):\n",
    "        self.name = name\n",
    "        self.age = age\n",
    "\n",
    "    def is_adult(self):\n",
    "        return self.age >= 18\n",
    "\n",
    "# Creating an instance of the Person class\n",
    "person1 = Person(\"Alice\", 25)\n",
    "person2 = Person(\"Bob\", 15)\n",
    "\n",
    "print(person1.is_adult())  # Output: True\n",
    "print(person2.is_adult())  # Output: False\n"
   ]
  },
  {
   "cell_type": "markdown",
   "id": "cd00b84b-c494-4f67-9498-f575fb1fba28",
   "metadata": {},
   "source": [
    "Question 6: Create a Python class Book with attributes title, author, and year. Implement a method display_info() that prints the book's information."
   ]
  },
  {
   "cell_type": "code",
   "execution_count": 22,
   "id": "fd15d736-b1ac-4745-be6a-c68a187060ef",
   "metadata": {},
   "outputs": [
    {
     "name": "stdout",
     "output_type": "stream",
     "text": [
      "Title: Python Programming, Author: John Smith, Year: 2022\n",
      "Title: Data Science Handbook, Author: Jane Doe, Year: 2021\n"
     ]
    }
   ],
   "source": [
    "class Book:\n",
    "    def __init__(self, title, author, year):\n",
    "        self.title = title\n",
    "        self.author = author\n",
    "        self.year = year\n",
    "\n",
    "    def display_info(self):\n",
    "        print(f\"Title: {self.title}, Author: {self.author}, Year: {self.year}\")\n",
    "\n",
    "# Creating an instance of the Book class\n",
    "book1 = Book(\"Python Programming\", \"John Smith\", 2022)\n",
    "book2 = Book(\"Data Science Handbook\", \"Jane Doe\", 2021)\n",
    "\n",
    "book1.display_info()\n",
    "book2.display_info()\n"
   ]
  },
  {
   "cell_type": "markdown",
   "id": "ff2133a4-1d6e-4d4e-872a-d5678b4c59d4",
   "metadata": {},
   "source": [
    "Question 7: Create a Python class Shape with an abstract method area(). Implement subclasses Circle and Rectangle that calculate their respective areas."
   ]
  },
  {
   "cell_type": "code",
   "execution_count": 23,
   "id": "f748ab8c-ccde-46d7-9062-dc7eb4cb9d56",
   "metadata": {},
   "outputs": [
    {
     "name": "stdout",
     "output_type": "stream",
     "text": [
      "78.5\n",
      "24\n"
     ]
    }
   ],
   "source": [
    "from abc import ABC, abstractmethod\n",
    "\n",
    "class Shape(ABC):\n",
    "    @abstractmethod\n",
    "    def area(self):\n",
    "        pass\n",
    "\n",
    "class Circle(Shape):\n",
    "    def __init__(self, radius):\n",
    "        self.radius = radius\n",
    "\n",
    "    def area(self):\n",
    "        return 3.14 * self.radius ** 2\n",
    "\n",
    "class Rectangle(Shape):\n",
    "    def __init__(self, length, width):\n",
    "        self.length = length\n",
    "        self.width = width\n",
    "\n",
    "    def area(self):\n",
    "        return self.length * self.width\n",
    "\n",
    "circle = Circle(5)\n",
    "rectangle = Rectangle(4, 6)\n",
    "\n",
    "print(circle.area())      # Output: 78.5\n",
    "print(rectangle.area())   # Output: 24\n"
   ]
  },
  {
   "cell_type": "markdown",
   "id": "efafc931-8a06-4419-abbd-3033c0f2652d",
   "metadata": {},
   "source": [
    "Question 8: Create a Python class Vehicle with an attribute color and a method honk() that prints a honking sound. Implement subclasses Car and Bike with additional methods."
   ]
  },
  {
   "cell_type": "code",
   "execution_count": 24,
   "id": "2a301630-3cc1-4e9e-9d32-5b36f2b9a30c",
   "metadata": {},
   "outputs": [
    {
     "name": "stdout",
     "output_type": "stream",
     "text": [
      "A Red car is honking.\n",
      "A Blue bike is honking.\n"
     ]
    }
   ],
   "source": [
    "class Vehicle:\n",
    "    def __init__(self, color):\n",
    "        self.color = color\n",
    "\n",
    "    def honk(self):\n",
    "        pass\n",
    "\n",
    "class Car(Vehicle):\n",
    "    def honk(self):\n",
    "        return f\"A {self.color} car is honking.\"\n",
    "\n",
    "class Bike(Vehicle):\n",
    "    def honk(self):\n",
    "        return f\"A {self.color} bike is honking.\"\n",
    "\n",
    "car = Car(\"Red\")\n",
    "bike = Bike(\"Blue\")\n",
    "\n",
    "print(car.honk())  # Output: A Red car is honking.\n",
    "print(bike.honk())  # Output: A Blue bike is honking.\n"
   ]
  },
  {
   "cell_type": "code",
   "execution_count": null,
   "id": "75a8f7d3-26d7-45d4-9fb7-fe2d32ea60c2",
   "metadata": {},
   "outputs": [],
   "source": []
  }
 ],
 "metadata": {
  "kernelspec": {
   "display_name": "Python 3 (ipykernel)",
   "language": "python",
   "name": "python3"
  },
  "language_info": {
   "codemirror_mode": {
    "name": "ipython",
    "version": 3
   },
   "file_extension": ".py",
   "mimetype": "text/x-python",
   "name": "python",
   "nbconvert_exporter": "python",
   "pygments_lexer": "ipython3",
   "version": "3.10.9"
  }
 },
 "nbformat": 4,
 "nbformat_minor": 5
}
