{
 "cells": [
  {
   "cell_type": "markdown",
   "id": "6f5d3d06-6d2e-48d9-8064-374e7acdf26b",
   "metadata": {},
   "source": [
    "## First example"
   ]
  },
  {
   "cell_type": "markdown",
   "id": "98a844a5-e288-4051-87fa-9abe7daffd39",
   "metadata": {},
   "source": [
    "pip install requests beautifulsoup4"
   ]
  },
  {
   "cell_type": "code",
   "execution_count": 4,
   "id": "d6bf2102-384f-4378-adda-79f067ea4653",
   "metadata": {},
   "outputs": [],
   "source": [
    "import requests\n",
    "from bs4 import BeautifulSoup"
   ]
  },
  {
   "cell_type": "code",
   "execution_count": 5,
   "id": "1ff85b1f-a061-4d31-8802-f8150ba74d75",
   "metadata": {},
   "outputs": [
    {
     "data": {
      "text/plain": [
       "<Response [200]>"
      ]
     },
     "execution_count": 5,
     "metadata": {},
     "output_type": "execute_result"
    }
   ],
   "source": [
    "url = \"http://quotes.toscrape.com/\"\n",
    "requests.get(url)"
   ]
  },
  {
   "cell_type": "code",
   "execution_count": 6,
   "id": "3c27880b-0804-422d-96bf-185e9d92d068",
   "metadata": {},
   "outputs": [
    {
     "data": {
      "text/plain": [
       "<Response [404]>"
      ]
     },
     "execution_count": 6,
     "metadata": {},
     "output_type": "execute_result"
    }
   ],
   "source": [
    "url = \"https://huggingface.co/tttpo\"\n",
    "requests.get(url)"
   ]
  },
  {
   "cell_type": "code",
   "execution_count": 8,
   "id": "7b6fe2e9-86c0-4c97-a48d-b240f962ede4",
   "metadata": {},
   "outputs": [],
   "source": [
    "url = \"http://quotes.toscrape.com/\"\n",
    "response = requests.get(url)"
   ]
  },
  {
   "cell_type": "code",
   "execution_count": 9,
   "id": "8fbafd94-363e-4c01-8326-28b18be46d79",
   "metadata": {},
   "outputs": [
    {
     "data": {
      "text/plain": [
       "b'<!DOCTYPE html>\\n<html lang=\"en\">\\n<head>\\n\\t<meta charset=\"UTF-8\">\\n\\t<title>Quotes to Scrape</title>\\n    <link rel=\"stylesheet\" href=\"/static/bootstrap.min.css\">\\n    <link rel=\"stylesheet\" href=\"/static/main.css\">\\n</head>\\n<body>\\n    <div class=\"container\">\\n        <div class=\"row header-box\">\\n            <div class=\"col-md-8\">\\n                <h1>\\n                    <a href=\"/\" style=\"text-decoration: none\">Quotes to Scrape</a>\\n                </h1>\\n            </div>\\n            <div class=\"col-md-4\">\\n                <p>\\n                \\n                    <a href=\"/login\">Login</a>\\n                \\n                </p>\\n            </div>\\n        </div>\\n    \\n\\n<div class=\"row\">\\n    <div class=\"col-md-8\">\\n\\n    <div class=\"quote\" itemscope itemtype=\"http://schema.org/CreativeWork\">\\n        <span class=\"text\" itemprop=\"text\">\\xe2\\x80\\x9cThe world as we have created it is a process of our thinking. It cannot be changed without changing our thinking.\\xe2\\x80\\x9d</span>\\n        <span>by <small class=\"author\" itemprop=\"author\">Albert Einstein</small>\\n        <a href=\"/author/Albert-Einstein\">(about)</a>\\n        </span>\\n        <div class=\"tags\">\\n            Tags:\\n            <meta class=\"keywords\" itemprop=\"keywords\" content=\"change,deep-thoughts,thinking,world\" /    > \\n            \\n            <a class=\"tag\" href=\"/tag/change/page/1/\">change</a>\\n            \\n            <a class=\"tag\" href=\"/tag/deep-thoughts/page/1/\">deep-thoughts</a>\\n            \\n            <a class=\"tag\" href=\"/tag/thinking/page/1/\">thinking</a>\\n            \\n            <a class=\"tag\" href=\"/tag/world/page/1/\">world</a>\\n            \\n        </div>\\n    </div>\\n\\n    <div class=\"quote\" itemscope itemtype=\"http://schema.org/CreativeWork\">\\n        <span class=\"text\" itemprop=\"text\">\\xe2\\x80\\x9cIt is our choices, Harry, that show what we truly are, far more than our abilities.\\xe2\\x80\\x9d</span>\\n        <span>by <small class=\"author\" itemprop=\"author\">J.K. Rowling</small>\\n        <a href=\"/author/J-K-Rowling\">(about)</a>\\n        </span>\\n        <div class=\"tags\">\\n            Tags:\\n            <meta class=\"keywords\" itemprop=\"keywords\" content=\"abilities,choices\" /    > \\n            \\n            <a class=\"tag\" href=\"/tag/abilities/page/1/\">abilities</a>\\n            \\n            <a class=\"tag\" href=\"/tag/choices/page/1/\">choices</a>\\n            \\n        </div>\\n    </div>\\n\\n    <div class=\"quote\" itemscope itemtype=\"http://schema.org/CreativeWork\">\\n        <span class=\"text\" itemprop=\"text\">\\xe2\\x80\\x9cThere are only two ways to live your life. One is as though nothing is a miracle. The other is as though everything is a miracle.\\xe2\\x80\\x9d</span>\\n        <span>by <small class=\"author\" itemprop=\"author\">Albert Einstein</small>\\n        <a href=\"/author/Albert-Einstein\">(about)</a>\\n        </span>\\n        <div class=\"tags\">\\n            Tags:\\n            <meta class=\"keywords\" itemprop=\"keywords\" content=\"inspirational,life,live,miracle,miracles\" /    > \\n            \\n            <a class=\"tag\" href=\"/tag/inspirational/page/1/\">inspirational</a>\\n            \\n            <a class=\"tag\" href=\"/tag/life/page/1/\">life</a>\\n            \\n            <a class=\"tag\" href=\"/tag/live/page/1/\">live</a>\\n            \\n            <a class=\"tag\" href=\"/tag/miracle/page/1/\">miracle</a>\\n            \\n            <a class=\"tag\" href=\"/tag/miracles/page/1/\">miracles</a>\\n            \\n        </div>\\n    </div>\\n\\n    <div class=\"quote\" itemscope itemtype=\"http://schema.org/CreativeWork\">\\n        <span class=\"text\" itemprop=\"text\">\\xe2\\x80\\x9cThe person, be it gentleman or lady, who has not pleasure in a good novel, must be intolerably stupid.\\xe2\\x80\\x9d</span>\\n        <span>by <small class=\"author\" itemprop=\"author\">Jane Austen</small>\\n        <a href=\"/author/Jane-Austen\">(about)</a>\\n        </span>\\n        <div class=\"tags\">\\n            Tags:\\n            <meta class=\"keywords\" itemprop=\"keywords\" content=\"aliteracy,books,classic,humor\" /    > \\n            \\n            <a class=\"tag\" href=\"/tag/aliteracy/page/1/\">aliteracy</a>\\n            \\n            <a class=\"tag\" href=\"/tag/books/page/1/\">books</a>\\n            \\n            <a class=\"tag\" href=\"/tag/classic/page/1/\">classic</a>\\n            \\n            <a class=\"tag\" href=\"/tag/humor/page/1/\">humor</a>\\n            \\n        </div>\\n    </div>\\n\\n    <div class=\"quote\" itemscope itemtype=\"http://schema.org/CreativeWork\">\\n        <span class=\"text\" itemprop=\"text\">\\xe2\\x80\\x9cImperfection is beauty, madness is genius and it&#39;s better to be absolutely ridiculous than absolutely boring.\\xe2\\x80\\x9d</span>\\n        <span>by <small class=\"author\" itemprop=\"author\">Marilyn Monroe</small>\\n        <a href=\"/author/Marilyn-Monroe\">(about)</a>\\n        </span>\\n        <div class=\"tags\">\\n            Tags:\\n            <meta class=\"keywords\" itemprop=\"keywords\" content=\"be-yourself,inspirational\" /    > \\n            \\n            <a class=\"tag\" href=\"/tag/be-yourself/page/1/\">be-yourself</a>\\n            \\n            <a class=\"tag\" href=\"/tag/inspirational/page/1/\">inspirational</a>\\n            \\n        </div>\\n    </div>\\n\\n    <div class=\"quote\" itemscope itemtype=\"http://schema.org/CreativeWork\">\\n        <span class=\"text\" itemprop=\"text\">\\xe2\\x80\\x9cTry not to become a man of success. Rather become a man of value.\\xe2\\x80\\x9d</span>\\n        <span>by <small class=\"author\" itemprop=\"author\">Albert Einstein</small>\\n        <a href=\"/author/Albert-Einstein\">(about)</a>\\n        </span>\\n        <div class=\"tags\">\\n            Tags:\\n            <meta class=\"keywords\" itemprop=\"keywords\" content=\"adulthood,success,value\" /    > \\n            \\n            <a class=\"tag\" href=\"/tag/adulthood/page/1/\">adulthood</a>\\n            \\n            <a class=\"tag\" href=\"/tag/success/page/1/\">success</a>\\n            \\n            <a class=\"tag\" href=\"/tag/value/page/1/\">value</a>\\n            \\n        </div>\\n    </div>\\n\\n    <div class=\"quote\" itemscope itemtype=\"http://schema.org/CreativeWork\">\\n        <span class=\"text\" itemprop=\"text\">\\xe2\\x80\\x9cIt is better to be hated for what you are than to be loved for what you are not.\\xe2\\x80\\x9d</span>\\n        <span>by <small class=\"author\" itemprop=\"author\">Andr\\xc3\\xa9 Gide</small>\\n        <a href=\"/author/Andre-Gide\">(about)</a>\\n        </span>\\n        <div class=\"tags\">\\n            Tags:\\n            <meta class=\"keywords\" itemprop=\"keywords\" content=\"life,love\" /    > \\n            \\n            <a class=\"tag\" href=\"/tag/life/page/1/\">life</a>\\n            \\n            <a class=\"tag\" href=\"/tag/love/page/1/\">love</a>\\n            \\n        </div>\\n    </div>\\n\\n    <div class=\"quote\" itemscope itemtype=\"http://schema.org/CreativeWork\">\\n        <span class=\"text\" itemprop=\"text\">\\xe2\\x80\\x9cI have not failed. I&#39;ve just found 10,000 ways that won&#39;t work.\\xe2\\x80\\x9d</span>\\n        <span>by <small class=\"author\" itemprop=\"author\">Thomas A. Edison</small>\\n        <a href=\"/author/Thomas-A-Edison\">(about)</a>\\n        </span>\\n        <div class=\"tags\">\\n            Tags:\\n            <meta class=\"keywords\" itemprop=\"keywords\" content=\"edison,failure,inspirational,paraphrased\" /    > \\n            \\n            <a class=\"tag\" href=\"/tag/edison/page/1/\">edison</a>\\n            \\n            <a class=\"tag\" href=\"/tag/failure/page/1/\">failure</a>\\n            \\n            <a class=\"tag\" href=\"/tag/inspirational/page/1/\">inspirational</a>\\n            \\n            <a class=\"tag\" href=\"/tag/paraphrased/page/1/\">paraphrased</a>\\n            \\n        </div>\\n    </div>\\n\\n    <div class=\"quote\" itemscope itemtype=\"http://schema.org/CreativeWork\">\\n        <span class=\"text\" itemprop=\"text\">\\xe2\\x80\\x9cA woman is like a tea bag; you never know how strong it is until it&#39;s in hot water.\\xe2\\x80\\x9d</span>\\n        <span>by <small class=\"author\" itemprop=\"author\">Eleanor Roosevelt</small>\\n        <a href=\"/author/Eleanor-Roosevelt\">(about)</a>\\n        </span>\\n        <div class=\"tags\">\\n            Tags:\\n            <meta class=\"keywords\" itemprop=\"keywords\" content=\"misattributed-eleanor-roosevelt\" /    > \\n            \\n            <a class=\"tag\" href=\"/tag/misattributed-eleanor-roosevelt/page/1/\">misattributed-eleanor-roosevelt</a>\\n            \\n        </div>\\n    </div>\\n\\n    <div class=\"quote\" itemscope itemtype=\"http://schema.org/CreativeWork\">\\n        <span class=\"text\" itemprop=\"text\">\\xe2\\x80\\x9cA day without sunshine is like, you know, night.\\xe2\\x80\\x9d</span>\\n        <span>by <small class=\"author\" itemprop=\"author\">Steve Martin</small>\\n        <a href=\"/author/Steve-Martin\">(about)</a>\\n        </span>\\n        <div class=\"tags\">\\n            Tags:\\n            <meta class=\"keywords\" itemprop=\"keywords\" content=\"humor,obvious,simile\" /    > \\n            \\n            <a class=\"tag\" href=\"/tag/humor/page/1/\">humor</a>\\n            \\n            <a class=\"tag\" href=\"/tag/obvious/page/1/\">obvious</a>\\n            \\n            <a class=\"tag\" href=\"/tag/simile/page/1/\">simile</a>\\n            \\n        </div>\\n    </div>\\n\\n    <nav>\\n        <ul class=\"pager\">\\n            \\n            \\n            <li class=\"next\">\\n                <a href=\"/page/2/\">Next <span aria-hidden=\"true\">&rarr;</span></a>\\n            </li>\\n            \\n        </ul>\\n    </nav>\\n    </div>\\n    <div class=\"col-md-4 tags-box\">\\n        \\n            <h2>Top Ten tags</h2>\\n            \\n            <span class=\"tag-item\">\\n            <a class=\"tag\" style=\"font-size: 28px\" href=\"/tag/love/\">love</a>\\n            </span>\\n            \\n            <span class=\"tag-item\">\\n            <a class=\"tag\" style=\"font-size: 26px\" href=\"/tag/inspirational/\">inspirational</a>\\n            </span>\\n            \\n            <span class=\"tag-item\">\\n            <a class=\"tag\" style=\"font-size: 26px\" href=\"/tag/life/\">life</a>\\n            </span>\\n            \\n            <span class=\"tag-item\">\\n            <a class=\"tag\" style=\"font-size: 24px\" href=\"/tag/humor/\">humor</a>\\n            </span>\\n            \\n            <span class=\"tag-item\">\\n            <a class=\"tag\" style=\"font-size: 22px\" href=\"/tag/books/\">books</a>\\n            </span>\\n            \\n            <span class=\"tag-item\">\\n            <a class=\"tag\" style=\"font-size: 14px\" href=\"/tag/reading/\">reading</a>\\n            </span>\\n            \\n            <span class=\"tag-item\">\\n            <a class=\"tag\" style=\"font-size: 10px\" href=\"/tag/friendship/\">friendship</a>\\n            </span>\\n            \\n            <span class=\"tag-item\">\\n            <a class=\"tag\" style=\"font-size: 8px\" href=\"/tag/friends/\">friends</a>\\n            </span>\\n            \\n            <span class=\"tag-item\">\\n            <a class=\"tag\" style=\"font-size: 8px\" href=\"/tag/truth/\">truth</a>\\n            </span>\\n            \\n            <span class=\"tag-item\">\\n            <a class=\"tag\" style=\"font-size: 6px\" href=\"/tag/simile/\">simile</a>\\n            </span>\\n            \\n        \\n    </div>\\n</div>\\n\\n    </div>\\n    <footer class=\"footer\">\\n        <div class=\"container\">\\n            <p class=\"text-muted\">\\n                Quotes by: <a href=\"https://www.goodreads.com/quotes\">GoodReads.com</a>\\n            </p>\\n            <p class=\"copyright\">\\n                Made with <span class=\\'zyte\\'>\\xe2\\x9d\\xa4</span> by <a class=\\'zyte\\' href=\"https://www.zyte.com\">Zyte</a>\\n            </p>\\n        </div>\\n    </footer>\\n</body>\\n</html>'"
      ]
     },
     "execution_count": 9,
     "metadata": {},
     "output_type": "execute_result"
    }
   ],
   "source": [
    "response.content"
   ]
  },
  {
   "cell_type": "code",
   "execution_count": 10,
   "id": "2492dcac-98c5-4de1-bf33-d6d441ce75e2",
   "metadata": {},
   "outputs": [],
   "source": [
    "soup = BeautifulSoup(response.content, \"html.parser\")"
   ]
  },
  {
   "cell_type": "code",
   "execution_count": 11,
   "id": "8f022c0d-a8b5-4f63-ab4f-3a7582712cf3",
   "metadata": {},
   "outputs": [],
   "source": [
    "quotes = soup.find_all(\"span\", class_=\"text\")\n"
   ]
  },
  {
   "cell_type": "code",
   "execution_count": 12,
   "id": "b543d682-6ea6-447d-a9f3-879fd6b755eb",
   "metadata": {},
   "outputs": [
    {
     "name": "stdout",
     "output_type": "stream",
     "text": [
      "“The world as we have created it is a process of our thinking. It cannot be changed without changing our thinking.”\n",
      "“It is our choices, Harry, that show what we truly are, far more than our abilities.”\n",
      "“There are only two ways to live your life. One is as though nothing is a miracle. The other is as though everything is a miracle.”\n",
      "“The person, be it gentleman or lady, who has not pleasure in a good novel, must be intolerably stupid.”\n",
      "“Imperfection is beauty, madness is genius and it's better to be absolutely ridiculous than absolutely boring.”\n",
      "“Try not to become a man of success. Rather become a man of value.”\n",
      "“It is better to be hated for what you are than to be loved for what you are not.”\n",
      "“I have not failed. I've just found 10,000 ways that won't work.”\n",
      "“A woman is like a tea bag; you never know how strong it is until it's in hot water.”\n",
      "“A day without sunshine is like, you know, night.”\n"
     ]
    }
   ],
   "source": [
    "for quote in quotes:\n",
    "    print(quote.get_text())"
   ]
  },
  {
   "cell_type": "code",
   "execution_count": 15,
   "id": "0759dca0-d5ff-4881-a9a9-fd79d0e96596",
   "metadata": {},
   "outputs": [],
   "source": [
    "next_button = soup.find(\"li\", class_=\"next\")"
   ]
  },
  {
   "cell_type": "code",
   "execution_count": 16,
   "id": "1fe8d21f-2d69-4223-aca9-738b3d1b1c01",
   "metadata": {},
   "outputs": [
    {
     "name": "stdout",
     "output_type": "stream",
     "text": [
      "“This life is what you make it. No matter what, you're going to mess up sometimes, it's a universal truth. But the good part is you get to decide how you're going to mess it up. Girls will be your friends - they'll act like it anyway. But just remember, some come, some go. The ones that stay with you through everything - they're your true best friends. Don't let go of them. Also remember, sisters make the best friends in the world. As for lovers, well, they'll come and go too. And baby, I hate to say it, most of them - actually pretty much all of them are going to break your heart, but you can't give up because if you give up, you'll never find your soulmate. You'll never find that half who makes you whole and that goes for everything. Just because you fail once, doesn't mean you're gonna fail at everything. Keep trying, hold on, and always, always, always believe in yourself, because if you don't, then who will, sweetie? So keep your head high, keep your chin up, and most importantly, keep smiling, because life's a beautiful thing and there's so much to smile about.”\n",
      "“It takes a great deal of bravery to stand up to our enemies, but just as much to stand up to our friends.”\n",
      "“If you can't explain it to a six year old, you don't understand it yourself.”\n",
      "“You may not be her first, her last, or her only. She loved before she may love again. But if she loves you now, what else matters? She's not perfect—you aren't either, and the two of you may never be perfect together but if she can make you laugh, cause you to think twice, and admit to being human and making mistakes, hold onto her and give her the most you can. She may not be thinking about you every second of the day, but she will give you a part of her that she knows you can break—her heart. So don't hurt her, don't change her, don't analyze and don't expect more than she can give. Smile when she makes you happy, let her know when she makes you mad, and miss her when she's not there.”\n",
      "“I like nonsense, it wakes up the brain cells. Fantasy is a necessary ingredient in living.”\n",
      "“I may not have gone where I intended to go, but I think I have ended up where I needed to be.”\n",
      "“The opposite of love is not hate, it's indifference. The opposite of art is not ugliness, it's indifference. The opposite of faith is not heresy, it's indifference. And the opposite of life is not death, it's indifference.”\n",
      "“It is not a lack of love, but a lack of friendship that makes unhappy marriages.”\n",
      "“Good friends, good books, and a sleepy conscience: this is the ideal life.”\n",
      "“Life is what happens to us while we are making other plans.”\n",
      "“I love you without knowing how, or when, or from where. I love you simply, without problems or pride: I love you in this way because I do not know any other way of loving but this, in which there is no I or you, so intimate that your hand upon my chest is my hand, so intimate that when I fall asleep your eyes close.”\n",
      "“For every minute you are angry you lose sixty seconds of happiness.”\n",
      "“If you judge people, you have no time to love them.”\n",
      "“Anyone who thinks sitting in church can make you a Christian must also think that sitting in a garage can make you a car.”\n",
      "“Beauty is in the eye of the beholder and it may be necessary from time to time to give a stupid or misinformed beholder a black eye.”\n",
      "“Today you are You, that is truer than true. There is no one alive who is Youer than You.”\n",
      "“If you want your children to be intelligent, read them fairy tales. If you want them to be more intelligent, read them more fairy tales.”\n",
      "“It is impossible to live without failing at something, unless you live so cautiously that you might as well not have lived at all - in which case, you fail by default.”\n",
      "“Logic will get you from A to Z; imagination will get you everywhere.”\n",
      "“One good thing about music, when it hits you, you feel no pain.”\n",
      "“The more that you read, the more things you will know. The more that you learn, the more places you'll go.”\n",
      "“Of course it is happening inside your head, Harry, but why on earth should that mean that it is not real?”\n",
      "“The truth is, everyone is going to hurt you. You just got to find the ones worth suffering for.”\n",
      "“Not all of us can do great things. But we can do small things with great love.”\n",
      "“To the well-organized mind, death is but the next great adventure.”\n",
      "“All you need is love. But a little chocolate now and then doesn't hurt.”\n",
      "“We read to know we're not alone.”\n",
      "“Any fool can know. The point is to understand.”\n",
      "“I have always imagined that Paradise will be a kind of library.”\n",
      "“It is never too late to be what you might have been.”\n",
      "“A reader lives a thousand lives before he dies, said Jojen. The man who never reads lives only one.”\n",
      "“You can never get a cup of tea large enough or a book long enough to suit me.”\n",
      "“You believe lies so you eventually learn to trust no one but yourself.”\n",
      "“If you can make a woman laugh, you can make her do anything.”\n",
      "“Life is like riding a bicycle. To keep your balance, you must keep moving.”\n",
      "“The real lover is the man who can thrill you by kissing your forehead or smiling into your eyes or just staring into space.”\n",
      "“A wise girl kisses but doesn't love, listens but doesn't believe, and leaves before she is left.”\n",
      "“Only in the darkness can you see the stars.”\n",
      "“It matters not what someone is born, but what they grow to be.”\n",
      "“Love does not begin and end the way we seem to think it does. Love is a battle, love is a war; love is a growing up.”\n",
      "“There is nothing I would not do for those who are really my friends. I have no notion of loving people by halves, it is not my nature.”\n",
      "“Do one thing every day that scares you.”\n",
      "“I am good, but not an angel. I do sin, but I am not the devil. I am just a small girl in a big world trying to find someone to love.”\n",
      "“If I were not a physicist, I would probably be a musician. I often think in music. I live my daydreams in music. I see my life in terms of music.”\n",
      "“If you only read the books that everyone else is reading, you can only think what everyone else is thinking.”\n",
      "“The difference between genius and stupidity is: genius has its limits.”\n",
      "“He's like a drug for you, Bella.”\n",
      "“There is no friend as loyal as a book.”\n",
      "“When one door of happiness closes, another opens; but often we look so long at the closed door that we do not see the one which has been opened for us.”\n",
      "“Life isn't about finding yourself. Life is about creating yourself.”\n",
      "“That's the problem with drinking, I thought, as I poured myself a drink. If something bad happens you drink in an attempt to forget; if something good happens you drink in order to celebrate; and if nothing happens you drink to make something happen.”\n",
      "“You don’t forget the face of the person who was your last hope.”\n",
      "“Remember, we're madly in love, so it's all right to kiss me anytime you feel like it.”\n",
      "“To love at all is to be vulnerable. Love anything and your heart will be wrung and possibly broken. If you want to make sure of keeping it intact you must give it to no one, not even an animal. Wrap it carefully round with hobbies and little luxuries; avoid all entanglements. Lock it up safe in the casket or coffin of your selfishness. But in that casket, safe, dark, motionless, airless, it will change. It will not be broken; it will become unbreakable, impenetrable, irredeemable. To love is to be vulnerable.”\n",
      "“Not all those who wander are lost.”\n",
      "“Do not pity the dead, Harry. Pity the living, and, above all those who live without love.”\n",
      "“There is nothing to writing. All you do is sit down at a typewriter and bleed.”\n",
      "“Finish each day and be done with it. You have done what you could. Some blunders and absurdities no doubt crept in; forget them as soon as you can. Tomorrow is a new day. You shall begin it serenely and with too high a spirit to be encumbered with your old nonsense.”\n",
      "“I have never let my schooling interfere with my education.”\n",
      "“I have heard there are troubles of more than one kind. Some come from ahead and some come from behind. But I've bought a big bat. I'm all ready you see. Now my troubles are going to have troubles with me!”\n",
      "“If I had a flower for every time I thought of you...I could walk through my garden forever.”\n",
      "“Some people never go crazy. What truly horrible lives they must lead.”\n",
      "“The trouble with having an open mind, of course, is that people will insist on coming along and trying to put things in it.”\n",
      "“Think left and think right and think low and think high. Oh, the thinks you can think up if only you try!”\n",
      "“What really knocks me out is a book that, when you're all done reading it, you wish the author that wrote it was a terrific friend of yours and you could call him up on the phone whenever you felt like it. That doesn't happen much, though.”\n",
      "“The reason I talk to myself is because I’m the only one whose answers I accept.”\n",
      "“You may say I'm a dreamer, but I'm not the only one. I hope someday you'll join us. And the world will live as one.”\n",
      "“I am free of all prejudice. I hate everyone equally. ”\n",
      "“The question isn't who is going to let me; it's who is going to stop me.”\n",
      "“′Classic′ - a book which people praise and don't read.”\n",
      "“Anyone who has never made a mistake has never tried anything new.”\n",
      "“A lady's imagination is very rapid; it jumps from admiration to love, from love to matrimony in a moment.”\n",
      "“Remember, if the time should come when you have to make a choice between what is right and what is easy, remember what happened to a boy who was good, and kind, and brave, because he strayed across the path of Lord Voldemort. Remember Cedric Diggory.”\n",
      "“I declare after all there is no enjoyment like reading! How much sooner one tires of any thing than of a book! -- When I have a house of my own, I shall be miserable if I have not an excellent library.”\n",
      "“There are few people whom I really love, and still fewer of whom I think well. The more I see of the world, the more am I dissatisfied with it; and every day confirms my belief of the inconsistency of all human characters, and of the little dependence that can be placed on the appearance of merit or sense.”\n",
      "“Some day you will be old enough to start reading fairy tales again.”\n",
      "“We are not necessarily doubting that God will do the best for us; we are wondering how painful the best will turn out to be.”\n",
      "“The fear of death follows from the fear of life. A man who lives fully is prepared to die at any time.”\n",
      "“A lie can travel half way around the world while the truth is putting on its shoes.”\n",
      "“I believe in Christianity as I believe that the sun has risen: not only because I see it, but because by it I see everything else.”\n",
      "“The truth.\" Dumbledore sighed. \"It is a beautiful and terrible thing, and should therefore be treated with great caution.”\n",
      "“I'm the one that's got to die when it's time for me to die, so let me live my life the way I want to.”\n",
      "“To die will be an awfully big adventure.”\n",
      "“It takes courage to grow up and become who you really are.”\n",
      "“But better to get hurt by the truth than comforted with a lie.”\n",
      "“You never really understand a person until you consider things from his point of view... Until you climb inside of his skin and walk around in it.”\n",
      "“You have to write the book that wants to be written. And if the book will be too difficult for grown-ups, then you write it for children.”\n",
      "“Never tell the truth to people who are not worthy of it.”\n",
      "“A person's a person, no matter how small.”\n",
      "“... a mind needs books as a sword needs a whetstone, if it is to keep its edge.”\n"
     ]
    }
   ],
   "source": [
    "count_loop = 1\n",
    "while next_button:\n",
    "    next_page = url + next_button.a[\"href\"]\n",
    "    response = requests.get(next_page)\n",
    "    soup = BeautifulSoup(response.content, \"html.parser\")\n",
    "    \n",
    "    quotes = soup.find_all(\"span\", class_=\"text\")\n",
    "    for quote in quotes:\n",
    "        print(quote.get_text())\n",
    "    count_loop +=1\n",
    "    next_button = soup.find(\"li\", class_=\"next\")\n"
   ]
  },
  {
   "cell_type": "code",
   "execution_count": 17,
   "id": "fa308ba0-5ab0-4ad7-8f92-ae9b925fd2d7",
   "metadata": {},
   "outputs": [
    {
     "data": {
      "text/plain": [
       "10"
      ]
     },
     "execution_count": 17,
     "metadata": {},
     "output_type": "execute_result"
    }
   ],
   "source": [
    "count_loop"
   ]
  },
  {
   "cell_type": "markdown",
   "id": "d847d118-2f88-4dce-92b3-b0c95293c000",
   "metadata": {},
   "source": [
    "## scrape information about books from the website http://books.toscrape.com/. The goal is to extract book titles, prices, and ratings from the site."
   ]
  },
  {
   "cell_type": "code",
   "execution_count": 18,
   "id": "686a2e61-b890-465b-b80a-771dda4792a3",
   "metadata": {},
   "outputs": [],
   "source": [
    "import requests\n",
    "from bs4 import BeautifulSoup\n",
    "\n",
    "# Send an HTTP GET request to the website\n",
    "url = \"http://books.toscrape.com/\"\n",
    "response = requests.get(url)\n",
    "\n",
    "# Parse the HTML content using BeautifulSoup\n",
    "soup = BeautifulSoup(response.content, \"html.parser\")\n",
    "\n",
    "# Find all book containers\n",
    "book_containers = soup.find_all(\"article\", class_=\"product_pod\")"
   ]
  },
  {
   "cell_type": "code",
   "execution_count": 27,
   "id": "e7106735-a917-45f4-98e9-88edfc62415f",
   "metadata": {},
   "outputs": [
    {
     "name": "stdout",
     "output_type": "stream",
     "text": [
      "Title: A Light in the Attic\n",
      "Price: £51.77\n",
      "Rating: Three\n",
      "\n",
      "Title: Tipping the Velvet\n",
      "Price: £53.74\n",
      "Rating: One\n",
      "\n",
      "Title: Soumission\n",
      "Price: £50.10\n",
      "Rating: One\n",
      "\n",
      "Title: Sharp Objects\n",
      "Price: £47.82\n",
      "Rating: Four\n",
      "\n",
      "Title: Sapiens: A Brief History of Humankind\n",
      "Price: £54.23\n",
      "Rating: Five\n",
      "\n",
      "Title: The Requiem Red\n",
      "Price: £22.65\n",
      "Rating: One\n",
      "\n",
      "Title: The Dirty Little Secrets of Getting Your Dream Job\n",
      "Price: £33.34\n",
      "Rating: Four\n",
      "\n",
      "Title: The Coming Woman: A Novel Based on the Life of the Infamous Feminist, Victoria Woodhull\n",
      "Price: £17.93\n",
      "Rating: Three\n",
      "\n",
      "Title: The Boys in the Boat: Nine Americans and Their Epic Quest for Gold at the 1936 Berlin Olympics\n",
      "Price: £22.60\n",
      "Rating: Four\n",
      "\n",
      "Title: The Black Maria\n",
      "Price: £52.15\n",
      "Rating: One\n",
      "\n",
      "Title: Starving Hearts (Triangular Trade Trilogy, #1)\n",
      "Price: £13.99\n",
      "Rating: Two\n",
      "\n",
      "Title: Shakespeare's Sonnets\n",
      "Price: £20.66\n",
      "Rating: Four\n",
      "\n",
      "Title: Set Me Free\n",
      "Price: £17.46\n",
      "Rating: Five\n",
      "\n",
      "Title: Scott Pilgrim's Precious Little Life (Scott Pilgrim #1)\n",
      "Price: £52.29\n",
      "Rating: Five\n",
      "\n",
      "Title: Rip it Up and Start Again\n",
      "Price: £35.02\n",
      "Rating: Five\n",
      "\n",
      "Title: Our Band Could Be Your Life: Scenes from the American Indie Underground, 1981-1991\n",
      "Price: £57.25\n",
      "Rating: Three\n",
      "\n",
      "Title: Olio\n",
      "Price: £23.88\n",
      "Rating: One\n",
      "\n",
      "Title: Mesaerion: The Best Science Fiction Stories 1800-1849\n",
      "Price: £37.59\n",
      "Rating: One\n",
      "\n",
      "Title: Libertarianism for Beginners\n",
      "Price: £51.33\n",
      "Rating: Two\n",
      "\n",
      "Title: It's Only the Himalayas\n",
      "Price: £45.17\n",
      "Rating: Two\n",
      "\n"
     ]
    }
   ],
   "source": [
    "# Iterate through each book container and extract information\n",
    "for book in book_containers:\n",
    "    # Extract book title\n",
    "    title = book.h3.a[\"title\"]\n",
    "    \n",
    "    # Extract book price\n",
    "    price = book.find(\"p\", class_=\"price_color\").get_text().strip()\n",
    "    #print(price.strip())\n",
    "    \n",
    "    # Extract book rating\n",
    "    rating = book.find(\"p\", class_=\"star-rating\")[\"class\"][-1]\n",
    "    #print(rating)\n",
    "    print(f\"Title: {title}\")\n",
    "    print(f\"Price: {price}\")\n",
    "    print(f\"Rating: {rating}\\n\")\n"
   ]
  },
  {
   "cell_type": "markdown",
   "id": "3b6aa3f3-2274-4850-889c-24767511a3fc",
   "metadata": {},
   "source": [
    "## scrape information about news articles from the BBC News website. We'll extract headlines, summaries, and links from the top news section."
   ]
  },
  {
   "cell_type": "code",
   "execution_count": 4,
   "id": "7490524c-d363-4950-a0bc-8ab9c4ba5bf6",
   "metadata": {},
   "outputs": [
    {
     "name": "stdout",
     "output_type": "stream",
     "text": [
      "Headline: Wagner chief Prigozhin buried in private funeral\n",
      "Summary: The mercenary group boss, who led June's aborted armed rebellion, was killed in a plane crash last week.\n",
      "Link: https://www.bbc.com/news/world-europe-66649570\n",
      "\n",
      "Headline: UK air traffic disruption caused by flight data issue\n",
      "Summary: Passengers are warned to expect knock-on disruption in the days ahead after the Bank Holiday Monday issue.\n",
      "Link: https://www.bbc.com/news/uk-66644369\n",
      "\n",
      "Headline: UN office supports Hermoso over Rubiales kiss\n",
      "Summary: The UN organisation said everyone has a responsibility to \"call out and challenge\" sexual harassment.\n",
      "Link: https://www.bbc.com/sport/football/66647718\n",
      "\n",
      "Headline: Live worm found in woman's brain in world first\n",
      "Summary: The parasite - usually found in pythons - could have been there for two months, scientists say.\n",
      "Link: https://www.bbc.com/news/world-australia-66643241\n",
      "\n",
      "Headline: Chess rivals settle long-running cheating dispute\n",
      "Summary: World champion Magnus Carlsen's accusations against Hans Niemann left the world of chess in turmoil.\n",
      "Link: https://www.bbc.com/news/world-europe-66647445\n",
      "\n",
      "Headline: Police seek help identifying child year after death\n",
      "Summary: Interpol says \"someone, somewhere knows something\" about the boy, whose body was found in Germany.\n",
      "Link: https://www.bbc.com/news/world-europe-66650999\n",
      "\n",
      "Headline: US ex-marine seen in Russian labour camp video\n",
      "Summary: It is the first time that ex-US marine Paul Whelan is seen on video since his conviction in Russia.\n",
      "Link: https://www.bbc.com/news/world-europe-66645624\n",
      "\n",
      "Headline: Ukraine bids farewell to fighter ace killed in crash\n",
      "Summary: Hundreds attend a wake for Andrii Pilshchykov, one of Ukraine's most celebrated fighter pilots.\n",
      "Link: https://www.bbc.com/news/world-europe-66649568\n",
      "\n",
      "Headline: Police release 911 call from Florida shooter's dad\n",
      "Summary: The father is heard telling an emergency dispatcher his son stopped taking psychiatric medication.\n",
      "Link: https://www.bbc.com/news/world-us-canada-66651505\n",
      "\n",
      "Headline: The Idol cancelled after one season\n",
      "Summary: HBO confirms that Euphoria creator Sam Levinson's show with Lily-Rose Depp and The Weeknd is cancelled.\n",
      "Link: https://www.bbc.com/news/newsbeat-66645349\n",
      "\n",
      "Headline: Police release 911 call from Florida shooter's dad\n",
      "Summary: The father is heard telling an emergency dispatcher his son stopped taking psychiatric medication.\n",
      "Link: https://www.bbc.com/news/world-us-canada-66651505\n",
      "\n",
      "Headline: The Idol cancelled after one season\n",
      "Summary: HBO confirms that Euphoria creator Sam Levinson's show with Lily-Rose Depp and The Weeknd is cancelled.\n",
      "Link: https://www.bbc.com/news/newsbeat-66645349\n",
      "\n",
      "Headline: German populist in trouble for old Nazi pamphlet\n",
      "Summary: The deputy premier of Bavaria, Hubert Aiwanger, is under pressure over a 1980s leaflet.\n",
      "Link: https://www.bbc.com/news/world-europe-66645801\n",
      "\n",
      "Headline: Legionnaires' disease kills 14 in Poland\n",
      "Summary: More than 150 cases are confirmed of the infectious lung disease in a key military hub in Rzeszow.\n",
      "Link: https://www.bbc.com/news/world-europe-66649567\n",
      "\n",
      "Headline: Ugandan man faces death penalty under anti-gay law\n",
      "Summary: He is charged with \"aggravated homosexuality\" under tough new anti-LGBTQ legislation enacted in May.\n",
      "Link: https://www.bbc.com/news/world-africa-66645740\n",
      "\n",
      "Headline: BBC World News TV\n",
      "Summary: The latest global news, sport, weather and documentaries\n",
      "Link: https://www.bbc.com/news/world_radio_and_tv\n",
      "\n",
      "Headline: BBC World Service Radio\n",
      "Summary: Stories from around the world\n",
      "Link: https://www.bbc.com/sounds/play/live:bbc_world_service\n",
      "\n"
     ]
    }
   ],
   "source": [
    "import requests\n",
    "from bs4 import BeautifulSoup\n",
    "\n",
    "# Send an HTTP GET request to the BBC News website\n",
    "url = \"https://www.bbc.com/news\"\n",
    "response = requests.get(url)\n",
    "\n",
    "# Parse the HTML content using BeautifulSoup\n",
    "soup = BeautifulSoup(response.content, \"html.parser\")\n",
    "\n",
    "# Find all news article containers\n",
    "article_containers = soup.find_all(\"div\", class_=\"gs-c-promo\")\n",
    "\n",
    "# Iterate through each article container and extract information\n",
    "for article in article_containers:\n",
    "    try:\n",
    "        # Extract headline\n",
    "        headline = article.h3.get_text()\n",
    "\n",
    "        # Extract summary\n",
    "        summary = article.p.get_text()\n",
    "\n",
    "        # Extract link\n",
    "        link = \"https://www.bbc.com\" + article.a[\"href\"]\n",
    "\n",
    "        print(f\"Headline: {headline}\")\n",
    "        print(f\"Summary: {summary}\")\n",
    "        print(f\"Link: {link}\\n\")\n",
    "    except:\n",
    "        pass\n"
   ]
  },
  {
   "cell_type": "markdown",
   "id": "941aa39d-17c5-42ba-8512-bc1abbe57ca4",
   "metadata": {},
   "source": [
    "##  scrape information about quotes from http://quotes.toscrape.com/."
   ]
  },
  {
   "cell_type": "code",
   "execution_count": 6,
   "id": "205c37f6-e531-4230-ae57-7efdfce30346",
   "metadata": {},
   "outputs": [
    {
     "name": "stdout",
     "output_type": "stream",
     "text": [
      "Quote: “The world as we have created it is a process of our thinking. It cannot be changed without changing our thinking.”\n",
      "Author: Albert Einstein\n",
      "Tags: change, deep-thoughts, thinking, world\n",
      "\n",
      "Quote: “It is our choices, Harry, that show what we truly are, far more than our abilities.”\n",
      "Author: J.K. Rowling\n",
      "Tags: abilities, choices\n",
      "\n",
      "Quote: “There are only two ways to live your life. One is as though nothing is a miracle. The other is as though everything is a miracle.”\n",
      "Author: Albert Einstein\n",
      "Tags: inspirational, life, live, miracle, miracles\n",
      "\n",
      "Quote: “The person, be it gentleman or lady, who has not pleasure in a good novel, must be intolerably stupid.”\n",
      "Author: Jane Austen\n",
      "Tags: aliteracy, books, classic, humor\n",
      "\n",
      "Quote: “Imperfection is beauty, madness is genius and it's better to be absolutely ridiculous than absolutely boring.”\n",
      "Author: Marilyn Monroe\n",
      "Tags: be-yourself, inspirational\n",
      "\n",
      "Quote: “Try not to become a man of success. Rather become a man of value.”\n",
      "Author: Albert Einstein\n",
      "Tags: adulthood, success, value\n",
      "\n",
      "Quote: “It is better to be hated for what you are than to be loved for what you are not.”\n",
      "Author: André Gide\n",
      "Tags: life, love\n",
      "\n",
      "Quote: “I have not failed. I've just found 10,000 ways that won't work.”\n",
      "Author: Thomas A. Edison\n",
      "Tags: edison, failure, inspirational, paraphrased\n",
      "\n",
      "Quote: “A woman is like a tea bag; you never know how strong it is until it's in hot water.”\n",
      "Author: Eleanor Roosevelt\n",
      "Tags: misattributed-eleanor-roosevelt\n",
      "\n",
      "Quote: “A day without sunshine is like, you know, night.”\n",
      "Author: Steve Martin\n",
      "Tags: humor, obvious, simile\n",
      "\n"
     ]
    }
   ],
   "source": [
    "import requests\n",
    "from bs4 import BeautifulSoup\n",
    "\n",
    "# Send an HTTP GET request to the website\n",
    "url = \"http://quotes.toscrape.com/\"\n",
    "response = requests.get(url)\n",
    "\n",
    "# Parse the HTML content using BeautifulSoup\n",
    "soup = BeautifulSoup(response.content, \"html.parser\")\n",
    "\n",
    "# Find all quote containers\n",
    "quote_containers = soup.find_all(\"div\", class_=\"quote\")\n",
    "\n",
    "# Iterate through each quote container and extract information\n",
    "for quote in quote_containers:\n",
    "    # Extract quote text\n",
    "    text = quote.find(\"span\", class_=\"text\").get_text()\n",
    "    \n",
    "    # Extract quote author\n",
    "    author = quote.find(\"small\", class_=\"author\").get_text()\n",
    "    \n",
    "    # Extract quote tags\n",
    "    tags = [tag.get_text() for tag in quote.find_all(\"a\", class_=\"tag\")]\n",
    "    \n",
    "    print(f\"Quote: {text}\")\n",
    "    print(f\"Author: {author}\")\n",
    "    print(f\"Tags: {', '.join(tags)}\\n\")\n"
   ]
  },
  {
   "cell_type": "code",
   "execution_count": 1,
   "id": "e28220f7-4df3-4e3b-b685-011b02bb5fb7",
   "metadata": {},
   "outputs": [],
   "source": [
    "ll = [\"df\",\"sd\"]"
   ]
  },
  {
   "cell_type": "code",
   "execution_count": 2,
   "id": "d67e36ea-cccc-4d6e-847a-9e7af5489ff1",
   "metadata": {},
   "outputs": [
    {
     "data": {
      "text/plain": [
       "'df+sd'"
      ]
     },
     "execution_count": 2,
     "metadata": {},
     "output_type": "execute_result"
    }
   ],
   "source": [
    "\"+\".join(ll)"
   ]
  },
  {
   "cell_type": "markdown",
   "id": "ded266cf-c276-4d97-8b15-df1ddc8c2d50",
   "metadata": {},
   "source": [
    "asignment --> name , price , star "
   ]
  },
  {
   "cell_type": "code",
   "execution_count": null,
   "id": "b83f6485-1d4a-4078-86fe-76ce2d291773",
   "metadata": {},
   "outputs": [],
   "source": []
  }
 ],
 "metadata": {
  "kernelspec": {
   "display_name": "Python 3 (ipykernel)",
   "language": "python",
   "name": "python3"
  },
  "language_info": {
   "codemirror_mode": {
    "name": "ipython",
    "version": 3
   },
   "file_extension": ".py",
   "mimetype": "text/x-python",
   "name": "python",
   "nbconvert_exporter": "python",
   "pygments_lexer": "ipython3",
   "version": "3.10.9"
  }
 },
 "nbformat": 4,
 "nbformat_minor": 5
}
