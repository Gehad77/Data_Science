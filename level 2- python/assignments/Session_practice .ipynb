{
 "cells": [
  {
   "cell_type": "markdown",
   "id": "62296bec-9779-4988-8871-9c257a740707",
   "metadata": {},
   "source": [
    "Problem 1:\n",
    "\n",
    "Question: Write a Python function to check if a given number is prime."
   ]
  },
  {
   "cell_type": "code",
   "execution_count": 1,
   "id": "2babdd80-fc09-4ad3-99a7-6df0b2d2304a",
   "metadata": {},
   "outputs": [
    {
     "name": "stdout",
     "output_type": "stream",
     "text": [
      "True\n",
      "False\n"
     ]
    }
   ],
   "source": [
    "def is_prime(n):\n",
    "    if n <= 1:\n",
    "        return False\n",
    "    if n <= 3:\n",
    "        return True\n",
    "    if n % 2 == 0 or n % 3 == 0:\n",
    "        return False\n",
    "    i = 5\n",
    "    while i * i <= n:\n",
    "        if n % i == 0 or n % (i + 2) == 0:\n",
    "            return False\n",
    "        i += 6\n",
    "    return True\n",
    "\n",
    "# Test the function\n",
    "print(is_prime(11))  # Output: True\n",
    "print(is_prime(25))  # Output: False\n"
   ]
  },
  {
   "cell_type": "markdown",
   "id": "dec741a8-ea4e-4ba4-b738-bd61ac140828",
   "metadata": {},
   "source": [
    "Problem 2:\n",
    "\n",
    "Question: Given a list of integers, write a Python function to find the maximum difference between any two elements in the list."
   ]
  },
  {
   "cell_type": "code",
   "execution_count": 2,
   "id": "733ddfca-3745-4537-a664-d99fb07a15f8",
   "metadata": {},
   "outputs": [
    {
     "name": "stdout",
     "output_type": "stream",
     "text": [
      "5\n"
     ]
    }
   ],
   "source": [
    "def max_difference(nums):\n",
    "    if not nums or len(nums) < 2:\n",
    "        return 0\n",
    "    min_val = nums[0]\n",
    "    max_diff = nums[1] - min_val\n",
    "    for num in nums[1:]:\n",
    "        max_diff = max(max_diff, num - min_val)\n",
    "        min_val = min(min_val, num)\n",
    "    return max_diff\n",
    "\n",
    "# Test the function\n",
    "print(max_difference([7, 1, 5, 3, 6, 4]))  # Output: 5\n"
   ]
  },
  {
   "cell_type": "markdown",
   "id": "acd63a68-4bda-4a3d-83ac-011ecd3c4ed5",
   "metadata": {},
   "source": [
    "Problem 3:\n",
    "\n",
    "Question: Write a Python function to reverse a string without using any built-in string reversal functions."
   ]
  },
  {
   "cell_type": "code",
   "execution_count": 3,
   "id": "7b1d29a1-d306-4806-a6ef-fdf0cfe4a787",
   "metadata": {},
   "outputs": [
    {
     "name": "stdout",
     "output_type": "stream",
     "text": [
      "olleh\n"
     ]
    }
   ],
   "source": [
    "def reverse_string(s):\n",
    "    return s[::-1]\n",
    "\n",
    "# Test the function\n",
    "print(reverse_string(\"hello\"))  # Output: \"olleh\"\n"
   ]
  },
  {
   "cell_type": "markdown",
   "id": "b82d929f-8bef-4955-8cff-cf1220482e79",
   "metadata": {},
   "source": [
    "Problem 4:\n",
    "    \n",
    "Question: Given a sorted list of integers, write a Python function to find the target value using binary search."
   ]
  },
  {
   "cell_type": "code",
   "execution_count": 4,
   "id": "161dd5f3-bf2f-4368-9247-719cd639cccc",
   "metadata": {},
   "outputs": [
    {
     "name": "stdout",
     "output_type": "stream",
     "text": [
      "3\n"
     ]
    }
   ],
   "source": [
    "def binary_search(nums, target):\n",
    "    left, right = 0, len(nums) - 1\n",
    "    while left <= right:\n",
    "        mid = left + (right - left) // 2\n",
    "        if nums[mid] == target:\n",
    "            return mid\n",
    "        elif nums[mid] < target:\n",
    "            left = mid + 1\n",
    "        else:\n",
    "            right = mid - 1\n",
    "    return -1\n",
    "\n",
    "# Test the function\n",
    "sorted_nums = [1, 3, 5, 7, 9, 11, 13, 15]\n",
    "target = 7\n",
    "print(binary_search(sorted_nums, target))  # Output: 3\n"
   ]
  },
  {
   "cell_type": "markdown",
   "id": "88d73c67-4a2a-4c88-aab1-b905dd389559",
   "metadata": {},
   "source": [
    "Question5 \n",
    "\n",
    "Question: Write a Python function to check if a given string is a palindrome (reads the same forwards and backwards)."
   ]
  },
  {
   "cell_type": "code",
   "execution_count": 5,
   "id": "b968eb17-dd50-4059-bb5e-a4ea79d1048e",
   "metadata": {},
   "outputs": [
    {
     "name": "stdout",
     "output_type": "stream",
     "text": [
      "True\n",
      "False\n"
     ]
    }
   ],
   "source": [
    "def is_palindrome(s):\n",
    "    s = s.lower().replace(\" \", \"\")\n",
    "    return s == s[::-1]\n",
    "\n",
    "# Test the function\n",
    "print(is_palindrome(\"racecar\"))  # Output: True\n",
    "print(is_palindrome(\"hello\"))    # Output: False\n"
   ]
  },
  {
   "cell_type": "markdown",
   "id": "079f03fe-905d-4c9b-979d-30136fc31794",
   "metadata": {},
   "source": [
    "Question 6:\n",
    "\n",
    "Question: Write a Python function to find the factorial of a non-negative integer."
   ]
  },
  {
   "cell_type": "code",
   "execution_count": 6,
   "id": "f3c84e08-de2f-40a4-9a4c-a5558d787bf8",
   "metadata": {},
   "outputs": [
    {
     "name": "stdout",
     "output_type": "stream",
     "text": [
      "120\n"
     ]
    }
   ],
   "source": [
    "def factorial(n):\n",
    "    if n == 0:\n",
    "        return 1\n",
    "    else:\n",
    "        return n * factorial(n - 1)\n",
    "\n",
    "# Test the function\n",
    "print(factorial(5))  # Output: 120\n"
   ]
  },
  {
   "cell_type": "markdown",
   "id": "41b76af3-f54e-4071-a1a0-a9ada7d01dcb",
   "metadata": {},
   "source": [
    "Question 7 :\n",
    "    \n",
    "Question: Write a Python function to count the number of vowels in a given string.\n",
    "\n"
   ]
  },
  {
   "cell_type": "code",
   "execution_count": 8,
   "id": "498ec348-e341-4c63-aea7-be6178992df9",
   "metadata": {},
   "outputs": [
    {
     "name": "stdout",
     "output_type": "stream",
     "text": [
      "3\n"
     ]
    }
   ],
   "source": [
    "def count_vowels(s):\n",
    "    vowels = \"aeiouAEIOU\"\n",
    "    count = 0\n",
    "    for char in s:\n",
    "        if char in vowels:\n",
    "            count += 1\n",
    "    return count\n",
    "\n",
    "# Test the function\n",
    "print(count_vowels(\"Hello World\"))  # Output: 3\n"
   ]
  },
  {
   "cell_type": "markdown",
   "id": "eb4a2097-2fbc-45b0-925f-147e2949c288",
   "metadata": {},
   "source": [
    "Problem 8:\n",
    "\n",
    "Question: Write a Python function to reverse a list in-place (without using the reverse method"
   ]
  },
  {
   "cell_type": "code",
   "execution_count": 9,
   "id": "c3a984a2-a6a5-4f30-8136-c4c190ed633d",
   "metadata": {},
   "outputs": [
    {
     "name": "stdout",
     "output_type": "stream",
     "text": [
      "[5, 4, 3, 2, 1]\n"
     ]
    }
   ],
   "source": [
    "def reverse_list(nums):\n",
    "    left, right = 0, len(nums) - 1\n",
    "    while left < right:\n",
    "        nums[left], nums[right] = nums[right], nums[left]\n",
    "        left += 1\n",
    "        right -= 1\n",
    "\n",
    "# Test the function\n",
    "num_list = [1, 2, 3, 4, 5]\n",
    "reverse_list(num_list)\n",
    "print(num_list)  # Output: [5, 4, 3, 2, 1]\n"
   ]
  },
  {
   "cell_type": "markdown",
   "id": "9894b5cb-e505-4c1b-bcf0-1736acac904c",
   "metadata": {},
   "source": [
    "Question 9:\n",
    "\n",
    "Question: Write a Python function to find the first n Fibonacci numbers."
   ]
  },
  {
   "cell_type": "code",
   "execution_count": 10,
   "id": "2181bbc1-0374-4114-bb6d-2385face4d2f",
   "metadata": {},
   "outputs": [
    {
     "name": "stdout",
     "output_type": "stream",
     "text": [
      "[0, 1, 1, 2, 3, 5, 8]\n"
     ]
    }
   ],
   "source": [
    "def fibonacci(n):\n",
    "    fib_sequence = [0, 1]\n",
    "    for i in range(2, n):\n",
    "        fib_sequence.append(fib_sequence[i - 1] + fib_sequence[i - 2])\n",
    "    return fib_sequence\n",
    "\n",
    "# Test the function\n",
    "print(fibonacci(7))  # Output: [0, 1, 1, 2, 3, 5, 8]\n"
   ]
  },
  {
   "cell_type": "markdown",
   "id": "53e593bb-9439-4632-ada0-39c016366f84",
   "metadata": {},
   "source": [
    "Question 10:\n",
    "\n",
    "Question: Write a Python function to find the intersection of two lists."
   ]
  },
  {
   "cell_type": "code",
   "execution_count": 11,
   "id": "2b358b66-1326-4cbd-a630-5e25c9a65692",
   "metadata": {},
   "outputs": [
    {
     "name": "stdout",
     "output_type": "stream",
     "text": [
      "[3, 4, 5]\n"
     ]
    }
   ],
   "source": [
    "def find_intersection(list1, list2):\n",
    "    return list(set(list1) & set(list2))\n",
    "\n",
    "# Test the function\n",
    "list1 = [1, 2, 3, 4, 5]\n",
    "list2 = [3, 4, 5, 6, 7]\n",
    "print(find_intersection(list1, list2))  # Output: [3, 4, 5]\n"
   ]
  },
  {
   "cell_type": "markdown",
   "id": "2b67aa80-ee63-4b23-9c0d-0a057519933e",
   "metadata": {},
   "source": [
    "Question 11:\n",
    "\n",
    "Question: Given a string containing words separated by spaces, write a Python function to reverse the order of the words."
   ]
  },
  {
   "cell_type": "code",
   "execution_count": 12,
   "id": "02eb72ce-3e9f-4167-9dac-77781423459a",
   "metadata": {},
   "outputs": [
    {
     "name": "stdout",
     "output_type": "stream",
     "text": [
      "you? are how world, Hello\n"
     ]
    }
   ],
   "source": [
    "def reverse_words(s):\n",
    "    words = s.split()\n",
    "    return ' '.join(reversed(words))\n",
    "\n",
    "# Test the function\n",
    "sentence = \"Hello world, how are you?\"\n",
    "print(reverse_words(sentence))  # Output: \"you? are how world, Hello\"\n"
   ]
  },
  {
   "cell_type": "markdown",
   "id": "157db15d-f7b1-40e7-b33c-bcfbee0caa5a",
   "metadata": {},
   "source": [
    "Question 12:\n",
    "\n",
    "Question: Write a Python function to find the common elements between two sorted arrays."
   ]
  },
  {
   "cell_type": "code",
   "execution_count": 13,
   "id": "e31ee067-f452-436d-ae0f-3a7e2d62f479",
   "metadata": {},
   "outputs": [
    {
     "name": "stdout",
     "output_type": "stream",
     "text": [
      "[3, 7]\n"
     ]
    }
   ],
   "source": [
    "def find_common_elements(arr1, arr2):\n",
    "    common = []\n",
    "    i, j = 0, 0\n",
    "    while i < len(arr1) and j < len(arr2):\n",
    "        if arr1[i] == arr2[j]:\n",
    "            common.append(arr1[i])\n",
    "            i += 1\n",
    "            j += 1\n",
    "        elif arr1[i] < arr2[j]:\n",
    "            i += 1\n",
    "        else:\n",
    "            j += 1\n",
    "    return common\n",
    "\n",
    "# Test the function\n",
    "array1 = [1, 3, 4, 6, 7]\n",
    "array2 = [2, 3, 5, 7]\n",
    "print(find_common_elements(array1, array2))  # Output: [3, 7]\n"
   ]
  },
  {
   "cell_type": "markdown",
   "id": "666dd977-5bdf-49fa-81ae-eb3bb6a2efd4",
   "metadata": {},
   "source": [
    "Question 13:\n",
    "\n",
    "Question: Write a Python function to find the longest common prefix among an array of strings."
   ]
  },
  {
   "cell_type": "code",
   "execution_count": 14,
   "id": "7b1d56b6-b80b-4501-ae2d-be2f8c0346e7",
   "metadata": {},
   "outputs": [
    {
     "name": "stdout",
     "output_type": "stream",
     "text": [
      "fl\n"
     ]
    }
   ],
   "source": [
    "def longest_common_prefix(strs):\n",
    "    if not strs:\n",
    "        return \"\"\n",
    "    prefix = strs[0]\n",
    "    for string in strs[1:]:\n",
    "        while string.find(prefix) != 0:\n",
    "            prefix = prefix[:-1]\n",
    "            if not prefix:\n",
    "                return \"\"\n",
    "    return prefix\n",
    "\n",
    "# Test the function\n",
    "string_array = [\"flower\", \"flour\", \"flight\"]\n",
    "print(longest_common_prefix(string_array))  # Output: \"fl\"\n"
   ]
  },
  {
   "cell_type": "markdown",
   "id": "8d493a08-b424-4844-aa84-2f5dde350caf",
   "metadata": {},
   "source": [
    "Question 14:\n",
    "\n",
    "Question: Write a Python function to find the longest substring without repeating characters in a given string."
   ]
  },
  {
   "cell_type": "code",
   "execution_count": 15,
   "id": "08bd55e7-d170-4368-a692-f85564f310d5",
   "metadata": {},
   "outputs": [
    {
     "name": "stdout",
     "output_type": "stream",
     "text": [
      "3\n"
     ]
    }
   ],
   "source": [
    "def longest_substring_without_repeating(s):\n",
    "    seen = {}\n",
    "    start = 0\n",
    "    max_length = 0\n",
    "    for end in range(len(s)):\n",
    "        if s[end] in seen and seen[s[end]] >= start:\n",
    "            start = seen[s[end]] + 1\n",
    "        seen[s[end]] = end\n",
    "        max_length = max(max_length, end - start + 1)\n",
    "    return max_length\n",
    "\n",
    "# Test the function\n",
    "string = \"abcabcbb\"\n",
    "print(longest_substring_without_repeating(string))  # Output: 3\n"
   ]
  },
  {
   "cell_type": "markdown",
   "id": "aa27cb83-20d0-454c-9eb0-9c6755820577",
   "metadata": {},
   "source": [
    "Question 15 :\n",
    "    \n",
    "Question: Write a Python function to implement a basic calculator that supports addition, subtraction, multiplication, and division."
   ]
  },
  {
   "cell_type": "code",
   "execution_count": 16,
   "id": "89376cf3-9e48-4640-9158-488ded5cd3d6",
   "metadata": {},
   "outputs": [
    {
     "name": "stdout",
     "output_type": "stream",
     "text": [
      "7.0\n"
     ]
    }
   ],
   "source": [
    "def basic_calculator(expression):\n",
    "    return eval(expression)\n",
    "\n",
    "# Test the function\n",
    "expression = \"3 + 5 * 2 / 2 - 1\"\n",
    "print(basic_calculator(expression))  # Output: 7.0\n"
   ]
  },
  {
   "cell_type": "markdown",
   "id": "d10b7fb0-f88e-476d-90c8-b9d6561f057a",
   "metadata": {},
   "source": [
    "Question 16 :\n",
    "\n",
    "\n",
    "Question: Write a Python function to find the common elements among three sorted arrays.\n",
    "\n"
   ]
  },
  {
   "cell_type": "code",
   "execution_count": 17,
   "id": "f02a54b1-851d-4ea1-8e35-63cdeeaf344f",
   "metadata": {},
   "outputs": [
    {
     "name": "stdout",
     "output_type": "stream",
     "text": [
      "[3, 7]\n"
     ]
    }
   ],
   "source": [
    "def find_common_elements(arr1, arr2, arr3):\n",
    "    common = []\n",
    "    i, j, k = 0, 0, 0\n",
    "    while i < len(arr1) and j < len(arr2) and k < len(arr3):\n",
    "        if arr1[i] == arr2[j] == arr3[k]:\n",
    "            common.append(arr1[i])\n",
    "            i += 1\n",
    "            j += 1\n",
    "            k += 1\n",
    "        elif arr1[i] <= arr2[j] and arr1[i] <= arr3[k]:\n",
    "            i += 1\n",
    "        elif arr2[j] <= arr1[i] and arr2[j] <= arr3[k]:\n",
    "            j += 1\n",
    "        else:\n",
    "            k += 1\n",
    "    return common\n",
    "\n",
    "# Test the function\n",
    "array1 = [1, 3, 4, 6, 7]\n",
    "array2 = [2, 3, 5, 7]\n",
    "array3 = [3, 6, 7]\n",
    "print(find_common_elements(array1, array2, array3))  # Output: [3, 7]\n"
   ]
  },
  {
   "cell_type": "markdown",
   "id": "bd85103d-3de7-4f45-bc52-22423704ff47",
   "metadata": {},
   "source": [
    "Question 17 :\n",
    "\n",
    "Question: Write a Python function to find the majority element (appears more than n/2 times) in an array."
   ]
  },
  {
   "cell_type": "code",
   "execution_count": 18,
   "id": "0495f8ca-3176-4df8-bb7d-d6bb9c60193c",
   "metadata": {},
   "outputs": [
    {
     "name": "stdout",
     "output_type": "stream",
     "text": [
      "4\n"
     ]
    }
   ],
   "source": [
    "def majority_element(nums):\n",
    "    count = 0\n",
    "    candidate = None\n",
    "    for num in nums:\n",
    "        if count == 0:\n",
    "            candidate = num\n",
    "        count += (1 if num == candidate else -1)\n",
    "    return candidate\n",
    "\n",
    "# Test the function\n",
    "num_list = [3, 3, 4, 2, 4, 4, 2, 4, 4]\n",
    "print(majority_element(num_list))  # Output: 4\n"
   ]
  },
  {
   "cell_type": "markdown",
   "id": "b9b09c50-9256-4026-bfef-6683a7f4c880",
   "metadata": {},
   "source": [
    "Question 18 :\n",
    "\n",
    "Question: Write a Python function to find the kth largest element in an unsorted array.\n",
    "\n"
   ]
  },
  {
   "cell_type": "code",
   "execution_count": 19,
   "id": "cd5ab16c-e923-4d6b-b702-38356fa72d2b",
   "metadata": {},
   "outputs": [
    {
     "name": "stdout",
     "output_type": "stream",
     "text": [
      "5\n"
     ]
    }
   ],
   "source": [
    "def kth_largest_element(nums, k):\n",
    "    nums.sort()\n",
    "    return nums[-k]\n",
    "\n",
    "# Test the function\n",
    "num_list = [3, 1, 4, 1, 5, 9, 2, 6, 5, 3, 5]\n",
    "k = 4\n",
    "print(kth_largest_element(num_list, k))  # Output: 5\n"
   ]
  },
  {
   "cell_type": "markdown",
   "id": "e658659c-c01d-43a1-811f-95ae0d7a7877",
   "metadata": {},
   "source": [
    "Question 19 \n",
    "\n",
    "Question: Write a Python function to find the longest increasing subarray within a given array."
   ]
  },
  {
   "cell_type": "code",
   "execution_count": 20,
   "id": "e171ea53-c3a3-4406-a400-b673d3238834",
   "metadata": {},
   "outputs": [
    {
     "name": "stdout",
     "output_type": "stream",
     "text": [
      "4\n"
     ]
    }
   ],
   "source": [
    "def longest_increasing_subarray(nums):\n",
    "    max_length = 0\n",
    "    length = 1\n",
    "    for i in range(1, len(nums)):\n",
    "        if nums[i] > nums[i - 1]:\n",
    "            length += 1\n",
    "            max_length = max(max_length, length)\n",
    "        else:\n",
    "            length = 1\n",
    "    return max_length\n",
    "\n",
    "# Test the function\n",
    "num_list = [1, 2, 3, 2, 3, 4, 5, 2, 3]\n",
    "print(longest_increasing_subarray(num_list))  # Output: 4\n"
   ]
  },
  {
   "cell_type": "markdown",
   "id": "33d0c309-cd1d-476c-9d99-f20e03532f65",
   "metadata": {},
   "source": [
    "Question 20\n",
    "\n",
    "Question: Write a Python function to find all pairs of elements in an array that sum up to a specific target."
   ]
  },
  {
   "cell_type": "code",
   "execution_count": 21,
   "id": "92cd8df6-06f4-4b90-9f29-214aaaf02b7d",
   "metadata": {},
   "outputs": [
    {
     "name": "stdout",
     "output_type": "stream",
     "text": [
      "[(4, 2), (5, 1)]\n"
     ]
    }
   ],
   "source": [
    "def find_pairs_with_sum(nums, target):\n",
    "    pairs = []\n",
    "    seen = set()\n",
    "    for num in nums:\n",
    "        complement = target - num\n",
    "        if complement in seen:\n",
    "            pairs.append((num, complement))\n",
    "        seen.add(num)\n",
    "    return pairs\n",
    "\n",
    "# Test the function\n",
    "num_list = [2, 4, 3, 7, 1, 5, 9]\n",
    "target_sum = 6\n",
    "print(find_pairs_with_sum(num_list, target_sum))  # Output: [(2, 4), (3, 3)]\n"
   ]
  },
  {
   "cell_type": "markdown",
   "id": "eafaea1f-ff8c-4456-9f20-fc49857eada2",
   "metadata": {},
   "source": [
    "Question 21 :\n",
    "\n",
    "Question: Write a Python function to implement the \"FizzBuzz\" game. Print numbers from 1 to n, but for multiples of 3, print \"Fizz,\" for multiples of 5, print \"Buzz,\" and for multiples of both 3 and 5, print \"FizzBuzz.\""
   ]
  },
  {
   "cell_type": "code",
   "execution_count": 22,
   "id": "cabe8140-821e-47f8-8182-4647a3ce91d9",
   "metadata": {},
   "outputs": [
    {
     "name": "stdout",
     "output_type": "stream",
     "text": [
      "1\n",
      "2\n",
      "Fizz\n",
      "4\n",
      "Buzz\n",
      "Fizz\n",
      "7\n",
      "8\n",
      "Fizz\n",
      "Buzz\n",
      "11\n",
      "Fizz\n",
      "13\n",
      "14\n",
      "FizzBuzz\n"
     ]
    }
   ],
   "source": [
    "def fizz_buzz(n):\n",
    "    for i in range(1, n + 1):\n",
    "        if i % 3 == 0 and i % 5 == 0:\n",
    "            print(\"FizzBuzz\")\n",
    "        elif i % 3 == 0:\n",
    "            print(\"Fizz\")\n",
    "        elif i % 5 == 0:\n",
    "            print(\"Buzz\")\n",
    "        else:\n",
    "            print(i)\n",
    "\n",
    "# Test the function\n",
    "fizz_buzz(15)\n"
   ]
  },
  {
   "cell_type": "markdown",
   "id": "91742cd4-2036-4576-9d96-31fbb204a1cd",
   "metadata": {},
   "source": [
    "Question 22:\n",
    "\n",
    "Question: Write a Python function to find the longest palindromic substring in a given string.\n",
    "\n"
   ]
  },
  {
   "cell_type": "code",
   "execution_count": 23,
   "id": "d2a06809-b80b-40ff-99db-ff84708cda4c",
   "metadata": {},
   "outputs": [
    {
     "name": "stdout",
     "output_type": "stream",
     "text": [
      "bab\n"
     ]
    }
   ],
   "source": [
    "def longest_palindromic_substring(s):\n",
    "    max_length = 0\n",
    "    start = 0\n",
    "    for i in range(len(s)):\n",
    "        if i - max_length >= 1 and s[i - max_length - 1 : i + 1] == s[i - max_length - 1 : i + 1][::-1]:\n",
    "            start = i - max_length - 1\n",
    "            max_length += 2\n",
    "        elif s[i - max_length : i + 1] == s[i - max_length : i + 1][::-1]:\n",
    "            start = i - max_length\n",
    "            max_length += 1\n",
    "    return s[start : start + max_length]\n",
    "\n",
    "# Test the function\n",
    "string = \"babad\"\n",
    "print(longest_palindromic_substring(string))  # Output: \"bab\" or \"aba\"\n"
   ]
  },
  {
   "cell_type": "code",
   "execution_count": null,
   "id": "09bbbe0e-9e52-47cb-955b-9888efdeb467",
   "metadata": {},
   "outputs": [],
   "source": []
  }
 ],
 "metadata": {
  "kernelspec": {
   "display_name": "Python 3 (ipykernel)",
   "language": "python",
   "name": "python3"
  },
  "language_info": {
   "codemirror_mode": {
    "name": "ipython",
    "version": 3
   },
   "file_extension": ".py",
   "mimetype": "text/x-python",
   "name": "python",
   "nbconvert_exporter": "python",
   "pygments_lexer": "ipython3",
   "version": "3.9.12"
  }
 },
 "nbformat": 4,
 "nbformat_minor": 5
}
