{
 "cells": [
  {
   "cell_type": "markdown",
   "id": "a001d577-f290-40e5-97e0-7ee33746db89",
   "metadata": {},
   "source": [
    "# File Handling"
   ]
  },
  {
   "cell_type": "markdown",
   "id": "835c17f0-f981-4d37-b3ef-07207f0cbb41",
   "metadata": {},
   "source": [
    "file=open(‘filename.txt’,mode)\n",
    "\n",
    "filename =‘Name of file that you need to read data from it or write data on it.’\n",
    "\n",
    "mode=Refers to the specific purpose for which you are opening a file. It defines how you intend    \tto interact with the file, whether it's for reading, writing, appending, or working with binary data. \n"
   ]
  },
  {
   "cell_type": "markdown",
   "id": "8d75d683-fca7-43f2-9e74-5631a151705a",
   "metadata": {},
   "source": [
    "## Modes"
   ]
  },
  {
   "cell_type": "code",
   "execution_count": null,
   "id": "27373717-46f1-4df9-863f-14e5c1e19847",
   "metadata": {},
   "outputs": [],
   "source": [
    "# read mode 'r'\n",
    "with open('file.txt', 'r') as file:\n",
    "    content = file.read()\n"
   ]
  },
  {
   "cell_type": "code",
   "execution_count": null,
   "id": "40479dbd-aeea-4c4f-9e0a-a1df437caaf8",
   "metadata": {},
   "outputs": [],
   "source": [
    "# write mode 'w'\n",
    "with open('output.txt', 'w') as file:\n",
    "    file.write('Hello, world!')\n"
   ]
  },
  {
   "cell_type": "code",
   "execution_count": null,
   "id": "bdfd04c0-99a8-449d-ab01-7612ecd5e895",
   "metadata": {},
   "outputs": [],
   "source": [
    "# append mode 'a'\n",
    "with open('data.txt', 'a') as file:\n",
    "    file.write('New data\\n')\n"
   ]
  },
  {
   "cell_type": "code",
   "execution_count": null,
   "id": "01024df8-7abe-44a4-b547-f2f0ff241088",
   "metadata": {},
   "outputs": [],
   "source": [
    "#binary mode\n",
    "with open('image.png', 'rb') as file:\n",
    "    binary_data = file.read()\n"
   ]
  },
  {
   "cell_type": "code",
   "execution_count": 35,
   "id": "6651cb4d-f1d3-4fe8-a9ee-92df6bb5383f",
   "metadata": {},
   "outputs": [],
   "source": [
    "#read and write 'r+'\n",
    "with open('file3.txt', 'r+') as file:\n",
    "    content = file.read()\n",
    "    file.write('New content')"
   ]
  },
  {
   "cell_type": "code",
   "execution_count": 18,
   "id": "cce901b4-e9b9-43be-8471-01b6e0ca7e15",
   "metadata": {},
   "outputs": [
    {
     "name": "stdout",
     "output_type": "stream",
     "text": [
      "New content\n"
     ]
    }
   ],
   "source": [
    "# read mode 'r'\n",
    "with open('file3.txt', 'r') as file:\n",
    "    content = file.read()\n",
    "\n",
    "print(content)"
   ]
  },
  {
   "cell_type": "code",
   "execution_count": 22,
   "id": "dc0d0c0a-7eed-45ad-9ccc-540433f0541b",
   "metadata": {},
   "outputs": [
    {
     "data": {
      "text/plain": [
       "'Hello, world!'"
      ]
     },
     "execution_count": 22,
     "metadata": {},
     "output_type": "execute_result"
    }
   ],
   "source": [
    "#write and read 'w+'\n",
    "with open('file.txt', 'w+') as file:\n",
    "    file.write('Hello, world!')\n",
    "    file.seek(0)\n",
    "    content = file.read()\n",
    "content"
   ]
  },
  {
   "cell_type": "code",
   "execution_count": 21,
   "id": "e03fec2c-0f9f-43e4-b60f-53253739e689",
   "metadata": {},
   "outputs": [
    {
     "data": {
      "text/plain": [
       "'Hello, world!New data\\nNew data\\n'"
      ]
     },
     "execution_count": 21,
     "metadata": {},
     "output_type": "execute_result"
    }
   ],
   "source": [
    "#append and read 'a+'\n",
    "with open('file.txt', 'a+') as file:\n",
    "    file.write('New data\\n')\n",
    "    file.seek(0)\n",
    "    content = file.read()\n",
    "content"
   ]
  },
  {
   "cell_type": "markdown",
   "id": "2ce8e26c-c74e-4409-96fb-d50e00e769ed",
   "metadata": {},
   "source": [
    "## Read data from files"
   ]
  },
  {
   "cell_type": "markdown",
   "id": "40955bd0-ee83-4da7-8b38-a98eab656fda",
   "metadata": {},
   "source": [
    "Read the Entire File:"
   ]
  },
  {
   "cell_type": "code",
   "execution_count": 23,
   "id": "8ddc43dd-230c-4383-9442-078bff14e152",
   "metadata": {},
   "outputs": [
    {
     "name": "stdout",
     "output_type": "stream",
     "text": [
      "Hello, world!\n"
     ]
    }
   ],
   "source": [
    "with open('file.txt', 'r') as file:\n",
    "    content = file.read()\n",
    "print(content)\n"
   ]
  },
  {
   "cell_type": "markdown",
   "id": "1b619de9-b9cd-4188-907f-6b791f9df72e",
   "metadata": {},
   "source": [
    "Read Line by Line:"
   ]
  },
  {
   "cell_type": "code",
   "execution_count": 24,
   "id": "4c508878-ebad-4b52-9520-5655dd1f1ae9",
   "metadata": {},
   "outputs": [
    {
     "name": "stdout",
     "output_type": "stream",
     "text": [
      "Hello, world!\n"
     ]
    }
   ],
   "source": [
    "with open('file.txt', 'r') as file:\n",
    "    for line in file:\n",
    "        print(line)\n"
   ]
  },
  {
   "cell_type": "markdown",
   "id": "abfeafdf-65ec-47d7-826f-79e30059791c",
   "metadata": {},
   "source": [
    "Read Lines into a List:"
   ]
  },
  {
   "cell_type": "code",
   "execution_count": 25,
   "id": "4c16e589-e999-46e3-8e8f-2019d53e74e6",
   "metadata": {},
   "outputs": [
    {
     "name": "stdout",
     "output_type": "stream",
     "text": [
      "['Hello, world!']\n"
     ]
    }
   ],
   "source": [
    "with open('file.txt', 'r') as file:\n",
    "    lines = file.readlines()\n",
    "print(lines)\n"
   ]
  },
  {
   "cell_type": "markdown",
   "id": "71562462-b982-42c3-abd4-ee09393b48cf",
   "metadata": {},
   "source": [
    "Read a Specific Number of Characters:"
   ]
  },
  {
   "cell_type": "code",
   "execution_count": 26,
   "id": "d8a7cc62-00dc-4124-9a2a-680d98b8a01c",
   "metadata": {},
   "outputs": [
    {
     "name": "stdout",
     "output_type": "stream",
     "text": [
      "Hello, world!\n"
     ]
    }
   ],
   "source": [
    "with open('file.txt', 'r') as file:\n",
    "    partial_content = file.read(50)  # Reads the first 50 characters\n",
    "print(partial_content)\n"
   ]
  },
  {
   "cell_type": "markdown",
   "id": "a5e13859-6de4-426b-ad10-816860427da9",
   "metadata": {},
   "source": [
    "Read and Process Large Files Chunk by Chunk:\n"
   ]
  },
  {
   "cell_type": "code",
   "execution_count": 28,
   "id": "d8f09a94-b3f1-4cbc-a8f5-6fd8b0957902",
   "metadata": {},
   "outputs": [],
   "source": [
    "chunk_size = 1024  # Specify the chunk size as per your needs\n",
    "with open('large_file.txt', 'r') as file:\n",
    "    while True:\n",
    "        chunk = file.read(chunk_size)\n",
    "        if not chunk:\n",
    "            break\n",
    "        # Process the chunk here\n"
   ]
  },
  {
   "cell_type": "code",
   "execution_count": 31,
   "id": "ed383de8-c3c2-4c9b-bfa1-a65d3486c657",
   "metadata": {},
   "outputs": [],
   "source": [
    "chunk_size = 1024  # Specify the chunk size as per your needs\n",
    "\n",
    "with open('large_file.txt', 'r') as input_file:\n",
    "    with open('output_file.txt', 'w') as output_file:\n",
    "        while True:\n",
    "            chunk = input_file.read(chunk_size)\n",
    "            if not chunk:\n",
    "                break\n",
    "            output_file.write(chunk)\n"
   ]
  },
  {
   "cell_type": "markdown",
   "id": "ab78613b-c468-43e3-b834-35c0c37b2906",
   "metadata": {},
   "source": [
    "## Write Data inot file"
   ]
  },
  {
   "cell_type": "markdown",
   "id": "e4504798-b3e5-4604-a2d7-1b9a4386b6d1",
   "metadata": {},
   "source": [
    "Write Text to a File:"
   ]
  },
  {
   "cell_type": "code",
   "execution_count": 2,
   "id": "027f7c0b-ba82-4298-a2af-71b7dddbb97b",
   "metadata": {},
   "outputs": [],
   "source": [
    "with open('output.txt', 'w') as file:\n",
    "    file.write('Hello, world!\\n')\n",
    "    file.write('This is a new line.')\n"
   ]
  },
  {
   "cell_type": "code",
   "execution_count": 33,
   "id": "7c2b2e22-6e07-4b85-8de0-9ed0363ee717",
   "metadata": {},
   "outputs": [],
   "source": [
    "with open('large_file.txt', 'w') as file:\n",
    "    file.write('Hello, world!\\n')\n",
    "    file.write('This is a new line.')\n"
   ]
  },
  {
   "cell_type": "markdown",
   "id": "84065acf-1633-43df-9412-15699b4abff3",
   "metadata": {},
   "source": [
    "Write Multiple Lines to a File:"
   ]
  },
  {
   "cell_type": "code",
   "execution_count": 34,
   "id": "da029cdc-8764-45fe-ac88-e8b313a165ab",
   "metadata": {},
   "outputs": [],
   "source": [
    "lines = ['Line 1', 'Line 2', 'Line 3']\n",
    "with open('output.txt', 'w') as file:\n",
    "    for line in lines:\n",
    "        file.write(line + '\\n')\n"
   ]
  },
  {
   "cell_type": "markdown",
   "id": "f8d6dd48-583a-4e0a-87f4-edc16b264547",
   "metadata": {},
   "source": [
    "Append Data to an Existing File:"
   ]
  },
  {
   "cell_type": "code",
   "execution_count": 4,
   "id": "f490f4b8-b2f9-4cf7-b7d0-080f1e23bebb",
   "metadata": {},
   "outputs": [],
   "source": [
    "with open('data.txt', 'a') as file:\n",
    "    file.write('New data\\n')\n",
    "    file.write('Another line\\n')\n"
   ]
  },
  {
   "cell_type": "markdown",
   "id": "98c8e132-2675-4b91-a6cd-2eca362ab11c",
   "metadata": {},
   "source": [
    "Write Binary Data to a File:"
   ]
  },
  {
   "cell_type": "code",
   "execution_count": 11,
   "id": "143745dd-9b88-46bf-a449-5bd5a87371dd",
   "metadata": {},
   "outputs": [],
   "source": [
    "binary_data = b'\\x48\\x65\\x6c\\x6c\\x6f'  # Binary representation of 'Hello'\n",
    "with open('binary_data.bin', 'wb') as file:\n",
    "    file.write(binary_data)\n",
    "# non-text files, such as images or audio files, 'rb' for reading binary, 'wb' for writing binary."
   ]
  },
  {
   "cell_type": "markdown",
   "id": "e9125363-339f-41b9-a7f1-3b36790b2fc1",
   "metadata": {},
   "source": [
    "Write Formatted Data to a File:"
   ]
  },
  {
   "cell_type": "code",
   "execution_count": 12,
   "id": "555cf524-d214-4de9-ac5f-16d5425a8521",
   "metadata": {},
   "outputs": [],
   "source": [
    "name = 'Alice'\n",
    "age = 30\n",
    "with open('info.txt', 'w') as file:\n",
    "    file.write(f'Name: {name}\\n')\n",
    "    file.write(f'Age: {age}\\n')\n"
   ]
  },
  {
   "cell_type": "markdown",
   "id": "3f2f8c84-c130-4617-9113-be6cc7084e43",
   "metadata": {},
   "source": [
    "## Handling Exception "
   ]
  },
  {
   "cell_type": "code",
   "execution_count": null,
   "id": "fc0d8f51-ef95-4db0-b68e-f812e93fd7c7",
   "metadata": {},
   "outputs": [],
   "source": [
    "try:\n",
    "    with open('file.txt', 'r') as file:\n",
    "        content = file.read()\n",
    "    # Perform operations with 'content'\n",
    "except FileNotFoundError:\n",
    "    print(\"File not found\")\n",
    "    \n",
    "except IOError as e:\n",
    "        # This block will catch other IOErrors (if any) that are not FileNotFoundError\n",
    "    print(f\"An error occurred: {e}\")\n"
   ]
  },
  {
   "cell_type": "code",
   "execution_count": null,
   "id": "5e49dc1f-94c2-42c2-b8cd-dcb2a5cf05b6",
   "metadata": {},
   "outputs": [],
   "source": [
    "try:\n",
    "    with open('file.txt', 'r') as file:\n",
    "        content = file.read()\n",
    "    # Perform operations with 'content'\n",
    "except (FileNotFoundError, IOError) as e:\n",
    "    print(f\"An error occurred: {e}\")\n"
   ]
  },
  {
   "cell_type": "code",
   "execution_count": null,
   "id": "b38e60ae-1b65-480f-8586-b627ea0cf3d2",
   "metadata": {
    "tags": []
   },
   "outputs": [],
   "source": [
    "try:\n",
    "    with open('file.txt', 'r') as file:\n",
    "        content = file.read()\n",
    "    # Perform operations with 'content'\n",
    "except FileNotFoundError:\n",
    "    print(\"File not found\")\n",
    "except IOError as e:\n",
    "    print(f\"An error occurred: {e}\")\n",
    "finally:\n",
    "    file.close()  # Ensure file is closed\n"
   ]
  },
  {
   "cell_type": "code",
   "execution_count": null,
   "id": "de777f7c-7777-4198-b3df-86c30b15829c",
   "metadata": {},
   "outputs": [],
   "source": [
    "try:\n",
    "    with open('file.txt', 'r') as file:\n",
    "        content = file.read()\n",
    "except FileNotFoundError:\n",
    "    print(\"File not found\")\n",
    "except IOError as e:\n",
    "    print(f\"An error occurred: {e}\")\n",
    "else:\n",
    "    print(\"File read successfully:\", content)\n",
    "finally:\n",
    "    file.close()  # Ensure file is closed\n"
   ]
  },
  {
   "cell_type": "markdown",
   "id": "6cacd1b2-aae8-419d-9e5b-10d9e2eb8dcd",
   "metadata": {},
   "source": [
    "## Standard liberaries"
   ]
  },
  {
   "cell_type": "code",
   "execution_count": 4,
   "id": "88d35c67-e977-4a8f-855e-dd57af8c0d3b",
   "metadata": {},
   "outputs": [
    {
     "name": "stdout",
     "output_type": "stream",
     "text": [
      "C:\\Users\\jehad\\AI\\1 - Python\n",
      "['.ipynb_checkpoints', 'File Handlig.ipynb', 'file.ipynb', 'for Loops.ipynb', 'hr-employee-left-prediction.ipynb', 'intro', 'Introduction (1) (2).ipynb', 'new data', 'new data ex.xlsx', 'new data.csv', 'Outlier.ipynb', 'python', 'python.txt', 'Quiz.ipynb', 'sec3.ipynb', 'sec4.ipynb', 'Session_file_handling .ipynb', 'Session_practice .ipynb', 'Untitled Folder', 'Untitled.ipynb', 'Untitled1.ipynb', '__pycache__']\n"
     ]
    }
   ],
   "source": [
    "import os\n",
    "\n",
    "print(os.getcwd())  # Get current working directory\n",
    "print(os.listdir())  # List files and directories in the current directory\n"
   ]
  },
  {
   "cell_type": "code",
   "execution_count": 5,
   "id": "e7766419-23dc-42dc-8714-37ba7f5c0cda",
   "metadata": {},
   "outputs": [
    {
     "name": "stdout",
     "output_type": "stream",
     "text": [
      "win32\n",
      "3.10.9 | packaged by Anaconda, Inc. | (main, Mar  1 2023, 18:18:15) [MSC v.1916 64 bit (AMD64)]\n"
     ]
    }
   ],
   "source": [
    "import sys\n",
    "\n",
    "print(sys.platform)  # Print the platform\n",
    "print(sys.version)   # Print Python version\n"
   ]
  },
  {
   "cell_type": "code",
   "execution_count": 6,
   "id": "01a7fd46-bf2a-48c4-b42b-356e152aaa3e",
   "metadata": {},
   "outputs": [
    {
     "name": "stdout",
     "output_type": "stream",
     "text": [
      "5.0\n",
      "3.141592653589793\n"
     ]
    }
   ],
   "source": [
    "import math\n",
    "\n",
    "print(math.sqrt(25))  # Calculate square root\n",
    "print(math.pi)        # Print the value of pi\n"
   ]
  },
  {
   "cell_type": "code",
   "execution_count": 7,
   "id": "ed8cd906-5e21-4a73-aa5d-a657297da882",
   "metadata": {},
   "outputs": [
    {
     "name": "stdout",
     "output_type": "stream",
     "text": [
      "2024-02-21 18:19:57\n"
     ]
    }
   ],
   "source": [
    "from datetime import datetime\n",
    "\n",
    "now = datetime.now()\n",
    "print(now.strftime('%Y-%m-%d %H:%M:%S'))  # Format current date and time\n"
   ]
  },
  {
   "cell_type": "code",
   "execution_count": 8,
   "id": "f9ca22d9-cde2-4807-8b17-fd1fac515201",
   "metadata": {},
   "outputs": [
    {
     "name": "stdout",
     "output_type": "stream",
     "text": [
      "5\n"
     ]
    }
   ],
   "source": [
    "import random\n",
    "\n",
    "print(random.randint(1, 6))  # Generate a random integer between 1 and 6\n"
   ]
  },
  {
   "cell_type": "code",
   "execution_count": 10,
   "id": "f1f9e215-4205-4713-9b11-73d523920a4b",
   "metadata": {},
   "outputs": [
    {
     "data": {
      "text/plain": [
       "'{\"name\": \"Alice\", \"age\": 30}'"
      ]
     },
     "execution_count": 10,
     "metadata": {},
     "output_type": "execute_result"
    }
   ],
   "source": [
    "import json\n",
    "\n",
    "data = {'name': 'Alice', 'age': 30}\n",
    "json_data = json.dumps(data)  # Convert dictionary to JSON string\n",
    "json_data\n",
    "# such as when working with web APIs or storing configuration settings in a file."
   ]
  },
  {
   "cell_type": "code",
   "execution_count": 13,
   "id": "eceaa922-4932-4506-bc56-631a268f4c53",
   "metadata": {},
   "outputs": [
    {
     "name": "stdout",
     "output_type": "stream",
     "text": [
      "{'name': 'Alice', 'age': 30}\n"
     ]
    }
   ],
   "source": [
    "import json\n",
    "\n",
    "json_string = '{\"name\": \"Alice\", \"age\": 30}'\n",
    "python_object = json.loads(json_string)\n",
    "\n",
    "print(python_object)\n"
   ]
  },
  {
   "cell_type": "code",
   "execution_count": null,
   "id": "927b03d6-5e4a-4e2f-a96b-4ae54de4dd32",
   "metadata": {},
   "outputs": [],
   "source": [
    "import csv\n",
    "\n",
    "with open('data.csv', 'r') as file:\n",
    "    reader = csv.reader(file)\n",
    "    for row in reader:\n",
    "        print(row)\n"
   ]
  },
  {
   "cell_type": "code",
   "execution_count": null,
   "id": "9c327bd5-693d-4dfc-9258-ebde6b0b449c",
   "metadata": {},
   "outputs": [],
   "source": []
  },
  {
   "cell_type": "code",
   "execution_count": null,
   "id": "57569ffc-8f85-4ef8-ac2f-4e6c666bf9fc",
   "metadata": {},
   "outputs": [],
   "source": []
  }
 ],
 "metadata": {
  "kernelspec": {
   "display_name": "Python 3 (ipykernel)",
   "language": "python",
   "name": "python3"
  },
  "language_info": {
   "codemirror_mode": {
    "name": "ipython",
    "version": 3
   },
   "file_extension": ".py",
   "mimetype": "text/x-python",
   "name": "python",
   "nbconvert_exporter": "python",
   "pygments_lexer": "ipython3",
   "version": "3.10.9"
  }
 },
 "nbformat": 4,
 "nbformat_minor": 5
}
