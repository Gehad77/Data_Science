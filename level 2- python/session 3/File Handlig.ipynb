{
 "cells": [
  {
   "cell_type": "markdown",
   "metadata": {},
   "source": [
    "# Read File"
   ]
  },
  {
   "cell_type": "code",
   "execution_count": 1,
   "metadata": {},
   "outputs": [
    {
     "name": "stdout",
     "output_type": "stream",
     "text": [
      "I love python0\n",
      "I love python1\n",
      "I love python2\n",
      "I love python3\n",
      "I love python4\n",
      "I love python5\n",
      "I love python6\n",
      "I love python7\n",
      "I love python8\n",
      "I love python9\n",
      "I love python10\n",
      "I love python11\n",
      "I love python12\n",
      "I love python13\n",
      "I love python14\n",
      "I love python15\n",
      "I love python16\n",
      "I love python17\n",
      "I love python18\n",
      "I love python19\n",
      "I love python20\n",
      "I love python21\n",
      "I love python22\n",
      "I love python23\n",
      "I love python24\n",
      "I love python25\n",
      "I love python26\n",
      "I love python27\n",
      "I love python28\n",
      "I love python29\n"
     ]
    }
   ],
   "source": [
    "f = open(\"test.txt\", \"r\")\n",
    "print(f.read())\n",
    "f.close()\n",
    "\n",
    "\n",
    "\n",
    "\n",
    "\n",
    "\n",
    "\n",
    "\n",
    "\n",
    "\n",
    "\n",
    "\n",
    "#f = open(\"C:/Users/ahmed/Desktop/test.txt\", \"r\")\n",
    "#print(f.read())\n",
    "#f.close()\n",
    "\n"
   ]
  },
  {
   "cell_type": "markdown",
   "metadata": {},
   "source": [
    "# Read Line by Line"
   ]
  },
  {
   "cell_type": "code",
   "execution_count": 2,
   "metadata": {},
   "outputs": [
    {
     "name": "stdout",
     "output_type": "stream",
     "text": [
      "I love python0\n",
      "\n",
      "I love python1\n",
      "\n",
      "I love python2\n",
      "\n",
      "I love python3\n",
      "\n",
      "I love python4\n",
      "\n",
      "I love python5\n",
      "\n",
      "I love python6\n",
      "\n",
      "I love python7\n",
      "\n",
      "I love python8\n",
      "\n",
      "I love python9\n",
      "\n",
      "I love python10\n",
      "\n",
      "I love python11\n",
      "\n",
      "I love python12\n",
      "\n",
      "I love python13\n",
      "\n",
      "I love python14\n",
      "\n",
      "I love python15\n",
      "\n",
      "I love python16\n",
      "\n",
      "I love python17\n",
      "\n",
      "I love python18\n",
      "\n",
      "I love python19\n",
      "\n",
      "I love python20\n",
      "\n",
      "I love python21\n",
      "\n",
      "I love python22\n",
      "\n",
      "I love python23\n",
      "\n",
      "I love python24\n",
      "\n",
      "I love python25\n",
      "\n",
      "I love python26\n",
      "\n",
      "I love python27\n",
      "\n",
      "I love python28\n",
      "\n",
      "I love python29\n"
     ]
    }
   ],
   "source": [
    "f = open(\"test.txt\", \"r\")\n",
    "all_lines = f.readlines()\n",
    "\n",
    "for line in all_lines:\n",
    "     print(line)"
   ]
  },
  {
   "cell_type": "code",
   "execution_count": 3,
   "metadata": {},
   "outputs": [
    {
     "name": "stdout",
     "output_type": "stream",
     "text": [
      "Hello\n"
     ]
    }
   ],
   "source": [
    "f = open(\"test1.txt\", \"w\")\n",
    "f.write(\"Hello\")\n",
    "f.close()\n",
    "\n",
    "f = open(\"test1.txt\", \"r\")\n",
    "print(f.read())\n",
    "f.close()\n"
   ]
  },
  {
   "cell_type": "code",
   "execution_count": 4,
   "metadata": {},
   "outputs": [],
   "source": [
    "f = open(\"test.txt\", \"a\")\n",
    "for i in range(30):\n",
    "    f.write(\"\\nI love python\" + str(i))\n",
    "\n",
    "f.close()"
   ]
  },
  {
   "cell_type": "code",
   "execution_count": 5,
   "metadata": {},
   "outputs": [
    {
     "name": "stdout",
     "output_type": "stream",
     "text": [
      "I love python0\n",
      "I love python1\n",
      "I love python2\n",
      "I love python3\n",
      "I love python4\n",
      "I love python5\n",
      "I love python6\n",
      "I love python7\n",
      "I love python8\n",
      "I love python9\n",
      "I love python10\n",
      "I love python11\n",
      "I love python12\n",
      "I love python13\n",
      "I love python14\n",
      "I love python15\n",
      "I love python16\n",
      "I love python17\n",
      "I love python18\n",
      "I love python19\n",
      "I love python20\n",
      "I love python21\n",
      "I love python22\n",
      "I love python23\n",
      "I love python24\n",
      "I love python25\n",
      "I love python26\n",
      "I love python27\n",
      "I love python28\n",
      "I love python29\n",
      "I love python0\n",
      "I love python1\n",
      "I love python2\n",
      "I love python3\n",
      "I love python4\n",
      "I love python5\n",
      "I love python6\n",
      "I love python7\n",
      "I love python8\n",
      "I love python9\n",
      "I love python10\n",
      "I love python11\n",
      "I love python12\n",
      "I love python13\n",
      "I love python14\n",
      "I love python15\n",
      "I love python16\n",
      "I love python17\n",
      "I love python18\n",
      "I love python19\n",
      "I love python20\n",
      "I love python21\n",
      "I love python22\n",
      "I love python23\n",
      "I love python24\n",
      "I love python25\n",
      "I love python26\n",
      "I love python27\n",
      "I love python28\n",
      "I love python29\n"
     ]
    }
   ],
   "source": [
    "f = open(\"test.txt\", \"r\")\n",
    "print(f.read())\n",
    "f.close()\n"
   ]
  },
  {
   "cell_type": "code",
   "execution_count": 2,
   "metadata": {},
   "outputs": [],
   "source": [
    "import os"
   ]
  },
  {
   "cell_type": "code",
   "execution_count": 3,
   "metadata": {},
   "outputs": [],
   "source": [
    "file = os.listdir('G:/ahmed khaled new courses/')"
   ]
  },
  {
   "cell_type": "code",
   "execution_count": 4,
   "metadata": {},
   "outputs": [
    {
     "name": "stdout",
     "output_type": "stream",
     "text": [
      "['android', 'build-your-blockchain-az', 'buisness', 'c++', 'calculus', 'cloud', 'data science', 'data structure', 'graphics', 'machine learning and ai', 'network', 'nlp', 'photoshop udemy', 'python', 'react', 'reinforcment learning', 'robotics', 'self driving car', '[FreeCoursesOnline.Me] A Cloud Guru - AWS Certified Machine Learning - Specialty 2020', '[FreeCoursesOnline.Me] A Cloud Guru - Google Certified Professional Data Engineer', '[FreeCoursesOnline.Me] Data Camp - Data Engineer with Python [Career  Track]', '[FreeCoursesOnline.Me] Data Camp - Python Programmer  [Career  Track]', '[FreeCoursesOnline.Me] Lynda - Advanced Python Working with Databases', '[FreeCoursesOnline.Me] UDACITY - Machine Learning Scholarship Program for Microsoft Azure']\n"
     ]
    }
   ],
   "source": [
    "print(file)"
   ]
  },
  {
   "cell_type": "code",
   "execution_count": 5,
   "metadata": {},
   "outputs": [],
   "source": [
    "os.remove('C:/Users/20114/scatter1.html')"
   ]
  },
  {
   "cell_type": "code",
   "execution_count": null,
   "metadata": {
    "collapsed": true
   },
   "outputs": [],
   "source": [
    "import random\n",
    "random.choice(file)"
   ]
  },
  {
   "cell_type": "code",
   "execution_count": null,
   "metadata": {
    "collapsed": true
   },
   "outputs": [],
   "source": []
  },
  {
   "cell_type": "code",
   "execution_count": null,
   "metadata": {
    "collapsed": true
   },
   "outputs": [],
   "source": []
  },
  {
   "cell_type": "code",
   "execution_count": null,
   "metadata": {
    "collapsed": true
   },
   "outputs": [],
   "source": []
  },
  {
   "cell_type": "code",
   "execution_count": null,
   "metadata": {
    "collapsed": true
   },
   "outputs": [],
   "source": []
  },
  {
   "cell_type": "code",
   "execution_count": null,
   "metadata": {
    "collapsed": true
   },
   "outputs": [],
   "source": []
  },
  {
   "cell_type": "code",
   "execution_count": null,
   "metadata": {
    "collapsed": true
   },
   "outputs": [],
   "source": [
    "thanos project:\n",
    "    make a function to do the follwoing:\n",
    "        1- open the whole images folder\n",
    "        2- check the len of that images \n",
    "        3- delete random half of this folder\n",
    "        4- check the result\n"
   ]
  }
 ],
 "metadata": {
  "kernelspec": {
   "display_name": "Python 3 (ipykernel)",
   "language": "python",
   "name": "python3"
  },
  "language_info": {
   "codemirror_mode": {
    "name": "ipython",
    "version": 3
   },
   "file_extension": ".py",
   "mimetype": "text/x-python",
   "name": "python",
   "nbconvert_exporter": "python",
   "pygments_lexer": "ipython3",
   "version": "3.9.7"
  }
 },
 "nbformat": 4,
 "nbformat_minor": 2
}
