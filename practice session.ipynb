{
 "cells": [
  {
   "cell_type": "markdown",
   "id": "c5c6878e-1ffe-4a92-820a-4e4a408f7a22",
   "metadata": {},
   "source": [
    "## Python "
   ]
  },
  {
   "cell_type": "markdown",
   "id": "7995aa66-69da-4a1d-ba2b-1d22b08e28d4",
   "metadata": {},
   "source": [
    "- Hello, World! - A classic first program that simply prints out the text \"Hello, World!\" to the console."
   ]
  },
  {
   "cell_type": "code",
   "execution_count": 1,
   "id": "7e86a684-b324-4b22-9088-9e9ea7f43727",
   "metadata": {},
   "outputs": [
    {
     "name": "stdout",
     "output_type": "stream",
     "text": [
      "Hello, World!\n"
     ]
    }
   ],
   "source": [
    "print(\"Hello, World!\")"
   ]
  },
  {
   "cell_type": "markdown",
   "id": "b554f891-5a52-4527-bb6d-7845be7fa1e6",
   "metadata": {},
   "source": [
    "- Calculator - A program that prompts the user to enter two numbers and then performs basic arithmetic operations (addition, subtraction, multiplication, and division) on them."
   ]
  },
  {
   "cell_type": "code",
   "execution_count": null,
   "id": "4bcf7413-9667-48c3-a58b-e86ba43d550b",
   "metadata": {},
   "outputs": [],
   "source": [
    "num1 = float(input(\"Enter the first number: \"))\n",
    "num2 = float(input(\"Enter the second number: \"))\n",
    "\n",
    "addition = num1 + num2\n",
    "subtraction = num1 - num2\n",
    "multiplication = num1 * num2\n",
    "division = num1 / num2\n",
    "\n",
    "print(\"The sum is:\", addition)\n",
    "print(\"The difference is:\", subtraction)\n",
    "print(\"The product is:\", multiplication)\n",
    "print(\"The quotient is:\", division)\n"
   ]
  },
  {
   "cell_type": "markdown",
   "id": "a7b77ca9-ddd7-46e2-a2b5-6196509dd680",
   "metadata": {},
   "source": [
    "- Even or Odd - A program that prompts the user to enter a number and then determines whether it is even or odd."
   ]
  },
  {
   "cell_type": "code",
   "execution_count": 3,
   "id": "62c7babd-13c6-4851-8115-bc0d88e5a1de",
   "metadata": {},
   "outputs": [
    {
     "name": "stdin",
     "output_type": "stream",
     "text": [
      "Enter a number:  4\n"
     ]
    },
    {
     "name": "stdout",
     "output_type": "stream",
     "text": [
      "4 is even\n"
     ]
    }
   ],
   "source": [
    "num = int(input(\"Enter a number: \"))\n",
    "\n",
    "if num % 2 == 0:\n",
    "    print(num, \"is even\")\n",
    "else:\n",
    "    print(num, \"is odd\")\n"
   ]
  },
  {
   "cell_type": "markdown",
   "id": "f07c77f4-62d5-4909-a0ba-26f01c05f261",
   "metadata": {},
   "source": [
    "- Factorial - A program that prompts the user to enter a number and then calculates its factorial."
   ]
  },
  {
   "cell_type": "code",
   "execution_count": 4,
   "id": "c5d51863-cf81-4773-a63a-33fa8698ecae",
   "metadata": {},
   "outputs": [
    {
     "name": "stdin",
     "output_type": "stream",
     "text": [
      "Enter a number:  0\n"
     ]
    },
    {
     "name": "stdout",
     "output_type": "stream",
     "text": [
      "The factorial of 0 is 1\n"
     ]
    }
   ],
   "source": [
    "num = int(input(\"Enter a number: \"))\n",
    "\n",
    "factorial = 1\n",
    "\n",
    "for i in range(1, num+1):\n",
    "    factorial *= i\n",
    "\n",
    "print(\"The factorial of\", num, \"is\", factorial)\n"
   ]
  },
  {
   "cell_type": "markdown",
   "id": "dcffe8e8-92df-4dc7-8c05-ae7489673dc7",
   "metadata": {},
   "source": [
    "- Fibonacci sequence - A program that generates and prints the Fibonacci sequence up to a specified number of terms."
   ]
  },
  {
   "cell_type": "code",
   "execution_count": 16,
   "id": "3c6f64c7-7e90-4ecf-b782-1d5351ba6f55",
   "metadata": {},
   "outputs": [
    {
     "name": "stdin",
     "output_type": "stream",
     "text": [
      "Enter the number of terms:  -2\n"
     ]
    },
    {
     "name": "stdout",
     "output_type": "stream",
     "text": [
      "Please enter a positive integer\n"
     ]
    }
   ],
   "source": [
    "num_terms = int(input(\"Enter the number of terms: \"))\n",
    "\n",
    "# initialize the first two terms\n",
    "n1, n2 = 0, 1\n",
    "count = 0\n",
    "\n",
    "# check if the number of terms is valid\n",
    "if num_terms <= 0:\n",
    "    print(\"Please enter a positive integer\")\n",
    "elif num_terms == 1:\n",
    "    print(\"Fibonacci sequence up to\", num_terms, \":\")\n",
    "    print(n1)\n",
    "else:\n",
    "    print(\"Fibonacci sequence:\")\n",
    "    while count < num_terms:\n",
    "        print(n1)\n",
    "        nth = n1 + n2\n",
    "       # update values\n",
    "        n1 = n2\n",
    "        n2 = nth\n",
    "        count += 1\n"
   ]
  },
  {
   "cell_type": "markdown",
   "id": "30c1346b-7f62-4df4-a932-e3cccdc92dcd",
   "metadata": {},
   "source": [
    "- Palindrome - A program that prompts the user to enter a string and then determines whether it is a palindrome (i.e. whether it reads the same backwards as forwards)."
   ]
  },
  {
   "cell_type": "code",
   "execution_count": 9,
   "id": "b940aa74-c247-4961-9b36-0767a654b9e7",
   "metadata": {},
   "outputs": [
    {
     "name": "stdin",
     "output_type": "stream",
     "text": [
      "Enter a string:  bnm\n"
     ]
    },
    {
     "name": "stdout",
     "output_type": "stream",
     "text": [
      "bnm is not a palindrome\n"
     ]
    }
   ],
   "source": [
    "string = input(\"Enter a string: \")\n",
    "\n",
    "# reverse the string\n",
    "reverse_string = string[::-1]\n",
    "\n",
    "# check if the string is a palindrome\n",
    "if string == reverse_string:\n",
    "    print(string, \"is a palindrome\")\n",
    "else:\n",
    "    print(string, \"is not a palindrome\")\n"
   ]
  },
  {
   "cell_type": "markdown",
   "id": "748d9227-a85c-4c13-83c3-ce38dadf163e",
   "metadata": {},
   "source": [
    "- Prime or Composite - A program that prompts the user to enter a number and then determines whether it is a prime or composite number."
   ]
  },
  {
   "cell_type": "code",
   "execution_count": 12,
   "id": "847303fe-86c2-4b67-90f2-c1398d79329d",
   "metadata": {},
   "outputs": [
    {
     "name": "stdin",
     "output_type": "stream",
     "text": [
      "Enter a number:  5\n"
     ]
    },
    {
     "name": "stdout",
     "output_type": "stream",
     "text": [
      "5 is a prime number\n"
     ]
    }
   ],
   "source": [
    "num = int(input(\"Enter a number: \"))\n",
    "\n",
    "# check if the number is prime\n",
    "if num > 1:\n",
    "    for i in range(2, num):\n",
    "        if num % i == 0:\n",
    "            print(num, \"is a composite number\")\n",
    "            break\n",
    "    else:\n",
    "        print(num, \"is a prime number\")\n",
    "else:\n",
    "    print(num, \"is not a prime number\")\n"
   ]
  },
  {
   "cell_type": "markdown",
   "id": "c5d21d8f-b8a2-4a85-9b6c-71b9ccacef7e",
   "metadata": {},
   "source": [
    "- Reverse a number - A program that prompts the user to enter a number and then prints out its digits in reverse order. "
   ]
  },
  {
   "cell_type": "code",
   "execution_count": 13,
   "id": "6e37776c-3cd0-4a99-83b2-b009e9e4a8bc",
   "metadata": {},
   "outputs": [
    {
     "name": "stdin",
     "output_type": "stream",
     "text": [
      "Enter a number:  78\n"
     ]
    },
    {
     "name": "stdout",
     "output_type": "stream",
     "text": [
      "The reverse of 78 is 87\n"
     ]
    }
   ],
   "source": [
    "num = int(input(\"Enter a number: \"))\n",
    "\n",
    "# convert the number to a string and reverse it\n",
    "reverse_num = str(num)[::-1]\n",
    "\n",
    "print(\"The reverse of\", num, \"is\", reverse_num)\n"
   ]
  },
  {
   "cell_type": "markdown",
   "id": "715b7790-102e-48fa-9a8d-53f383cf25bf",
   "metadata": {},
   "source": [
    "- Count the number of occurrences of a character in a string"
   ]
  },
  {
   "cell_type": "code",
   "execution_count": 18,
   "id": "e3ea54a0-cd41-4f89-bd69-c25698e177f5",
   "metadata": {},
   "outputs": [
    {
     "name": "stdin",
     "output_type": "stream",
     "text": [
      "Enter a string:  nidnkdg\n",
      "Enter a character:  n\n"
     ]
    },
    {
     "name": "stdout",
     "output_type": "stream",
     "text": [
      "The character n appears 2 times in the string nidnkdg\n"
     ]
    }
   ],
   "source": [
    "string = input(\"Enter a string: \")\n",
    "char = input(\"Enter a character: \")\n",
    "\n",
    "count = 0\n",
    "\n",
    "for c in string:\n",
    "    if c == char:\n",
    "        count += 1\n",
    "\n",
    "print(\"The character\", char, \"appears\", count, \"times in the string\", string)\n"
   ]
  },
  {
   "cell_type": "markdown",
   "id": "0f713bff-8898-43c5-ae63-6df2ce5762d8",
   "metadata": {},
   "source": [
    "- Find the largest number in a list"
   ]
  },
  {
   "cell_type": "code",
   "execution_count": 19,
   "id": "98cccf95-4db0-4ae9-a106-2d12fd72c6f1",
   "metadata": {},
   "outputs": [
    {
     "name": "stdout",
     "output_type": "stream",
     "text": [
      "The largest number in the list is 9\n"
     ]
    }
   ],
   "source": [
    "numbers = [3, 5, 1, 7, 9, 2, 6, 8, 4]\n",
    "\n",
    "largest = numbers[0]\n",
    "\n",
    "for num in numbers:\n",
    "    if num > largest:\n",
    "        largest = num\n",
    "\n",
    "print(\"The largest number in the list is\", largest)\n"
   ]
  },
  {
   "cell_type": "markdown",
   "id": "04965cbd-d8b1-46b8-8ab1-eb0d0e496273",
   "metadata": {},
   "source": [
    "- Check if a number is a perfect square"
   ]
  },
  {
   "cell_type": "code",
   "execution_count": 23,
   "id": "82aaa4e9-c141-4311-af71-ec7fcbf14371",
   "metadata": {},
   "outputs": [
    {
     "name": "stdin",
     "output_type": "stream",
     "text": [
      "Enter a number:  4\n"
     ]
    },
    {
     "name": "stdout",
     "output_type": "stream",
     "text": [
      "4 is a perfect square\n"
     ]
    }
   ],
   "source": [
    "import math\n",
    "\n",
    "num = int(input(\"Enter a number: \"))\n",
    "\n",
    "sqrt = math.sqrt(num)\n",
    "\n",
    "if int(sqrt) ** 2 == num:\n",
    "    print(num, \"is a perfect square\")\n",
    "else:\n",
    "    print(num, \"is not a perfect square\")\n"
   ]
  },
  {
   "cell_type": "markdown",
   "id": "ea6021ad-04a2-4781-9e92-847b4202259e",
   "metadata": {},
   "source": [
    "- Find the second largest number in a list"
   ]
  },
  {
   "cell_type": "code",
   "execution_count": 24,
   "id": "8f92106f-48cc-42a8-b1fe-46d94c187bff",
   "metadata": {},
   "outputs": [
    {
     "name": "stdout",
     "output_type": "stream",
     "text": [
      "The second largest number in the list is 8\n"
     ]
    }
   ],
   "source": [
    "numbers = [3, 5, 1, 7, 9, 2, 6, 8, 4]\n",
    "\n",
    "largest = numbers[0]\n",
    "second_largest = None\n",
    "\n",
    "for num in numbers[1:]:\n",
    "    if num > largest:\n",
    "        second_largest = largest\n",
    "        largest = num\n",
    "    elif second_largest is None or num > second_largest:\n",
    "        second_largest = num\n",
    "\n",
    "print(\"The second largest number in the list is\", second_largest)\n"
   ]
  },
  {
   "cell_type": "markdown",
   "id": "f1713a6b-5485-4e34-9f22-1a19566e92bb",
   "metadata": {},
   "source": [
    "- Calculate the area of a circle"
   ]
  },
  {
   "cell_type": "code",
   "execution_count": 25,
   "id": "77848c8a-ab36-41b4-b738-83340b1134cb",
   "metadata": {},
   "outputs": [
    {
     "name": "stdin",
     "output_type": "stream",
     "text": [
      "Enter the radius of the circle:  78\n"
     ]
    },
    {
     "name": "stdout",
     "output_type": "stream",
     "text": [
      "The area of the circle is 19113.4497044403\n"
     ]
    }
   ],
   "source": [
    "import math\n",
    "\n",
    "radius = float(input(\"Enter the radius of the circle: \"))\n",
    "\n",
    "area = math.pi * radius ** 2\n",
    "\n",
    "print(\"The area of the circle is\", area)\n"
   ]
  }
 ],
 "metadata": {
  "kernelspec": {
   "display_name": "Python 3 (ipykernel)",
   "language": "python",
   "name": "python3"
  },
  "language_info": {
   "codemirror_mode": {
    "name": "ipython",
    "version": 3
   },
   "file_extension": ".py",
   "mimetype": "text/x-python",
   "name": "python",
   "nbconvert_exporter": "python",
   "pygments_lexer": "ipython3",
   "version": "3.9.7"
  }
 },
 "nbformat": 4,
 "nbformat_minor": 5
}
