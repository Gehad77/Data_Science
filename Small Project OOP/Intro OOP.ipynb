{
 "cells": [
  {
   "cell_type": "markdown",
   "id": "67d297ac-aaae-4d97-83e8-9c706e073b5b",
   "metadata": {},
   "source": [
    "## OOP"
   ]
  },
  {
   "cell_type": "markdown",
   "id": "a97eda51-3ff9-4752-b55c-1bb4e9cf6f5a",
   "metadata": {},
   "source": [
    "OOP is a programming paradigm that allows us to model real-world objects and concepts as software objects that have attributes and behaviors. In Python, we can define a class to represent an object and create instances of that class to work with those objects."
   ]
  },
  {
   "cell_type": "markdown",
   "id": "d8a9b16a-02f6-4172-acff-597ed7f55133",
   "metadata": {},
   "source": [
    "- Here's an example of a simple class in Python that represents a Car object:"
   ]
  },
  {
   "cell_type": "code",
   "execution_count": 1,
   "id": "af48812c-e5b4-46bc-80d7-36a6db0f088a",
   "metadata": {},
   "outputs": [],
   "source": [
    "class Car:\n",
    "    def __init__(self, make, model, year):\n",
    "        self.make = make\n",
    "        self.model = model\n",
    "        self.year = year\n",
    "        self.odometer_reading = 0\n",
    "        \n",
    "    def get_descriptive_name(self):\n",
    "        long_name = f\"{self.year} {self.make} {self.model}\"\n",
    "        return long_name.title()\n",
    "    \n",
    "    def read_odometer(self):\n",
    "        print(f\"This car has {self.odometer_reading} miles on it.\")\n",
    "        \n",
    "    def update_odometer(self, mileage):\n",
    "        if mileage >= self.odometer_reading:\n",
    "            self.odometer_reading = mileage\n",
    "        else:\n",
    "            print(\"You can't roll back an odometer!\")\n",
    "        \n",
    "    def increment_odometer(self, miles):\n",
    "        self.odometer_reading += miles\n"
   ]
  },
  {
   "cell_type": "markdown",
   "id": "0ca1cacc-ae34-406e-8a4b-f849a222d2e7",
   "metadata": {},
   "source": [
    "- In this example, we define a class named Car with several attributes and methods:\n",
    "\n",
    "__init__: This is a special method that initializes the object's attributes when it is created. It takes in parameters make, model, and year, and sets them as instance variables.\n",
    "\n",
    "get_descriptive_name: This method returns a formatted string that describes the car's make, model, and year.\n",
    "\n",
    "read_odometer: This method prints the car's current odometer reading.\n",
    "\n",
    "update_odometer: This method takes in a mileage parameter and updates the car's odometer reading if the new value is greater than or equal to the current value.\n",
    "\n",
    "increment_odometer: This method takes in a number of miles and adds it to the car's odometer reading."
   ]
  },
  {
   "cell_type": "code",
   "execution_count": 3,
   "id": "ab0b6d8a-ac65-41e0-a8ed-ddb3d6aec0e1",
   "metadata": {},
   "outputs": [
    {
     "name": "stdout",
     "output_type": "stream",
     "text": [
      "2020 Ford Mustang\n",
      "This car has 5000 miles on it.\n",
      "This car has 5100 miles on it.\n"
     ]
    }
   ],
   "source": [
    "my_car = Car('ford', 'mustang', 2020)\n",
    "print(my_car.get_descriptive_name())\n",
    "my_car.update_odometer(5000)\n",
    "my_car.read_odometer()\n",
    "my_car.increment_odometer(100)\n",
    "my_car.read_odometer()\n"
   ]
  },
  {
   "cell_type": "markdown",
   "id": "eb38c390-b80f-4e4c-92dc-5cf7dee805a9",
   "metadata": {},
   "source": [
    "- In this example, we create a new Car object named my_car with the make 'ford', model 'mustang', and year 2020. We then call the get_descriptive_name method to print a description of the car, update the odometer reading to 5000, read the odometer to verify the new value, increment the odometer by 100 miles, and read the odometer again to verify the increment.\n",
    "\n",
    "### _I hope this example helps you understand OOP in Python!_"
   ]
  },
  {
   "cell_type": "code",
   "execution_count": null,
   "id": "0d3494dc-5138-4220-a47e-32420ab5d874",
   "metadata": {},
   "outputs": [],
   "source": []
  }
 ],
 "metadata": {
  "kernelspec": {
   "display_name": "Python 3 (ipykernel)",
   "language": "python",
   "name": "python3"
  },
  "language_info": {
   "codemirror_mode": {
    "name": "ipython",
    "version": 3
   },
   "file_extension": ".py",
   "mimetype": "text/x-python",
   "name": "python",
   "nbconvert_exporter": "python",
   "pygments_lexer": "ipython3",
   "version": "3.9.7"
  }
 },
 "nbformat": 4,
 "nbformat_minor": 5
}
