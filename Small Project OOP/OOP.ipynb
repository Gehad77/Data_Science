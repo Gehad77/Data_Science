{
 "cells": [
  {
   "cell_type": "code",
   "execution_count": 1,
   "metadata": {},
   "outputs": [],
   "source": [
    "class Dog:\n",
    "    def __init__(self):\n",
    "        pass"
   ]
  },
  {
   "cell_type": "code",
   "execution_count": 2,
   "metadata": {},
   "outputs": [
    {
     "name": "stdout",
     "output_type": "stream",
     "text": [
      "<__main__.Dog object at 0x0000016A619CD2E0>\n"
     ]
    }
   ],
   "source": [
    "x =Dog()\n",
    "print(x)"
   ]
  },
  {
   "cell_type": "code",
   "execution_count": 3,
   "metadata": {},
   "outputs": [],
   "source": [
    "class Dog:\n",
    "    def __init__(self,name,age):\n",
    "        self.name = name\n",
    "        self.age = age"
   ]
  },
  {
   "cell_type": "code",
   "execution_count": 4,
   "metadata": {},
   "outputs": [],
   "source": [
    "x = Dog(\"loly\",3)"
   ]
  },
  {
   "cell_type": "code",
   "execution_count": 5,
   "metadata": {},
   "outputs": [
    {
     "name": "stdout",
     "output_type": "stream",
     "text": [
      "<__main__.Dog object at 0x0000016A619CD820>\n"
     ]
    }
   ],
   "source": [
    "print(x)"
   ]
  },
  {
   "cell_type": "code",
   "execution_count": 6,
   "metadata": {},
   "outputs": [
    {
     "name": "stdout",
     "output_type": "stream",
     "text": [
      "loly\n",
      "3\n"
     ]
    }
   ],
   "source": [
    "print(x.name)\n",
    "print(x.age)"
   ]
  },
  {
   "cell_type": "code",
   "execution_count": 7,
   "metadata": {},
   "outputs": [],
   "source": [
    "class Dog:\n",
    "    num_dogs=0 # num_dog class attrobute\n",
    "    def __init__(self,name,age):\n",
    "        Dog.num_dogs +=1\n",
    "        self.namei=name # namei is instance attribute\n",
    "        self.age=age"
   ]
  },
  {
   "cell_type": "code",
   "execution_count": 8,
   "metadata": {},
   "outputs": [
    {
     "name": "stdout",
     "output_type": "stream",
     "text": [
      "0\n"
     ]
    }
   ],
   "source": [
    "print(Dog.num_dogs)"
   ]
  },
  {
   "cell_type": "code",
   "execution_count": 9,
   "metadata": {},
   "outputs": [],
   "source": [
    "dog1 = Dog(\"koki\",4)"
   ]
  },
  {
   "cell_type": "code",
   "execution_count": 10,
   "metadata": {},
   "outputs": [
    {
     "name": "stdout",
     "output_type": "stream",
     "text": [
      "1\n"
     ]
    }
   ],
   "source": [
    "print(Dog.num_dogs)"
   ]
  },
  {
   "cell_type": "code",
   "execution_count": 11,
   "metadata": {},
   "outputs": [
    {
     "name": "stdout",
     "output_type": "stream",
     "text": [
      "1\n"
     ]
    }
   ],
   "source": [
    "print(dog1.num_dogs)"
   ]
  },
  {
   "cell_type": "code",
   "execution_count": 12,
   "metadata": {},
   "outputs": [
    {
     "name": "stdout",
     "output_type": "stream",
     "text": [
      "koki\n"
     ]
    }
   ],
   "source": [
    "print(dog1.namei)"
   ]
  },
  {
   "cell_type": "code",
   "execution_count": 13,
   "metadata": {},
   "outputs": [
    {
     "name": "stdout",
     "output_type": "stream",
     "text": [
      "4\n"
     ]
    }
   ],
   "source": [
    "print(dog1.age)"
   ]
  },
  {
   "cell_type": "code",
   "execution_count": 14,
   "metadata": {},
   "outputs": [],
   "source": [
    "class student:\n",
    "    num_student = 0\n",
    "    def __init__(self,name,age,num_courses):\n",
    "        self.st_name=name\n",
    "        self.st_age=age\n",
    "        self.st_num_course = num_courses\n",
    "        student.num_student +=1"
   ]
  },
  {
   "cell_type": "code",
   "execution_count": 15,
   "metadata": {},
   "outputs": [],
   "source": [
    "x =student (\"Mo2men\",20,4)"
   ]
  },
  {
   "cell_type": "code",
   "execution_count": 16,
   "metadata": {},
   "outputs": [
    {
     "name": "stdout",
     "output_type": "stream",
     "text": [
      "Mo2men\n"
     ]
    }
   ],
   "source": [
    "print(x.st_name)"
   ]
  },
  {
   "cell_type": "code",
   "execution_count": 17,
   "metadata": {},
   "outputs": [
    {
     "name": "stdout",
     "output_type": "stream",
     "text": [
      "20\n"
     ]
    }
   ],
   "source": [
    "print(x.st_age)"
   ]
  },
  {
   "cell_type": "code",
   "execution_count": 18,
   "metadata": {},
   "outputs": [
    {
     "name": "stdout",
     "output_type": "stream",
     "text": [
      "4\n"
     ]
    }
   ],
   "source": [
    "print(x.st_num_course)"
   ]
  },
  {
   "cell_type": "code",
   "execution_count": 19,
   "metadata": {},
   "outputs": [
    {
     "name": "stdout",
     "output_type": "stream",
     "text": [
      "1\n"
     ]
    }
   ],
   "source": [
    "print(student.num_student)"
   ]
  },
  {
   "cell_type": "code",
   "execution_count": 20,
   "metadata": {},
   "outputs": [],
   "source": [
    "class dog():\n",
    "    num_dog = 0 \n",
    "    def __init__(self,name,age):\n",
    "        dog.num_dog +=1\n",
    "        self.name = name\n",
    "        self.age = age\n",
    "        \n",
    "    def brak(self):\n",
    "        print(\"Brak Brak\")"
   ]
  },
  {
   "cell_type": "code",
   "execution_count": 21,
   "metadata": {},
   "outputs": [],
   "source": [
    "dog1 = dog(\"soker\",4)"
   ]
  },
  {
   "cell_type": "code",
   "execution_count": 22,
   "metadata": {},
   "outputs": [
    {
     "name": "stdout",
     "output_type": "stream",
     "text": [
      "Brak Brak\n"
     ]
    }
   ],
   "source": [
    "dog1.brak()"
   ]
  },
  {
   "cell_type": "code",
   "execution_count": 10,
   "metadata": {},
   "outputs": [],
   "source": [
    "class dog():\n",
    "    num_dog = 0 \n",
    "    def __init__(self,name,age):\n",
    "        dog.num_dog +=1\n",
    "        self.namei = name\n",
    "        self.agei = age\n",
    "        \n",
    "    def brak(self):\n",
    "        print(\"Brak Brak\")\n",
    "        \n",
    "    def doginfo (self):\n",
    "        print(\"this dog : name is \",self.namei,\"and age is \",self.agei)"
   ]
  },
  {
   "cell_type": "code",
   "execution_count": 11,
   "metadata": {},
   "outputs": [],
   "source": [
    "dog1 = dog(\"soker\",3)\n",
    "dog2 =dog(\"nemo\",2)\n",
    "dog3 = dog(\"koki\",5)"
   ]
  },
  {
   "cell_type": "code",
   "execution_count": 12,
   "metadata": {},
   "outputs": [
    {
     "name": "stdout",
     "output_type": "stream",
     "text": [
      "this dog : name is  soker and age is  3\n"
     ]
    }
   ],
   "source": [
    "dog1.doginfo()"
   ]
  },
  {
   "cell_type": "code",
   "execution_count": 13,
   "metadata": {},
   "outputs": [
    {
     "name": "stdout",
     "output_type": "stream",
     "text": [
      "this dog : name is  nemo and age is  2\n"
     ]
    }
   ],
   "source": [
    "dog2.doginfo()"
   ]
  },
  {
   "cell_type": "code",
   "execution_count": 14,
   "metadata": {},
   "outputs": [
    {
     "name": "stdout",
     "output_type": "stream",
     "text": [
      "this dog : name is  koki and age is  5\n"
     ]
    }
   ],
   "source": [
    "dog3.doginfo()"
   ]
  },
  {
   "cell_type": "code",
   "execution_count": null,
   "metadata": {},
   "outputs": [],
   "source": []
  },
  {
   "cell_type": "code",
   "execution_count": null,
   "metadata": {},
   "outputs": [],
   "source": []
  },
  {
   "cell_type": "markdown",
   "metadata": {},
   "source": [
    "## Instance Method VS Class Methods VS Static Methods"
   ]
  },
  {
   "cell_type": "markdown",
   "metadata": {},
   "source": [
    "In object-oriented programming (OOP) in Python, instance methods, class methods, and static methods are three different types of methods that can be used within a class. Here's an overview of each:"
   ]
  },
  {
   "cell_type": "markdown",
   "metadata": {},
   "source": [
    "- 1- Instance Methods:\n",
    "\n",
    "Instance methods are the most common type of method used in Python classes. They are called on an instance of the class, and they can access and modify the attributes of that instance. Instance methods always have the instance (self) as their first parameter, which allows them to access the instance's attributes and methods."
   ]
  },
  {
   "cell_type": "code",
   "execution_count": 1,
   "metadata": {},
   "outputs": [
    {
     "name": "stdout",
     "output_type": "stream",
     "text": [
      "Hello, my name is John\n"
     ]
    }
   ],
   "source": [
    "class MyClass:\n",
    "    def __init__(self, name):\n",
    "        self.name = name\n",
    "\n",
    "    def greet(self):\n",
    "        print(f\"Hello, my name is {self.name}\")\n",
    "\n",
    "# Create an instance of MyClass and call the greet method\n",
    "my_obj = MyClass(\"John\")\n",
    "my_obj.greet()"
   ]
  },
  {
   "cell_type": "markdown",
   "metadata": {},
   "source": [
    "In this example, the greet method is an instance method, and it is called on an instance of the MyClass class. It accesses the name attribute of the instance through the self parameter."
   ]
  },
  {
   "cell_type": "markdown",
   "metadata": {},
   "source": [
    "- 2- Class Methods:\n",
    "\n",
    "Class methods are methods that are bound to the class and not the instance of the class. They can access and modify class-level data and attributes, but not instance-level data. Class methods are defined using the @classmethod decorator, and they always take the class (cls) as their first parameter."
   ]
  },
  {
   "cell_type": "code",
   "execution_count": 2,
   "metadata": {},
   "outputs": [
    {
     "name": "stdout",
     "output_type": "stream",
     "text": [
      "There are 2 instances of MyClass\n"
     ]
    }
   ],
   "source": [
    "class MyClass:\n",
    "    count = 0\n",
    "\n",
    "    def __init__(self, name):\n",
    "        self.name = name\n",
    "        MyClass.count += 1\n",
    "\n",
    "    @classmethod\n",
    "    def get_count(cls):\n",
    "        print(f\"There are {cls.count} instances of MyClass\")\n",
    "\n",
    "# Create two instances of MyClass\n",
    "obj1 = MyClass(\"John\")\n",
    "obj2 = MyClass(\"Jane\")\n",
    "\n",
    "# Call the class method to get the number of instances of MyClass\n",
    "MyClass.get_count()\n"
   ]
  },
  {
   "cell_type": "markdown",
   "metadata": {},
   "source": [
    "In this example, the get_count method is a class method, and it is called on the MyClass class itself, not on an instance of the class. It accesses the count attribute of the class through the cls parameter."
   ]
  },
  {
   "cell_type": "markdown",
   "metadata": {},
   "source": [
    "- 3- Static Methods:\n",
    "\n",
    "Static methods are methods that are bound to the class and not the instance of the class. They do not have access to any instance-level data or attributes, nor do they have access to class-level data or attributes. Static methods are defined using the @staticmethod decorator."
   ]
  },
  {
   "cell_type": "code",
   "execution_count": 3,
   "metadata": {},
   "outputs": [
    {
     "name": "stdout",
     "output_type": "stream",
     "text": [
      "Hello, world!\n"
     ]
    }
   ],
   "source": [
    "class MyClass:\n",
    "    @staticmethod\n",
    "    def greet():\n",
    "        print(\"Hello, world!\")\n",
    "\n",
    "# Call the static method without creating an instance of the class\n",
    "MyClass.greet()\n"
   ]
  },
  {
   "cell_type": "markdown",
   "metadata": {},
   "source": [
    "In this example, the greet method is a static method, and it is called on the MyClass class itself, not on an instance of the class. It does not have access to any instance-level or class-level data."
   ]
  },
  {
   "cell_type": "markdown",
   "metadata": {},
   "source": [
    "- In summary, instance methods are called on instances of a class and have access to instance-level data, class methods are called on the class itself and have access to class-level data, and static methods are called on the class itself and do not have access to any data or attributes."
   ]
  },
  {
   "cell_type": "markdown",
   "metadata": {},
   "source": [
    "### _More example_"
   ]
  },
  {
   "cell_type": "code",
   "execution_count": 15,
   "metadata": {},
   "outputs": [],
   "source": [
    "class student():\n",
    "    \n",
    "    # constructor\n",
    "    def __int__(self,name,age):\n",
    "        #instance variables\n",
    "        self.name = name\n",
    "        self.age = age\n",
    "        \n",
    "    # instance varibles\n",
    "    def show(self):\n",
    "        print(self.name,self.age , student.school_name)\n",
    "        \n",
    "    @classmethod\n",
    "    def change_school(cls,name):\n",
    "        cls.school_name =name\n",
    "        \n",
    "    @staticmethod \n",
    "    \n",
    "    def find_notes(school_name):\n",
    "        return [\"chapter 1\" , \"chapter 2\" , \"chapter 3 \"]"
   ]
  },
  {
   "cell_type": "code",
   "execution_count": 16,
   "metadata": {},
   "outputs": [
    {
     "ename": "TypeError",
     "evalue": "student() takes no arguments",
     "output_type": "error",
     "traceback": [
      "\u001b[1;31m---------------------------------------------------------------------------\u001b[0m",
      "\u001b[1;31mTypeError\u001b[0m                                 Traceback (most recent call last)",
      "\u001b[1;32m~\\AppData\\Local\\Temp/ipykernel_12508/2961167011.py\u001b[0m in \u001b[0;36m<module>\u001b[1;34m\u001b[0m\n\u001b[1;32m----> 1\u001b[1;33m \u001b[0mpre\u001b[0m \u001b[1;33m=\u001b[0m \u001b[0mstudent\u001b[0m\u001b[1;33m(\u001b[0m\u001b[1;34m\"jehad\"\u001b[0m\u001b[1;33m,\u001b[0m\u001b[1;36m3\u001b[0m\u001b[1;33m)\u001b[0m\u001b[1;33m\u001b[0m\u001b[1;33m\u001b[0m\u001b[0m\n\u001b[0m",
      "\u001b[1;31mTypeError\u001b[0m: student() takes no arguments"
     ]
    }
   ],
   "source": [
    "pre = student(\"jehad\",3)"
   ]
  },
  {
   "cell_type": "code",
   "execution_count": 6,
   "metadata": {},
   "outputs": [
    {
     "ename": "AttributeError",
     "evalue": "'student' object has no attribute 'name'",
     "output_type": "error",
     "traceback": [
      "\u001b[1;31m---------------------------------------------------------------------------\u001b[0m",
      "\u001b[1;31mAttributeError\u001b[0m                            Traceback (most recent call last)",
      "\u001b[1;32m~\\AppData\\Local\\Temp/ipykernel_12508/2900136717.py\u001b[0m in \u001b[0;36m<module>\u001b[1;34m\u001b[0m\n\u001b[1;32m----> 1\u001b[1;33m \u001b[0mpre\u001b[0m\u001b[1;33m.\u001b[0m\u001b[0mshow\u001b[0m\u001b[1;33m(\u001b[0m\u001b[1;33m)\u001b[0m\u001b[1;33m\u001b[0m\u001b[1;33m\u001b[0m\u001b[0m\n\u001b[0m",
      "\u001b[1;32m~\\AppData\\Local\\Temp/ipykernel_12508/4127094985.py\u001b[0m in \u001b[0;36mshow\u001b[1;34m(self)\u001b[0m\n\u001b[0;32m      9\u001b[0m     \u001b[1;31m# instance varibles\u001b[0m\u001b[1;33m\u001b[0m\u001b[1;33m\u001b[0m\u001b[0m\n\u001b[0;32m     10\u001b[0m     \u001b[1;32mdef\u001b[0m \u001b[0mshow\u001b[0m\u001b[1;33m(\u001b[0m\u001b[0mself\u001b[0m\u001b[1;33m)\u001b[0m\u001b[1;33m:\u001b[0m\u001b[1;33m\u001b[0m\u001b[1;33m\u001b[0m\u001b[0m\n\u001b[1;32m---> 11\u001b[1;33m         \u001b[0mprint\u001b[0m\u001b[1;33m(\u001b[0m\u001b[0mself\u001b[0m\u001b[1;33m.\u001b[0m\u001b[0mname\u001b[0m\u001b[1;33m,\u001b[0m\u001b[0mself\u001b[0m\u001b[1;33m.\u001b[0m\u001b[0mage\u001b[0m \u001b[1;33m,\u001b[0m \u001b[0mstudent\u001b[0m\u001b[1;33m.\u001b[0m\u001b[0mschool_name\u001b[0m\u001b[1;33m)\u001b[0m\u001b[1;33m\u001b[0m\u001b[1;33m\u001b[0m\u001b[0m\n\u001b[0m\u001b[0;32m     12\u001b[0m \u001b[1;33m\u001b[0m\u001b[0m\n\u001b[0;32m     13\u001b[0m     \u001b[1;33m@\u001b[0m\u001b[0mclassmethod\u001b[0m\u001b[1;33m\u001b[0m\u001b[1;33m\u001b[0m\u001b[0m\n",
      "\u001b[1;31mAttributeError\u001b[0m: 'student' object has no attribute 'name'"
     ]
    }
   ],
   "source": [
    "pre.show()"
   ]
  },
  {
   "cell_type": "code",
   "execution_count": null,
   "metadata": {},
   "outputs": [],
   "source": []
  },
  {
   "cell_type": "code",
   "execution_count": 1,
   "metadata": {},
   "outputs": [],
   "source": [
    "class Vehicle():\n",
    "    \n",
    "    def __init__(self, speed, color):\n",
    "        self.color = color\n",
    "        self.speed = speed\n",
    "    \n",
    "    def what_color(self):\n",
    "        print('my color is: ' + self.color)\n",
    "        \n",
    "    def drive(self):\n",
    "        print('Driving with speed: ' + str(self.speed))"
   ]
  },
  {
   "cell_type": "markdown",
   "metadata": {},
   "source": [
    "## Dunder methods or magic methods "
   ]
  },
  {
   "cell_type": "code",
   "execution_count": 2,
   "metadata": {},
   "outputs": [
    {
     "name": "stdout",
     "output_type": "stream",
     "text": [
      "Driving with speed: 100\n",
      "my color is: red\n"
     ]
    },
    {
     "data": {
      "text/plain": [
       "'red'"
      ]
     },
     "execution_count": 2,
     "metadata": {},
     "output_type": "execute_result"
    }
   ],
   "source": [
    "hundai = Vehicle(100, 'red')\n",
    "\n",
    "hundai.drive()\n",
    "hundai.what_color()\n",
    "hundai.color"
   ]
  },
  {
   "cell_type": "code",
   "execution_count": 34,
   "metadata": {
    "collapsed": true,
    "jupyter": {
     "outputs_hidden": true
    }
   },
   "outputs": [],
   "source": [
    "class Car(Vehicle):\n",
    "\n",
    "    \n",
    "    def drive(self):\n",
    "        print('start with ur key and power me on')\n",
    "        \n",
    "               \n",
    "class Plane(Vehicle):\n",
    "    \n",
    "    def drive(self):\n",
    "        print('Im Flying')\n",
    "    "
   ]
  },
  {
   "cell_type": "code",
   "execution_count": 36,
   "metadata": {},
   "outputs": [
    {
     "name": "stdout",
     "output_type": "stream",
     "text": [
      "start with ur key and power me on\n"
     ]
    },
    {
     "data": {
      "text/plain": [
       "100"
      ]
     },
     "execution_count": 36,
     "metadata": {},
     "output_type": "execute_result"
    }
   ],
   "source": [
    "mitsupishi = Car(100, 'red')\n",
    "\n",
    "mitsupishi.drive()\n",
    "mitsupishi.speed"
   ]
  },
  {
   "cell_type": "code",
   "execution_count": 67,
   "metadata": {
    "collapsed": true,
    "jupyter": {
     "outputs_hidden": true
    }
   },
   "outputs": [],
   "source": [
    "plane1 = Plane(700, 'white')"
   ]
  },
  {
   "cell_type": "code",
   "execution_count": 68,
   "metadata": {},
   "outputs": [
    {
     "name": "stdout",
     "output_type": "stream",
     "text": [
      "Im Flying\n"
     ]
    }
   ],
   "source": [
    "plane1.drive()"
   ]
  },
  {
   "cell_type": "code",
   "execution_count": null,
   "metadata": {
    "tags": []
   },
   "outputs": [],
   "source": [
    "task :\n",
    "    \n",
    "    make a calculator class that add , subtract and multiblicate two nums"
   ]
  },
  {
   "cell_type": "code",
   "execution_count": null,
   "metadata": {
    "tags": []
   },
   "outputs": [],
   "source": []
  },
  {
   "cell_type": "code",
   "execution_count": 1,
   "metadata": {},
   "outputs": [
    {
     "name": "stdout",
     "output_type": "stream",
     "text": [
      "Please select operation -\n",
      "1. Add\n",
      "2. Subtract\n",
      "3. Multiply\n",
      "4. Divide\n",
      "\n"
     ]
    },
    {
     "name": "stdin",
     "output_type": "stream",
     "text": [
      "Select operations form 1, 2, 3, 4 : 1\n",
      "Enter first number:  3\n",
      "Enter second number:  5\n"
     ]
    },
    {
     "name": "stdout",
     "output_type": "stream",
     "text": [
      "3 + 5 = 8\n"
     ]
    }
   ],
   "source": [
    "# Python program for simple calculator\n",
    "\n",
    "# Function to add two numbers\n",
    "def add(num1, num2):\n",
    "\treturn num1 + num2\n",
    "\n",
    "# Function to subtract two numbers\n",
    "def subtract(num1, num2):\n",
    "\treturn num1 - num2\n",
    "\n",
    "# Function to multiply two numbers\n",
    "def multiply(num1, num2):\n",
    "\treturn num1 * num2\n",
    "\n",
    "# Function to divide two numbers\n",
    "def divide(num1, num2):\n",
    "\treturn num1 / num2\n",
    "\n",
    "print(\"Please select operation -\\n\" \\\n",
    "\t\t\"1. Add\\n\" \\\n",
    "\t\t\"2. Subtract\\n\" \\\n",
    "\t\t\"3. Multiply\\n\" \\\n",
    "\t\t\"4. Divide\\n\")\n",
    "\n",
    "\n",
    "# Take input from the user\n",
    "select = int(input(\"Select operations form 1, 2, 3, 4 :\"))\n",
    "\n",
    "number_1 = int(input(\"Enter first number: \"))\n",
    "number_2 = int(input(\"Enter second number: \"))\n",
    "\n",
    "if select == 1:\n",
    "\tprint(number_1, \"+\", number_2, \"=\",\n",
    "\t\t\t\t\tadd(number_1, number_2))\n",
    "\n",
    "elif select == 2:\n",
    "\tprint(number_1, \"-\", number_2, \"=\",\n",
    "\t\t\t\t\tsubtract(number_1, number_2))\n",
    "\n",
    "elif select == 3:\n",
    "\tprint(number_1, \"*\", number_2, \"=\",\n",
    "\t\t\t\t\tmultiply(number_1, number_2))\n",
    "\n",
    "elif select == 4:\n",
    "\tprint(number_1, \"/\", number_2, \"=\",\n",
    "\t\t\t\t\tdivide(number_1, number_2))\n",
    "else:\n",
    "\tprint(\"Invalid input\")\n"
   ]
  },
  {
   "cell_type": "code",
   "execution_count": null,
   "metadata": {},
   "outputs": [],
   "source": []
  },
  {
   "cell_type": "code",
   "execution_count": null,
   "metadata": {},
   "outputs": [],
   "source": []
  },
  {
   "cell_type": "code",
   "execution_count": null,
   "metadata": {
    "collapsed": true,
    "jupyter": {
     "outputs_hidden": true
    }
   },
   "outputs": [],
   "source": []
  },
  {
   "cell_type": "code",
   "execution_count": 2,
   "metadata": {
    "collapsed": true,
    "jupyter": {
     "outputs_hidden": true
    }
   },
   "outputs": [],
   "source": [
    "class calc():\n",
    "    def __init__(self,a,b):\n",
    "        self.a=a\n",
    "        self.b=b\n",
    "    \n",
    "    \n",
    "    def add(self):\n",
    "        return self.a+self.b\n",
    "    \n",
    "    def sub(self):\n",
    "        return self.a-self.b\n",
    "    \n",
    "      \n",
    "    def mult(self):\n",
    "        return self.a*self.b"
   ]
  },
  {
   "cell_type": "code",
   "execution_count": 6,
   "metadata": {},
   "outputs": [
    {
     "name": "stdout",
     "output_type": "stream",
     "text": [
      "11\n",
      "-1\n",
      "30\n"
     ]
    }
   ],
   "source": [
    "ca=calc(5,6)\n",
    "print(ca.add())\n",
    "print(ca.sub())\n",
    "print(ca.mult())"
   ]
  },
  {
   "cell_type": "markdown",
   "metadata": {},
   "source": [
    "# Inheretance "
   ]
  },
  {
   "cell_type": "code",
   "execution_count": 4,
   "metadata": {},
   "outputs": [],
   "source": [
    "class calc():\n",
    "    def __init__(self,a,b):\n",
    "        self.a=a\n",
    "        self.b=b\n",
    "    \n",
    "    \n",
    "    def add(self):\n",
    "        return self.a+self.b\n",
    "    \n",
    "    def sub(self):\n",
    "        return self.a-self.b\n",
    "    \n",
    "      \n",
    "    def mult(self):\n",
    "        return self.a*self.b"
   ]
  },
  {
   "cell_type": "code",
   "execution_count": 5,
   "metadata": {},
   "outputs": [],
   "source": [
    "class scientific(calc):\n",
    "    def power(self):\n",
    "        return self.a ** self.b"
   ]
  },
  {
   "cell_type": "code",
   "execution_count": 6,
   "metadata": {},
   "outputs": [],
   "source": [
    "x=scientific(20,30)"
   ]
  },
  {
   "cell_type": "code",
   "execution_count": 44,
   "metadata": {},
   "outputs": [
    {
     "data": {
      "text/plain": [
       "50"
      ]
     },
     "execution_count": 44,
     "metadata": {},
     "output_type": "execute_result"
    }
   ],
   "source": [
    "x.add()"
   ]
  },
  {
   "cell_type": "code",
   "execution_count": 45,
   "metadata": {},
   "outputs": [
    {
     "data": {
      "text/plain": [
       "600"
      ]
     },
     "execution_count": 45,
     "metadata": {},
     "output_type": "execute_result"
    }
   ],
   "source": [
    "x.mult()"
   ]
  },
  {
   "cell_type": "code",
   "execution_count": 46,
   "metadata": {},
   "outputs": [
    {
     "data": {
      "text/plain": [
       "1073741824000000000000000000000000000000"
      ]
     },
     "execution_count": 46,
     "metadata": {},
     "output_type": "execute_result"
    }
   ],
   "source": [
    "x.power()"
   ]
  },
  {
   "cell_type": "markdown",
   "metadata": {},
   "source": [
    "## Abstraction & Inheritance"
   ]
  },
  {
   "cell_type": "markdown",
   "metadata": {},
   "source": [
    "- 1-Inheritance:\n",
    "\n",
    "Inheritance is a mechanism in OOP that allows a class to derive properties and behavior from another class. The class that is being inherited from is called the parent class or superclass, and the class that inherits from it is called the child class or subclass. The child class can use all the properties and methods of the parent class, and it can also define its own properties and methods."
   ]
  },
  {
   "cell_type": "markdown",
   "metadata": {},
   "source": [
    "In Python, you can create a subclass by specifying the parent class name in parentheses after the subclass name, like this:"
   ]
  },
  {
   "cell_type": "code",
   "execution_count": null,
   "metadata": {},
   "outputs": [],
   "source": [
    "class ParentClass:\n",
    "    # properties and methods\n",
    "\n",
    "class ChildClass(ParentClass):\n",
    "    # properties and methods\n"
   ]
  },
  {
   "cell_type": "markdown",
   "metadata": {},
   "source": [
    "Here, ChildClass is inheriting from ParentClass."
   ]
  },
  {
   "cell_type": "markdown",
   "metadata": {},
   "source": [
    "- 2- Abstraction:\n",
    "\n",
    "Abstraction is a way of hiding the implementation details of a class from the user of that class. This means that the user doesn't need to know how the class works internally; they only need to know how to use its public interface. Abstraction can be achieved in Python using abstract classes and interfaces.\n",
    "\n",
    "An abstract class is a class that cannot be instantiated, but it can be subclassed. It typically defines abstract methods, which are methods that have no implementation in the abstract class, but the subclasses are required to implement them."
   ]
  },
  {
   "cell_type": "code",
   "execution_count": null,
   "metadata": {},
   "outputs": [],
   "source": [
    "from abc import ABC, abstractmethod\n",
    "\n",
    "class AbstractClass(ABC):\n",
    "    \n",
    "    @abstractmethod\n",
    "    def abstract_method(self):\n",
    "        pass\n",
    "\n",
    "class ConcreteClass(AbstractClass):\n",
    "    \n",
    "    def abstract_method(self):\n",
    "        # implementation of abstract_method\n",
    "        pass\n"
   ]
  },
  {
   "cell_type": "markdown",
   "metadata": {},
   "source": [
    "Here, AbstractClass is an abstract class with one abstract method, abstract_method().\n",
    "\n",
    "ConcreteClass is a concrete class that inherits from AbstractClass and provides an implementation of the abstract_method().\n",
    "\n",
    "An interface is similar to an abstract class, but it only defines abstract methods and no properties. In Python, interfaces are implemented using abstract classes with all methods abstract."
   ]
  },
  {
   "cell_type": "code",
   "execution_count": 5,
   "metadata": {},
   "outputs": [],
   "source": [
    "from abc import ABC, abstractmethod\n",
    "\n",
    "class Interface(ABC):\n",
    "    \n",
    "    @abstractmethod\n",
    "    def method1(self):\n",
    "        pass\n",
    "    \n",
    "    @abstractmethod\n",
    "    def method2(self):\n",
    "        pass\n",
    "\n",
    "class ConcreteClass(Interface):\n",
    "    \n",
    "    def method1(self):\n",
    "        # implementation of method1\n",
    "        pass\n",
    "    \n",
    "    def method2(self):\n",
    "        # implementation of method2\n",
    "        pass\n"
   ]
  },
  {
   "cell_type": "code",
   "execution_count": 3,
   "metadata": {},
   "outputs": [
    {
     "name": "stdout",
     "output_type": "stream",
     "text": [
      "I can walk and run\n",
      "I can crawl\n",
      "I can bark\n",
      "I can roar\n"
     ]
    }
   ],
   "source": [
    " #Python program showing\n",
    "# abstract base class work\n",
    " \n",
    "from abc import ABC, abstractmethod\n",
    "class Animal(ABC):\n",
    " \n",
    "    def move(self):\n",
    "        pass\n",
    "class Human(Animal):\n",
    " \n",
    "    def move(self):\n",
    "        print(\"I can walk and run\")\n",
    "class Snake(Animal):\n",
    " \n",
    "    def move(self):\n",
    "        print(\"I can crawl\")\n",
    "class Dog(Animal):\n",
    " \n",
    "    def move(self):\n",
    "        print(\"I can bark\")\n",
    "class Lion(Animal):\n",
    " \n",
    "    def move(self):\n",
    "        print(\"I can roar\")\n",
    "         \n",
    "# Driver code\n",
    "R = Human()\n",
    "R.move()\n",
    " \n",
    "K = Snake()\n",
    "K.move()\n",
    " \n",
    "R = Dog()\n",
    "R.move()\n",
    " \n",
    "K = Lion()\n",
    "K.move()"
   ]
  },
  {
   "cell_type": "code",
   "execution_count": null,
   "metadata": {},
   "outputs": [],
   "source": []
  },
  {
   "cell_type": "code",
   "execution_count": null,
   "metadata": {},
   "outputs": [],
   "source": []
  }
 ],
 "metadata": {
  "kernelspec": {
   "display_name": "Python 3 (ipykernel)",
   "language": "python",
   "name": "python3"
  },
  "language_info": {
   "codemirror_mode": {
    "name": "ipython",
    "version": 3
   },
   "file_extension": ".py",
   "mimetype": "text/x-python",
   "name": "python",
   "nbconvert_exporter": "python",
   "pygments_lexer": "ipython3",
   "version": "3.9.7"
  }
 },
 "nbformat": 4,
 "nbformat_minor": 4
}
