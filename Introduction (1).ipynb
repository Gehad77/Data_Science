{
 "cells": [
  {
   "cell_type": "markdown",
   "id": "3e4d0082-83c3-4807-8c37-daccb81ddec3",
   "metadata": {
    "tags": []
   },
   "source": [
    "# Print"
   ]
  },
  {
   "cell_type": "code",
   "execution_count": 1,
   "id": "1b784023-bcaf-4458-8f8b-655a2cfae81b",
   "metadata": {},
   "outputs": [
    {
     "name": "stdout",
     "output_type": "stream",
     "text": [
      "Write your name :) \n"
     ]
    }
   ],
   "source": [
    "print (\"Write your name :) \" )"
   ]
  },
  {
   "cell_type": "code",
   "execution_count": 2,
   "id": "567d5048-7791-4913-b881-b45d92c25497",
   "metadata": {},
   "outputs": [],
   "source": [
    "name = \"Jehad\"\n",
    "age = 26\n",
    "add = 2"
   ]
  },
  {
   "cell_type": "code",
   "execution_count": 3,
   "id": "4799a41a-b49c-41d3-a520-c7dbe408078e",
   "metadata": {},
   "outputs": [
    {
     "name": "stdout",
     "output_type": "stream",
     "text": [
      "Write your name Jehad and your age \n"
     ]
    }
   ],
   "source": [
    "print(\"Write your name {} and your age \".format(name,age))"
   ]
  },
  {
   "cell_type": "code",
   "execution_count": 4,
   "id": "d91e62ec-5404-4dbb-a20e-7f94d0c7ab7a",
   "metadata": {},
   "outputs": [
    {
     "name": "stdout",
     "output_type": "stream",
     "text": [
      "Write your name Jehad and your age 26\n"
     ]
    }
   ],
   "source": [
    "print(\"Write your name {} and your age {}\".format(name,age))"
   ]
  },
  {
   "cell_type": "code",
   "execution_count": 5,
   "id": "7043763b-444c-419d-a00c-8afe8ff6cf5d",
   "metadata": {},
   "outputs": [
    {
     "name": "stdout",
     "output_type": "stream",
     "text": [
      "Write your name 26 and your age Jehad \n"
     ]
    }
   ],
   "source": [
    "print(\"Write your name {1} and your age {0} \".format(name,age))"
   ]
  },
  {
   "cell_type": "code",
   "execution_count": null,
   "id": "178e7962-3a5c-4842-82ce-b39e46084006",
   "metadata": {},
   "outputs": [],
   "source": []
  },
  {
   "cell_type": "markdown",
   "id": "ec4bf01e-4e83-4063-9e2b-739bd0b1d7b6",
   "metadata": {},
   "source": [
    "# Escape Charaters "
   ]
  },
  {
   "cell_type": "markdown",
   "id": "d8bba541-ac4c-4e1b-b735-1f9ba5fd0d58",
   "metadata": {},
   "source": [
    "○ \\\\: Backslash\n",
    "\n",
    "○ \\n: New line\n",
    "\n",
    "○ \\t: tab\n",
    "\n",
    "○ \\b: Backspace"
   ]
  },
  {
   "cell_type": "code",
   "execution_count": null,
   "id": "172e8f5c-0d54-43e6-bea3-33545be35eb8",
   "metadata": {},
   "outputs": [],
   "source": [
    "\"\"\"\n",
    "This is a comment\n",
    "written in\n",
    "more than just one line\n",
    "\"\"\"\n",
    "print(\"Hello, World!\")"
   ]
  },
  {
   "cell_type": "code",
   "execution_count": 15,
   "id": "3cd3947b-f0e2-4480-b95a-4f936089d306",
   "metadata": {},
   "outputs": [],
   "source": [
    "# Hi "
   ]
  },
  {
   "cell_type": "code",
   "execution_count": 20,
   "id": "89e8089c-96fb-4d18-8ba4-d5554dd1185f",
   "metadata": {},
   "outputs": [
    {
     "name": "stdout",
     "output_type": "stream",
     "text": [
      "Hi \n",
      " my name is \n"
     ]
    }
   ],
   "source": [
    "print(\"Hi \\n my name is \")"
   ]
  },
  {
   "cell_type": "code",
   "execution_count": 19,
   "id": "c45be25a-c2af-4360-a3e2-9963595f5842",
   "metadata": {},
   "outputs": [
    {
     "name": "stdout",
     "output_type": "stream",
     "text": [
      "\tHi my name is \n"
     ]
    }
   ],
   "source": [
    "print(\"\\tHi my name is \")"
   ]
  },
  {
   "cell_type": "markdown",
   "id": "839cb926-f357-480f-bcbe-30d4541d8aec",
   "metadata": {},
   "source": [
    "# Math"
   ]
  },
  {
   "cell_type": "code",
   "execution_count": 2,
   "id": "2f89354d-46bd-4e2d-88be-fd89e9577e54",
   "metadata": {},
   "outputs": [
    {
     "data": {
      "text/plain": [
       "3"
      ]
     },
     "execution_count": 2,
     "metadata": {},
     "output_type": "execute_result"
    }
   ],
   "source": [
    "1+2"
   ]
  },
  {
   "cell_type": "code",
   "execution_count": 3,
   "id": "0c73d2a0-d4ab-484b-bb92-cbc04681b49c",
   "metadata": {},
   "outputs": [
    {
     "data": {
      "text/plain": [
       "False"
      ]
     },
     "execution_count": 3,
     "metadata": {},
     "output_type": "execute_result"
    }
   ],
   "source": [
    "5 < 2"
   ]
  },
  {
   "cell_type": "code",
   "execution_count": 4,
   "id": "51c86da2-6f8e-40e1-b8f7-101b5c3811cf",
   "metadata": {},
   "outputs": [
    {
     "data": {
      "text/plain": [
       "False"
      ]
     },
     "execution_count": 4,
     "metadata": {},
     "output_type": "execute_result"
    }
   ],
   "source": [
    "2 > 5"
   ]
  },
  {
   "cell_type": "code",
   "execution_count": 5,
   "id": "957634b1-44b0-4fc2-98cf-6130c2a7f132",
   "metadata": {},
   "outputs": [],
   "source": [
    "X = 1+2"
   ]
  },
  {
   "cell_type": "code",
   "execution_count": 7,
   "id": "f148edec-d39f-4241-a302-ab8f35c9a9f3",
   "metadata": {},
   "outputs": [
    {
     "data": {
      "text/plain": [
       "3"
      ]
     },
     "execution_count": 7,
     "metadata": {},
     "output_type": "execute_result"
    }
   ],
   "source": [
    "X"
   ]
  },
  {
   "cell_type": "code",
   "execution_count": 1,
   "id": "5187fc09-5b2c-4248-a2d5-0922dfbef3f2",
   "metadata": {},
   "outputs": [
    {
     "data": {
      "text/plain": [
       "True"
      ]
     },
     "execution_count": 1,
     "metadata": {},
     "output_type": "execute_result"
    }
   ],
   "source": [
    "3 == 3"
   ]
  },
  {
   "cell_type": "code",
   "execution_count": 2,
   "id": "21e92335-5bf1-4ab9-9956-3dbc14504434",
   "metadata": {},
   "outputs": [
    {
     "data": {
      "text/plain": [
       "True"
      ]
     },
     "execution_count": 2,
     "metadata": {},
     "output_type": "execute_result"
    }
   ],
   "source": [
    "3 != 4"
   ]
  },
  {
   "cell_type": "markdown",
   "id": "68388214-b395-421c-8d1c-ab6ba3b40529",
   "metadata": {},
   "source": [
    "# If"
   ]
  },
  {
   "cell_type": "code",
   "execution_count": 8,
   "id": "3d2083d5-fb2c-4a94-9fb9-2c48b485fc14",
   "metadata": {},
   "outputs": [
    {
     "name": "stdout",
     "output_type": "stream",
     "text": [
      "Five is greater than two!\n"
     ]
    }
   ],
   "source": [
    "if 5 > 2:\n",
    "    print(\"Five is greater than two!\")"
   ]
  },
  {
   "cell_type": "code",
   "execution_count": 14,
   "id": "bcb6b413-a7dd-4024-bca5-4a257f68fa6d",
   "metadata": {},
   "outputs": [
    {
     "name": "stdout",
     "output_type": "stream",
     "text": [
      "Five is greater than two!\n"
     ]
    }
   ],
   "source": [
    "if 5 > 2:\n",
    "    print(\"Five is greater than two!\") \n",
    "if 5 > 9:\n",
    "    print(\"Five is greater than nine!\") "
   ]
  },
  {
   "cell_type": "markdown",
   "id": "cbcb5a3d-92ed-45c7-bdfe-6b88b4cf87f2",
   "metadata": {},
   "source": [
    "# Data type"
   ]
  },
  {
   "cell_type": "code",
   "execution_count": 2,
   "id": "ebb8f9d6-2ccd-4665-b51f-58abc2650286",
   "metadata": {},
   "outputs": [],
   "source": [
    "e = 2345"
   ]
  },
  {
   "cell_type": "code",
   "execution_count": 5,
   "id": "4bbbc4a5-7270-4930-8b9b-17ef1aae39c5",
   "metadata": {},
   "outputs": [
    {
     "data": {
      "text/plain": [
       "2345"
      ]
     },
     "execution_count": 5,
     "metadata": {},
     "output_type": "execute_result"
    }
   ],
   "source": [
    "e"
   ]
  },
  {
   "cell_type": "code",
   "execution_count": 4,
   "id": "d4b0daa2-e295-4ee7-8fc7-a316ac2c2555",
   "metadata": {},
   "outputs": [
    {
     "name": "stdout",
     "output_type": "stream",
     "text": [
      "2345\n"
     ]
    }
   ],
   "source": [
    "print(e)"
   ]
  },
  {
   "cell_type": "code",
   "execution_count": 7,
   "id": "98c9bf17-ae2e-4640-9b6f-84cbdc69ffd9",
   "metadata": {},
   "outputs": [
    {
     "name": "stdout",
     "output_type": "stream",
     "text": [
      "56\n"
     ]
    }
   ],
   "source": [
    "x = 4       # x is of type int\n",
    "x = \"Sally\"\n",
    "x= \"tew\"\n",
    "x= 56      # x is now of type str\n",
    "print(x)"
   ]
  },
  {
   "cell_type": "code",
   "execution_count": 7,
   "id": "61c47e39-8432-4ecd-ac17-f3f8654aa701",
   "metadata": {},
   "outputs": [],
   "source": [
    "x = str(3)    # x will be '3'\n",
    "y = int(3)    # y will be 3\n",
    "z = float(3)  # z will be 3.0"
   ]
  },
  {
   "cell_type": "code",
   "execution_count": 9,
   "id": "fc584e0e-376d-4aea-979b-e126029c3997",
   "metadata": {},
   "outputs": [
    {
     "name": "stdout",
     "output_type": "stream",
     "text": [
      "3\n",
      "3\n",
      "3.0\n"
     ]
    }
   ],
   "source": [
    "print(x)\n",
    "print(y)\n",
    "print(z)"
   ]
  },
  {
   "cell_type": "code",
   "execution_count": 10,
   "id": "e313393d-b3d0-4349-97cb-908c6fb6581c",
   "metadata": {},
   "outputs": [
    {
     "data": {
      "text/plain": [
       "str"
      ]
     },
     "execution_count": 10,
     "metadata": {},
     "output_type": "execute_result"
    }
   ],
   "source": [
    "type(x)"
   ]
  },
  {
   "cell_type": "code",
   "execution_count": 11,
   "id": "1637d971-d211-4444-9204-82fa40d08bc9",
   "metadata": {},
   "outputs": [
    {
     "data": {
      "text/plain": [
       "int"
      ]
     },
     "execution_count": 11,
     "metadata": {},
     "output_type": "execute_result"
    }
   ],
   "source": [
    "type(y)"
   ]
  },
  {
   "cell_type": "markdown",
   "id": "c4b7eb07-9216-4f05-8312-cd31d5d0fa21",
   "metadata": {},
   "source": [
    "# Assign Multiple Values"
   ]
  },
  {
   "cell_type": "code",
   "execution_count": 12,
   "id": "6fe8f009-1577-4ba6-9dfe-5a8d57e0353a",
   "metadata": {},
   "outputs": [
    {
     "name": "stdout",
     "output_type": "stream",
     "text": [
      "Orange\n",
      "Banana\n",
      "Cherry\n"
     ]
    }
   ],
   "source": [
    "x, y, z = \"Orange\", \"Banana\", \"Cherry\"\n",
    "print(x)\n",
    "print(y)\n",
    "print(z)"
   ]
  },
  {
   "cell_type": "code",
   "execution_count": 13,
   "id": "6271625c-4372-4f8a-82cf-a5bc613719e4",
   "metadata": {},
   "outputs": [
    {
     "name": "stdout",
     "output_type": "stream",
     "text": [
      "Orange\n",
      "Orange\n",
      "Orange\n"
     ]
    }
   ],
   "source": [
    "x = y = z = \"Orange\"\n",
    "print(x)\n",
    "print(y)\n",
    "print(z)"
   ]
  },
  {
   "cell_type": "code",
   "execution_count": null,
   "id": "51a5cb63-ce9f-4eba-b470-4eed353991ec",
   "metadata": {},
   "outputs": [
    {
     "name": "stdout",
     "output_type": "stream",
     "text": [
      "['apple', 'banana', 'cherry']\n"
     ]
    }
   ],
   "source": [
    "fruits = [\"apple\", \"banana\", \"cherry\"]\n",
    "x, y, z = fruits\n",
    "print(x)\n",
    "print(y)\n",
    "print(z)"
   ]
  },
  {
   "cell_type": "code",
   "execution_count": 12,
   "id": "9c6d7d4b-8116-484d-991f-2275c74e4903",
   "metadata": {},
   "outputs": [
    {
     "name": "stdout",
     "output_type": "stream",
     "text": [
      "87 34 awesome\n"
     ]
    }
   ],
   "source": [
    "x = 87\n",
    "y = 34\n",
    "z = \"awesome\"\n",
    "print(x, y, z)"
   ]
  },
  {
   "cell_type": "code",
   "execution_count": 14,
   "id": "91f1969b-aa21-442b-a5f7-155568b4a985",
   "metadata": {},
   "outputs": [
    {
     "name": "stdout",
     "output_type": "stream",
     "text": [
      "121 awesome\n"
     ]
    }
   ],
   "source": [
    "x = 87\n",
    "y = 34\n",
    "z = \"awesome\"\n",
    "print(x + y , z)"
   ]
  },
  {
   "cell_type": "markdown",
   "id": "31520295-8f19-48ea-814c-4992cb305d3e",
   "metadata": {},
   "source": [
    "# String"
   ]
  },
  {
   "cell_type": "code",
   "execution_count": 15,
   "id": "a8682895-aefc-43e8-8c91-d08784730144",
   "metadata": {},
   "outputs": [
    {
     "name": "stdout",
     "output_type": "stream",
     "text": [
      "Hello\n"
     ]
    }
   ],
   "source": [
    "b = \"Hello, World!\"\n",
    "print(b[:5])"
   ]
  },
  {
   "cell_type": "code",
   "execution_count": 18,
   "id": "a3cbc4f5-718b-4952-9d22-549f9dc05e0e",
   "metadata": {},
   "outputs": [
    {
     "data": {
      "text/plain": [
       "'Hel'"
      ]
     },
     "execution_count": 18,
     "metadata": {},
     "output_type": "execute_result"
    }
   ],
   "source": [
    "b[:3]"
   ]
  },
  {
   "cell_type": "code",
   "execution_count": 21,
   "id": "d2209501-d82a-460a-9ce1-4aacd6377af7",
   "metadata": {},
   "outputs": [
    {
     "name": "stdout",
     "output_type": "stream",
     "text": [
      "orl\n"
     ]
    }
   ],
   "source": [
    "b = \"Hello, World!\"\n",
    "print(b[-5:-2])"
   ]
  },
  {
   "cell_type": "code",
   "execution_count": null,
   "id": "39607a32-9831-468f-84d5-8d26564dc42a",
   "metadata": {},
   "outputs": [],
   "source": [
    "orl"
   ]
  },
  {
   "cell_type": "code",
   "execution_count": 4,
   "id": "293a4e7a-b208-44f8-8c92-17ffdff2b655",
   "metadata": {},
   "outputs": [
    {
     "data": {
      "text/plain": [
       "'H'"
      ]
     },
     "execution_count": 4,
     "metadata": {},
     "output_type": "execute_result"
    }
   ],
   "source": [
    "b = \"Hello, World!\"\n",
    "b [0]"
   ]
  },
  {
   "cell_type": "code",
   "execution_count": 5,
   "id": "cce7ad88-abc4-4aa3-91f6-3e4020ce9ace",
   "metadata": {},
   "outputs": [
    {
     "data": {
      "text/plain": [
       "'Hello, World!'"
      ]
     },
     "execution_count": 5,
     "metadata": {},
     "output_type": "execute_result"
    }
   ],
   "source": [
    "b = \"Hello, World!\"\n",
    "b[:]"
   ]
  },
  {
   "cell_type": "code",
   "execution_count": 6,
   "id": "68253ab5-6a08-48a8-bded-c18583a8d7f7",
   "metadata": {},
   "outputs": [
    {
     "data": {
      "text/plain": [
       "'ello, World!'"
      ]
     },
     "execution_count": 6,
     "metadata": {},
     "output_type": "execute_result"
    }
   ],
   "source": [
    "b = \"Hello, World!\"\n",
    "b[1:]"
   ]
  },
  {
   "cell_type": "code",
   "execution_count": 8,
   "id": "76ded939-e539-4296-8c19-dde3d384978f",
   "metadata": {},
   "outputs": [
    {
     "data": {
      "text/plain": [
       "'!dlroW ,olleH'"
      ]
     },
     "execution_count": 8,
     "metadata": {},
     "output_type": "execute_result"
    }
   ],
   "source": [
    "b = \"Hello, World!\"\n",
    "b[::-1]"
   ]
  },
  {
   "cell_type": "code",
   "execution_count": 23,
   "id": "74370135-d3fe-44a6-beef-f9819cc108c9",
   "metadata": {},
   "outputs": [
    {
     "name": "stdout",
     "output_type": "stream",
     "text": [
      " i like python\n"
     ]
    }
   ],
   "source": [
    "srt = \" i like python\"\n",
    "txt = srt.replace(\"pyhton\",\"java\")\n",
    "print(txt)"
   ]
  },
  {
   "cell_type": "code",
   "execution_count": null,
   "id": "100a97d9-75c9-413b-abd4-4ecb681e6cff",
   "metadata": {},
   "outputs": [],
   "source": []
  },
  {
   "cell_type": "markdown",
   "id": "3b3a2934-3049-481e-af00-06629855d644",
   "metadata": {},
   "source": [
    "# Random number "
   ]
  },
  {
   "cell_type": "code",
   "execution_count": 8,
   "id": "f8cfbda4-9531-4fbb-8a49-d6e45a255103",
   "metadata": {},
   "outputs": [
    {
     "name": "stdout",
     "output_type": "stream",
     "text": [
      "3\n"
     ]
    }
   ],
   "source": [
    "import random\n",
    "\n",
    "print(random.randrange(1, 10))"
   ]
  },
  {
   "cell_type": "code",
   "execution_count": 8,
   "id": "5e0a1abe-0a67-453b-8819-f4c757aba0ba",
   "metadata": {},
   "outputs": [
    {
     "data": {
      "text/plain": [
       "0.48345149394049014"
      ]
     },
     "execution_count": 8,
     "metadata": {},
     "output_type": "execute_result"
    }
   ],
   "source": [
    "random.random()"
   ]
  },
  {
   "cell_type": "code",
   "execution_count": 10,
   "id": "77269210-b68e-407c-93f7-c91c2e45ee76",
   "metadata": {},
   "outputs": [
    {
     "data": {
      "text/plain": [
       "2"
      ]
     },
     "execution_count": 10,
     "metadata": {},
     "output_type": "execute_result"
    }
   ],
   "source": [
    "random.randint(1,3)"
   ]
  },
  {
   "cell_type": "code",
   "execution_count": 12,
   "id": "12a4737a-2225-494b-a5ff-bcfe34968321",
   "metadata": {},
   "outputs": [
    {
     "data": {
      "text/plain": [
       "8"
      ]
     },
     "execution_count": 12,
     "metadata": {},
     "output_type": "execute_result"
    }
   ],
   "source": [
    "random.randrange(1,10)"
   ]
  },
  {
   "cell_type": "code",
   "execution_count": 9,
   "id": "373db2a2-2b86-4ac2-a475-bf997323710b",
   "metadata": {},
   "outputs": [
    {
     "data": {
      "text/plain": [
       "'y'"
      ]
     },
     "execution_count": 9,
     "metadata": {},
     "output_type": "execute_result"
    }
   ],
   "source": [
    "random.choice(\"sdftyuhijkl\")"
   ]
  },
  {
   "cell_type": "code",
   "execution_count": 21,
   "id": "fac8f053-c753-43f6-8225-02ea0e6ad4b6",
   "metadata": {},
   "outputs": [
    {
     "data": {
      "text/plain": [
       "[3, 5, 65, 32, 456]"
      ]
     },
     "execution_count": 21,
     "metadata": {},
     "output_type": "execute_result"
    }
   ],
   "source": [
    "num=[3,5,65,456,32]\n",
    "random.shuffle(num)\n",
    "num"
   ]
  },
  {
   "cell_type": "code",
   "execution_count": null,
   "id": "7e02e056-dfb2-4aa2-974d-d9b7ce6f669c",
   "metadata": {},
   "outputs": [],
   "source": []
  },
  {
   "cell_type": "markdown",
   "id": "0e152f29-2c6f-4e14-816d-dc5226308221",
   "metadata": {},
   "source": [
    "# List"
   ]
  },
  {
   "cell_type": "markdown",
   "id": "1b1783e3-9f97-4d97-82bc-6a40016a942c",
   "metadata": {},
   "source": [
    "append()\tAdds an element at the end of the list\n",
    "\n",
    "clear()\tRemoves all the elements from the list\n",
    "\n",
    "copy()\tReturns a copy of the list\n",
    "\n",
    "count()\tReturns the number of elements with the specified value\n",
    "\n",
    "extend()\tAdd the elements of a list (or any iterable), to the end of the current list\n",
    "\n",
    "index()\tReturns the index of the first element with the specified value\n",
    "\n",
    "insert()\tAdds an element at the specified position\n",
    "\n",
    "pop()\tRemoves the element at the specified position\n",
    "\n",
    "remove()\tRemoves the item with the specified value\n",
    "\n",
    "reverse()\tReverses the order of the list\n",
    "\n",
    "sort()\tSorts the list"
   ]
  },
  {
   "cell_type": "code",
   "execution_count": null,
   "id": "b39156b8-80fe-4240-a473-068eee85f5c2",
   "metadata": {},
   "outputs": [],
   "source": []
  },
  {
   "cell_type": "code",
   "execution_count": 23,
   "id": "d3c47366-4aae-43eb-9acf-b7b430c11c15",
   "metadata": {},
   "outputs": [
    {
     "name": "stdout",
     "output_type": "stream",
     "text": [
      "['apple', 'banana', 'cherry']\n"
     ]
    }
   ],
   "source": [
    "thislist = [\"apple\", \"banana\", \"cherry\"]\n",
    "print(thislist)"
   ]
  },
  {
   "cell_type": "code",
   "execution_count": 22,
   "id": "b8594a02-a0d6-41e2-8ea6-7f174e2fa15e",
   "metadata": {},
   "outputs": [
    {
     "data": {
      "text/plain": [
       "'apple'"
      ]
     },
     "execution_count": 22,
     "metadata": {},
     "output_type": "execute_result"
    }
   ],
   "source": [
    "thislist[0]"
   ]
  },
  {
   "cell_type": "code",
   "execution_count": 19,
   "id": "09179125-7472-474f-9249-84379234641c",
   "metadata": {},
   "outputs": [],
   "source": [
    "thislist[1]=\"fhf\""
   ]
  },
  {
   "cell_type": "code",
   "execution_count": 20,
   "id": "29a7bc1a-1a78-4f9f-a813-d0f3e8a16a37",
   "metadata": {},
   "outputs": [
    {
     "data": {
      "text/plain": [
       "['apple', 'fhf', 'cherry']"
      ]
     },
     "execution_count": 20,
     "metadata": {},
     "output_type": "execute_result"
    }
   ],
   "source": [
    "thislist"
   ]
  },
  {
   "cell_type": "code",
   "execution_count": 17,
   "id": "4a6eb9e0-3a1a-47ad-a791-40a7e7fd2de1",
   "metadata": {},
   "outputs": [
    {
     "data": {
      "text/plain": [
       "'cherry'"
      ]
     },
     "execution_count": 17,
     "metadata": {},
     "output_type": "execute_result"
    }
   ],
   "source": [
    "thislist[2]"
   ]
  },
  {
   "cell_type": "code",
   "execution_count": 16,
   "id": "c2010c97-a008-48e3-839c-07562ff51b77",
   "metadata": {},
   "outputs": [
    {
     "data": {
      "text/plain": [
       "[['tg'], 'banana', 'cherry']"
      ]
     },
     "execution_count": 16,
     "metadata": {},
     "output_type": "execute_result"
    }
   ],
   "source": [
    "thislist"
   ]
  },
  {
   "cell_type": "code",
   "execution_count": 23,
   "id": "856c2f6c-f9c1-434a-b3b8-0bf8a235c2b3",
   "metadata": {},
   "outputs": [
    {
     "name": "stdout",
     "output_type": "stream",
     "text": [
      "['apple', 'banana', 'cherry', 'apple', 'cherry']\n"
     ]
    }
   ],
   "source": [
    "thislist = [\"apple\", \"banana\", \"cherry\", \"apple\", \"cherry\"]\n",
    "print(thislist)"
   ]
  },
  {
   "cell_type": "code",
   "execution_count": 24,
   "id": "b2c6d131-e40b-4dab-b64f-64184cf9bfe5",
   "metadata": {},
   "outputs": [],
   "source": [
    "thislist[2]=\"ww\""
   ]
  },
  {
   "cell_type": "code",
   "execution_count": 25,
   "id": "d5bfaf5c-a016-49da-8117-a04cf15128c4",
   "metadata": {},
   "outputs": [
    {
     "data": {
      "text/plain": [
       "['apple', 'banana', 'ww', 'apple', 'cherry']"
      ]
     },
     "execution_count": 25,
     "metadata": {},
     "output_type": "execute_result"
    }
   ],
   "source": [
    "thislist"
   ]
  },
  {
   "cell_type": "markdown",
   "id": "e96fc330-a10d-4194-afef-dd02026ba29d",
   "metadata": {},
   "source": [
    "ERROR"
   ]
  },
  {
   "cell_type": "code",
   "execution_count": 26,
   "id": "b4cd20be-5879-4419-8fd2-fb6502cd12ea",
   "metadata": {},
   "outputs": [],
   "source": [
    "thislist=\"EF\""
   ]
  },
  {
   "cell_type": "code",
   "execution_count": 28,
   "id": "f5aad1fc-9ca2-4a07-b8db-38a41acd4ce6",
   "metadata": {},
   "outputs": [
    {
     "data": {
      "text/plain": [
       "'EF'"
      ]
     },
     "execution_count": 28,
     "metadata": {},
     "output_type": "execute_result"
    }
   ],
   "source": [
    "thislist"
   ]
  },
  {
   "cell_type": "code",
   "execution_count": 30,
   "id": "7062189e-63e6-4232-8f72-16d0185262f6",
   "metadata": {},
   "outputs": [
    {
     "name": "stdout",
     "output_type": "stream",
     "text": [
      "apple\n",
      "banana\n",
      "cherry\n"
     ]
    }
   ],
   "source": [
    "thislist = [\"apple\", \"banana\", \"cherry\"]\n",
    "for x in thislist:\n",
    "    print(x)"
   ]
  },
  {
   "cell_type": "code",
   "execution_count": 32,
   "id": "86993eab-f576-458f-b987-24b5e4980590",
   "metadata": {},
   "outputs": [
    {
     "name": "stdout",
     "output_type": "stream",
     "text": [
      "apple\n",
      "banana\n",
      "cherry\n"
     ]
    }
   ],
   "source": [
    "thislist = [\"apple\", \"banana\", \"cherry\"]\n",
    "for i in range(len(thislist)):\n",
    "    print(thislist[i])"
   ]
  },
  {
   "cell_type": "code",
   "execution_count": 33,
   "id": "9fb5c527-f428-45a2-8940-59e8abc81711",
   "metadata": {},
   "outputs": [
    {
     "name": "stdout",
     "output_type": "stream",
     "text": [
      "apple\n",
      "banana\n",
      "cherry\n"
     ]
    }
   ],
   "source": [
    "thislist = [\"apple\", \"banana\", \"cherry\"]\n",
    "i = 0\n",
    "while i < len(thislist):\n",
    "    print(thislist[i])\n",
    "    i = i + 1"
   ]
  },
  {
   "cell_type": "code",
   "execution_count": 10,
   "id": "3dd83196-04b4-4cc5-8617-26e735736d9a",
   "metadata": {},
   "outputs": [
    {
     "name": "stdout",
     "output_type": "stream",
     "text": [
      "['a', 'b', 'c', 'd', 'z']\n"
     ]
    }
   ],
   "source": [
    "thislist = [\"orange\", \"mango\", \"kiwi\", \"pineapple\", \"banana\"]\n",
    "thislist.sort(reverse = True)\n",
    "print(thislist)"
   ]
  },
  {
   "cell_type": "code",
   "execution_count": 14,
   "id": "2e4f0675-b136-40da-9145-9891758b4824",
   "metadata": {},
   "outputs": [
    {
     "name": "stdout",
     "output_type": "stream",
     "text": [
      "[23, 50, 65, 82, 100]\n"
     ]
    }
   ],
   "source": [
    "thislist = [100, 50, 65, 82, 23]\n",
    "thislist.sort()\n",
    "print(thislist)"
   ]
  },
  {
   "cell_type": "code",
   "execution_count": 15,
   "id": "ec8ebe67-2a07-4020-a7ed-478dbbb35521",
   "metadata": {},
   "outputs": [
    {
     "name": "stdout",
     "output_type": "stream",
     "text": [
      "['apple', 'banana', 'watermelon', 'cherry']\n"
     ]
    }
   ],
   "source": [
    "thislist = [\"apple\", \"banana\", \"cherry\"]\n",
    "thislist.insert(2, \"watermelon\")\n",
    "print(thislist)"
   ]
  },
  {
   "cell_type": "code",
   "execution_count": 16,
   "id": "c944fa0d-8fec-4291-91d0-326876e2ae5f",
   "metadata": {},
   "outputs": [
    {
     "name": "stdout",
     "output_type": "stream",
     "text": [
      "['apple', 'banana', 'cherry', 'mango', 'pineapple', 'papaya']\n"
     ]
    }
   ],
   "source": [
    "thislist = [\"apple\", \"banana\", \"cherry\"]\n",
    "tropical = [\"mango\", \"pineapple\", \"papaya\"]\n",
    "thislist.extend(tropical)\n",
    "print(thislist)"
   ]
  },
  {
   "cell_type": "code",
   "execution_count": 17,
   "id": "d7410e2d-f920-43c0-95b2-c99aedc21881",
   "metadata": {},
   "outputs": [
    {
     "name": "stdout",
     "output_type": "stream",
     "text": [
      "['apple', 'cherry']\n"
     ]
    }
   ],
   "source": [
    "thislist = [\"apple\", \"banana\", \"cherry\"]\n",
    "thislist.remove(\"banana\")\n",
    "print(thislist)"
   ]
  },
  {
   "cell_type": "code",
   "execution_count": 18,
   "id": "426360be-3693-4320-b686-9123a367aae1",
   "metadata": {},
   "outputs": [
    {
     "name": "stdout",
     "output_type": "stream",
     "text": [
      "['apple', 'cherry']\n"
     ]
    }
   ],
   "source": [
    "thislist = [\"apple\", \"banana\", \"cherry\"]\n",
    "thislist.pop(1)\n",
    "print(thislist)"
   ]
  },
  {
   "cell_type": "code",
   "execution_count": 19,
   "id": "4603d5ce-1fb6-4c80-acaa-4fdca71a0ea1",
   "metadata": {},
   "outputs": [
    {
     "name": "stdout",
     "output_type": "stream",
     "text": [
      "[]\n"
     ]
    }
   ],
   "source": [
    "thislist = [\"apple\", \"banana\", \"cherry\"]\n",
    "thislist.clear()\n",
    "print(thislist)"
   ]
  },
  {
   "cell_type": "markdown",
   "id": "ac9f1432-d5eb-4adf-a6eb-3cce7df4c5fe",
   "metadata": {},
   "source": [
    "# Tuples"
   ]
  },
  {
   "cell_type": "code",
   "execution_count": 27,
   "id": "6d491056-bb19-4e89-babd-923f57cb8318",
   "metadata": {},
   "outputs": [
    {
     "name": "stdout",
     "output_type": "stream",
     "text": [
      "('apple', 'banana', 'cherry', 67, 3434.77, 23)\n"
     ]
    }
   ],
   "source": [
    "thistuple = (\"apple\", \"banana\", \"cherry\",67,3434.77,23)\n",
    "print(thistuple)"
   ]
  },
  {
   "cell_type": "code",
   "execution_count": 29,
   "id": "a94b8d23-df8c-4368-b708-353ea06da28b",
   "metadata": {},
   "outputs": [
    {
     "data": {
      "text/plain": [
       "'apple'"
      ]
     },
     "execution_count": 29,
     "metadata": {},
     "output_type": "execute_result"
    }
   ],
   "source": [
    "thistuple[0]"
   ]
  },
  {
   "cell_type": "code",
   "execution_count": 36,
   "id": "44920141-9f9d-40f2-b653-4c359854480b",
   "metadata": {},
   "outputs": [
    {
     "name": "stdout",
     "output_type": "stream",
     "text": [
      "('apple', 'banana', 'cherry', 'apple', 'cherry')\n"
     ]
    }
   ],
   "source": [
    "thistuple = (\"apple\", \"banana\", \"cherry\", \"apple\", \"cherry\")\n",
    "print(thistuple)"
   ]
  },
  {
   "cell_type": "code",
   "execution_count": 37,
   "id": "1d66fe0e-4568-42a8-8f94-bf63f6f9dd92",
   "metadata": {},
   "outputs": [
    {
     "name": "stdout",
     "output_type": "stream",
     "text": [
      "3\n"
     ]
    }
   ],
   "source": [
    "thistuple = (\"apple\", \"banana\", \"cherry\")\n",
    "print(len(thistuple))"
   ]
  },
  {
   "cell_type": "code",
   "execution_count": 38,
   "id": "9c009db7-e5bf-42e9-9fb5-44d779b6b166",
   "metadata": {},
   "outputs": [
    {
     "name": "stdout",
     "output_type": "stream",
     "text": [
      "<class 'tuple'>\n",
      "<class 'str'>\n"
     ]
    }
   ],
   "source": [
    "thistuple = (\"apple\",)\n",
    "print(type(thistuple))\n",
    "\n",
    "#NOT a tuple\n",
    "thistuple = (\"apple\")\n",
    "print(type(thistuple))"
   ]
  },
  {
   "cell_type": "markdown",
   "id": "3bd183b8-1335-4af4-b770-99237cd9fd67",
   "metadata": {},
   "source": [
    "# Set"
   ]
  },
  {
   "cell_type": "code",
   "execution_count": 36,
   "id": "56fd13ee-873d-4cd9-96de-7e7c799ae344",
   "metadata": {},
   "outputs": [],
   "source": [
    "thisset = set()"
   ]
  },
  {
   "cell_type": "code",
   "execution_count": 37,
   "id": "253c561e-2500-462e-bfaf-9c6938d36ea6",
   "metadata": {},
   "outputs": [
    {
     "ename": "TypeError",
     "evalue": "'set' object does not support item assignment",
     "output_type": "error",
     "traceback": [
      "\u001b[1;31m---------------------------------------------------------------------------\u001b[0m",
      "\u001b[1;31mTypeError\u001b[0m                                 Traceback (most recent call last)",
      "\u001b[1;32m~\\AppData\\Local\\Temp/ipykernel_15596/1185843.py\u001b[0m in \u001b[0;36m<module>\u001b[1;34m\u001b[0m\n\u001b[1;32m----> 1\u001b[1;33m \u001b[0mthisset\u001b[0m\u001b[1;33m[\u001b[0m\u001b[1;36m0\u001b[0m\u001b[1;33m]\u001b[0m\u001b[1;33m=\u001b[0m\u001b[1;34m\"ytgyug\"\u001b[0m\u001b[1;33m\u001b[0m\u001b[1;33m\u001b[0m\u001b[0m\n\u001b[0m",
      "\u001b[1;31mTypeError\u001b[0m: 'set' object does not support item assignment"
     ]
    }
   ],
   "source": [
    "thisset=\"ytgyug\""
   ]
  },
  {
   "cell_type": "code",
   "execution_count": 35,
   "id": "e52331e6-543d-4ebf-8eb2-cb06fec12d26",
   "metadata": {},
   "outputs": [
    {
     "name": "stdout",
     "output_type": "stream",
     "text": [
      "{3, 'cherry', 'banana', 'apple'}\n"
     ]
    }
   ],
   "source": [
    "thisset = {\"apple\",3,3, \"banana\", \"cherry\"}\n",
    "print(thisset)"
   ]
  },
  {
   "cell_type": "code",
   "execution_count": 34,
   "id": "1f33c5da-9292-4b0e-9da6-814ed9f5b4dd",
   "metadata": {},
   "outputs": [
    {
     "name": "stdout",
     "output_type": "stream",
     "text": [
      "{8, 'cherry', 'banana', 'apple'}\n"
     ]
    }
   ],
   "source": [
    "thisset = {\"apple\", \"banana\", \"cherry\",8,8,\"apple\"}\n",
    "print(thisset)"
   ]
  },
  {
   "cell_type": "code",
   "execution_count": 41,
   "id": "7c947a2c-3a08-49e0-946e-f8e79acf346a",
   "metadata": {},
   "outputs": [
    {
     "name": "stdout",
     "output_type": "stream",
     "text": [
      "{'apple', 'banana', 'cherry'}\n"
     ]
    }
   ],
   "source": [
    "thisset = {\"apple\", \"banana\", \"cherry\", \"apple\"}\n",
    "\n",
    "print(thisset)\n"
   ]
  },
  {
   "cell_type": "code",
   "execution_count": 42,
   "id": "ffe81405-ab2f-40e9-bd7a-f98ac9cfef98",
   "metadata": {},
   "outputs": [
    {
     "name": "stdout",
     "output_type": "stream",
     "text": [
      "3\n"
     ]
    }
   ],
   "source": [
    "thisset = {\"apple\", \"banana\", \"cherry\"}\n",
    "\n",
    "print(len(thisset))"
   ]
  },
  {
   "cell_type": "code",
   "execution_count": 38,
   "id": "4f5c0e87-2ee2-4560-9442-b2fe8dcbebdd",
   "metadata": {},
   "outputs": [
    {
     "name": "stdout",
     "output_type": "stream",
     "text": [
      "{'cherry', 'banana', 'apple'}\n"
     ]
    }
   ],
   "source": [
    "thisset = set((\"apple\", \"banana\", \"cherry\"))\n",
    "print(thisset)"
   ]
  },
  {
   "cell_type": "code",
   "execution_count": 40,
   "id": "b593fbb6-12da-4480-988a-593589e863b1",
   "metadata": {},
   "outputs": [
    {
     "ename": "TypeError",
     "evalue": "'set' object does not support item assignment",
     "output_type": "error",
     "traceback": [
      "\u001b[1;31m---------------------------------------------------------------------------\u001b[0m",
      "\u001b[1;31mTypeError\u001b[0m                                 Traceback (most recent call last)",
      "\u001b[1;32m~\\AppData\\Local\\Temp/ipykernel_15596/2476293819.py\u001b[0m in \u001b[0;36m<module>\u001b[1;34m\u001b[0m\n\u001b[1;32m----> 1\u001b[1;33m \u001b[0mthisset\u001b[0m\u001b[1;33m[\u001b[0m\u001b[1;36m0\u001b[0m\u001b[1;33m]\u001b[0m\u001b[1;33m=\u001b[0m\u001b[1;34m\"wte\"\u001b[0m\u001b[1;33m\u001b[0m\u001b[1;33m\u001b[0m\u001b[0m\n\u001b[0m",
      "\u001b[1;31mTypeError\u001b[0m: 'set' object does not support item assignment"
     ]
    }
   ],
   "source": [
    "thisset[0]=\"wte\""
   ]
  },
  {
   "cell_type": "markdown",
   "id": "9eb0af3e-dc05-43e3-a85b-e29c2a4016e3",
   "metadata": {},
   "source": [
    "# Dictionaries"
   ]
  },
  {
   "cell_type": "code",
   "execution_count": 46,
   "id": "c61cfbb2-7ad3-4565-bf6c-2e7d4df24298",
   "metadata": {},
   "outputs": [
    {
     "name": "stdout",
     "output_type": "stream",
     "text": [
      "{'brand': 'Ford', 'model': 'Mustang', 'year': 1964}\n"
     ]
    }
   ],
   "source": [
    "thisdict = {\n",
    "  \"brand\": [\"Ford\",76],\n",
    "  \"model\": \"Mustang\",\n",
    "  \"year\": 1964\n",
    "}\n",
    "print(thisdict)"
   ]
  },
  {
   "cell_type": "code",
   "execution_count": 43,
   "id": "9a2d2f4f-2422-4530-aa33-fb1246431edd",
   "metadata": {},
   "outputs": [
    {
     "name": "stdout",
     "output_type": "stream",
     "text": [
      "Ford\n"
     ]
    }
   ],
   "source": [
    "thisdict = {\n",
    "  \"brand\": \"Ford\",\n",
    "  \"model\": \"Mustang\",\n",
    "  \"year\": 1964\n",
    "}\n",
    "print(thisdict[\"brand\"])"
   ]
  },
  {
   "cell_type": "code",
   "execution_count": 47,
   "id": "1fb2e930-4c7a-4aef-b704-52a53d280164",
   "metadata": {},
   "outputs": [
    {
     "name": "stdout",
     "output_type": "stream",
     "text": [
      "Mustang\n"
     ]
    }
   ],
   "source": [
    "thisdict = {\n",
    "  \"brand\": \"Ford\",\n",
    "  \"model\": \"Mustang\",\n",
    "  \"year\": 1964\n",
    "}\n",
    "print(thisdict.get(\"model\"))"
   ]
  },
  {
   "cell_type": "code",
   "execution_count": 53,
   "id": "3c1b2ac8-852f-4981-809d-88e25fcd3033",
   "metadata": {},
   "outputs": [
    {
     "name": "stdout",
     "output_type": "stream",
     "text": [
      "Ford\n"
     ]
    }
   ],
   "source": [
    "thisdict = {\n",
    "  \"brand\": \"Ford\",\n",
    "  \"model\": \"Mustang\",\n",
    "  \"year\": 1964\n",
    "}\n",
    "print(thisdict.get(\"brand\",[\"model\",\"ciao\"]))"
   ]
  },
  {
   "cell_type": "code",
   "execution_count": 54,
   "id": "60a0f282-f470-4128-adb1-618d40329d72",
   "metadata": {},
   "outputs": [
    {
     "name": "stdout",
     "output_type": "stream",
     "text": [
      "{'brand': 'Ford', 'model': 'Mustang', 'year': 1964, 'hoppies': ['dancing', 'fishing']}\n"
     ]
    }
   ],
   "source": [
    "thisdict = {\n",
    "  \"brand\": \"Ford\",\n",
    "  \"model\": \"Mustang\",\n",
    "  \"year\": 1964\n",
    "}\n",
    "thisdict [\"hoppies\"] =[\"dancing\",\"fishing\"]\n",
    "print(thisdict)"
   ]
  },
  {
   "cell_type": "code",
   "execution_count": 9,
   "id": "c476890f-20a5-47f3-b35a-51113f9ef6a8",
   "metadata": {},
   "outputs": [
    {
     "name": "stdout",
     "output_type": "stream",
     "text": [
      "{'brand': 'Ford', 'model': 'Mustang', 'year': 1964, 'color': 'red'}\n"
     ]
    }
   ],
   "source": [
    "thisdict = {\n",
    "  \"brand\": \"Ford\",\n",
    "  \"model\": \"Mustang\",\n",
    "  \"year\": 1964\n",
    "}\n",
    "thisdict[\"color\"] = \"red\"\n",
    "print(thisdict)"
   ]
  },
  {
   "cell_type": "code",
   "execution_count": 55,
   "id": "992fd160-9880-4e7d-a4c0-900313e4d9d2",
   "metadata": {},
   "outputs": [
    {
     "name": "stdout",
     "output_type": "stream",
     "text": [
      "{'brand': 'Ford', 'model': 'Mustang', 'year': 1964, 'color': 'rth'}\n"
     ]
    }
   ],
   "source": [
    "thisdict = {\n",
    "  \"brand\": \"Ford\",\n",
    "  \"model\": \"Mustang\",\n",
    "  \"year\": 1964\n",
    "}\n",
    "thisdict.update({\"color\":\"rth\"})\n",
    "print(thisdict)"
   ]
  },
  {
   "cell_type": "code",
   "execution_count": 56,
   "id": "53ac1a84-4edd-4a3b-aab6-902a64c664d9",
   "metadata": {},
   "outputs": [],
   "source": [
    "w = [\"wert\",\"wet\"]"
   ]
  },
  {
   "cell_type": "code",
   "execution_count": 59,
   "id": "d0508339-4c9e-461f-b1ed-0f7b8ec6e2ea",
   "metadata": {},
   "outputs": [],
   "source": [
    "w[0]=\"ufuyfuyf\""
   ]
  },
  {
   "cell_type": "code",
   "execution_count": 60,
   "id": "7b0f9c44-5b92-4064-8b01-aabc230262f3",
   "metadata": {},
   "outputs": [
    {
     "data": {
      "text/plain": [
       "['ufuyfuyf', 'wet']"
      ]
     },
     "execution_count": 60,
     "metadata": {},
     "output_type": "execute_result"
    }
   ],
   "source": [
    "w"
   ]
  },
  {
   "cell_type": "code",
   "execution_count": 62,
   "id": "e2cfbfc4-dc33-4c80-adbe-e0ee7f3ec252",
   "metadata": {},
   "outputs": [
    {
     "name": "stdout",
     "output_type": "stream",
     "text": [
      "{'brand': 'Ford', 'year': 1964}\n"
     ]
    }
   ],
   "source": [
    "thisdict = {\n",
    "  \"brand\": \"Ford\",\n",
    "  \"model\": \"Mustang\",\n",
    "  \"year\": 1964\n",
    "}\n",
    "thisdict.pop(\"model\")\n",
    "print(thisdict)"
   ]
  },
  {
   "cell_type": "code",
   "execution_count": 24,
   "id": "de7d1619-0aaa-4c71-8b1c-f5bb64471e86",
   "metadata": {},
   "outputs": [
    {
     "name": "stdout",
     "output_type": "stream",
     "text": [
      "('apple', 'banana', 'cherry')\n"
     ]
    }
   ],
   "source": [
    "thistuple = (\"apple\", \"banana\", \"cherry\")\n",
    "print(thistuple)"
   ]
  },
  {
   "cell_type": "code",
   "execution_count": 63,
   "id": "eafafcbb-aa10-456d-9897-f96bdd53a886",
   "metadata": {},
   "outputs": [
    {
     "data": {
      "text/plain": [
       "{'brand': 'Ford', 'year': 1964}"
      ]
     },
     "execution_count": 63,
     "metadata": {},
     "output_type": "execute_result"
    }
   ],
   "source": [
    "thisdict"
   ]
  },
  {
   "cell_type": "code",
   "execution_count": 7,
   "id": "19eb75c1-4d63-4949-a38e-f2c402ae5a03",
   "metadata": {},
   "outputs": [
    {
     "name": "stdout",
     "output_type": "stream",
     "text": [
      "Ford\n",
      "{'model': 'Mustang', 'year': 1964}\n"
     ]
    }
   ],
   "source": [
    "thisdict = {\n",
    "  \"brand\": \"Ford\",\n",
    "  \"model\": \"Mustang\",\n",
    "  \"year\": 1964\n",
    "}\n",
    "print(thisdict.pop(\"brand\"))\n",
    "print(thisdict)"
   ]
  },
  {
   "cell_type": "code",
   "execution_count": 67,
   "id": "14612608-180f-4d06-8114-f34f518bc43b",
   "metadata": {},
   "outputs": [
    {
     "name": "stdout",
     "output_type": "stream",
     "text": [
      "{'brand': 'Ford', 'model': 'tdy', 'year': 1964}\n"
     ]
    }
   ],
   "source": [
    "thisdict = {\n",
    "  \"brand\": \"Ford\",\n",
    "  \"model\": \"Mustang\",\n",
    "  \"year\": 1964\n",
    "}\n",
    "thisdict.update({\"model\":\"tdy\"})\n",
    "print(thisdict)"
   ]
  },
  {
   "cell_type": "code",
   "execution_count": 43,
   "id": "5d56448a-5e1e-4ed7-9c27-b79786c5018c",
   "metadata": {},
   "outputs": [
    {
     "name": "stdout",
     "output_type": "stream",
     "text": [
      "brand\n",
      "model\n",
      "year\n"
     ]
    }
   ],
   "source": [
    "thisdict = {\n",
    "  \"brand\": \"Ford\",\n",
    "  \"model\": \"Mustang\",\n",
    "  \"year\": 1964\n",
    "}\n",
    "\n",
    "for i in thisdict:\n",
    "    print(i)"
   ]
  },
  {
   "cell_type": "code",
   "execution_count": 70,
   "id": "e8bd5b7d-1f65-45cd-b0ee-b3fc3ded1fd5",
   "metadata": {},
   "outputs": [
    {
     "name": "stdout",
     "output_type": "stream",
     "text": [
      "brand\n",
      "Ford\n",
      "model\n",
      "Mustang\n",
      "year\n",
      "1964\n"
     ]
    }
   ],
   "source": [
    "thisdict = {\n",
    "  \"brand\": \"Ford\",\n",
    "  \"model\": \"Mustang\",\n",
    "  \"year\": 1964\n",
    "}\n",
    "\n",
    "for i in thisdict:\n",
    "    print(i)\n",
    "    print(thisdict[i])"
   ]
  },
  {
   "cell_type": "code",
   "execution_count": 19,
   "id": "ea993a37-de31-4ac1-99e5-d57e457b3fd4",
   "metadata": {},
   "outputs": [
    {
     "name": "stdout",
     "output_type": "stream",
     "text": [
      "brand\n",
      "model\n",
      "year\n"
     ]
    }
   ],
   "source": [
    "for x in thisdict:\n",
    "    print(x)"
   ]
  },
  {
   "cell_type": "code",
   "execution_count": 20,
   "id": "c40beba5-1ebc-477a-8703-bc6b39a0eb1e",
   "metadata": {},
   "outputs": [
    {
     "name": "stdout",
     "output_type": "stream",
     "text": [
      "Ford\n",
      "Mustang\n",
      "1964\n"
     ]
    }
   ],
   "source": [
    "for x in thisdict:\n",
    "    print(thisdict[x])"
   ]
  },
  {
   "cell_type": "code",
   "execution_count": 72,
   "id": "3cf52dcf-3b5a-481f-92c1-0e3e67acc048",
   "metadata": {},
   "outputs": [
    {
     "name": "stdout",
     "output_type": "stream",
     "text": [
      "Ford\n",
      "Mustang\n",
      "1964\n"
     ]
    }
   ],
   "source": [
    "for x in thisdict.values():\n",
    "    print(x)"
   ]
  },
  {
   "cell_type": "code",
   "execution_count": null,
   "id": "ef6cd075-9201-431b-a4e2-65aeb59ce838",
   "metadata": {},
   "outputs": [],
   "source": []
  },
  {
   "cell_type": "code",
   "execution_count": 21,
   "id": "6160868f-74e4-415d-b35b-0337eb3c1be0",
   "metadata": {},
   "outputs": [
    {
     "name": "stdout",
     "output_type": "stream",
     "text": [
      "Ford\n",
      "Mustang\n",
      "1964\n"
     ]
    }
   ],
   "source": [
    "for x in thisdict.values():\n",
    "    print(x)"
   ]
  },
  {
   "cell_type": "code",
   "execution_count": 22,
   "id": "d654d7ec-9f17-4a10-bf59-57be231229b5",
   "metadata": {},
   "outputs": [
    {
     "name": "stdout",
     "output_type": "stream",
     "text": [
      "brand\n",
      "model\n",
      "year\n"
     ]
    }
   ],
   "source": [
    "for x in thisdict.keys():\n",
    "    print(x)"
   ]
  },
  {
   "cell_type": "code",
   "execution_count": 23,
   "id": "d4fe5d03-0373-463e-b463-9a8d57a4b41d",
   "metadata": {},
   "outputs": [
    {
     "name": "stdout",
     "output_type": "stream",
     "text": [
      "brand Ford\n",
      "model Mustang\n",
      "year 1964\n"
     ]
    }
   ],
   "source": [
    "for x, y in thisdict.items():\n",
    "    print(x, y)"
   ]
  },
  {
   "cell_type": "code",
   "execution_count": 24,
   "id": "fe04bd1b-0d23-46d3-97af-d85bee1712df",
   "metadata": {},
   "outputs": [
    {
     "data": {
      "text/plain": [
       "str"
      ]
     },
     "execution_count": 24,
     "metadata": {},
     "output_type": "execute_result"
    }
   ],
   "source": [
    "type(x)"
   ]
  },
  {
   "cell_type": "code",
   "execution_count": 73,
   "id": "7e13b2b1-1f1e-4ae7-8281-2a74861f234c",
   "metadata": {},
   "outputs": [
    {
     "name": "stdout",
     "output_type": "stream",
     "text": [
      "{'brand': 'Ford', 'model': 'Mustang', 'year': 1964}\n"
     ]
    }
   ],
   "source": [
    "thisdict = {\n",
    "  \"brand\": \"Ford\",\n",
    "  \"model\": \"Mustang\",\n",
    "  \"year\": 1964\n",
    "}\n",
    "mydict = thisdict.copy()\n",
    "print(mydict)"
   ]
  },
  {
   "cell_type": "code",
   "execution_count": 74,
   "id": "2e865982-5e17-4ee2-b8be-764c471594b8",
   "metadata": {},
   "outputs": [
    {
     "data": {
      "text/plain": [
       "{'brand': 'Ford', 'model': 'Mustang', 'year': 1964}"
      ]
     },
     "execution_count": 74,
     "metadata": {},
     "output_type": "execute_result"
    }
   ],
   "source": [
    "mydict"
   ]
  },
  {
   "cell_type": "code",
   "execution_count": 24,
   "id": "f61479ee-c050-40e7-9c10-ac3bf4fa3274",
   "metadata": {},
   "outputs": [
    {
     "name": "stdout",
     "output_type": "stream",
     "text": [
      "('apple', 'banana', 'cherry')\n"
     ]
    }
   ],
   "source": [
    "thistuple = (\"apple\", \"banana\", \"cherry\")\n",
    "print(thistuple)"
   ]
  },
  {
   "cell_type": "code",
   "execution_count": null,
   "id": "2c2f4ef7-9ac4-4754-8527-85e2946b672e",
   "metadata": {},
   "outputs": [],
   "source": []
  },
  {
   "cell_type": "code",
   "execution_count": 26,
   "id": "3c9d8394-c0c7-4095-8fce-647a5d798184",
   "metadata": {},
   "outputs": [
    {
     "name": "stdout",
     "output_type": "stream",
     "text": [
      "{'brand': 'Ford', 'model': 'Mustang', 'year': 1964}\n"
     ]
    }
   ],
   "source": [
    "thisdict = {\n",
    "  \"brand\": \"Ford\",\n",
    "  \"model\": \"Mustang\",\n",
    "  \"year\": 1964\n",
    "}\n",
    "mydict = dict(thisdict)\n",
    "print(mydict)"
   ]
  },
  {
   "cell_type": "code",
   "execution_count": 34,
   "id": "f14da2ec-866c-4f86-a3b2-291c82fe4f4e",
   "metadata": {},
   "outputs": [
    {
     "name": "stdout",
     "output_type": "stream",
     "text": [
      "{'child1': {'name': 'Emil', 'year \\n': 2004}, 'child2': {'name': 'Tobias', 'year': 2007}, 'child3': {'name': 'Linus', 'year': 2011}}\n"
     ]
    }
   ],
   "source": [
    "myfamily = {\n",
    "  \"child1\" : {\n",
    "    \"name\" : \"Emil\",\n",
    "    \"year \" : 2004\n",
    "  },\n",
    "  \"child2\" : {\n",
    "    \"name\" : \"Tobias\",\n",
    "    \"year\" : 2007 \n",
    "  },\n",
    "  \"child3\" : {\n",
    "    \"name\" : \"Linus\",\n",
    "    \"year\" : 2011\n",
    "  }\n",
    "}\n",
    "\n",
    "print(myfamily)"
   ]
  },
  {
   "cell_type": "code",
   "execution_count": null,
   "id": "9abf4a89-8149-4c21-864d-bff7b219fa1d",
   "metadata": {},
   "outputs": [],
   "source": []
  },
  {
   "cell_type": "code",
   "execution_count": 30,
   "id": "1e3f387b-26b0-413d-97f4-87ce0b144e0b",
   "metadata": {},
   "outputs": [
    {
     "name": "stdout",
     "output_type": "stream",
     "text": [
      "{'name': 'Emil', 'year': 2004}\n"
     ]
    }
   ],
   "source": [
    "child1 = {\n",
    "  \"name\" : \"Emil\",\n",
    "  \"year\" : 2004\n",
    "}\n",
    "child2 = {\n",
    "  \"name\" : \"Tobias\",\n",
    "  \"year\" : 2007\n",
    "}\n",
    "child3 = {\n",
    "  \"name\" : \"Linus\",\n",
    "  \"year\" : 2011\n",
    "}\n",
    "\n",
    "myfamily = {\n",
    "  \"child1\" : child1,\n",
    "  \"child2\" : child2,\n",
    "  \"child3\" : child3\n",
    "}\n",
    "\n",
    "print(child1)"
   ]
  },
  {
   "cell_type": "code",
   "execution_count": null,
   "id": "95901f5c-a140-42f3-bfb3-946ddb1c5212",
   "metadata": {},
   "outputs": [],
   "source": []
  },
  {
   "cell_type": "markdown",
   "id": "2768e274-0c4e-4db0-8c9b-1a0d4eaa0a43",
   "metadata": {},
   "source": [
    "# IF ... Else"
   ]
  },
  {
   "cell_type": "code",
   "execution_count": 79,
   "id": "0f26730a-7413-4638-9a92-7f66e0a391d6",
   "metadata": {},
   "outputs": [
    {
     "name": "stdout",
     "output_type": "stream",
     "text": [
      "a and b are equal\n"
     ]
    }
   ],
   "source": [
    "a = 33\n",
    "b = 33\n",
    "if b > a:\n",
    "    print(\"b is greater than a\")\n",
    "elif a == b:\n",
    "    print(\"a and b are equal\")"
   ]
  },
  {
   "cell_type": "code",
   "execution_count": 80,
   "id": "107e0c1c-d488-4b16-adda-7f700c790e75",
   "metadata": {},
   "outputs": [
    {
     "name": "stdout",
     "output_type": "stream",
     "text": [
      "a is greater than b\n"
     ]
    }
   ],
   "source": [
    "a = 200\n",
    "b = 33\n",
    "if b > a:\n",
    "    print(\"b is greater than a\")\n",
    "elif a == b:\n",
    "    print(\"a and b are equal\")\n",
    "else:\n",
    "    print(\"a is greater than b\")"
   ]
  },
  {
   "cell_type": "code",
   "execution_count": 51,
   "id": "0dc9b4e7-b10f-46d3-aafd-77e164e22472",
   "metadata": {},
   "outputs": [
    {
     "name": "stdout",
     "output_type": "stream",
     "text": [
      "Above ten,\n",
      "and also above 20!\n"
     ]
    }
   ],
   "source": [
    "x = 41\n",
    "\n",
    "if x > 10:\n",
    "    print(\"Above ten,\")\n",
    "    if x > 20:\n",
    "        print(\"and also above 20!\")\n",
    "    else:\n",
    "        print(\"but not above 20.\")"
   ]
  },
  {
   "cell_type": "code",
   "execution_count": 35,
   "id": "5d6e647d-c689-444f-a817-e76854d3c529",
   "metadata": {},
   "outputs": [
    {
     "name": "stdout",
     "output_type": "stream",
     "text": [
      "B\n"
     ]
    }
   ],
   "source": [
    "a = 2\n",
    "b = 330\n",
    "print(\"A\") if a > b else print(\"B\")"
   ]
  },
  {
   "cell_type": "code",
   "execution_count": 36,
   "id": "9c19063b-a852-4723-ad44-dad7c0f22b69",
   "metadata": {},
   "outputs": [
    {
     "name": "stdout",
     "output_type": "stream",
     "text": [
      "=\n"
     ]
    }
   ],
   "source": [
    "a = 330\n",
    "b = 330\n",
    "print(\"A\") if a > b else print(\"=\") if a == b else print(\"B\")"
   ]
  },
  {
   "cell_type": "code",
   "execution_count": 37,
   "id": "3f1c5fce-4881-44cf-b2fd-cdda783075ea",
   "metadata": {},
   "outputs": [
    {
     "name": "stdout",
     "output_type": "stream",
     "text": [
      "Both conditions are True\n"
     ]
    }
   ],
   "source": [
    "a = 200\n",
    "b = 33\n",
    "c = 500\n",
    "if a > b and c > a:\n",
    "    print(\"Both conditions are True\")"
   ]
  },
  {
   "cell_type": "code",
   "execution_count": 38,
   "id": "d180181f-aa2b-4769-9625-3587a2a8b491",
   "metadata": {},
   "outputs": [
    {
     "name": "stdout",
     "output_type": "stream",
     "text": [
      "At least one of the conditions is True\n"
     ]
    }
   ],
   "source": [
    "a = 200\n",
    "b = 33\n",
    "c = 500\n",
    "if a > b or a > c:\n",
    "    print(\"At least one of the conditions is True\")\n"
   ]
  },
  {
   "cell_type": "code",
   "execution_count": 39,
   "id": "7a1f5d11-fc13-4d42-b964-8cf50094b445",
   "metadata": {},
   "outputs": [
    {
     "name": "stdout",
     "output_type": "stream",
     "text": [
      "Above ten,\n",
      "and also above 20!\n"
     ]
    }
   ],
   "source": [
    "x = 41\n",
    "\n",
    "if x > 10:\n",
    "    print(\"Above ten,\")\n",
    "    if x > 20:\n",
    "        print(\"and also above 20!\")\n",
    "    else:\n",
    "        print(\"but not above 20.\")"
   ]
  },
  {
   "cell_type": "code",
   "execution_count": 40,
   "id": "b3e2ea3d-592e-4c48-8f90-33f8bc9a22fd",
   "metadata": {},
   "outputs": [],
   "source": [
    "a = 33\n",
    "b = 200\n",
    "\n",
    "if b > a:\n",
    "    pass"
   ]
  },
  {
   "cell_type": "code",
   "execution_count": 41,
   "id": "e436fcdc-f752-4124-9ac2-c167d48056a2",
   "metadata": {},
   "outputs": [
    {
     "name": "stdout",
     "output_type": "stream",
     "text": [
      "0\n",
      "1\n",
      "2\n",
      "3\n",
      "4\n",
      "5\n"
     ]
    }
   ],
   "source": [
    "for i in range(10):\n",
    "    print(i)\n",
    "    if i == 5:\n",
    "        break"
   ]
  },
  {
   "cell_type": "markdown",
   "id": "4f9e8c6f-cbe9-4530-a508-e6270973218a",
   "metadata": {},
   "source": [
    "# The while Loop"
   ]
  },
  {
   "cell_type": "code",
   "execution_count": 52,
   "id": "e4f4191e-d90e-4ed7-9562-d7a143a5ee5a",
   "metadata": {},
   "outputs": [
    {
     "name": "stdout",
     "output_type": "stream",
     "text": [
      "1\n",
      "2\n",
      "3\n",
      "4\n",
      "5\n"
     ]
    }
   ],
   "source": [
    "i = 1\n",
    "while i < 6:\n",
    "    print(i)\n",
    "    i += 1"
   ]
  },
  {
   "cell_type": "code",
   "execution_count": 55,
   "id": "07646102-4724-416a-8b87-51184c242b4f",
   "metadata": {},
   "outputs": [
    {
     "name": "stdout",
     "output_type": "stream",
     "text": [
      "1\n",
      "2\n",
      "3\n",
      "4\n",
      "5\n",
      "i is no longer less than 6\n"
     ]
    }
   ],
   "source": [
    "i = 1\n",
    "while i < 6:\n",
    "    print(i)\n",
    "    i += 1\n",
    "else:\n",
    "    print(\"i is no longer less than 6\")"
   ]
  },
  {
   "cell_type": "code",
   "execution_count": 53,
   "id": "bdabc83b-88da-40ab-9dfc-ad995e0632d3",
   "metadata": {},
   "outputs": [
    {
     "name": "stdout",
     "output_type": "stream",
     "text": [
      "1\n",
      "2\n",
      "3\n"
     ]
    }
   ],
   "source": [
    "i = 1\n",
    "while i < 6:\n",
    "    print(i)\n",
    "    if i == 3:\n",
    "        break\n",
    "    i += 1"
   ]
  },
  {
   "cell_type": "code",
   "execution_count": 16,
   "id": "ed50fd0b-1751-4827-a5af-0306c7eb84e2",
   "metadata": {},
   "outputs": [
    {
     "name": "stdout",
     "output_type": "stream",
     "text": [
      "1\n",
      "2\n",
      "DSFS\n",
      "4\n",
      "5\n"
     ]
    }
   ],
   "source": [
    "i = 0\n",
    "while i < 5:\n",
    "    i += 1\n",
    "    if i == 3:\n",
    "        print(\"DSFS\")\n",
    "        continue\n",
    "    print(i)"
   ]
  },
  {
   "cell_type": "code",
   "execution_count": 42,
   "id": "e47177ad-93eb-438b-9995-88f6c3a21d6b",
   "metadata": {},
   "outputs": [
    {
     "name": "stdout",
     "output_type": "stream",
     "text": [
      "1\n",
      "2\n",
      "3\n",
      "4\n",
      "5\n"
     ]
    }
   ],
   "source": [
    "i = 1\n",
    "while i < 6:\n",
    "    print(i)\n",
    "    i += 1"
   ]
  },
  {
   "cell_type": "code",
   "execution_count": 43,
   "id": "ff15653a-4233-49c1-93b4-9a1182692f7e",
   "metadata": {},
   "outputs": [
    {
     "name": "stdout",
     "output_type": "stream",
     "text": [
      "1\n",
      "2\n",
      "3\n"
     ]
    }
   ],
   "source": [
    "i = 1\n",
    "while i < 6:\n",
    "    print(i)\n",
    "    if i == 3:\n",
    "        break\n",
    "    i += 1"
   ]
  },
  {
   "cell_type": "code",
   "execution_count": 44,
   "id": "988fac03-870b-42c0-9378-d97310d03453",
   "metadata": {},
   "outputs": [
    {
     "name": "stdout",
     "output_type": "stream",
     "text": [
      "1\n",
      "2\n",
      "4\n",
      "5\n",
      "6\n"
     ]
    }
   ],
   "source": [
    "i = 0\n",
    "while i < 6:\n",
    "    i += 1\n",
    "    if i == 3:\n",
    "        continue\n",
    "    print(i)"
   ]
  },
  {
   "cell_type": "code",
   "execution_count": 45,
   "id": "0389330e-37c8-4452-9b4d-adcf60cb4954",
   "metadata": {},
   "outputs": [
    {
     "name": "stdout",
     "output_type": "stream",
     "text": [
      "1\n",
      "2\n",
      "3\n",
      "4\n",
      "5\n",
      "i is no longer less than 6\n"
     ]
    }
   ],
   "source": [
    "i = 1\n",
    "while i < 6:\n",
    "    print(i)\n",
    "    i += 1\n",
    "else:\n",
    "    print(\"i is no longer less than 6\")"
   ]
  },
  {
   "cell_type": "code",
   "execution_count": 47,
   "id": "02531dae-92af-4ed2-b739-e1b55045f0e4",
   "metadata": {},
   "outputs": [
    {
     "name": "stdout",
     "output_type": "stream",
     "text": [
      "1\n",
      "2\n",
      "3\n",
      "4\n",
      "5\n",
      "6\n",
      "i is equal 6\n"
     ]
    }
   ],
   "source": [
    "i = 1\n",
    "while i <= 6:\n",
    "    print(i)\n",
    "    i += 1\n",
    "else:\n",
    "    print(\"i is equal 6\")"
   ]
  },
  {
   "cell_type": "code",
   "execution_count": 22,
   "id": "64fe1bbd-f95a-448f-98ee-70124dfcb905",
   "metadata": {},
   "outputs": [
    {
     "name": "stdout",
     "output_type": "stream",
     "text": [
      "apple\n",
      "banana\n",
      "cherry\n"
     ]
    }
   ],
   "source": [
    "thislist = [\"apple\", \"banana\", \"cherry\"]\n",
    "i = 0\n",
    "while i < len(thislist):\n",
    "    print(thislist[i])\n",
    "    i = i + 1"
   ]
  },
  {
   "cell_type": "markdown",
   "id": "0812ff4a-85cc-4432-b754-34a2b900b8a7",
   "metadata": {},
   "source": [
    "# foor loop"
   ]
  },
  {
   "cell_type": "code",
   "execution_count": null,
   "id": "c6ac4a4d-476e-445e-9287-575a723ff172",
   "metadata": {},
   "outputs": [],
   "source": [
    "fruits = [\"apple\", \"banana\", \"cherry\"]\n",
    "for x in fruits:\n",
    "    print(x)"
   ]
  },
  {
   "cell_type": "code",
   "execution_count": 11,
   "id": "f528fe4b-2c0d-4d45-9055-5a05e803dd6b",
   "metadata": {},
   "outputs": [
    {
     "name": "stdout",
     "output_type": "stream",
     "text": [
      "apple\n",
      "banana\n"
     ]
    }
   ],
   "source": [
    "fruits = [\"apple\", \"banana\", \"cherry\"]\n",
    "for x in fruits:\n",
    "    print(x)\n",
    "    if x == \"banana\":\n",
    "        break"
   ]
  },
  {
   "cell_type": "code",
   "execution_count": 49,
   "id": "1aa6c834-941c-4d50-8194-4c2d6a82b998",
   "metadata": {},
   "outputs": [
    {
     "name": "stdout",
     "output_type": "stream",
     "text": [
      "banana\n"
     ]
    }
   ],
   "source": [
    "fruits = [\"apple\", \"banana\", \"cherry\"]\n",
    "for x in fruits:\n",
    "\n",
    "    if x == \"banana\":\n",
    "        print(x)\n",
    "        break"
   ]
  },
  {
   "cell_type": "code",
   "execution_count": 51,
   "id": "0a09dfb1-cfff-428d-b880-708ac300d751",
   "metadata": {},
   "outputs": [],
   "source": [
    "fruits = [\"apple\", \"banana\", \"cherry\"]\n",
    "for x in fruits:\n",
    "    if x == \"banana\":\n",
    "        break"
   ]
  },
  {
   "cell_type": "code",
   "execution_count": 52,
   "id": "968eedd9-20bc-4140-be74-afe72e19f146",
   "metadata": {},
   "outputs": [
    {
     "name": "stdout",
     "output_type": "stream",
     "text": [
      "apple\n",
      "banana\n"
     ]
    }
   ],
   "source": [
    "fruits = [\"apple\", \"banana\", \"cherry\"]\n",
    "for x in fruits:\n",
    "    print(x)\n",
    "    if x == \"banana\":\n",
    "        break"
   ]
  },
  {
   "cell_type": "code",
   "execution_count": 53,
   "id": "8ef0b74c-c9c4-4397-8086-dd5b84c57a20",
   "metadata": {},
   "outputs": [
    {
     "name": "stdout",
     "output_type": "stream",
     "text": [
      "apple\n"
     ]
    }
   ],
   "source": [
    "fruits = [\"apple\", \"banana\", \"cherry\"]\n",
    "for x in fruits:\n",
    "    if x == \"banana\":\n",
    "        break\n",
    "    print(x)"
   ]
  },
  {
   "cell_type": "code",
   "execution_count": 54,
   "id": "2873f102-f70b-4780-ac14-a7270c1fb344",
   "metadata": {},
   "outputs": [
    {
     "name": "stdout",
     "output_type": "stream",
     "text": [
      "apple\n",
      "cherry\n"
     ]
    }
   ],
   "source": [
    "fruits = [\"apple\", \"banana\", \"cherry\"]\n",
    "for x in fruits:\n",
    "    if x == \"banana\":\n",
    "        continue\n",
    "    print(x)"
   ]
  },
  {
   "cell_type": "markdown",
   "id": "1a30d0b4-2e71-41b1-bdf3-9f82a172bf85",
   "metadata": {},
   "source": [
    "for and range"
   ]
  },
  {
   "cell_type": "code",
   "execution_count": 55,
   "id": "26aa79e2-9b64-4704-a80a-a3386cb9ec40",
   "metadata": {},
   "outputs": [
    {
     "name": "stdout",
     "output_type": "stream",
     "text": [
      "0\n",
      "1\n",
      "2\n",
      "3\n",
      "4\n",
      "5\n"
     ]
    }
   ],
   "source": [
    "for x in range(6):\n",
    "    print(x)"
   ]
  },
  {
   "cell_type": "code",
   "execution_count": 56,
   "id": "30df1397-6d4e-4c2b-b260-6760635c8576",
   "metadata": {},
   "outputs": [
    {
     "name": "stdout",
     "output_type": "stream",
     "text": [
      "2\n",
      "3\n",
      "4\n",
      "5\n"
     ]
    }
   ],
   "source": [
    "for x in range(2, 6):\n",
    "    print(x)"
   ]
  },
  {
   "cell_type": "code",
   "execution_count": 20,
   "id": "a60f8e86-7679-41f6-ab0a-67a0f2cc7fe2",
   "metadata": {},
   "outputs": [
    {
     "name": "stdout",
     "output_type": "stream",
     "text": [
      "2\n",
      "3\n",
      "4\n",
      "5\n",
      "6\n",
      "7\n",
      "8\n",
      "9\n",
      "10\n",
      "11\n",
      "12\n",
      "13\n",
      "14\n",
      "15\n",
      "16\n",
      "17\n",
      "18\n",
      "19\n",
      "20\n",
      "21\n",
      "22\n",
      "23\n",
      "24\n",
      "25\n",
      "26\n",
      "27\n",
      "28\n",
      "29\n"
     ]
    }
   ],
   "source": [
    "for x in range(2, 30, 1):\n",
    "    print(x)"
   ]
  },
  {
   "cell_type": "code",
   "execution_count": 23,
   "id": "0ba8c81b-8c25-4b32-9585-28d0bec19ede",
   "metadata": {},
   "outputs": [
    {
     "name": "stdout",
     "output_type": "stream",
     "text": [
      "apple\n",
      "banana\n",
      "cherry\n"
     ]
    },
    {
     "data": {
      "text/plain": [
       "[None, None, None]"
      ]
     },
     "execution_count": 23,
     "metadata": {},
     "output_type": "execute_result"
    }
   ],
   "source": [
    "thislist = [\"apple\", \"banana\", \"cherry\"]\n",
    "[print(x) for x in thislist]"
   ]
  },
  {
   "cell_type": "code",
   "execution_count": 13,
   "id": "d14c74e0-06dd-4dfe-945f-a1af3f357bda",
   "metadata": {},
   "outputs": [
    {
     "name": "stdout",
     "output_type": "stream",
     "text": [
      "0\n",
      "1\n",
      "2\n",
      "Finally finished!\n"
     ]
    }
   ],
   "source": [
    "for x in range(3):\n",
    "    print(x)\n",
    "else:\n",
    "    print(\"Finally finished!\")"
   ]
  },
  {
   "cell_type": "code",
   "execution_count": 60,
   "id": "06ac1fff-3eca-4976-80ef-84065f6e6ecf",
   "metadata": {},
   "outputs": [
    {
     "name": "stdout",
     "output_type": "stream",
     "text": [
      "0\n",
      "1\n",
      "2\n"
     ]
    }
   ],
   "source": [
    "for x in range(6):\n",
    "    if x == 3:\n",
    "        break\n",
    "    print(x)\n",
    "else:\n",
    "    print(\"Finally finished!\")"
   ]
  },
  {
   "cell_type": "code",
   "execution_count": 61,
   "id": "dda86732-6f46-49a3-b247-2b0ad4b36b9f",
   "metadata": {},
   "outputs": [
    {
     "name": "stdout",
     "output_type": "stream",
     "text": [
      "red apple\n",
      "red banana\n",
      "red cherry\n",
      "big apple\n",
      "big banana\n",
      "big cherry\n",
      "tasty apple\n",
      "tasty banana\n",
      "tasty cherry\n"
     ]
    }
   ],
   "source": [
    "adj = [\"red\", \"big\", \"tasty\"]\n",
    "fruits = [\"apple\", \"banana\", \"cherry\"]\n",
    "\n",
    "for x in adj:\n",
    "    for y in fruits:\n",
    "        print(x, y)"
   ]
  },
  {
   "cell_type": "code",
   "execution_count": 62,
   "id": "442a5fe6-d8fe-4175-a5e3-e5a7e3a930e7",
   "metadata": {},
   "outputs": [],
   "source": [
    "for x in [0, 1, 2]:\n",
    "    pass"
   ]
  },
  {
   "cell_type": "code",
   "execution_count": 24,
   "id": "26f67623-f6b8-4625-8a1b-fcdee5b06129",
   "metadata": {},
   "outputs": [
    {
     "name": "stdout",
     "output_type": "stream",
     "text": [
      "['apple', 'banana', 'mango']\n"
     ]
    }
   ],
   "source": [
    "fruits = [\"apple\", \"banana\", \"cherry\", \"kiwi\", \"mango\"]\n",
    "newlist = []\n",
    "\n",
    "for x in fruits:\n",
    "    if \"a\" in x:\n",
    "        newlist.append(x)\n",
    "\n",
    "print(newlist)"
   ]
  },
  {
   "cell_type": "code",
   "execution_count": 25,
   "id": "89b185d4-9845-4ba9-88a4-47e689722ce1",
   "metadata": {},
   "outputs": [
    {
     "name": "stdout",
     "output_type": "stream",
     "text": [
      "['apple', 'banana', 'mango']\n"
     ]
    }
   ],
   "source": [
    "fruits = [\"apple\", \"banana\", \"cherry\", \"kiwi\", \"mango\"]\n",
    "\n",
    "newlist = [x for x in fruits if \"a\" in x]\n",
    "\n",
    "print(newlist)"
   ]
  },
  {
   "cell_type": "markdown",
   "id": "4d274bea-bd91-423e-8f0e-3dc367b8c0fe",
   "metadata": {},
   "source": [
    "# Functions"
   ]
  },
  {
   "cell_type": "code",
   "execution_count": 117,
   "id": "b5f3f200-4a6b-4363-9d28-f88e36f8ddd6",
   "metadata": {},
   "outputs": [
    {
     "name": "stdout",
     "output_type": "stream",
     "text": [
      "Hello from a function\n"
     ]
    }
   ],
   "source": [
    "def my_function():\n",
    "    print(\"Hello from a function\")\n",
    "\n",
    "my_function()"
   ]
  },
  {
   "cell_type": "code",
   "execution_count": 63,
   "id": "11ade59f-fb2e-45c4-bf28-e937b65d303c",
   "metadata": {},
   "outputs": [
    {
     "name": "stdout",
     "output_type": "stream",
     "text": [
      "Emil Refsnes\n",
      "Tobias Refsnes\n",
      "Linus Refsnes\n"
     ]
    }
   ],
   "source": [
    "def my_function(fname):\n",
    "    print(fname + \" Refsnes\")\n",
    "\n",
    "my_function(\"Emil\")\n",
    "my_function(\"Tobias\")\n",
    "my_function(\"Linus\")"
   ]
  },
  {
   "cell_type": "code",
   "execution_count": 118,
   "id": "1058276c-58df-49e4-acf5-5ede1e632888",
   "metadata": {},
   "outputs": [
    {
     "name": "stdout",
     "output_type": "stream",
     "text": [
      "Emil Refsnes\n"
     ]
    }
   ],
   "source": [
    "def my_function(fname, lname):\n",
    "    print(fname + \" \" + lname)\n",
    "\n",
    "my_function(\"Emil\", \"Refsnes\")"
   ]
  },
  {
   "cell_type": "code",
   "execution_count": 119,
   "id": "c603e243-e1d2-4f10-91d7-46518500a202",
   "metadata": {},
   "outputs": [
    {
     "ename": "TypeError",
     "evalue": "my_function() missing 1 required positional argument: 'lname'",
     "output_type": "error",
     "traceback": [
      "\u001b[1;31m---------------------------------------------------------------------------\u001b[0m",
      "\u001b[1;31mTypeError\u001b[0m                                 Traceback (most recent call last)",
      "\u001b[1;32m~\\AppData\\Local\\Temp/ipykernel_15596/986179771.py\u001b[0m in \u001b[0;36m<module>\u001b[1;34m\u001b[0m\n\u001b[0;32m      2\u001b[0m     \u001b[0mprint\u001b[0m\u001b[1;33m(\u001b[0m\u001b[0mfname\u001b[0m \u001b[1;33m+\u001b[0m \u001b[1;34m\" \"\u001b[0m \u001b[1;33m+\u001b[0m \u001b[0mlname\u001b[0m\u001b[1;33m)\u001b[0m\u001b[1;33m\u001b[0m\u001b[1;33m\u001b[0m\u001b[0m\n\u001b[0;32m      3\u001b[0m \u001b[1;33m\u001b[0m\u001b[0m\n\u001b[1;32m----> 4\u001b[1;33m \u001b[0mmy_function\u001b[0m\u001b[1;33m(\u001b[0m\u001b[1;34m\"Emil\"\u001b[0m\u001b[1;33m)\u001b[0m\u001b[1;33m\u001b[0m\u001b[1;33m\u001b[0m\u001b[0m\n\u001b[0m",
      "\u001b[1;31mTypeError\u001b[0m: my_function() missing 1 required positional argument: 'lname'"
     ]
    }
   ],
   "source": [
    "def my_function(fname, lname):\n",
    "    print(fname + \" \" + lname)\n",
    "\n",
    "my_function(\"Emil\")"
   ]
  },
  {
   "cell_type": "code",
   "execution_count": 73,
   "id": "334f31c2-b60b-4f33-9ce9-8806b8c1ce8f",
   "metadata": {},
   "outputs": [
    {
     "name": "stdout",
     "output_type": "stream",
     "text": [
      "The youngest child is Linus\n"
     ]
    }
   ],
   "source": [
    "def my_function(child3, child2, child1):\n",
    "    print(\"The youngest child is \" + child3)\n",
    "\n",
    "my_function(child1 = \"Emil\", child2 = \"Tobias\", child3 = \"Linus\")"
   ]
  },
  {
   "cell_type": "code",
   "execution_count": 46,
   "id": "ab3a93dc-7d2c-48b5-9d7e-177d475f8e7f",
   "metadata": {},
   "outputs": [
    {
     "name": "stdout",
     "output_type": "stream",
     "text": [
      "The youngest child is Linus\n"
     ]
    }
   ],
   "source": [
    "def my_function(*kids):  #If the number of arguments is unknown, add a * before the parameter name:\n",
    "    print(\"The youngest child is \" + kids[2])\n",
    "    \n",
    "\n",
    "my_function(\"Emil\", \"Tobias\", \"Linus\")"
   ]
  },
  {
   "cell_type": "code",
   "execution_count": 48,
   "id": "26e31082-9285-4907-aed8-1facf2381eb9",
   "metadata": {},
   "outputs": [
    {
     "name": "stdout",
     "output_type": "stream",
     "text": [
      "His last name is Refsnes\n"
     ]
    }
   ],
   "source": [
    "def my_function(**kid):\n",
    "    print(\"His last name is \" + kid[\"lname\"])\n",
    "\n",
    "my_function(fname = \"Tobias\", lname = \"Refsnes\",age= 67 )"
   ]
  },
  {
   "cell_type": "code",
   "execution_count": 78,
   "id": "af285158-a5c0-4458-8e19-295344a8e546",
   "metadata": {},
   "outputs": [
    {
     "name": "stdout",
     "output_type": "stream",
     "text": [
      "His last name is Refsnes\n"
     ]
    }
   ],
   "source": [
    "def my_function(**kid):\n",
    "    print(\"His last name is \" + kid[\"lname\"])\n",
    "\n",
    "my_function(fname = \"Tobias\", lname = \"Refsnes\")"
   ]
  },
  {
   "cell_type": "code",
   "execution_count": 81,
   "id": "59421865-a1bc-4134-8005-84d35f708150",
   "metadata": {},
   "outputs": [
    {
     "name": "stdout",
     "output_type": "stream",
     "text": [
      "200\n"
     ]
    }
   ],
   "source": [
    "def minimum(first,secound):\n",
    "    if(first < secound):\n",
    "        return first\n",
    "    return secound\n",
    "\n",
    "num1 = 200\n",
    "num2 = 344\n",
    "\n",
    "result=minimum(num1,num2)\n",
    "print(result)"
   ]
  },
  {
   "cell_type": "code",
   "execution_count": null,
   "id": "91458aa7-903d-4393-8fda-a21ec6fcab0f",
   "metadata": {},
   "outputs": [],
   "source": []
  },
  {
   "cell_type": "markdown",
   "id": "51cd9199-da5b-4b12-aaef-c54a604bb77f",
   "metadata": {},
   "source": [
    "# Lambda"
   ]
  },
  {
   "cell_type": "code",
   "execution_count": 6,
   "id": "cc6ead46-4e91-4ff0-995e-f7b0574c4a3b",
   "metadata": {},
   "outputs": [
    {
     "name": "stdout",
     "output_type": "stream",
     "text": [
      "15\n"
     ]
    }
   ],
   "source": [
    "x = lambda a : a + 10\n",
    "print(x(5))"
   ]
  },
  {
   "cell_type": "code",
   "execution_count": 7,
   "id": "5e862ea4-fd47-4c5d-8ab4-97257d0c5ff2",
   "metadata": {},
   "outputs": [
    {
     "name": "stdout",
     "output_type": "stream",
     "text": [
      "30\n"
     ]
    }
   ],
   "source": [
    "x = lambda a, b : a * b\n",
    "print(x(5, 6))"
   ]
  },
  {
   "cell_type": "markdown",
   "id": "569f3dc0-8279-417c-a6df-412d2271d272",
   "metadata": {},
   "source": [
    "# Array"
   ]
  },
  {
   "cell_type": "code",
   "execution_count": 12,
   "id": "956e1279-2cf7-4cdd-8549-e35a1b433576",
   "metadata": {},
   "outputs": [
    {
     "name": "stdout",
     "output_type": "stream",
     "text": [
      "Ford\n"
     ]
    }
   ],
   "source": [
    "cars = [\"Ford\", \"Volvo\", \"BMW\"]\n",
    "\n",
    "x = cars[0]\n",
    "\n",
    "print(x)"
   ]
  },
  {
   "cell_type": "markdown",
   "id": "1a2dbef3-adcb-427d-9b88-131e96e87123",
   "metadata": {},
   "source": [
    "# Class"
   ]
  },
  {
   "cell_type": "code",
   "execution_count": 13,
   "id": "fe23bc77-c5f2-4f97-92a5-256e483f12c4",
   "metadata": {},
   "outputs": [
    {
     "name": "stdout",
     "output_type": "stream",
     "text": [
      "John\n",
      "36\n"
     ]
    }
   ],
   "source": [
    "class Person:\n",
    "    def __init__(self, name, age):\n",
    "        self.name = name\n",
    "        self.age = age\n",
    "\n",
    "p1 = Person(\"John\", 36)\n",
    "\n",
    "print(p1.name)\n",
    "print(p1.age)"
   ]
  },
  {
   "cell_type": "markdown",
   "id": "2c0b528f-1362-4ba8-b60c-ee612a6d5935",
   "metadata": {},
   "source": [
    "# Model"
   ]
  },
  {
   "cell_type": "code",
   "execution_count": 14,
   "id": "039e823f-ba4f-4968-942b-b32403be8f06",
   "metadata": {},
   "outputs": [],
   "source": [
    "def greeting(name):\n",
    "    print(\"Hello, \" + name)"
   ]
  },
  {
   "cell_type": "code",
   "execution_count": null,
   "id": "716cb80f-a131-4716-a871-5a600c30eb22",
   "metadata": {},
   "outputs": [],
   "source": [
    "# Save this code in a file named mymodule.py"
   ]
  },
  {
   "cell_type": "code",
   "execution_count": null,
   "id": "0cbfb0c6-5c76-4a3a-95b2-e0264e14c103",
   "metadata": {},
   "outputs": [],
   "source": [
    "import mymodule\n",
    "\n",
    "mymodule.greeting(\"Jonathan\")"
   ]
  },
  {
   "cell_type": "markdown",
   "id": "53483334-a5a9-4804-b03f-052b18a68938",
   "metadata": {},
   "source": [
    "# Input"
   ]
  },
  {
   "cell_type": "code",
   "execution_count": 3,
   "id": "f1dd78ed-250d-4e16-9400-ebabcd6b649b",
   "metadata": {},
   "outputs": [
    {
     "name": "stdin",
     "output_type": "stream",
     "text": [
      "please enter your name alaa\n"
     ]
    }
   ],
   "source": [
    "x = input (\"please enter your name\")"
   ]
  },
  {
   "cell_type": "code",
   "execution_count": 4,
   "id": "56c0813e-b1a6-404a-ba22-a5a02a993c33",
   "metadata": {},
   "outputs": [
    {
     "data": {
      "text/plain": [
       "'alaa'"
      ]
     },
     "execution_count": 4,
     "metadata": {},
     "output_type": "execute_result"
    }
   ],
   "source": [
    "x"
   ]
  },
  {
   "cell_type": "markdown",
   "id": "0e7af6c0-cc32-43d6-8707-18d060fc8bcd",
   "metadata": {
    "tags": []
   },
   "source": [
    "# strip()"
   ]
  },
  {
   "cell_type": "code",
   "execution_count": 75,
   "id": "5de60d39-aeba-4847-ad6e-fb13f69a0a91",
   "metadata": {},
   "outputs": [
    {
     "name": "stdout",
     "output_type": "stream",
     "text": [
      "banana\n"
     ]
    }
   ],
   "source": [
    "t= \"     banana     \"\n",
    "\n",
    "x = t.strip()\n",
    "\n",
    "print( x)"
   ]
  },
  {
   "cell_type": "code",
   "execution_count": 45,
   "id": "439660bf-71b7-4c74-9bb5-ffc6d62f111a",
   "metadata": {},
   "outputs": [
    {
     "name": "stdout",
     "output_type": "stream",
     "text": [
      "banana\n"
     ]
    }
   ],
   "source": [
    "txt = \".....banana.....\"\n",
    "\n",
    "x = txt.strip(\".\")\n",
    "\n",
    "print(x)"
   ]
  },
  {
   "cell_type": "code",
   "execution_count": 79,
   "id": "6d43897b-01d6-4953-be39-2288727de530",
   "metadata": {},
   "outputs": [
    {
     "name": "stdout",
     "output_type": "stream",
     "text": [
      ".....banana\n"
     ]
    }
   ],
   "source": [
    "txt = \".....banana.....\"\n",
    "\n",
    "x = txt.rstrip(\".\")\n",
    "\n",
    "print(x)"
   ]
  },
  {
   "cell_type": "code",
   "execution_count": 83,
   "id": "e923c733-765a-4072-8f06-4236a8b97de7",
   "metadata": {},
   "outputs": [
    {
     "data": {
      "text/plain": [
       "'rtger   ytfty'"
      ]
     },
     "execution_count": 83,
     "metadata": {},
     "output_type": "execute_result"
    }
   ],
   "source": [
    "y =\" rtger   ytfty\"\n",
    "y.strip()"
   ]
  },
  {
   "cell_type": "code",
   "execution_count": null,
   "id": "77bafb57-27bf-49a6-afb6-dca5c20f14c1",
   "metadata": {},
   "outputs": [],
   "source": []
  },
  {
   "cell_type": "code",
   "execution_count": 49,
   "id": "2db3a4cf-09ad-4430-8fc7-7ea22421d088",
   "metadata": {},
   "outputs": [
    {
     "name": "stdout",
     "output_type": "stream",
     "text": [
      "banana.....\n"
     ]
    }
   ],
   "source": [
    "txt = \".....banana.....\"\n",
    "\n",
    "x = txt.lstrip(\".\")\n",
    "\n",
    "print(x)"
   ]
  },
  {
   "cell_type": "markdown",
   "id": "5279235b-93b8-4150-840a-50f3070d3863",
   "metadata": {
    "tags": []
   },
   "source": [
    "# split"
   ]
  },
  {
   "cell_type": "code",
   "execution_count": 76,
   "id": "2ce80dbc-161f-4673-b571-673ee202fc81",
   "metadata": {},
   "outputs": [
    {
     "name": "stdout",
     "output_type": "stream",
     "text": [
      "['welcome', 'o', 'hejungle']\n"
     ]
    }
   ],
   "source": [
    "txt = \"welcometothejungle\"\n",
    "\n",
    "x = txt.split('t')\n",
    "\n",
    "print(x)"
   ]
  },
  {
   "cell_type": "code",
   "execution_count": 28,
   "id": "b6dac448-7cee-43cb-918e-dc7df7a951f8",
   "metadata": {},
   "outputs": [
    {
     "name": "stdout",
     "output_type": "stream",
     "text": [
      "['hello,my name is Peter,I am 26 years old']\n"
     ]
    }
   ],
   "source": [
    "txt = \"hello,my name is Peter,I am 26 years old\"\n",
    "\n",
    "x = txt.split(\", \")\n",
    "\n",
    "print(x)"
   ]
  },
  {
   "cell_type": "code",
   "execution_count": 68,
   "id": "9484e1a9-b65d-48b9-abd7-588562a43290",
   "metadata": {},
   "outputs": [
    {
     "name": "stdout",
     "output_type": "stream",
     "text": [
      "['apple', 'banana', 'cherry', 'orange']\n"
     ]
    }
   ],
   "source": [
    "txt = \"apple#banana#cherry#orange\"\n",
    "\n",
    "x = txt.split(\"#\")\n",
    "\n",
    "print(x)"
   ]
  },
  {
   "cell_type": "code",
   "execution_count": 69,
   "id": "f25543a6-ce6b-4b27-9131-d062c1b5366a",
   "metadata": {},
   "outputs": [
    {
     "name": "stdout",
     "output_type": "stream",
     "text": [
      "['apple', 'banana', 'cherry#orange']\n"
     ]
    }
   ],
   "source": [
    "txt = \"apple#banana#cherry#orange\"\n",
    "\n",
    "# setting the maxsplit parameter to 1, will return a list with 2 elements!\n",
    "x = txt.split(\"#\", 2)\n",
    "\n",
    "print(x)"
   ]
  },
  {
   "cell_type": "markdown",
   "id": "93ff194c-496a-4718-a588-544dfc18bf9f",
   "metadata": {
    "tags": []
   },
   "source": [
    "# count()"
   ]
  },
  {
   "cell_type": "code",
   "execution_count": 94,
   "id": "9a809574-96c9-437a-b21b-da31ba81a35a",
   "metadata": {},
   "outputs": [
    {
     "name": "stdout",
     "output_type": "stream",
     "text": [
      "2\n"
     ]
    }
   ],
   "source": [
    "txt = \"I love applees, tapples are my favorite fruit\"\n",
    "\n",
    "x = txt.count(\"apple\")\n",
    "\n",
    "print(x)"
   ]
  },
  {
   "cell_type": "code",
   "execution_count": 91,
   "id": "d318f2d8-b72b-4ce8-89c4-b277ab9cf567",
   "metadata": {},
   "outputs": [
    {
     "name": "stdout",
     "output_type": "stream",
     "text": [
      "1\n"
     ]
    }
   ],
   "source": [
    "txt = \"I love applees, applee are my favorite fruit\"\n",
    "\n",
    "x = txt.count(\"applee\", 10, 24)\n",
    "\n",
    "print(x)"
   ]
  },
  {
   "cell_type": "markdown",
   "id": "10c95501-5ed7-4ffd-85fb-e341fae1fe7a",
   "metadata": {
    "tags": []
   },
   "source": [
    "# find()"
   ]
  },
  {
   "cell_type": "code",
   "execution_count": 96,
   "id": "c4f654e1-89f7-4b7d-95be-6bb41ca6958c",
   "metadata": {},
   "outputs": [
    {
     "name": "stdout",
     "output_type": "stream",
     "text": [
      "7\n"
     ]
    }
   ],
   "source": [
    "txt = \"Hello, welcome to my world.\"\n",
    "\n",
    "x = txt.find(\"welcome\")\n",
    "\n",
    "print(x)"
   ]
  },
  {
   "cell_type": "code",
   "execution_count": 77,
   "id": "7ae84657-3a65-4199-866e-510822a44ae1",
   "metadata": {},
   "outputs": [
    {
     "name": "stdout",
     "output_type": "stream",
     "text": [
      "1\n"
     ]
    }
   ],
   "source": [
    "txt = \"Hello, welcome to my world.\"\n",
    "\n",
    "x = txt.find(\"e\")\n",
    "\n",
    "print(x)"
   ]
  },
  {
   "cell_type": "code",
   "execution_count": 78,
   "id": "56e8d375-5225-45e6-958d-0bfee77de449",
   "metadata": {},
   "outputs": [
    {
     "name": "stdout",
     "output_type": "stream",
     "text": [
      "8\n"
     ]
    }
   ],
   "source": [
    "txt = \"Hello, welcome to my world.\"\n",
    "\n",
    "x = txt.find(\"e\", 5, 10)\n",
    "\n",
    "print(x)"
   ]
  },
  {
   "cell_type": "code",
   "execution_count": 97,
   "id": "a926b381-3fbd-42dc-86ee-4e4dff798357",
   "metadata": {},
   "outputs": [
    {
     "name": "stdout",
     "output_type": "stream",
     "text": [
      "7\n",
      "7\n"
     ]
    }
   ],
   "source": [
    "txt = \"Hello, welcome to my world.\"\n",
    "\n",
    "print(txt.find(\"w\"))\n",
    "print(txt.index(\"welcome\"))"
   ]
  },
  {
   "cell_type": "markdown",
   "id": "e42553c1-9b18-48f6-9b03-4d4284be467d",
   "metadata": {
    "tags": []
   },
   "source": [
    "# Upper "
   ]
  },
  {
   "cell_type": "code",
   "execution_count": 19,
   "id": "c3f4ae7a-eeaf-477d-bc28-19bab90fad15",
   "metadata": {},
   "outputs": [
    {
     "name": "stdout",
     "output_type": "stream",
     "text": [
      "HELLO, WELCOME TO MY WORLD.\n"
     ]
    }
   ],
   "source": [
    "txt = \"Hello, welcome to my world.\"\n",
    "\n",
    "x = txt.upper()\n",
    "\n",
    "print(x)"
   ]
  },
  {
   "cell_type": "markdown",
   "id": "a1939d89-44a7-421f-8de9-c536466075aa",
   "metadata": {
    "tags": []
   },
   "source": [
    "# lower"
   ]
  },
  {
   "cell_type": "code",
   "execution_count": 21,
   "id": "845a2301-b30b-4892-bf1a-53db9e381c7b",
   "metadata": {},
   "outputs": [
    {
     "name": "stdout",
     "output_type": "stream",
     "text": [
      "hello, welcome to my world.\n"
     ]
    }
   ],
   "source": [
    "txt = \"Hello, welcome TO my WORLD.\"\n",
    "\n",
    "x = txt.lower()\n",
    "\n",
    "print(x)"
   ]
  },
  {
   "cell_type": "markdown",
   "id": "ecdaa719-7b7a-4794-a089-6ab203e119fe",
   "metadata": {
    "tags": []
   },
   "source": [
    "# replace"
   ]
  },
  {
   "cell_type": "code",
   "execution_count": 83,
   "id": "ac5c82c6-bfdd-4723-a054-3a7874634e50",
   "metadata": {},
   "outputs": [
    {
     "name": "stdout",
     "output_type": "stream",
     "text": [
      "I like apples\n"
     ]
    }
   ],
   "source": [
    "txt = \"I like bananas\"\n",
    "\n",
    "x = txt.replace(\"bananas\", \"apples\")\n",
    "\n",
    "print(x)"
   ]
  },
  {
   "cell_type": "code",
   "execution_count": 100,
   "id": "dbcf9a7d-3b56-45d9-9756-1853efee7a00",
   "metadata": {},
   "outputs": [],
   "source": [
    "y = (\"ewgter\",3243)"
   ]
  },
  {
   "cell_type": "code",
   "execution_count": 101,
   "id": "0d62ba0d-9d8e-4963-95fc-fa815ff352ef",
   "metadata": {},
   "outputs": [
    {
     "data": {
      "text/plain": [
       "['ewgter', 3243]"
      ]
     },
     "execution_count": 101,
     "metadata": {},
     "output_type": "execute_result"
    }
   ],
   "source": [
    "list(y)"
   ]
  },
  {
   "cell_type": "code",
   "execution_count": 102,
   "id": "5a53b871-8015-4652-9a09-620fd0ff4c00",
   "metadata": {},
   "outputs": [],
   "source": [
    "y = [\"wer\",324]"
   ]
  },
  {
   "cell_type": "code",
   "execution_count": 103,
   "id": "b6d3373f-621d-46c4-9791-651228073409",
   "metadata": {},
   "outputs": [
    {
     "data": {
      "text/plain": [
       "('wer', 324)"
      ]
     },
     "execution_count": 103,
     "metadata": {},
     "output_type": "execute_result"
    }
   ],
   "source": [
    "tuple(y)"
   ]
  },
  {
   "cell_type": "code",
   "execution_count": 86,
   "id": "6de14308-8c67-4d16-a1b8-2eca18e5fae9",
   "metadata": {},
   "outputs": [
    {
     "name": "stdout",
     "output_type": "stream",
     "text": [
      "three three was a race horse, two two was three too.\n"
     ]
    }
   ],
   "source": [
    "txt = \"one one was a race horse, two two was one too.\"\n",
    "\n",
    "x = txt.replace(\"one\", \"three\")\n",
    "\n",
    "print(x)"
   ]
  },
  {
   "cell_type": "code",
   "execution_count": 33,
   "id": "68071b24-2458-4059-9af6-8a01430ead0a",
   "metadata": {},
   "outputs": [
    {
     "name": "stdout",
     "output_type": "stream",
     "text": [
      "three three was a race horse, two two was one too.\n"
     ]
    }
   ],
   "source": [
    "txt = \"one one was a race horse, two two was one too.\"\n",
    "\n",
    "x = txt.replace(\"one\", \"three\", 2)\n",
    "\n",
    "print(x)"
   ]
  },
  {
   "cell_type": "markdown",
   "id": "008643c5-a563-4ba9-9c45-f912326ffef1",
   "metadata": {},
   "source": [
    "# format ()"
   ]
  },
  {
   "cell_type": "code",
   "execution_count": 116,
   "id": "4e595382-377f-49c3-b0ce-2527173592bb",
   "metadata": {},
   "outputs": [
    {
     "name": "stdout",
     "output_type": "stream",
     "text": [
      "For only 49.6886 dollars!\n"
     ]
    }
   ],
   "source": [
    "txt = \"For only {price:.4f} dollars!\"\n",
    "print(txt.format(price = 49.68857474))"
   ]
  },
  {
   "cell_type": "code",
   "execution_count": 107,
   "id": "bdfe27a8-95d7-48da-a5ba-c893259ecd0e",
   "metadata": {},
   "outputs": [
    {
     "ename": "KeyError",
     "evalue": "'price'",
     "output_type": "error",
     "traceback": [
      "\u001b[1;31m---------------------------------------------------------------------------\u001b[0m",
      "\u001b[1;31mKeyError\u001b[0m                                  Traceback (most recent call last)",
      "\u001b[1;32m~\\AppData\\Local\\Temp/ipykernel_15596/2387932998.py\u001b[0m in \u001b[0;36m<module>\u001b[1;34m\u001b[0m\n\u001b[0;32m      2\u001b[0m \u001b[1;33m\u001b[0m\u001b[0m\n\u001b[0;32m      3\u001b[0m \u001b[0mtxt\u001b[0m \u001b[1;33m=\u001b[0m \u001b[1;34m\"For only {price:.2f} dollars!\"\u001b[0m\u001b[1;33m\u001b[0m\u001b[1;33m\u001b[0m\u001b[0m\n\u001b[1;32m----> 4\u001b[1;33m \u001b[0mprint\u001b[0m\u001b[1;33m(\u001b[0m\u001b[0mtxt\u001b[0m\u001b[1;33m.\u001b[0m\u001b[0mformat\u001b[0m\u001b[1;33m(\u001b[0m\u001b[0mprice\u001b[0m\u001b[1;33m)\u001b[0m\u001b[1;33m)\u001b[0m\u001b[1;33m\u001b[0m\u001b[1;33m\u001b[0m\u001b[0m\n\u001b[0m",
      "\u001b[1;31mKeyError\u001b[0m: 'price'"
     ]
    }
   ],
   "source": [
    "price = 49\n",
    "\n",
    "txt = \"For only {price:.2f} dollars!\"\n",
    "print(txt.format(price))"
   ]
  },
  {
   "cell_type": "code",
   "execution_count": 108,
   "id": "f88e8c30-74c4-4ae9-9b76-668f4c67efb7",
   "metadata": {},
   "outputs": [
    {
     "ename": "KeyError",
     "evalue": "'price'",
     "output_type": "error",
     "traceback": [
      "\u001b[1;31m---------------------------------------------------------------------------\u001b[0m",
      "\u001b[1;31mKeyError\u001b[0m                                  Traceback (most recent call last)",
      "\u001b[1;32m~\\AppData\\Local\\Temp/ipykernel_15596/275681393.py\u001b[0m in \u001b[0;36m<module>\u001b[1;34m\u001b[0m\n\u001b[0;32m      2\u001b[0m \u001b[1;33m\u001b[0m\u001b[0m\n\u001b[0;32m      3\u001b[0m \u001b[0mtxt\u001b[0m \u001b[1;33m=\u001b[0m \u001b[1;34m\"For only {price:.2f} dollars!\"\u001b[0m\u001b[1;33m\u001b[0m\u001b[1;33m\u001b[0m\u001b[0m\n\u001b[1;32m----> 4\u001b[1;33m \u001b[0mprint\u001b[0m\u001b[1;33m(\u001b[0m\u001b[0mtxt\u001b[0m\u001b[1;33m.\u001b[0m\u001b[0mformat\u001b[0m\u001b[1;33m(\u001b[0m\u001b[1;33m)\u001b[0m\u001b[1;33m)\u001b[0m\u001b[1;33m\u001b[0m\u001b[1;33m\u001b[0m\u001b[0m\n\u001b[0m",
      "\u001b[1;31mKeyError\u001b[0m: 'price'"
     ]
    }
   ],
   "source": [
    "price = 49\n",
    "\n",
    "txt = \"For only {price:.2f} dollars!\"\n",
    "print(txt.format())"
   ]
  },
  {
   "cell_type": "code",
   "execution_count": 109,
   "id": "4add3fae-3960-41f6-9abf-a08e5b993886",
   "metadata": {},
   "outputs": [
    {
     "name": "stdout",
     "output_type": "stream",
     "text": [
      "For only 49 dollars!\n"
     ]
    }
   ],
   "source": [
    "price = 49\n",
    "\n",
    "t = \"For only {} dollars!\"\n",
    "print(t.format(price))"
   ]
  },
  {
   "cell_type": "code",
   "execution_count": 110,
   "id": "6bc9396b-d381-43d0-85fb-e689c7a7d64b",
   "metadata": {},
   "outputs": [],
   "source": [
    "txt1 = \"My name is {fname}, I'm {age}\".format(fname = \"John\", age = 36)\n",
    "txt2 = \"My name is {0}, I'm {1}\".format(\"John\",36)\n",
    "txt3 = \"My name is {}, I'm {}\".format(\"John\",36)"
   ]
  },
  {
   "cell_type": "code",
   "execution_count": 111,
   "id": "a993109c-f547-4a46-9fee-a6a334e860a8",
   "metadata": {},
   "outputs": [
    {
     "data": {
      "text/plain": [
       "\"My name is John, I'm 36\""
      ]
     },
     "execution_count": 111,
     "metadata": {},
     "output_type": "execute_result"
    }
   ],
   "source": [
    "txt1\n",
    "txt2\n",
    "txt3"
   ]
  },
  {
   "cell_type": "code",
   "execution_count": 40,
   "id": "bccc920c-d2bd-453c-8cd0-898386b4ccc6",
   "metadata": {},
   "outputs": [
    {
     "name": "stdout",
     "output_type": "stream",
     "text": [
      "My name is John, I'm 36\n",
      "My name is John, I'm 36\n",
      "My name is John, I'm 36\n"
     ]
    }
   ],
   "source": [
    "print(txt1)\n",
    "print(txt2)\n",
    "print(txt3)"
   ]
  },
  {
   "cell_type": "code",
   "execution_count": 112,
   "id": "3f6581a6-8381-4007-b658-64ec757e17f0",
   "metadata": {},
   "outputs": [
    {
     "name": "stdout",
     "output_type": "stream",
     "text": [
      "I want to pay 49.95 dollars for 3 pieces of item 567.\n"
     ]
    }
   ],
   "source": [
    "quantity = 3\n",
    "itemno = 567\n",
    "price = 49.95\n",
    "myorder = \"I want to pay {2} dollars for {0} pieces of item {1}.\"\n",
    "print(myorder.format(quantity, itemno, price))"
   ]
  },
  {
   "cell_type": "markdown",
   "id": "8ed28481-c9ef-4069-89a8-ab21122bd30e",
   "metadata": {},
   "source": [
    "# type()"
   ]
  },
  {
   "cell_type": "code",
   "execution_count": 110,
   "id": "8181695e-da3f-4167-911e-3be9f0052db9",
   "metadata": {},
   "outputs": [
    {
     "name": "stdout",
     "output_type": "stream",
     "text": [
      "<class 'int'>\n",
      "<class 'float'>\n",
      "<class 'float'>\n"
     ]
    }
   ],
   "source": [
    "x = 35\n",
    "y = 12E4\n",
    "z = -87.7e100\n",
    "\n",
    "print(type(x))\n",
    "print(type(y))\n",
    "print(type(z))"
   ]
  },
  {
   "cell_type": "markdown",
   "id": "c75a8639-eb0f-4e6c-8b5e-5b12e7ab1949",
   "metadata": {},
   "source": [
    "# array"
   ]
  },
  {
   "cell_type": "code",
   "execution_count": 112,
   "id": "8807b367-3f05-402f-9fc5-bbe07d5126bb",
   "metadata": {},
   "outputs": [],
   "source": [
    "mylist = [\"apple\", \"banana\", \"cherry\"]"
   ]
  },
  {
   "cell_type": "code",
   "execution_count": 115,
   "id": "3c932f01-93cd-499d-9541-10de25662a86",
   "metadata": {},
   "outputs": [
    {
     "name": "stdout",
     "output_type": "stream",
     "text": [
      "{8, 16, 24}\n",
      "{24, 16, 8}\n"
     ]
    }
   ],
   "source": [
    "list1 = [8,16,24]\n",
    "print(set(list1))        #set([8, 16, 24])\n",
    "list2 = [24,16,8]\n",
    "print(set(list2))        #set([24, 16, 8])"
   ]
  },
  {
   "cell_type": "code",
   "execution_count": 62,
   "id": "0cc0d205-5bb2-487a-887a-0a1d5584bb7d",
   "metadata": {},
   "outputs": [
    {
     "name": "stdout",
     "output_type": "stream",
     "text": [
      "{1, 2, 3}\n",
      "{1, 2, 3}\n"
     ]
    }
   ],
   "source": [
    "list1 = [1,2,3]\n",
    "print(set(list1))      # set([1, 2, 3])\n",
    "list2 = [3,2,1]\n",
    "print(set(list2))      # set([1, 2, 3])"
   ]
  },
  {
   "cell_type": "code",
   "execution_count": 4,
   "id": "37c95586-f562-40cc-931e-95fb8894cfba",
   "metadata": {},
   "outputs": [
    {
     "data": {
      "text/plain": [
       "{1, 2, 7}"
      ]
     },
     "execution_count": 4,
     "metadata": {},
     "output_type": "execute_result"
    }
   ],
   "source": [
    "list2 = [7,2,1]\n",
    "set(list2)"
   ]
  },
  {
   "cell_type": "code",
   "execution_count": 6,
   "id": "5c5f7d47-f62c-4290-820a-d10a2c6c7bd3",
   "metadata": {},
   "outputs": [
    {
     "data": {
      "text/plain": [
       "{1, 7, 57}"
      ]
     },
     "execution_count": 6,
     "metadata": {},
     "output_type": "execute_result"
    }
   ],
   "source": [
    "list2 = [7,57,1]\n",
    "set(list2)"
   ]
  },
  {
   "cell_type": "code",
   "execution_count": 7,
   "id": "bb2ca05b-9429-4e10-9f6a-db261c6ac4ff",
   "metadata": {},
   "outputs": [
    {
     "data": {
      "text/plain": [
       "{1, 7, 57}"
      ]
     },
     "execution_count": 7,
     "metadata": {},
     "output_type": "execute_result"
    }
   ],
   "source": [
    "list1 = [7,57,1]\n",
    "set(list1)"
   ]
  },
  {
   "cell_type": "code",
   "execution_count": 8,
   "id": "b4533b7c-6850-441f-93f3-3ef187f0e834",
   "metadata": {},
   "outputs": [
    {
     "data": {
      "text/plain": [
       "{5, 7, 23}"
      ]
     },
     "execution_count": 8,
     "metadata": {},
     "output_type": "execute_result"
    }
   ],
   "source": [
    "list2 = [7,5,23]\n",
    "set(list2)"
   ]
  },
  {
   "cell_type": "code",
   "execution_count": 1,
   "id": "20a4f90e-8121-48ef-a2b4-cd4e647bea21",
   "metadata": {},
   "outputs": [],
   "source": [
    "lang = [\"python\",\"c++\",\"c\",\"c#\"]"
   ]
  },
  {
   "cell_type": "code",
   "execution_count": 2,
   "id": "1e0ee3b4-5df1-41b2-b09a-be5b0fb861fb",
   "metadata": {},
   "outputs": [
    {
     "name": "stdout",
     "output_type": "stream",
     "text": [
      "c#\n"
     ]
    }
   ],
   "source": [
    "print(lang[3])"
   ]
  },
  {
   "cell_type": "code",
   "execution_count": 3,
   "id": "6c2dbdc5-60ee-4a33-88b8-6bbcdbfab736",
   "metadata": {},
   "outputs": [
    {
     "ename": "IndexError",
     "evalue": "list index out of range",
     "output_type": "error",
     "traceback": [
      "\u001b[1;31m---------------------------------------------------------------------------\u001b[0m",
      "\u001b[1;31mIndexError\u001b[0m                                Traceback (most recent call last)",
      "\u001b[1;32m~\\AppData\\Local\\Temp/ipykernel_23624/1844108359.py\u001b[0m in \u001b[0;36m<module>\u001b[1;34m\u001b[0m\n\u001b[1;32m----> 1\u001b[1;33m \u001b[0mprint\u001b[0m\u001b[1;33m(\u001b[0m\u001b[0mlang\u001b[0m\u001b[1;33m[\u001b[0m\u001b[1;36m4\u001b[0m\u001b[1;33m]\u001b[0m\u001b[1;33m)\u001b[0m\u001b[1;33m\u001b[0m\u001b[1;33m\u001b[0m\u001b[0m\n\u001b[0m",
      "\u001b[1;31mIndexError\u001b[0m: list index out of range"
     ]
    }
   ],
   "source": [
    "print(lang[4])"
   ]
  },
  {
   "cell_type": "code",
   "execution_count": 4,
   "id": "8405ff2c-5270-47bd-993a-39ee5e59550d",
   "metadata": {},
   "outputs": [
    {
     "name": "stdout",
     "output_type": "stream",
     "text": [
      "c#\n"
     ]
    }
   ],
   "source": [
    "print(lang[-1])"
   ]
  },
  {
   "cell_type": "code",
   "execution_count": 5,
   "id": "1c723069-a5bd-42c6-921f-de3b36268786",
   "metadata": {},
   "outputs": [],
   "source": [
    "lang[3]=\"fd\""
   ]
  },
  {
   "cell_type": "code",
   "execution_count": 6,
   "id": "cd15da79-6cf6-4a2f-8541-aaae2c102e02",
   "metadata": {},
   "outputs": [
    {
     "name": "stdout",
     "output_type": "stream",
     "text": [
      "['python', 'c++', 'c', 'fd']\n"
     ]
    }
   ],
   "source": [
    "print(lang)"
   ]
  },
  {
   "cell_type": "code",
   "execution_count": 7,
   "id": "d46b01c3-5f10-428a-9b57-df26dba8546b",
   "metadata": {},
   "outputs": [],
   "source": [
    "lang[1:3] = [\"dd\",\"dww\"]"
   ]
  },
  {
   "cell_type": "code",
   "execution_count": 8,
   "id": "42d540f9-5924-471d-91f9-4b74d7b82e9b",
   "metadata": {},
   "outputs": [
    {
     "data": {
      "text/plain": [
       "['python', 'dd', 'dww', 'fd']"
      ]
     },
     "execution_count": 8,
     "metadata": {},
     "output_type": "execute_result"
    }
   ],
   "source": [
    "lang"
   ]
  },
  {
   "cell_type": "code",
   "execution_count": 9,
   "id": "3edb020f-b892-4024-a631-b29344d32039",
   "metadata": {},
   "outputs": [
    {
     "name": "stdout",
     "output_type": "stream",
     "text": [
      "True\n"
     ]
    }
   ],
   "source": [
    "print (\"dd\" in lang)"
   ]
  },
  {
   "cell_type": "code",
   "execution_count": 10,
   "id": "bec95664-5a24-4156-9824-f0253451fbaa",
   "metadata": {},
   "outputs": [
    {
     "name": "stdout",
     "output_type": "stream",
     "text": [
      "python\n",
      "dd\n",
      "dww\n",
      "fd\n"
     ]
    }
   ],
   "source": [
    "for lang in lang:\n",
    "    print(lang)"
   ]
  },
  {
   "cell_type": "code",
   "execution_count": 13,
   "id": "3f88b162-9a6a-454d-ab91-47f0cfed1e2c",
   "metadata": {},
   "outputs": [
    {
     "name": "stdout",
     "output_type": "stream",
     "text": [
      "['python', 'c++', 'c', 'c#', 'asd']\n"
     ]
    }
   ],
   "source": [
    "lang = [\"python\",\"c++\",\"c\",\"c#\"]\n",
    "lang.append(\"asd\")\n",
    "print(lang)"
   ]
  },
  {
   "cell_type": "code",
   "execution_count": 14,
   "id": "5942fa20-3244-4db5-b2e2-98a4c8211550",
   "metadata": {},
   "outputs": [
    {
     "name": "stdout",
     "output_type": "stream",
     "text": [
      "['python', 'asd', 'c++', 'c', 'c#']\n"
     ]
    }
   ],
   "source": [
    "lang = [\"python\",\"c++\",\"c\",\"c#\"]\n",
    "lang.insert(1,\"asd\")\n",
    "print(lang)"
   ]
  },
  {
   "cell_type": "code",
   "execution_count": 17,
   "id": "bb177707-904c-4009-8c30-dbbe741276a5",
   "metadata": {},
   "outputs": [
    {
     "name": "stdout",
     "output_type": "stream",
     "text": [
      "['c++', 'c', 'c#']\n"
     ]
    }
   ],
   "source": [
    "lang = [\"python\",\"c++\",\"c\",\"c#\"]\n",
    "lang.remove(\"python\")\n",
    "print(lang)"
   ]
  },
  {
   "cell_type": "markdown",
   "id": "ba0572d4-5a4a-4b66-b350-de97d504d0a2",
   "metadata": {},
   "source": [
    "# tuple"
   ]
  },
  {
   "cell_type": "code",
   "execution_count": 19,
   "id": "ebf885f2-3bc3-40e2-8534-53fae15249bc",
   "metadata": {},
   "outputs": [
    {
     "ename": "TypeError",
     "evalue": "'tuple' object does not support item assignment",
     "output_type": "error",
     "traceback": [
      "\u001b[1;31m---------------------------------------------------------------------------\u001b[0m",
      "\u001b[1;31mTypeError\u001b[0m                                 Traceback (most recent call last)",
      "\u001b[1;32m~\\AppData\\Local\\Temp/ipykernel_23624/3661822536.py\u001b[0m in \u001b[0;36m<module>\u001b[1;34m\u001b[0m\n\u001b[0;32m      1\u001b[0m \u001b[0mlang\u001b[0m \u001b[1;33m=\u001b[0m \u001b[1;33m(\u001b[0m\u001b[1;34m\"python\"\u001b[0m\u001b[1;33m,\u001b[0m\u001b[1;34m\"c++\"\u001b[0m\u001b[1;33m,\u001b[0m\u001b[1;34m\"c\"\u001b[0m\u001b[1;33m,\u001b[0m\u001b[1;34m\"c#\"\u001b[0m\u001b[1;33m)\u001b[0m\u001b[1;33m\u001b[0m\u001b[1;33m\u001b[0m\u001b[0m\n\u001b[1;32m----> 2\u001b[1;33m \u001b[0mlang\u001b[0m\u001b[1;33m[\u001b[0m\u001b[1;36m1\u001b[0m\u001b[1;33m]\u001b[0m\u001b[1;33m=\u001b[0m\u001b[1;34m\"sad\"\u001b[0m\u001b[1;33m\u001b[0m\u001b[1;33m\u001b[0m\u001b[0m\n\u001b[0m\u001b[0;32m      3\u001b[0m \u001b[0mprint\u001b[0m\u001b[1;33m(\u001b[0m\u001b[0mlang\u001b[0m\u001b[1;33m)\u001b[0m\u001b[1;33m\u001b[0m\u001b[1;33m\u001b[0m\u001b[0m\n",
      "\u001b[1;31mTypeError\u001b[0m: 'tuple' object does not support item assignment"
     ]
    }
   ],
   "source": [
    "lang = (\"python\",\"c++\",\"c\",\"c#\")\n",
    "lang[1]=\"sad\"\n",
    "print(lang)"
   ]
  },
  {
   "cell_type": "code",
   "execution_count": 20,
   "id": "a02ac9c2-af17-453b-9cd6-b1be4cc4be8c",
   "metadata": {},
   "outputs": [
    {
     "ename": "TypeError",
     "evalue": "'str' object does not support item assignment",
     "output_type": "error",
     "traceback": [
      "\u001b[1;31m---------------------------------------------------------------------------\u001b[0m",
      "\u001b[1;31mTypeError\u001b[0m                                 Traceback (most recent call last)",
      "\u001b[1;32m~\\AppData\\Local\\Temp/ipykernel_23624/2800204017.py\u001b[0m in \u001b[0;36m<module>\u001b[1;34m\u001b[0m\n\u001b[0;32m      1\u001b[0m \u001b[0msrting\u001b[0m \u001b[1;33m=\u001b[0m \u001b[1;34m\" are you there\"\u001b[0m\u001b[1;33m\u001b[0m\u001b[1;33m\u001b[0m\u001b[0m\n\u001b[1;32m----> 2\u001b[1;33m \u001b[0msrting\u001b[0m\u001b[1;33m[\u001b[0m\u001b[1;36m1\u001b[0m\u001b[1;33m]\u001b[0m\u001b[1;33m=\u001b[0m\u001b[1;34m\"s\"\u001b[0m\u001b[1;33m\u001b[0m\u001b[1;33m\u001b[0m\u001b[0m\n\u001b[0m\u001b[0;32m      3\u001b[0m \u001b[0mprint\u001b[0m\u001b[1;33m(\u001b[0m\u001b[0msrting\u001b[0m\u001b[1;33m)\u001b[0m\u001b[1;33m\u001b[0m\u001b[1;33m\u001b[0m\u001b[0m\n",
      "\u001b[1;31mTypeError\u001b[0m: 'str' object does not support item assignment"
     ]
    }
   ],
   "source": [
    "srting = \" are you there\"\n",
    "srting[1]=\"s\"\n",
    "print(srting)"
   ]
  },
  {
   "cell_type": "markdown",
   "id": "3debf380-09a7-41f7-ae63-f73e4007b4fc",
   "metadata": {},
   "source": [
    "# file"
   ]
  },
  {
   "cell_type": "code",
   "execution_count": 9,
   "id": "bff14f95-c81a-494e-8d46-543d40338c7e",
   "metadata": {},
   "outputs": [
    {
     "name": "stdout",
     "output_type": "stream",
     "text": [
      "The sum of Matrix M1 and M2 =  [[11, 30, -12], [21, 14, 0], [-12, 6, 34]]\n"
     ]
    }
   ],
   "source": [
    "M1 = [[8, 14, -6], \n",
    "      [12,7,4], \n",
    "      [-11,3,21]]\n",
    "\n",
    "M2 = [[3, 16, -6],\n",
    "           [9,7,-4], \n",
    "           [-1,3,13]]\n",
    "\n",
    "M3  = [[0,0,0],\n",
    "       [0,0,0],\n",
    "       [0,0,0]]\n",
    "matrix_length = len(M1)\n",
    "\n",
    "#To Add M1 and M2 matrices\n",
    "for i in range(len(M1)):\n",
    "    for k in range(len(M2)):\n",
    "        M3[i][k] = M1[i][k] + M2[i][k]\n",
    "\n",
    "#To Print the matrix\n",
    "print(\"The sum of Matrix M1 and M2 = \", M3)"
   ]
  },
  {
   "cell_type": "code",
   "execution_count": null,
   "id": "eee91eed-34ca-4e26-a790-e88304a6149e",
   "metadata": {},
   "outputs": [],
   "source": []
  },
  {
   "cell_type": "code",
   "execution_count": null,
   "id": "45beb4eb-926d-4f63-bef9-27a2eb324286",
   "metadata": {},
   "outputs": [],
   "source": []
  },
  {
   "cell_type": "code",
   "execution_count": null,
   "id": "f3bff37b-845f-44d7-baa2-80dcd3eb23ea",
   "metadata": {},
   "outputs": [],
   "source": []
  }
 ],
 "metadata": {
  "kernelspec": {
   "display_name": "Python 3 (ipykernel)",
   "language": "python",
   "name": "python3"
  },
  "language_info": {
   "codemirror_mode": {
    "name": "ipython",
    "version": 3
   },
   "file_extension": ".py",
   "mimetype": "text/x-python",
   "name": "python",
   "nbconvert_exporter": "python",
   "pygments_lexer": "ipython3",
   "version": "3.9.7"
  }
 },
 "nbformat": 4,
 "nbformat_minor": 5
}
